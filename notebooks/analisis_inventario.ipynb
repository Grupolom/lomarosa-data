{
 "cells": [
  {
   "cell_type": "markdown",
   "id": "87ea8dd7",
   "metadata": {},
   "source": [
    "# Análisis de Inventario y Ventas Históricas\n",
    "\n",
    "Este notebook analiza los datos de inventario actual contra el histórico de ventas para generar métricas de rendimiento y visualizaciones del inventario.\n",
    "\n",
    "## Estructura del Análisis\n",
    "1. Importación de librerías y carga de datos\n",
    "2. Procesamiento de datos de inventario\n",
    "3. Procesamiento del histórico de ventas\n",
    "4. Cálculo de promedios semanales\n",
    "5. Generación de métricas de rendimiento\n",
    "6. Tabla resumen\n",
    "7. Visualización de KPIs"
   ]
  },
  {
   "cell_type": "code",
   "execution_count": 4,
   "id": "cffff2d8",
   "metadata": {},
   "outputs": [
    {
     "name": "stdout",
     "output_type": "stream",
     "text": [
      "=== Información del DataFrame de Inventario ===\n",
      "Hoja cargada: CONSOLIDADO\n",
      "<class 'pandas.core.frame.DataFrame'>\n",
      "RangeIndex: 282 entries, 0 to 281\n",
      "Data columns (total 5 columns):\n",
      " #   Column       Non-Null Count  Dtype  \n",
      "---  ------       --------------  -----  \n",
      " 0   Codigo       280 non-null    float64\n",
      " 1   Productos    280 non-null    object \n",
      " 2   Total        282 non-null    float64\n",
      " 3   U/m          280 non-null    object \n",
      " 4   Comentarios  0 non-null      float64\n",
      "dtypes: float64(3), object(2)\n",
      "memory usage: 11.1+ KB\n",
      "None\n",
      "\n",
      "=== Primeras filas del inventario ===\n",
      "   Codigo            Productos   Total    U/m  Comentarios\n",
      "0       3.0              SILLA    0.00  Kilos          NaN\n",
      "1       4.0  CHULETA DE COGOTE  113.55  Kilos          NaN\n",
      "2       5.0   MERMA DE PROCESO    0.00  Kilos          NaN\n",
      "3       6.0   CHULETA DE BRAZO  560.80  Kilos          NaN\n",
      "4       9.0    CHULETA DE LOMO   80.30  Kilos          NaN\n",
      "\n",
      "=== Información del DataFrame Histórico ===\n",
      "<class 'pandas.core.frame.DataFrame'>\n",
      "RangeIndex: 200197 entries, 0 to 200196\n",
      "Data columns (total 37 columns):\n",
      " #   Column             Non-Null Count   Dtype         \n",
      "---  ------             --------------   -----         \n",
      " 0   Nit                200197 non-null  int64         \n",
      " 1   Nombre             200197 non-null  object        \n",
      " 2   Tipo documento     200197 non-null  object        \n",
      " 3   Documento          200197 non-null  int64         \n",
      " 4   Fecha              200197 non-null  datetime64[ns]\n",
      " 5   Cod                200197 non-null  int64         \n",
      " 6   Producto           200197 non-null  object        \n",
      " 7   V/Unitario         200186 non-null  float64       \n",
      " 8   Cantidad           200197 non-null  float64       \n",
      " 9   %Dcto              200197 non-null  float64       \n",
      " 10  Vlr Neto           200186 non-null  float64       \n",
      " 11  impuesto           200186 non-null  float64       \n",
      " 12  Vlr Total          200186 non-null  float64       \n",
      " 13  Presentacion       200197 non-null  float64       \n",
      " 14  Kg totales         200197 non-null  float64       \n",
      " 15  Tipo Unidad        200197 non-null  object        \n",
      " 16  Tipo producto      199637 non-null  object        \n",
      " 17  Macropieza         192500 non-null  object        \n",
      " 18  Vendedor           200197 non-null  object        \n",
      " 19  Local              126057 non-null  object        \n",
      " 20  Canal              200197 non-null  object        \n",
      " 21  Doc                200197 non-null  object        \n",
      " 22  Prefijo            169606 non-null  object        \n",
      " 23  Registro en bolsa  200197 non-null  object        \n",
      " 24  V/Unitario Kg      200197 non-null  float64       \n",
      " 25  Kg totales2        200197 non-null  float64       \n",
      " 26  Vlr Neto2          200197 non-null  float64       \n",
      " 27  Iva2               176219 non-null  float64       \n",
      " 28  Vlr total2         200197 non-null  float64       \n",
      " 29  Dia                200197 non-null  int64         \n",
      " 30  Comision           176219 non-null  float64       \n",
      " 31  Comision %         176219 non-null  float64       \n",
      " 32  Archivo            200197 non-null  object        \n",
      " 33  Iva                23978 non-null   float64       \n",
      " 34  ICUI               23978 non-null   float64       \n",
      " 35  Impuesto2          23978 non-null   float64       \n",
      " 36  Mes                200197 non-null  int64         \n",
      "dtypes: datetime64[ns](1), float64(18), int64(5), object(13)\n",
      "memory usage: 56.5+ MB\n",
      "None\n",
      "\n",
      "=== Primeras filas del histórico ===\n",
      "         Nit      Nombre                       Tipo documento  Documento  \\\n",
      "0  900993503  A MANO SAS  Devolucion Electronica PLANTA GALAN       1502   \n",
      "1  900993503  A MANO SAS       Venta Electronica PLANTA GALAN       9376   \n",
      "2  900993503  A MANO SAS       Venta Electronica PLANTA GALAN       9469   \n",
      "3  900993503  A MANO SAS       Venta Electronica PLANTA GALAN       9637   \n",
      "4  900993503  A MANO SAS       Venta Electronica PLANTA GALAN       9825   \n",
      "\n",
      "                Fecha  Cod       Producto  V/Unitario  Cantidad   %Dcto   ...  \\\n",
      "0 2025-01-22 12:04:07  315  LOMO ALMENDRA     23000.0      0.184     0.0  ...   \n",
      "1 2025-01-09 09:31:37  315  LOMO ALMENDRA     23000.0     12.900     0.0  ...   \n",
      "2 2025-01-14 07:32:25  315  LOMO ALMENDRA     23000.0     10.600     0.0  ...   \n",
      "3 2025-01-21 07:26:17  315  LOMO ALMENDRA     23000.0     11.100     0.0  ...   \n",
      "4 2025-01-28 09:06:43  315  LOMO ALMENDRA     22000.0     13.000     0.0  ...   \n",
      "\n",
      "   Iva2  Vlr total2  Dia  Comision  Comision %  \\\n",
      "0   0.0     -4232.0   22    -42.32        0.01   \n",
      "1   0.0    296700.0    9   2967.00        0.01   \n",
      "2   0.0    243800.0   14   2438.00        0.01   \n",
      "3   0.0    255300.0   21   2553.00        0.01   \n",
      "4   0.0    286000.0   28   2860.00        0.01   \n",
      "\n",
      "                                       Archivo Iva ICUI Impuesto2 Mes  \n",
      "0  202501 Documentos por tercero enero v3.xlsx NaN  NaN       NaN   1  \n",
      "1  202501 Documentos por tercero enero v3.xlsx NaN  NaN       NaN   1  \n",
      "2  202501 Documentos por tercero enero v3.xlsx NaN  NaN       NaN   1  \n",
      "3  202501 Documentos por tercero enero v3.xlsx NaN  NaN       NaN   1  \n",
      "4  202501 Documentos por tercero enero v3.xlsx NaN  NaN       NaN   1  \n",
      "\n",
      "[5 rows x 37 columns]\n"
     ]
    }
   ],
   "source": [
    "# [1] Importación de librerías y carga de datos\n",
    "import pandas as pd\n",
    "import numpy as np\n",
    "import plotly.graph_objects as go\n",
    "from pathlib import Path\n",
    "from datetime import datetime, timedelta\n",
    "\n",
    "# Definir rutas de los archivos\n",
    "data_path = Path('.').resolve().parent / 'data' / 'raw'\n",
    "inventario_path = data_path / 'INVENTARIO_LOMAROSA.xlsx'\n",
    "consolidado_path = data_path / 'consolidado.xlsx'\n",
    "\n",
    "# Cargar datos de inventario (skipear 9 filas)\n",
    "df_inventario = pd.read_excel(\n",
    "    inventario_path,\n",
    "    sheet_name='CONSOLIDADO',  # Asegurarnos de usar la hoja CONSOLIDADO\n",
    "    skiprows=9\n",
    ")\n",
    "\n",
    "# Cargar datos históricos\n",
    "df_historico = pd.read_excel(\n",
    "    consolidado_path,\n",
    "    sheet_name='Sheet1'\n",
    ")\n",
    "\n",
    "# Mostrar información básica de los DataFrames\n",
    "print(\"=== Información del DataFrame de Inventario ===\")\n",
    "print(\"Hoja cargada: CONSOLIDADO\")\n",
    "print(df_inventario.info())\n",
    "print(\"\\n=== Primeras filas del inventario ===\")\n",
    "print(df_inventario.head())\n",
    "print(\"\\n=== Información del DataFrame Histórico ===\")\n",
    "print(df_historico.info())\n",
    "print(\"\\n=== Primeras filas del histórico ===\")\n",
    "print(df_historico.head())"
   ]
  },
  {
   "cell_type": "code",
   "execution_count": 5,
   "id": "e5c90e8a",
   "metadata": {},
   "outputs": [
    {
     "name": "stdout",
     "output_type": "stream",
     "text": [
      "=== Datos originales de inventario ===\n",
      "\n",
      "Primeras filas del DataFrame original:\n",
      "   Codigo                   Productos   Total    U/m  Comentarios\n",
      "0       3.0                     SILLA    0.00  Kilos          NaN\n",
      "1       4.0         CHULETA DE COGOTE  113.55  Kilos          NaN\n",
      "2       5.0          MERMA DE PROCESO    0.00  Kilos          NaN\n",
      "3       6.0          CHULETA DE BRAZO  560.80  Kilos          NaN\n",
      "4       9.0           CHULETA DE LOMO   80.30  Kilos          NaN\n",
      "5      10.0  CHULETA COGOTE DESPSOTE     0.00  Kilos          NaN\n",
      "6      22.0                MATAMBRITO    0.00  Kilos          NaN\n",
      "7      51.0                   CANASTO   45.90  Kilos          NaN\n",
      "8      52.0        COSTILLA BABY BACK  436.55  Kilos          NaN\n",
      "9      53.0                 COSTILOMO    0.00  Kilos          NaN\n",
      "\n",
      "Tipos de datos:\n",
      "Codigo         float64\n",
      "Productos       object\n",
      "Total          float64\n",
      "U/m             object\n",
      "Comentarios    float64\n",
      "dtype: object\n",
      "\n",
      "Usando la columna 'Codigo  ' como código de producto\n",
      "\n",
      "=== Datos después de la limpieza inicial ===\n",
      "    Codigo             Productos   Total\n",
      "1        4.0   CHULETA DE COGOTE  113.55\n",
      "3        6.0    CHULETA DE BRAZO  560.80\n",
      "4        9.0     CHULETA DE LOMO   80.30\n",
      "7       51.0             CANASTO   45.90\n",
      "8       52.0  COSTILLA BABY BACK  436.55\n",
      "11      55.0   COSTILLA SAN LUIS  180.45\n",
      "13      58.0           COSTIPIEL   75.70\n",
      "15      61.0    RACK DE COSTILLA   34.10\n",
      "16      64.0  COSTILLA MOSTRADOR    9.10\n",
      "18      68.0         CARTILAGOS     6.45\n",
      "\n",
      "Normalización de códigos:\n",
      "Antes: 1      4.0\n",
      "3      6.0\n",
      "4      9.0\n",
      "7     51.0\n",
      "8     52.0\n",
      "11    55.0\n",
      "13    58.0\n",
      "15    61.0\n",
      "16    64.0\n",
      "18    68.0\n",
      "Name: Codigo  , dtype: float64\n",
      "Después: 1      4\n",
      "3      6\n",
      "4      9\n",
      "7     51\n",
      "8     52\n",
      "11    55\n",
      "13    58\n",
      "15    61\n",
      "16    64\n",
      "18    68\n",
      "Name: Codigo  , dtype: Int64\n",
      "Tipo de dato: Int64\n",
      "\n",
      "=== Resumen de Inventario Procesado ===\n",
      "Total de productos en inventario: 55\n",
      "\n",
      "Muestra de productos procesados:\n",
      "    Codigo            Producto  Stock_Actual\n",
      "1        4   CHULETA DE COGOTE        113.55\n",
      "3        6    CHULETA DE BRAZO        560.80\n",
      "4        9     CHULETA DE LOMO         80.30\n",
      "7       51             CANASTO         45.90\n",
      "8       52  COSTILLA BABY BACK        436.55\n",
      "11      55   COSTILLA SAN LUIS        180.45\n",
      "13      58           COSTIPIEL         75.70\n",
      "15      61    RACK DE COSTILLA         34.10\n",
      "16      64  COSTILLA MOSTRADOR          9.10\n",
      "18      68         CARTILAGOS           6.45\n"
     ]
    }
   ],
   "source": [
    "# [2] Procesamiento de datos de inventario\n",
    "print(\"=== Datos originales de inventario ===\")\n",
    "print(\"\\nPrimeras filas del DataFrame original:\")\n",
    "print(df_inventario.head(10))\n",
    "print(\"\\nTipos de datos:\")\n",
    "print(df_inventario.dtypes)\n",
    "\n",
    "# Identificar la columna de código\n",
    "codigo_columns = [col for col in df_inventario.columns if 'cod' in col.lower()]\n",
    "if not codigo_columns:\n",
    "    raise ValueError(\"No se encontró una columna que contenga 'cod' en su nombre\")\n",
    "codigo_col = codigo_columns[0]\n",
    "print(f\"\\nUsando la columna '{codigo_col}' como código de producto\")\n",
    "\n",
    "# Convertir 'Total' a numérico y filtrar valores positivos\n",
    "df_inventario['Total'] = pd.to_numeric(df_inventario['Total'], errors='coerce')\n",
    "\n",
    "# Limpiar datos\n",
    "df_inventario = df_inventario.dropna(subset=[codigo_col, 'Total'])  # Eliminar filas sin código o total\n",
    "df_inventario = df_inventario[df_inventario['Total'] > 0].copy()  # Solo totales positivos\n",
    "\n",
    "print(\"\\n=== Datos después de la limpieza inicial ===\")\n",
    "print(df_inventario[[codigo_col, 'Productos', 'Total']].head(10))\n",
    "\n",
    "# Normalizar los códigos - convertir a enteros\n",
    "print(\"\\nNormalización de códigos:\")\n",
    "print(\"Antes:\", df_inventario[codigo_col].head(10))\n",
    "\n",
    "# Convertir a numérico y luego a entero\n",
    "df_inventario[codigo_col] = pd.to_numeric(df_inventario[codigo_col], errors='coerce')\n",
    "df_inventario[codigo_col] = df_inventario[codigo_col].astype('Int64')  # Convertir a enteros\n",
    "df_inventario = df_inventario[df_inventario[codigo_col].notna()]  # Eliminar filas donde el código no es válido\n",
    "\n",
    "print(\"Después:\", df_inventario[codigo_col].head(10))\n",
    "print(\"Tipo de dato:\", df_inventario[codigo_col].dtype)\n",
    "\n",
    "# Seleccionar columnas relevantes\n",
    "inventario_procesado = df_inventario[[codigo_col, 'Productos', 'Total']].copy()\n",
    "inventario_procesado = inventario_procesado.rename(columns={\n",
    "    codigo_col: 'Codigo',\n",
    "    'Productos': 'Producto',\n",
    "    'Total': 'Stock_Actual'\n",
    "})\n",
    "\n",
    "print(\"\\n=== Resumen de Inventario Procesado ===\")\n",
    "print(f\"Total de productos en inventario: {len(inventario_procesado)}\")\n",
    "print(\"\\nMuestra de productos procesados:\")\n",
    "print(inventario_procesado.head(10).to_string())"
   ]
  },
  {
   "cell_type": "code",
   "execution_count": 6,
   "id": "45a15233",
   "metadata": {},
   "outputs": [
    {
     "name": "stdout",
     "output_type": "stream",
     "text": [
      "=== Datos originales de ventas ===\n",
      "\n",
      "Tipos de documentos únicos en el histórico:\n",
      "Doc\n",
      "Venta             124078\n",
      "TRANSFORMACION     46037\n",
      "SALIDA             12917\n",
      "DESPOSTE            6083\n",
      "TRASLADO            3575\n",
      "ENTRADA             3025\n",
      "Devolucion          1846\n",
      "INVENTARIO          1700\n",
      "MERMA                483\n",
      "Compras              314\n",
      "Nota Credito         127\n",
      "Nota                  12\n",
      "Name: count, dtype: int64\n",
      "\n",
      "Locales únicos en el histórico:\n",
      "['PLANTA GALAN' 'LOM' 'NAN' 'M.GALAN' 'OTROS/ OFICINA' 'OTROS']\n",
      "\n",
      "Total de registros original: 200197\n",
      "Total de registros después de filtrar por VENTA: 124078\n",
      "Total de registros después de filtrar por PLANTA GALAN: 12067\n",
      "\n",
      "=== Normalización de códigos ===\n",
      "Antes de la normalización:\n",
      "1      315\n",
      "2      315\n",
      "3      315\n",
      "4      315\n",
      "203    355\n",
      "204    208\n",
      "206    356\n",
      "219    251\n",
      "220    251\n",
      "221    256\n",
      "Name: Cod, dtype: int64\n",
      "\n",
      "Después de la normalización:\n",
      "1      315\n",
      "2      315\n",
      "3      315\n",
      "4      315\n",
      "203    355\n",
      "204    208\n",
      "206    356\n",
      "219    251\n",
      "220    251\n",
      "221    256\n",
      "Name: Cod, dtype: Int64\n",
      "\n",
      "Tipo de dato de Cod: Int64\n",
      "\n",
      "Usando la columna 'Fecha' como fecha\n",
      "\n",
      "=== Resumen de Ventas Procesadas ===\n",
      "Total de registros de venta: 12067\n",
      "Rango de fechas: 2025-01-02 05:51:58 a 2025-09-23 15:43:45\n",
      "\n",
      "Ejemplos de ventas por código:\n",
      "\n",
      "Primeros 10 productos con sus ventas:\n",
      "   Cod  count        sum\n",
      "0    4     32    363.770\n",
      "1    6    709   7223.878\n",
      "2    9     41    524.850\n",
      "3   22      6     15.460\n",
      "4   51     58   3175.150\n",
      "5   52    363   8993.115\n",
      "6   53      1     12.200\n",
      "7   54     47   1364.110\n",
      "8   55    455  25952.081\n",
      "9   58      1    -10.290\n",
      "Rango de fechas: 2025-01-02 05:51:58 a 2025-09-23 15:43:45\n",
      "\n",
      "Ejemplos de ventas por código:\n",
      "\n",
      "Primeros 10 productos con sus ventas:\n",
      "   Cod  count        sum\n",
      "0    4     32    363.770\n",
      "1    6    709   7223.878\n",
      "2    9     41    524.850\n",
      "3   22      6     15.460\n",
      "4   51     58   3175.150\n",
      "5   52    363   8993.115\n",
      "6   53      1     12.200\n",
      "7   54     47   1364.110\n",
      "8   55    455  25952.081\n",
      "9   58      1    -10.290\n"
     ]
    }
   ],
   "source": [
    "# [3] Procesamiento del histórico de ventas\n",
    "print(\"=== Datos originales de ventas ===\")\n",
    "print(\"\\nTipos de documentos únicos en el histórico:\")\n",
    "print(df_historico['Doc'].value_counts())\n",
    "\n",
    "# Filtrar solo ventas y local PLANTA GALAN\n",
    "df_historico['Doc'] = df_historico['Doc'].astype(str).str.strip().str.upper()\n",
    "df_historico['Local'] = df_historico['Local'].astype(str).str.strip().str.upper()\n",
    "\n",
    "print(\"\\nLocales únicos en el histórico:\")\n",
    "print(df_historico['Local'].unique())\n",
    "\n",
    "# Filtrar por VENTA y PLANTA GALAN\n",
    "ventas = df_historico[\n",
    "    (df_historico['Doc'] == 'VENTA') & \n",
    "    (df_historico['Local'] == 'PLANTA GALAN')\n",
    "].copy()\n",
    "\n",
    "print(f\"\\nTotal de registros original: {len(df_historico)}\")\n",
    "print(f\"Total de registros después de filtrar por VENTA: {len(df_historico[df_historico['Doc'] == 'VENTA'])}\")\n",
    "print(f\"Total de registros después de filtrar por PLANTA GALAN: {len(ventas)}\")\n",
    "\n",
    "# Normalizar códigos y asegurar que sean numéricos\n",
    "print(\"\\n=== Normalización de códigos ===\")\n",
    "print(\"Antes de la normalización:\")\n",
    "print(ventas['Cod'].head(10))\n",
    "\n",
    "# Convertir a numérico y luego a entero\n",
    "ventas['Cod'] = pd.to_numeric(ventas['Cod'], errors='coerce')\n",
    "ventas['Cod'] = ventas['Cod'].astype('Int64')  # Usar el mismo tipo que en inventario\n",
    "ventas = ventas[ventas['Cod'].notna()]\n",
    "\n",
    "print(\"\\nDespués de la normalización:\")\n",
    "print(ventas['Cod'].head(10))\n",
    "print(\"\\nTipo de dato de Cod:\", ventas['Cod'].dtype)\n",
    "\n",
    "# Verificar si la columna de fecha existe\n",
    "fecha_columns = [col for col in ventas.columns if 'fech' in col.lower()]\n",
    "if not fecha_columns:\n",
    "    raise ValueError(\"No se encontró una columna que contenga 'fecha' en su nombre\")\n",
    "fecha_col = fecha_columns[0]\n",
    "print(f\"\\nUsando la columna '{fecha_col}' como fecha\")\n",
    "\n",
    "# Seleccionar columnas relevantes usando los nombres correctos\n",
    "ventas_procesadas = ventas[[fecha_col, 'Cod', 'Kg totales2']].copy()\n",
    "ventas_procesadas = ventas_procesadas.rename(columns={\n",
    "    fecha_col: 'fecha',\n",
    "    'Kg totales2': 'Kg_Vendidos'\n",
    "})\n",
    "\n",
    "print(\"\\n=== Resumen de Ventas Procesadas ===\")\n",
    "print(f\"Total de registros de venta: {len(ventas_procesadas)}\")\n",
    "print(f\"Rango de fechas: {ventas_procesadas['fecha'].min()} a {ventas_procesadas['fecha'].max()}\")\n",
    "\n",
    "# Mostrar ejemplos de ventas por código\n",
    "print(\"\\nEjemplos de ventas por código:\")\n",
    "ventas_por_codigo = ventas_procesadas.groupby('Cod')['Kg_Vendidos'].agg(['count', 'sum']).reset_index()\n",
    "print(\"\\nPrimeros 10 productos con sus ventas:\")\n",
    "print(ventas_por_codigo.head(10))"
   ]
  },
  {
   "cell_type": "code",
   "execution_count": 7,
   "id": "eacdc26a",
   "metadata": {},
   "outputs": [
    {
     "name": "stdout",
     "output_type": "stream",
     "text": [
      "=== Datos de ventas antes del procesamiento ===\n",
      "Total de registros de venta: 12067\n",
      "\n",
      "Tipo de dato de la columna Cod: Int64\n",
      "\n",
      "Ejemplos de códigos en ventas:\n",
      "1      315\n",
      "2      315\n",
      "3      315\n",
      "4      315\n",
      "203    355\n",
      "204    208\n",
      "206    356\n",
      "219    251\n",
      "220    251\n",
      "221    256\n",
      "Name: Cod, dtype: Int64\n",
      "\n",
      "Período analizado: del 02/01/2025 al 23/09/2025\n",
      "Total de semanas: 37.7\n",
      "\n",
      "=== Datos de promedios calculados ===\n",
      "Tipo de dato de la columna Cod en promedios: Int64\n",
      "\n",
      "Primeras filas de promedios:\n",
      "   Cod  Total_Vendido  Num_Ventas  Promedio_Semanal\n",
      "0    4        363.770          32          9.645417\n",
      "1    6       7223.878         709        191.542220\n",
      "2    9        524.850          41         13.916477\n",
      "3   22         15.460           6          0.409924\n",
      "4   51       3175.150          58         84.189583\n",
      "5   52       8993.115         363        238.453807\n",
      "6   53         12.200           1          0.323485\n",
      "7   54       1364.110          47         36.169583\n",
      "8   55      25952.081         455        688.123360\n",
      "9   58        -10.290           1         -0.272841\n",
      "\n",
      "=== Verificación de coincidencias con inventario ===\n",
      "\n",
      "Tipo de dato Codigo en inventario: Int64\n",
      "Ejemplo de códigos en inventario: 1     4\n",
      "3     6\n",
      "4     9\n",
      "7    51\n",
      "8    52\n",
      "Name: Codigo, dtype: Int64\n",
      "\n",
      "Tipo de dato Cod en promedios: Int64\n",
      "Ejemplo de códigos en promedios: 0     4\n",
      "1     6\n",
      "2     9\n",
      "3    22\n",
      "4    51\n",
      "Name: Cod, dtype: Int64\n",
      "\n",
      "Productos en inventario: 55\n",
      "Productos con historial de ventas: 80\n",
      "Productos en común: 50\n",
      "\n",
      "=== Ejemplos de productos con inventario y ventas ===\n",
      "   Codigo            Producto  Stock_Actual  Promedio_Semanal\n",
      "0       4   CHULETA DE COGOTE        113.55          9.645417\n",
      "1       6    CHULETA DE BRAZO        560.80        191.542220\n",
      "2       9     CHULETA DE LOMO         80.30         13.916477\n",
      "3      51             CANASTO         45.90         84.189583\n",
      "4      52  COSTILLA BABY BACK        436.55        238.453807\n",
      "5      55   COSTILLA SAN LUIS        180.45        688.123360\n",
      "6      58           COSTIPIEL         75.70         -0.272841\n",
      "7      61    RACK DE COSTILLA         34.10         49.913447\n",
      "8      64  COSTILLA MOSTRADOR          9.10          4.287500\n",
      "9      71  PUNTAS DE COSTILLA       1180.65        475.758580\n"
     ]
    }
   ],
   "source": [
    "# [4] Cálculo de promedios semanales\n",
    "print(\"=== Datos de ventas antes del procesamiento ===\")\n",
    "print(f\"Total de registros de venta: {len(ventas_procesadas)}\")\n",
    "print(\"\\nTipo de dato de la columna Cod:\", ventas_procesadas['Cod'].dtype)\n",
    "print(\"\\nEjemplos de códigos en ventas:\")\n",
    "print(ventas_procesadas['Cod'].head(10))\n",
    "\n",
    "# Calcular el número de semanas en el histórico\n",
    "fecha_min = ventas_procesadas['fecha'].min()\n",
    "fecha_max = ventas_procesadas['fecha'].max()\n",
    "num_semanas = (fecha_max - fecha_min).days / 7\n",
    "\n",
    "print(f\"\\nPeríodo analizado: del {fecha_min.strftime('%d/%m/%Y')} al {fecha_max.strftime('%d/%m/%Y')}\")\n",
    "print(f\"Total de semanas: {num_semanas:.1f}\")\n",
    "\n",
    "# Calcular totales y promedios por producto\n",
    "promedios = ventas_procesadas.groupby('Cod').agg({\n",
    "    'Kg_Vendidos': ['sum', 'count']\n",
    "}).reset_index()\n",
    "\n",
    "# Renombrar columnas para claridad\n",
    "promedios.columns = ['Cod', 'Total_Vendido', 'Num_Ventas']\n",
    "\n",
    "# Calcular promedio semanal\n",
    "promedios['Promedio_Semanal'] = promedios['Total_Vendido'] / num_semanas\n",
    "\n",
    "print(\"\\n=== Datos de promedios calculados ===\")\n",
    "print(\"Tipo de dato de la columna Cod en promedios:\", promedios['Cod'].dtype)\n",
    "print(\"\\nPrimeras filas de promedios:\")\n",
    "print(promedios.head(10))\n",
    "\n",
    "# Verificar coincidencias con inventario\n",
    "print(\"\\n=== Verificación de coincidencias con inventario ===\")\n",
    "print(\"\\nTipo de dato Codigo en inventario:\", inventario_procesado['Codigo'].dtype)\n",
    "print(\"Ejemplo de códigos en inventario:\", inventario_procesado['Codigo'].head(5))\n",
    "print(\"\\nTipo de dato Cod en promedios:\", promedios['Cod'].dtype)\n",
    "print(\"Ejemplo de códigos en promedios:\", promedios['Cod'].head(5))\n",
    "\n",
    "productos_en_inventario = set(inventario_procesado['Codigo'])\n",
    "productos_con_ventas = set(promedios['Cod'])\n",
    "\n",
    "print(f\"\\nProductos en inventario: {len(productos_en_inventario)}\")\n",
    "print(f\"Productos con historial de ventas: {len(productos_con_ventas)}\")\n",
    "print(f\"Productos en común: {len(productos_en_inventario & productos_con_ventas)}\")\n",
    "\n",
    "# Mostrar algunos ejemplos de productos que están en ambos\n",
    "coincidencias = pd.merge(\n",
    "    inventario_procesado,\n",
    "    promedios,\n",
    "    left_on='Codigo',\n",
    "    right_on='Cod',\n",
    "    how='inner'\n",
    ")\n",
    "\n",
    "print(\"\\n=== Ejemplos de productos con inventario y ventas ===\")\n",
    "if len(coincidencias) > 0:\n",
    "    print(coincidencias[['Codigo', 'Producto', 'Stock_Actual', 'Promedio_Semanal']].head(10))\n",
    "else:\n",
    "    print(\"¡No hay coincidencias entre inventario y ventas!\")"
   ]
  },
  {
   "cell_type": "code",
   "execution_count": 8,
   "id": "0774b2c4",
   "metadata": {},
   "outputs": [
    {
     "name": "stdout",
     "output_type": "stream",
     "text": [
      "=== Verificación de datos antes del merge ===\n",
      "\n",
      "Datos de inventario:\n",
      "Muestra de códigos en inventario:\n",
      "1     4\n",
      "3     6\n",
      "4     9\n",
      "7    51\n",
      "8    52\n",
      "Name: Codigo, dtype: Int64\n",
      "\n",
      "Datos de promedios:\n",
      "Muestra de códigos en ventas:\n",
      "0     4\n",
      "1     6\n",
      "2     9\n",
      "3    22\n",
      "4    51\n",
      "Name: Cod, dtype: Int64\n",
      "\n",
      "=== Verificación de formatos de código ===\n",
      "Ejemplo de códigos en inventario:\n",
      "'4' - tipo: <class 'numpy.int64'>\n",
      "'6' - tipo: <class 'numpy.int64'>\n",
      "'9' - tipo: <class 'numpy.int64'>\n",
      "'51' - tipo: <class 'numpy.int64'>\n",
      "'52' - tipo: <class 'numpy.int64'>\n",
      "\n",
      "Ejemplo de códigos en ventas:\n",
      "'4' - tipo: <class 'numpy.int64'>\n",
      "'6' - tipo: <class 'numpy.int64'>\n",
      "'9' - tipo: <class 'numpy.int64'>\n",
      "'22' - tipo: <class 'numpy.int64'>\n",
      "'51' - tipo: <class 'numpy.int64'>\n",
      "\n",
      "=== Resultados del merge ===\n",
      "Registros antes del merge: 55\n",
      "Registros después del merge: 55\n",
      "\n",
      "Ejemplos de registros unidos:\n",
      "  Codigo            Producto  Stock_Actual  Promedio_Semanal  Total_Vendido  \\\n",
      "0      4   CHULETA DE COGOTE        113.55          9.645417        363.770   \n",
      "1      6    CHULETA DE BRAZO        560.80        191.542220       7223.878   \n",
      "2      9     CHULETA DE LOMO         80.30         13.916477        524.850   \n",
      "3     51             CANASTO         45.90         84.189583       3175.150   \n",
      "4     52  COSTILLA BABY BACK        436.55        238.453807       8993.115   \n",
      "5     55   COSTILLA SAN LUIS        180.45        688.123360      25952.081   \n",
      "6     58           COSTIPIEL         75.70         -0.272841        -10.290   \n",
      "7     61    RACK DE COSTILLA         34.10         49.913447       1882.450   \n",
      "8     64  COSTILLA MOSTRADOR          9.10          4.287500        161.700   \n",
      "9     68         CARTILAGOS           6.45               NaN            NaN   \n",
      "\n",
      "   Num_Ventas  \n",
      "0        32.0  \n",
      "1       709.0  \n",
      "2        41.0  \n",
      "3        58.0  \n",
      "4       363.0  \n",
      "5       455.0  \n",
      "6         1.0  \n",
      "7        36.0  \n",
      "8         4.0  \n",
      "9         NaN  \n",
      "\n",
      "=== Verificación de valores nulos ===\n",
      "Promedio_Semanal    5\n",
      "Total_Vendido       5\n",
      "Num_Ventas          5\n",
      "dtype: int64\n",
      "\n",
      "=== Métricas de Rendimiento de Inventario ===\n",
      "Total de productos: 55\n",
      "Productos con stock adecuado: 25\n",
      "Productos bajo promedio: 30\n",
      "Total de stock en kg: 10,417.98\n",
      "\n",
      "=== Productos con ventas pero sin stock adecuado ===\n",
      "\n",
      "Productos críticos (Top 10):\n",
      "              Producto  Stock_Actual  Promedio_Semanal  Total_Vendido\n",
      "35  MILANESA DE PIERNA        689.65       3248.349470     122509.180\n",
      "20    RECORTE ESPECIAL        870.65        955.924905      36052.025\n",
      "17              CABEZA        211.80        837.087841      31570.170\n",
      "34       LOMO ALMENDRA        179.25        778.785795      29371.350\n",
      "26   Recorte De Pierna        462.35        702.237879      26484.400\n",
      "5    COSTILLA SAN LUIS        180.45        688.123360      25952.081\n",
      "44    TOCINO CORRIENTE        111.40        687.672841      25935.090\n",
      "28         BRAZO PULPO         51.68        667.200095      25162.975\n",
      "27            BONDIOLA         19.60        547.175947      20636.350\n",
      "43      TOCINO BARRIGA        245.60        537.572689      20274.170\n"
     ]
    }
   ],
   "source": [
    "# [5] Análisis de rendimiento de inventario\n",
    "# Antes de hacer el merge, verificamos los datos\n",
    "print(\"=== Verificación de datos antes del merge ===\")\n",
    "print(\"\\nDatos de inventario:\")\n",
    "print(\"Muestra de códigos en inventario:\")\n",
    "print(inventario_procesado['Codigo'].head())\n",
    "print(\"\\nDatos de promedios:\")\n",
    "print(\"Muestra de códigos en ventas:\")\n",
    "print(promedios['Cod'].head())\n",
    "\n",
    "# Verificar si hay diferencias en el formato de los códigos\n",
    "print(\"\\n=== Verificación de formatos de código ===\")\n",
    "print(\"Ejemplo de códigos en inventario:\")\n",
    "for cod in inventario_procesado['Codigo'].head():\n",
    "    print(f\"'{cod}' - tipo: {type(cod)}\")\n",
    "print(\"\\nEjemplo de códigos en ventas:\")\n",
    "for cod in promedios['Cod'].head():\n",
    "    print(f\"'{cod}' - tipo: {type(cod)}\")\n",
    "\n",
    "# Asegurarse de que los códigos estén en el mismo formato\n",
    "inventario_procesado['Codigo'] = inventario_procesado['Codigo'].astype(str).str.strip().str.upper()\n",
    "promedios['Cod'] = promedios['Cod'].astype(str).str.strip().str.upper()\n",
    "\n",
    "# Unir datos de inventario con promedios de venta\n",
    "analisis = pd.merge(\n",
    "    inventario_procesado,\n",
    "    promedios[['Cod', 'Total_Vendido', 'Num_Ventas', 'Promedio_Semanal']],\n",
    "    left_on='Codigo',\n",
    "    right_on='Cod',\n",
    "    how='left'\n",
    ")\n",
    "\n",
    "# Mostrar resultados del merge\n",
    "print(\"\\n=== Resultados del merge ===\")\n",
    "print(f\"Registros antes del merge: {len(inventario_procesado)}\")\n",
    "print(f\"Registros después del merge: {len(analisis)}\")\n",
    "print(\"\\nEjemplos de registros unidos:\")\n",
    "print(analisis[['Codigo', 'Producto', 'Stock_Actual', 'Promedio_Semanal', 'Total_Vendido', 'Num_Ventas']].head(10))\n",
    "\n",
    "# Verificar valores nulos\n",
    "print(\"\\n=== Verificación de valores nulos ===\")\n",
    "print(analisis[['Promedio_Semanal', 'Total_Vendido', 'Num_Ventas']].isnull().sum())\n",
    "\n",
    "# Rellenar productos sin historial de ventas con promedio 0\n",
    "analisis['Promedio_Semanal'] = analisis['Promedio_Semanal'].fillna(0)\n",
    "analisis['Total_Vendido'] = analisis['Total_Vendido'].fillna(0)\n",
    "analisis['Num_Ventas'] = analisis['Num_Ventas'].fillna(0)\n",
    "\n",
    "# Calcular métricas\n",
    "analisis['Estado'] = np.where(\n",
    "    analisis['Stock_Actual'] >= analisis['Promedio_Semanal'],\n",
    "    'Stock Adecuado',\n",
    "    'Bajo Promedio'\n",
    ")\n",
    "\n",
    "# Calcular KPIs\n",
    "total_productos = len(analisis)\n",
    "productos_stock_adecuado = len(analisis[analisis['Estado'] == 'Stock Adecuado'])\n",
    "productos_bajo_promedio = len(analisis[analisis['Estado'] == 'Bajo Promedio'])\n",
    "total_stock_kg = analisis['Stock_Actual'].sum()\n",
    "\n",
    "print(\"\\n=== Métricas de Rendimiento de Inventario ===\")\n",
    "print(f\"Total de productos: {total_productos}\")\n",
    "print(f\"Productos con stock adecuado: {productos_stock_adecuado}\")\n",
    "print(f\"Productos bajo promedio: {productos_bajo_promedio}\")\n",
    "print(f\"Total de stock en kg: {total_stock_kg:,.2f}\")\n",
    "\n",
    "# Mostrar productos con ventas pero sin stock\n",
    "print(\"\\n=== Productos con ventas pero sin stock adecuado ===\")\n",
    "productos_criticos = analisis[\n",
    "    (analisis['Promedio_Semanal'] > 0) & \n",
    "    (analisis['Stock_Actual'] < analisis['Promedio_Semanal'])\n",
    "].sort_values('Promedio_Semanal', ascending=False)\n",
    "\n",
    "print(\"\\nProductos críticos (Top 10):\")\n",
    "print(productos_criticos[['Producto', 'Stock_Actual', 'Promedio_Semanal', 'Total_Vendido']].head(10))\n",
    "\n",
    "# Guardar métricas para visualización\n",
    "metricas = {\n",
    "    'Total Productos': total_productos,\n",
    "    'Stock Adecuado': productos_stock_adecuado,\n",
    "    'Bajo Promedio': productos_bajo_promedio,\n",
    "    'Total Stock (kg)': total_stock_kg\n",
    "}\n",
    "\n",
    "# Limpiar el DataFrame final eliminando columnas innecesarias\n",
    "analisis = analisis.drop('Cod', axis=1)"
   ]
  },
  {
   "cell_type": "code",
   "execution_count": null,
   "id": "8aa6eba2",
   "metadata": {},
   "outputs": [
    {
     "data": {
      "text/html": [
       "\n",
       "\n",
       "<style>\n",
       "    .resumen-table {\n",
       "        border-collapse: collapse;\n",
       "        margin: 25px 0;\n",
       "        font-size: 14px;\n",
       "        font-family: sans-serif;\n",
       "        min-width: 400px;\n",
       "        box-shadow: 0 0 20px rgba(0, 0, 0, 0.15);\n",
       "    }\n",
       "    .resumen-table thead tr {\n",
       "        background-color: #4254b5;\n",
       "        color: #ffffff;\n",
       "        text-align: left;\n",
       "    }\n",
       "    .resumen-table th,\n",
       "    .resumen-table td {\n",
       "        padding: 12px 15px;\n",
       "    }\n",
       "    .resumen-table tbody tr {\n",
       "        border-bottom: 1px solid #dddddd;\n",
       "    }\n",
       "    .resumen-table tbody tr:nth-of-type(even) {\n",
       "        background-color: #f3f3f3;\n",
       "    }\n",
       "    .resumen-table tbody tr:last-of-type {\n",
       "        border-bottom: 2px solid #4254b5;\n",
       "    }\n",
       "</style>\n",
       "\n",
       "<div style=\"margin: 20px 0;\">\n",
       "    <h2 style=\"color: #4254b5; margin-bottom: 10px;\">Resumen de Inventario y Promedios de Venta</h2>\n",
       "    <p style=\"color: #666; margin-bottom: 20px;\">\n",
       "        Total de productos: <strong>55</strong>\n",
       "    </p>\n",
       "    <table border=\"1\" class=\"dataframe resumen-table\">\n",
       "  <thead>\n",
       "    <tr style=\"text-align: right;\">\n",
       "      <th>Codigo</th>\n",
       "      <th>Producto</th>\n",
       "      <th>Stock_Actual</th>\n",
       "      <th>Total_Vendido</th>\n",
       "      <th>Num_Ventas</th>\n",
       "      <th>Promedio_Semanal</th>\n",
       "      <th>Estado</th>\n",
       "    </tr>\n",
       "  </thead>\n",
       "  <tbody>\n",
       "    <tr>\n",
       "      <td>365</td>\n",
       "      <td>ASERRIN</td>\n",
       "      <td>156.60</td>\n",
       "      <td>1324.33</td>\n",
       "      <td>20.00</td>\n",
       "      <td>35.11</td>\n",
       "      <td>Stock Adecuado</td>\n",
       "    </tr>\n",
       "    <tr>\n",
       "      <td>364</td>\n",
       "      <td>BERIJAS</td>\n",
       "      <td>148.15</td>\n",
       "      <td>6621.39</td>\n",
       "      <td>92.00</td>\n",
       "      <td>175.57</td>\n",
       "      <td>Bajo Promedio</td>\n",
       "    </tr>\n",
       "    <tr>\n",
       "      <td>303</td>\n",
       "      <td>BONDIOLA</td>\n",
       "      <td>19.60</td>\n",
       "      <td>20636.35</td>\n",
       "      <td>614.00</td>\n",
       "      <td>547.18</td>\n",
       "      <td>Bajo Promedio</td>\n",
       "    </tr>\n",
       "    <tr>\n",
       "      <td>362</td>\n",
       "      <td>BONDIOLA TAJADA</td>\n",
       "      <td>176.60</td>\n",
       "      <td>12741.65</td>\n",
       "      <td>150.00</td>\n",
       "      <td>337.85</td>\n",
       "      <td>Bajo Promedio</td>\n",
       "    </tr>\n",
       "    <tr>\n",
       "      <td>333</td>\n",
       "      <td>BRAZO DESPOSTE</td>\n",
       "      <td>210.00</td>\n",
       "      <td>0.00</td>\n",
       "      <td>0.00</td>\n",
       "      <td>0.00</td>\n",
       "      <td>Stock Adecuado</td>\n",
       "    </tr>\n",
       "    <tr>\n",
       "      <td>304</td>\n",
       "      <td>BRAZO PULPO</td>\n",
       "      <td>51.68</td>\n",
       "      <td>25162.97</td>\n",
       "      <td>671.00</td>\n",
       "      <td>667.20</td>\n",
       "      <td>Bajo Promedio</td>\n",
       "    </tr>\n",
       "    <tr>\n",
       "      <td>251</td>\n",
       "      <td>CABEZA</td>\n",
       "      <td>211.80</td>\n",
       "      <td>31570.17</td>\n",
       "      <td>180.00</td>\n",
       "      <td>837.09</td>\n",
       "      <td>Bajo Promedio</td>\n",
       "    </tr>\n",
       "    <tr>\n",
       "      <td>307</td>\n",
       "      <td>CABEZA DE LOMO</td>\n",
       "      <td>761.80</td>\n",
       "      <td>8074.65</td>\n",
       "      <td>244.00</td>\n",
       "      <td>214.10</td>\n",
       "      <td>Stock Adecuado</td>\n",
       "    </tr>\n",
       "    <tr>\n",
       "      <td>51</td>\n",
       "      <td>CANASTO</td>\n",
       "      <td>45.90</td>\n",
       "      <td>3175.15</td>\n",
       "      <td>58.00</td>\n",
       "      <td>84.19</td>\n",
       "      <td>Bajo Promedio</td>\n",
       "    </tr>\n",
       "    <tr>\n",
       "      <td>305</td>\n",
       "      <td>CARNE MOLIDA</td>\n",
       "      <td>10.20</td>\n",
       "      <td>4533.98</td>\n",
       "      <td>325.00</td>\n",
       "      <td>120.22</td>\n",
       "      <td>Bajo Promedio</td>\n",
       "    </tr>\n",
       "    <tr>\n",
       "      <td>68</td>\n",
       "      <td>CARTILAGOS</td>\n",
       "      <td>6.45</td>\n",
       "      <td>0.00</td>\n",
       "      <td>0.00</td>\n",
       "      <td>0.00</td>\n",
       "      <td>Stock Adecuado</td>\n",
       "    </tr>\n",
       "    <tr>\n",
       "      <td>367</td>\n",
       "      <td>CHICHARRON CARNUDO X KG</td>\n",
       "      <td>133.10</td>\n",
       "      <td>9000.98</td>\n",
       "      <td>282.00</td>\n",
       "      <td>238.66</td>\n",
       "      <td>Bajo Promedio</td>\n",
       "    </tr>\n",
       "    <tr>\n",
       "      <td>501</td>\n",
       "      <td>CHORIZO SANTAROSANO X500</td>\n",
       "      <td>9.00</td>\n",
       "      <td>131.50</td>\n",
       "      <td>70.00</td>\n",
       "      <td>3.49</td>\n",
       "      <td>Stock Adecuado</td>\n",
       "    </tr>\n",
       "    <tr>\n",
       "      <td>6</td>\n",
       "      <td>CHULETA DE BRAZO</td>\n",
       "      <td>560.80</td>\n",
       "      <td>7223.88</td>\n",
       "      <td>709.00</td>\n",
       "      <td>191.54</td>\n",
       "      <td>Stock Adecuado</td>\n",
       "    </tr>\n",
       "    <tr>\n",
       "      <td>4</td>\n",
       "      <td>CHULETA DE COGOTE</td>\n",
       "      <td>113.55</td>\n",
       "      <td>363.77</td>\n",
       "      <td>32.00</td>\n",
       "      <td>9.65</td>\n",
       "      <td>Stock Adecuado</td>\n",
       "    </tr>\n",
       "    <tr>\n",
       "      <td>9</td>\n",
       "      <td>CHULETA DE LOMO</td>\n",
       "      <td>80.30</td>\n",
       "      <td>524.85</td>\n",
       "      <td>41.00</td>\n",
       "      <td>13.92</td>\n",
       "      <td>Stock Adecuado</td>\n",
       "    </tr>\n",
       "    <tr>\n",
       "      <td>72</td>\n",
       "      <td>CHULETON</td>\n",
       "      <td>15.70</td>\n",
       "      <td>524.92</td>\n",
       "      <td>33.00</td>\n",
       "      <td>13.92</td>\n",
       "      <td>Stock Adecuado</td>\n",
       "    </tr>\n",
       "    <tr>\n",
       "      <td>202</td>\n",
       "      <td>CODOS CON PIEL</td>\n",
       "      <td>60.30</td>\n",
       "      <td>3688.89</td>\n",
       "      <td>114.00</td>\n",
       "      <td>97.81</td>\n",
       "      <td>Bajo Promedio</td>\n",
       "    </tr>\n",
       "    <tr>\n",
       "      <td>102</td>\n",
       "      <td>COJINES</td>\n",
       "      <td>19.45</td>\n",
       "      <td>1282.32</td>\n",
       "      <td>61.00</td>\n",
       "      <td>34.00</td>\n",
       "      <td>Bajo Promedio</td>\n",
       "    </tr>\n",
       "    <tr>\n",
       "      <td>264</td>\n",
       "      <td>COLAS Y COGOTES</td>\n",
       "      <td>24.80</td>\n",
       "      <td>6082.88</td>\n",
       "      <td>112.00</td>\n",
       "      <td>161.29</td>\n",
       "      <td>Bajo Promedio</td>\n",
       "    </tr>\n",
       "    <tr>\n",
       "      <td>52</td>\n",
       "      <td>COSTILLA BABY BACK</td>\n",
       "      <td>436.55</td>\n",
       "      <td>8993.11</td>\n",
       "      <td>363.00</td>\n",
       "      <td>238.45</td>\n",
       "      <td>Stock Adecuado</td>\n",
       "    </tr>\n",
       "    <tr>\n",
       "      <td>325</td>\n",
       "      <td>COSTILLA INDUSTRIAL</td>\n",
       "      <td>190.85</td>\n",
       "      <td>433.60</td>\n",
       "      <td>13.00</td>\n",
       "      <td>11.50</td>\n",
       "      <td>Stock Adecuado</td>\n",
       "    </tr>\n",
       "    <tr>\n",
       "      <td>64</td>\n",
       "      <td>COSTILLA MOSTRADOR</td>\n",
       "      <td>9.10</td>\n",
       "      <td>161.70</td>\n",
       "      <td>4.00</td>\n",
       "      <td>4.29</td>\n",
       "      <td>Stock Adecuado</td>\n",
       "    </tr>\n",
       "    <tr>\n",
       "      <td>55</td>\n",
       "      <td>COSTILLA SAN LUIS</td>\n",
       "      <td>180.45</td>\n",
       "      <td>25952.08</td>\n",
       "      <td>455.00</td>\n",
       "      <td>688.12</td>\n",
       "      <td>Bajo Promedio</td>\n",
       "    </tr>\n",
       "    <tr>\n",
       "      <td>58</td>\n",
       "      <td>COSTIPIEL</td>\n",
       "      <td>75.70</td>\n",
       "      <td>-10.29</td>\n",
       "      <td>1.00</td>\n",
       "      <td>-0.27</td>\n",
       "      <td>Stock Adecuado</td>\n",
       "    </tr>\n",
       "    <tr>\n",
       "      <td>512</td>\n",
       "      <td>Chorizo Ahumado x19 Unds</td>\n",
       "      <td>471.00</td>\n",
       "      <td>3921.00</td>\n",
       "      <td>214.00</td>\n",
       "      <td>103.97</td>\n",
       "      <td>Stock Adecuado</td>\n",
       "    </tr>\n",
       "    <tr>\n",
       "      <td>270</td>\n",
       "      <td>DECOMISO</td>\n",
       "      <td>86.15</td>\n",
       "      <td>1229.21</td>\n",
       "      <td>13.00</td>\n",
       "      <td>32.59</td>\n",
       "      <td>Stock Adecuado</td>\n",
       "    </tr>\n",
       "    <tr>\n",
       "      <td>253</td>\n",
       "      <td>DESPALME</td>\n",
       "      <td>264.90</td>\n",
       "      <td>14312.00</td>\n",
       "      <td>184.00</td>\n",
       "      <td>379.48</td>\n",
       "      <td>Bajo Promedio</td>\n",
       "    </tr>\n",
       "    <tr>\n",
       "      <td>268</td>\n",
       "      <td>EMPELLA</td>\n",
       "      <td>198.35</td>\n",
       "      <td>6141.43</td>\n",
       "      <td>128.00</td>\n",
       "      <td>162.84</td>\n",
       "      <td>Stock Adecuado</td>\n",
       "    </tr>\n",
       "    <tr>\n",
       "      <td>153</td>\n",
       "      <td>ESPINAZO ESPECIAL</td>\n",
       "      <td>13.70</td>\n",
       "      <td>593.84</td>\n",
       "      <td>110.00</td>\n",
       "      <td>15.75</td>\n",
       "      <td>Bajo Promedio</td>\n",
       "    </tr>\n",
       "    <tr>\n",
       "      <td>311</td>\n",
       "      <td>FALDA</td>\n",
       "      <td>70.75</td>\n",
       "      <td>661.10</td>\n",
       "      <td>28.00</td>\n",
       "      <td>17.53</td>\n",
       "      <td>Stock Adecuado</td>\n",
       "    </tr>\n",
       "    <tr>\n",
       "      <td>322</td>\n",
       "      <td>GOULASH ESPECIAL</td>\n",
       "      <td>267.25</td>\n",
       "      <td>3163.92</td>\n",
       "      <td>224.00</td>\n",
       "      <td>83.89</td>\n",
       "      <td>Stock Adecuado</td>\n",
       "    </tr>\n",
       "    <tr>\n",
       "      <td>254</td>\n",
       "      <td>HUESO POROZO</td>\n",
       "      <td>54.80</td>\n",
       "      <td>20253.06</td>\n",
       "      <td>156.00</td>\n",
       "      <td>537.01</td>\n",
       "      <td>Bajo Promedio</td>\n",
       "    </tr>\n",
       "    <tr>\n",
       "      <td>315</td>\n",
       "      <td>LOMO ALMENDRA</td>\n",
       "      <td>179.25</td>\n",
       "      <td>29371.35</td>\n",
       "      <td>829.00</td>\n",
       "      <td>778.79</td>\n",
       "      <td>Bajo Promedio</td>\n",
       "    </tr>\n",
       "    <tr>\n",
       "      <td>320</td>\n",
       "      <td>LOMO DESPOSTE</td>\n",
       "      <td>13.60</td>\n",
       "      <td>0.00</td>\n",
       "      <td>0.00</td>\n",
       "      <td>0.00</td>\n",
       "      <td>Stock Adecuado</td>\n",
       "    </tr>\n",
       "    <tr>\n",
       "      <td>314</td>\n",
       "      <td>MILANESA CERDO X KILO</td>\n",
       "      <td>282.75</td>\n",
       "      <td>9522.56</td>\n",
       "      <td>568.00</td>\n",
       "      <td>252.49</td>\n",
       "      <td>Stock Adecuado</td>\n",
       "    </tr>\n",
       "    <tr>\n",
       "      <td>316</td>\n",
       "      <td>MILANESA DE PIERNA</td>\n",
       "      <td>689.65</td>\n",
       "      <td>122509.18</td>\n",
       "      <td>268.00</td>\n",
       "      <td>3248.35</td>\n",
       "      <td>Bajo Promedio</td>\n",
       "    </tr>\n",
       "    <tr>\n",
       "      <td>204</td>\n",
       "      <td>OSOBUCOS</td>\n",
       "      <td>35.45</td>\n",
       "      <td>482.44</td>\n",
       "      <td>46.00</td>\n",
       "      <td>12.79</td>\n",
       "      <td>Stock Adecuado</td>\n",
       "    </tr>\n",
       "    <tr>\n",
       "      <td>353</td>\n",
       "      <td>PAPADA CON PIEL</td>\n",
       "      <td>64.70</td>\n",
       "      <td>10376.64</td>\n",
       "      <td>220.00</td>\n",
       "      <td>275.14</td>\n",
       "      <td>Bajo Promedio</td>\n",
       "    </tr>\n",
       "    <tr>\n",
       "      <td>328</td>\n",
       "      <td>PERNIL DESPOSTE</td>\n",
       "      <td>507.25</td>\n",
       "      <td>0.00</td>\n",
       "      <td>0.00</td>\n",
       "      <td>0.00</td>\n",
       "      <td>Stock Adecuado</td>\n",
       "    </tr>\n",
       "    <tr>\n",
       "      <td>208</td>\n",
       "      <td>PEZUÑA</td>\n",
       "      <td>32.40</td>\n",
       "      <td>9936.33</td>\n",
       "      <td>305.00</td>\n",
       "      <td>263.46</td>\n",
       "      <td>Bajo Promedio</td>\n",
       "    </tr>\n",
       "    <tr>\n",
       "      <td>358</td>\n",
       "      <td>PLANCHA</td>\n",
       "      <td>163.85</td>\n",
       "      <td>20083.35</td>\n",
       "      <td>881.00</td>\n",
       "      <td>532.51</td>\n",
       "      <td>Bajo Promedio</td>\n",
       "    </tr>\n",
       "    <tr>\n",
       "      <td>71</td>\n",
       "      <td>PUNTAS DE COSTILLA</td>\n",
       "      <td>1180.65</td>\n",
       "      <td>17942.90</td>\n",
       "      <td>671.00</td>\n",
       "      <td>475.76</td>\n",
       "      <td>Stock Adecuado</td>\n",
       "    </tr>\n",
       "    <tr>\n",
       "      <td>61</td>\n",
       "      <td>RACK DE COSTILLA</td>\n",
       "      <td>34.10</td>\n",
       "      <td>1882.45</td>\n",
       "      <td>36.00</td>\n",
       "      <td>49.91</td>\n",
       "      <td>Bajo Promedio</td>\n",
       "    </tr>\n",
       "    <tr>\n",
       "      <td>259</td>\n",
       "      <td>RECORTE DE CHULETA</td>\n",
       "      <td>11.70</td>\n",
       "      <td>0.00</td>\n",
       "      <td>0.00</td>\n",
       "      <td>0.00</td>\n",
       "      <td>Stock Adecuado</td>\n",
       "    </tr>\n",
       "    <tr>\n",
       "      <td>256</td>\n",
       "      <td>RECORTE ESPECIAL</td>\n",
       "      <td>870.65</td>\n",
       "      <td>36052.03</td>\n",
       "      <td>262.00</td>\n",
       "      <td>955.92</td>\n",
       "      <td>Bajo Promedio</td>\n",
       "    </tr>\n",
       "    <tr>\n",
       "      <td>280</td>\n",
       "      <td>Recorte De Pierna</td>\n",
       "      <td>462.35</td>\n",
       "      <td>26484.40</td>\n",
       "      <td>145.00</td>\n",
       "      <td>702.24</td>\n",
       "      <td>Bajo Promedio</td>\n",
       "    </tr>\n",
       "    <tr>\n",
       "      <td>258</td>\n",
       "      <td>SANGRADOS</td>\n",
       "      <td>41.15</td>\n",
       "      <td>4112.75</td>\n",
       "      <td>75.00</td>\n",
       "      <td>109.05</td>\n",
       "      <td>Bajo Promedio</td>\n",
       "    </tr>\n",
       "    <tr>\n",
       "      <td>313</td>\n",
       "      <td>SOLOMITO</td>\n",
       "      <td>181.40</td>\n",
       "      <td>4928.68</td>\n",
       "      <td>128.00</td>\n",
       "      <td>130.68</td>\n",
       "      <td>Stock Adecuado</td>\n",
       "    </tr>\n",
       "    <tr>\n",
       "      <td>360</td>\n",
       "      <td>TOCINETA ANTIOQUEÑA</td>\n",
       "      <td>75.55</td>\n",
       "      <td>8286.25</td>\n",
       "      <td>135.00</td>\n",
       "      <td>219.71</td>\n",
       "      <td>Bajo Promedio</td>\n",
       "    </tr>\n",
       "    <tr>\n",
       "      <td>355</td>\n",
       "      <td>TOCINO BARRIGA</td>\n",
       "      <td>245.60</td>\n",
       "      <td>20274.17</td>\n",
       "      <td>165.00</td>\n",
       "      <td>537.57</td>\n",
       "      <td>Bajo Promedio</td>\n",
       "    </tr>\n",
       "    <tr>\n",
       "      <td>356</td>\n",
       "      <td>TOCINO CORRIENTE</td>\n",
       "      <td>111.40</td>\n",
       "      <td>25935.09</td>\n",
       "      <td>233.00</td>\n",
       "      <td>687.67</td>\n",
       "      <td>Bajo Promedio</td>\n",
       "    </tr>\n",
       "    <tr>\n",
       "      <td>357</td>\n",
       "      <td>TOCINO DORSAL</td>\n",
       "      <td>68.25</td>\n",
       "      <td>16555.85</td>\n",
       "      <td>104.00</td>\n",
       "      <td>438.98</td>\n",
       "      <td>Bajo Promedio</td>\n",
       "    </tr>\n",
       "    <tr>\n",
       "      <td>352</td>\n",
       "      <td>TOCINO PIANO CON PIEL</td>\n",
       "      <td>20.10</td>\n",
       "      <td>2877.73</td>\n",
       "      <td>96.00</td>\n",
       "      <td>76.30</td>\n",
       "      <td>Bajo Promedio</td>\n",
       "    </tr>\n",
       "    <tr>\n",
       "      <td>359</td>\n",
       "      <td>TOCINO PIANO SIN PIEL</td>\n",
       "      <td>10.85</td>\n",
       "      <td>5488.40</td>\n",
       "      <td>150.00</td>\n",
       "      <td>145.53</td>\n",
       "      <td>Bajo Promedio</td>\n",
       "    </tr>\n",
       "  </tbody>\n",
       "</table>\n",
       "</div>\n"
      ],
      "text/plain": [
       "<IPython.core.display.HTML object>"
      ]
     },
     "metadata": {},
     "output_type": "display_data"
    },
    {
     "name": "stdout",
     "output_type": "stream",
     "text": [
      "\n",
      "Tabla en formato texto:\n",
      "Codigo                 Producto  Stock_Actual  Total_Vendido  Num_Ventas  Promedio_Semanal         Estado\n",
      "   365                  ASERRIN        156.60       1324.330        20.0             35.11 Stock Adecuado\n",
      "   364                  BERIJAS        148.15       6621.390        92.0            175.57  Bajo Promedio\n",
      "   303                 BONDIOLA         19.60      20636.350       614.0            547.18  Bajo Promedio\n",
      "   362          BONDIOLA TAJADA        176.60      12741.650       150.0            337.85  Bajo Promedio\n",
      "   333          BRAZO DESPOSTE         210.00          0.000         0.0              0.00 Stock Adecuado\n",
      "   304              BRAZO PULPO         51.68      25162.975       671.0            667.20  Bajo Promedio\n",
      "   251                   CABEZA        211.80      31570.170       180.0            837.09  Bajo Promedio\n",
      "   307           CABEZA DE LOMO        761.80       8074.655       244.0            214.10 Stock Adecuado\n",
      "    51                  CANASTO         45.90       3175.150        58.0             84.19  Bajo Promedio\n",
      "   305             CARNE MOLIDA         10.20       4533.980       325.0            120.22  Bajo Promedio\n",
      "    68              CARTILAGOS           6.45          0.000         0.0              0.00 Stock Adecuado\n",
      "   367  CHICHARRON CARNUDO X KG        133.10       9000.980       282.0            238.66  Bajo Promedio\n",
      "   501 CHORIZO SANTAROSANO X500          9.00        131.500        70.0              3.49 Stock Adecuado\n",
      "     6         CHULETA DE BRAZO        560.80       7223.878       709.0            191.54 Stock Adecuado\n",
      "     4        CHULETA DE COGOTE        113.55        363.770        32.0              9.65 Stock Adecuado\n",
      "     9          CHULETA DE LOMO         80.30        524.850        41.0             13.92 Stock Adecuado\n",
      "    72                 CHULETON         15.70        524.920        33.0             13.92 Stock Adecuado\n",
      "   202           CODOS CON PIEL         60.30       3688.890       114.0             97.81  Bajo Promedio\n",
      "   102                  COJINES         19.45       1282.320        61.0             34.00  Bajo Promedio\n",
      "   264          COLAS Y COGOTES         24.80       6082.880       112.0            161.29  Bajo Promedio\n",
      "    52       COSTILLA BABY BACK        436.55       8993.115       363.0            238.45 Stock Adecuado\n",
      "   325      COSTILLA INDUSTRIAL        190.85        433.600        13.0             11.50 Stock Adecuado\n",
      "    64       COSTILLA MOSTRADOR          9.10        161.700         4.0              4.29 Stock Adecuado\n",
      "    55        COSTILLA SAN LUIS        180.45      25952.081       455.0            688.12  Bajo Promedio\n",
      "    58                COSTIPIEL         75.70        -10.290         1.0             -0.27 Stock Adecuado\n",
      "   512 Chorizo Ahumado x19 Unds        471.00       3921.000       214.0            103.97 Stock Adecuado\n",
      "   270                 DECOMISO         86.15       1229.210        13.0             32.59 Stock Adecuado\n",
      "   253                 DESPALME        264.90      14312.005       184.0            379.48  Bajo Promedio\n",
      "   268                  EMPELLA        198.35       6141.430       128.0            162.84 Stock Adecuado\n",
      "   153        ESPINAZO ESPECIAL         13.70        593.840       110.0             15.75  Bajo Promedio\n",
      "   311                    FALDA         70.75        661.100        28.0             17.53 Stock Adecuado\n",
      "   322         GOULASH ESPECIAL        267.25       3163.920       224.0             83.89 Stock Adecuado\n",
      "   254             HUESO POROZO         54.80      20253.065       156.0            537.01  Bajo Promedio\n",
      "   315            LOMO ALMENDRA        179.25      29371.350       829.0            778.79  Bajo Promedio\n",
      "   320           LOMO DESPOSTE          13.60          0.000         0.0              0.00 Stock Adecuado\n",
      "   314    MILANESA CERDO X KILO        282.75       9522.555       568.0            252.49 Stock Adecuado\n",
      "   316       MILANESA DE PIERNA        689.65     122509.180       268.0           3248.35  Bajo Promedio\n",
      "   204                 OSOBUCOS         35.45        482.440        46.0             12.79 Stock Adecuado\n",
      "   353          PAPADA CON PIEL         64.70      10376.635       220.0            275.14  Bajo Promedio\n",
      "   328         PERNIL DESPOSTE         507.25          0.000         0.0              0.00 Stock Adecuado\n",
      "   208                   PEZUÑA         32.40       9936.325       305.0            263.46  Bajo Promedio\n",
      "   358                  PLANCHA        163.85      20083.354       881.0            532.51  Bajo Promedio\n",
      "    71       PUNTAS DE COSTILLA       1180.65      17942.895       671.0            475.76 Stock Adecuado\n",
      "    61         RACK DE COSTILLA         34.10       1882.450        36.0             49.91  Bajo Promedio\n",
      "   259       RECORTE DE CHULETA         11.70          0.000         0.0              0.00 Stock Adecuado\n",
      "   256         RECORTE ESPECIAL        870.65      36052.025       262.0            955.92  Bajo Promedio\n",
      "   280        Recorte De Pierna        462.35      26484.400       145.0            702.24  Bajo Promedio\n",
      "   258                SANGRADOS         41.15       4112.750        75.0            109.05  Bajo Promedio\n",
      "   313                 SOLOMITO        181.40       4928.680       128.0            130.68 Stock Adecuado\n",
      "   360      TOCINETA ANTIOQUEÑA         75.55       8286.250       135.0            219.71  Bajo Promedio\n",
      "   355           TOCINO BARRIGA        245.60      20274.170       165.0            537.57  Bajo Promedio\n",
      "   356         TOCINO CORRIENTE        111.40      25935.090       233.0            687.67  Bajo Promedio\n",
      "   357            TOCINO DORSAL         68.25      16555.850       104.0            438.98  Bajo Promedio\n",
      "   352    TOCINO PIANO CON PIEL         20.10       2877.728        96.0             76.30  Bajo Promedio\n",
      "   359    TOCINO PIANO SIN PIEL         10.85       5488.400       150.0            145.53  Bajo Promedio\n"
     ]
    }
   ],
   "source": [
    "# [6] Tabla resumen completa\n",
    "from IPython.display import display, HTML\n",
    "\n",
    "# Preparar tabla con toda la información\n",
    "tabla_resumen = analisis.copy()\n",
    "tabla_resumen = tabla_resumen.sort_values('Producto')\n",
    "\n",
    "# Aplicar formato a los números\n",
    "tabla_resumen['Stock_Actual'] = tabla_resumen['Stock_Actual'].round(2)\n",
    "tabla_resumen['Promedio_Semanal'] = tabla_resumen['Promedio_Semanal'].round(2)\n",
    "\n",
    "# Crear estilo HTML para la tabla\n",
    "tabla_style = \"\"\"\n",
    "<style>\n",
    "    .resumen-table {\n",
    "        border-collapse: collapse;\n",
    "        margin: 25px 0;\n",
    "        font-size: 14px;\n",
    "        font-family: sans-serif;\n",
    "        min-width: 400px;\n",
    "        box-shadow: 0 0 20px rgba(0, 0, 0, 0.15);\n",
    "    }\n",
    "    .resumen-table thead tr {\n",
    "        background-color: #4254b5;\n",
    "        color: #ffffff;\n",
    "        text-align: left;\n",
    "    }\n",
    "    .resumen-table th,\n",
    "    .resumen-table td {\n",
    "        padding: 12px 15px;\n",
    "    }\n",
    "    .resumen-table tbody tr {\n",
    "        border-bottom: 1px solid #dddddd;\n",
    "    }\n",
    "    .resumen-table tbody tr:nth-of-type(even) {\n",
    "        background-color: #f3f3f3;\n",
    "    }\n",
    "    .resumen-table tbody tr:last-of-type {\n",
    "        border-bottom: 2px solid #4254b5;\n",
    "    }\n",
    "</style>\n",
    "\"\"\"\n",
    "\n",
    "# Convertir DataFrame a HTML con estilos\n",
    "html_table = tabla_resumen.to_html(\n",
    "    classes=['resumen-table'],\n",
    "    index=False,\n",
    "    float_format=lambda x: '{:.2f}'.format(x)\n",
    ")\n",
    "\n",
    "html_content = f\"\"\"\n",
    "{tabla_style}\n",
    "<div style=\"margin: 20px 0;\">\n",
    "    <h2 style=\"color: #4254b5; margin-bottom: 10px;\">Resumen de Inventario y Promedios de Venta</h2>\n",
    "    <p style=\"color: #666; margin-bottom: 20px;\">\n",
    "        Total de productos: <strong>{len(tabla_resumen)}</strong>\n",
    "    </p>\n",
    "    {html_table}\n",
    "</div>\n",
    "\"\"\"\n",
    "\n",
    "display(HTML(html_content))\n",
    "\n",
    "# También mostrar en formato texto para fácil copia\n",
    "print(\"\\nTabla en formato texto:\")\n",
    "print(tabla_resumen.to_string(index=False))"
   ]
  },
  {
   "cell_type": "code",
   "execution_count": null,
   "id": "7317fc08",
   "metadata": {},
   "outputs": [
    {
     "data": {
      "application/vnd.plotly.v1+json": {
       "config": {
        "plotlyServerURL": "https://plot.ly"
       },
       "data": [
        {
         "domain": {
          "column": 0,
          "row": 0,
          "x": [
           0,
           0.2125
          ],
          "y": [
           0,
           1
          ]
         },
         "mode": "number",
         "number": {
          "font": {
           "color": "#3498DB",
           "size": 50
          },
          "valueformat": ","
         },
         "title": {
          "font": {
           "color": "#2C3E50",
           "size": 20
          },
          "text": "Total Productos<br><span style='font-size:0.8em;'>en inventario</span>"
         },
         "type": "indicator",
         "value": 55
        },
        {
         "domain": {
          "column": 1,
          "row": 0,
          "x": [
           0.2625,
           0.475
          ],
          "y": [
           0,
           1
          ]
         },
         "mode": "number",
         "number": {
          "font": {
           "color": "#2ECC71",
           "size": 50
          },
          "valueformat": ","
         },
         "title": {
          "font": {
           "color": "#2C3E50",
           "size": 20
          },
          "text": "Stock Adecuado<br><span style='font-size:0.8em;'>sobre el promedio</span>"
         },
         "type": "indicator",
         "value": 25
        },
        {
         "domain": {
          "column": 2,
          "row": 0,
          "x": [
           0.525,
           0.7375
          ],
          "y": [
           0,
           1
          ]
         },
         "mode": "number",
         "number": {
          "font": {
           "color": "#E74C3C",
           "size": 50
          },
          "valueformat": ","
         },
         "title": {
          "font": {
           "color": "#2C3E50",
           "size": 20
          },
          "text": "Bajo Stock<br><span style='font-size:0.8em;'>bajo el promedio</span>"
         },
         "type": "indicator",
         "value": 30
        },
        {
         "domain": {
          "column": 3,
          "row": 0,
          "x": [
           0.7875,
           1
          ],
          "y": [
           0,
           1
          ]
         },
         "mode": "number",
         "number": {
          "font": {
           "color": "#F1C40F",
           "size": 50
          },
          "valueformat": ",.1f"
         },
         "title": {
          "font": {
           "color": "#2C3E50",
           "size": 20
          },
          "text": "Stock Total<br><span style='font-size:0.8em;'>kilogramos</span>"
         },
         "type": "indicator",
         "value": 10417.98
        }
       ],
       "layout": {
        "annotations": [
         {
          "font": {
           "color": "#2C3E50",
           "size": 16
          },
          "showarrow": false,
          "text": "Total Productos",
          "x": 0.10625,
          "xanchor": "center",
          "xref": "paper",
          "y": 1,
          "yanchor": "bottom",
          "yref": "paper"
         },
         {
          "font": {
           "color": "#2C3E50",
           "size": 16
          },
          "showarrow": false,
          "text": "Stock Adecuado",
          "x": 0.36875,
          "xanchor": "center",
          "xref": "paper",
          "y": 1,
          "yanchor": "bottom",
          "yref": "paper"
         },
         {
          "font": {
           "color": "#2C3E50",
           "size": 16
          },
          "showarrow": false,
          "text": "Bajo Stock",
          "x": 0.6312500000000001,
          "xanchor": "center",
          "xref": "paper",
          "y": 1,
          "yanchor": "bottom",
          "yref": "paper"
         },
         {
          "font": {
           "color": "#2C3E50",
           "size": 16
          },
          "showarrow": false,
          "text": "Stock Total (kg)",
          "x": 0.89375,
          "xanchor": "center",
          "xref": "paper",
          "y": 1,
          "yanchor": "bottom",
          "yref": "paper"
         }
        ],
        "grid": {
         "columns": 4,
         "pattern": "independent",
         "rows": 1
        },
        "height": 300,
        "margin": {
         "b": 20,
         "l": 20,
         "r": 20,
         "t": 120
        },
        "paper_bgcolor": "white",
        "plot_bgcolor": "white",
        "showlegend": false,
        "template": {
         "data": {
          "bar": [
           {
            "error_x": {
             "color": "#2a3f5f"
            },
            "error_y": {
             "color": "#2a3f5f"
            },
            "marker": {
             "line": {
              "color": "#E5ECF6",
              "width": 0.5
             },
             "pattern": {
              "fillmode": "overlay",
              "size": 10,
              "solidity": 0.2
             }
            },
            "type": "bar"
           }
          ],
          "barpolar": [
           {
            "marker": {
             "line": {
              "color": "#E5ECF6",
              "width": 0.5
             },
             "pattern": {
              "fillmode": "overlay",
              "size": 10,
              "solidity": 0.2
             }
            },
            "type": "barpolar"
           }
          ],
          "carpet": [
           {
            "aaxis": {
             "endlinecolor": "#2a3f5f",
             "gridcolor": "white",
             "linecolor": "white",
             "minorgridcolor": "white",
             "startlinecolor": "#2a3f5f"
            },
            "baxis": {
             "endlinecolor": "#2a3f5f",
             "gridcolor": "white",
             "linecolor": "white",
             "minorgridcolor": "white",
             "startlinecolor": "#2a3f5f"
            },
            "type": "carpet"
           }
          ],
          "choropleth": [
           {
            "colorbar": {
             "outlinewidth": 0,
             "ticks": ""
            },
            "type": "choropleth"
           }
          ],
          "contour": [
           {
            "colorbar": {
             "outlinewidth": 0,
             "ticks": ""
            },
            "colorscale": [
             [
              0,
              "#0d0887"
             ],
             [
              0.1111111111111111,
              "#46039f"
             ],
             [
              0.2222222222222222,
              "#7201a8"
             ],
             [
              0.3333333333333333,
              "#9c179e"
             ],
             [
              0.4444444444444444,
              "#bd3786"
             ],
             [
              0.5555555555555556,
              "#d8576b"
             ],
             [
              0.6666666666666666,
              "#ed7953"
             ],
             [
              0.7777777777777778,
              "#fb9f3a"
             ],
             [
              0.8888888888888888,
              "#fdca26"
             ],
             [
              1,
              "#f0f921"
             ]
            ],
            "type": "contour"
           }
          ],
          "contourcarpet": [
           {
            "colorbar": {
             "outlinewidth": 0,
             "ticks": ""
            },
            "type": "contourcarpet"
           }
          ],
          "heatmap": [
           {
            "colorbar": {
             "outlinewidth": 0,
             "ticks": ""
            },
            "colorscale": [
             [
              0,
              "#0d0887"
             ],
             [
              0.1111111111111111,
              "#46039f"
             ],
             [
              0.2222222222222222,
              "#7201a8"
             ],
             [
              0.3333333333333333,
              "#9c179e"
             ],
             [
              0.4444444444444444,
              "#bd3786"
             ],
             [
              0.5555555555555556,
              "#d8576b"
             ],
             [
              0.6666666666666666,
              "#ed7953"
             ],
             [
              0.7777777777777778,
              "#fb9f3a"
             ],
             [
              0.8888888888888888,
              "#fdca26"
             ],
             [
              1,
              "#f0f921"
             ]
            ],
            "type": "heatmap"
           }
          ],
          "heatmapgl": [
           {
            "colorbar": {
             "outlinewidth": 0,
             "ticks": ""
            },
            "colorscale": [
             [
              0,
              "#0d0887"
             ],
             [
              0.1111111111111111,
              "#46039f"
             ],
             [
              0.2222222222222222,
              "#7201a8"
             ],
             [
              0.3333333333333333,
              "#9c179e"
             ],
             [
              0.4444444444444444,
              "#bd3786"
             ],
             [
              0.5555555555555556,
              "#d8576b"
             ],
             [
              0.6666666666666666,
              "#ed7953"
             ],
             [
              0.7777777777777778,
              "#fb9f3a"
             ],
             [
              0.8888888888888888,
              "#fdca26"
             ],
             [
              1,
              "#f0f921"
             ]
            ],
            "type": "heatmapgl"
           }
          ],
          "histogram": [
           {
            "marker": {
             "pattern": {
              "fillmode": "overlay",
              "size": 10,
              "solidity": 0.2
             }
            },
            "type": "histogram"
           }
          ],
          "histogram2d": [
           {
            "colorbar": {
             "outlinewidth": 0,
             "ticks": ""
            },
            "colorscale": [
             [
              0,
              "#0d0887"
             ],
             [
              0.1111111111111111,
              "#46039f"
             ],
             [
              0.2222222222222222,
              "#7201a8"
             ],
             [
              0.3333333333333333,
              "#9c179e"
             ],
             [
              0.4444444444444444,
              "#bd3786"
             ],
             [
              0.5555555555555556,
              "#d8576b"
             ],
             [
              0.6666666666666666,
              "#ed7953"
             ],
             [
              0.7777777777777778,
              "#fb9f3a"
             ],
             [
              0.8888888888888888,
              "#fdca26"
             ],
             [
              1,
              "#f0f921"
             ]
            ],
            "type": "histogram2d"
           }
          ],
          "histogram2dcontour": [
           {
            "colorbar": {
             "outlinewidth": 0,
             "ticks": ""
            },
            "colorscale": [
             [
              0,
              "#0d0887"
             ],
             [
              0.1111111111111111,
              "#46039f"
             ],
             [
              0.2222222222222222,
              "#7201a8"
             ],
             [
              0.3333333333333333,
              "#9c179e"
             ],
             [
              0.4444444444444444,
              "#bd3786"
             ],
             [
              0.5555555555555556,
              "#d8576b"
             ],
             [
              0.6666666666666666,
              "#ed7953"
             ],
             [
              0.7777777777777778,
              "#fb9f3a"
             ],
             [
              0.8888888888888888,
              "#fdca26"
             ],
             [
              1,
              "#f0f921"
             ]
            ],
            "type": "histogram2dcontour"
           }
          ],
          "mesh3d": [
           {
            "colorbar": {
             "outlinewidth": 0,
             "ticks": ""
            },
            "type": "mesh3d"
           }
          ],
          "parcoords": [
           {
            "line": {
             "colorbar": {
              "outlinewidth": 0,
              "ticks": ""
             }
            },
            "type": "parcoords"
           }
          ],
          "pie": [
           {
            "automargin": true,
            "type": "pie"
           }
          ],
          "scatter": [
           {
            "fillpattern": {
             "fillmode": "overlay",
             "size": 10,
             "solidity": 0.2
            },
            "type": "scatter"
           }
          ],
          "scatter3d": [
           {
            "line": {
             "colorbar": {
              "outlinewidth": 0,
              "ticks": ""
             }
            },
            "marker": {
             "colorbar": {
              "outlinewidth": 0,
              "ticks": ""
             }
            },
            "type": "scatter3d"
           }
          ],
          "scattercarpet": [
           {
            "marker": {
             "colorbar": {
              "outlinewidth": 0,
              "ticks": ""
             }
            },
            "type": "scattercarpet"
           }
          ],
          "scattergeo": [
           {
            "marker": {
             "colorbar": {
              "outlinewidth": 0,
              "ticks": ""
             }
            },
            "type": "scattergeo"
           }
          ],
          "scattergl": [
           {
            "marker": {
             "colorbar": {
              "outlinewidth": 0,
              "ticks": ""
             }
            },
            "type": "scattergl"
           }
          ],
          "scattermapbox": [
           {
            "marker": {
             "colorbar": {
              "outlinewidth": 0,
              "ticks": ""
             }
            },
            "type": "scattermapbox"
           }
          ],
          "scatterpolar": [
           {
            "marker": {
             "colorbar": {
              "outlinewidth": 0,
              "ticks": ""
             }
            },
            "type": "scatterpolar"
           }
          ],
          "scatterpolargl": [
           {
            "marker": {
             "colorbar": {
              "outlinewidth": 0,
              "ticks": ""
             }
            },
            "type": "scatterpolargl"
           }
          ],
          "scatterternary": [
           {
            "marker": {
             "colorbar": {
              "outlinewidth": 0,
              "ticks": ""
             }
            },
            "type": "scatterternary"
           }
          ],
          "surface": [
           {
            "colorbar": {
             "outlinewidth": 0,
             "ticks": ""
            },
            "colorscale": [
             [
              0,
              "#0d0887"
             ],
             [
              0.1111111111111111,
              "#46039f"
             ],
             [
              0.2222222222222222,
              "#7201a8"
             ],
             [
              0.3333333333333333,
              "#9c179e"
             ],
             [
              0.4444444444444444,
              "#bd3786"
             ],
             [
              0.5555555555555556,
              "#d8576b"
             ],
             [
              0.6666666666666666,
              "#ed7953"
             ],
             [
              0.7777777777777778,
              "#fb9f3a"
             ],
             [
              0.8888888888888888,
              "#fdca26"
             ],
             [
              1,
              "#f0f921"
             ]
            ],
            "type": "surface"
           }
          ],
          "table": [
           {
            "cells": {
             "fill": {
              "color": "#EBF0F8"
             },
             "line": {
              "color": "white"
             }
            },
            "header": {
             "fill": {
              "color": "#C8D4E3"
             },
             "line": {
              "color": "white"
             }
            },
            "type": "table"
           }
          ]
         },
         "layout": {
          "annotationdefaults": {
           "arrowcolor": "#2a3f5f",
           "arrowhead": 0,
           "arrowwidth": 1
          },
          "autotypenumbers": "strict",
          "coloraxis": {
           "colorbar": {
            "outlinewidth": 0,
            "ticks": ""
           }
          },
          "colorscale": {
           "diverging": [
            [
             0,
             "#8e0152"
            ],
            [
             0.1,
             "#c51b7d"
            ],
            [
             0.2,
             "#de77ae"
            ],
            [
             0.3,
             "#f1b6da"
            ],
            [
             0.4,
             "#fde0ef"
            ],
            [
             0.5,
             "#f7f7f7"
            ],
            [
             0.6,
             "#e6f5d0"
            ],
            [
             0.7,
             "#b8e186"
            ],
            [
             0.8,
             "#7fbc41"
            ],
            [
             0.9,
             "#4d9221"
            ],
            [
             1,
             "#276419"
            ]
           ],
           "sequential": [
            [
             0,
             "#0d0887"
            ],
            [
             0.1111111111111111,
             "#46039f"
            ],
            [
             0.2222222222222222,
             "#7201a8"
            ],
            [
             0.3333333333333333,
             "#9c179e"
            ],
            [
             0.4444444444444444,
             "#bd3786"
            ],
            [
             0.5555555555555556,
             "#d8576b"
            ],
            [
             0.6666666666666666,
             "#ed7953"
            ],
            [
             0.7777777777777778,
             "#fb9f3a"
            ],
            [
             0.8888888888888888,
             "#fdca26"
            ],
            [
             1,
             "#f0f921"
            ]
           ],
           "sequentialminus": [
            [
             0,
             "#0d0887"
            ],
            [
             0.1111111111111111,
             "#46039f"
            ],
            [
             0.2222222222222222,
             "#7201a8"
            ],
            [
             0.3333333333333333,
             "#9c179e"
            ],
            [
             0.4444444444444444,
             "#bd3786"
            ],
            [
             0.5555555555555556,
             "#d8576b"
            ],
            [
             0.6666666666666666,
             "#ed7953"
            ],
            [
             0.7777777777777778,
             "#fb9f3a"
            ],
            [
             0.8888888888888888,
             "#fdca26"
            ],
            [
             1,
             "#f0f921"
            ]
           ]
          },
          "colorway": [
           "#636efa",
           "#EF553B",
           "#00cc96",
           "#ab63fa",
           "#FFA15A",
           "#19d3f3",
           "#FF6692",
           "#B6E880",
           "#FF97FF",
           "#FECB52"
          ],
          "font": {
           "color": "#2a3f5f"
          },
          "geo": {
           "bgcolor": "white",
           "lakecolor": "white",
           "landcolor": "#E5ECF6",
           "showlakes": true,
           "showland": true,
           "subunitcolor": "white"
          },
          "hoverlabel": {
           "align": "left"
          },
          "hovermode": "closest",
          "mapbox": {
           "style": "light"
          },
          "paper_bgcolor": "white",
          "plot_bgcolor": "#E5ECF6",
          "polar": {
           "angularaxis": {
            "gridcolor": "white",
            "linecolor": "white",
            "ticks": ""
           },
           "bgcolor": "#E5ECF6",
           "radialaxis": {
            "gridcolor": "white",
            "linecolor": "white",
            "ticks": ""
           }
          },
          "scene": {
           "xaxis": {
            "backgroundcolor": "#E5ECF6",
            "gridcolor": "white",
            "gridwidth": 2,
            "linecolor": "white",
            "showbackground": true,
            "ticks": "",
            "zerolinecolor": "white"
           },
           "yaxis": {
            "backgroundcolor": "#E5ECF6",
            "gridcolor": "white",
            "gridwidth": 2,
            "linecolor": "white",
            "showbackground": true,
            "ticks": "",
            "zerolinecolor": "white"
           },
           "zaxis": {
            "backgroundcolor": "#E5ECF6",
            "gridcolor": "white",
            "gridwidth": 2,
            "linecolor": "white",
            "showbackground": true,
            "ticks": "",
            "zerolinecolor": "white"
           }
          },
          "shapedefaults": {
           "line": {
            "color": "#2a3f5f"
           }
          },
          "ternary": {
           "aaxis": {
            "gridcolor": "white",
            "linecolor": "white",
            "ticks": ""
           },
           "baxis": {
            "gridcolor": "white",
            "linecolor": "white",
            "ticks": ""
           },
           "bgcolor": "#E5ECF6",
           "caxis": {
            "gridcolor": "white",
            "linecolor": "white",
            "ticks": ""
           }
          },
          "title": {
           "x": 0.05
          },
          "xaxis": {
           "automargin": true,
           "gridcolor": "white",
           "linecolor": "white",
           "ticks": "",
           "title": {
            "standoff": 15
           },
           "zerolinecolor": "white",
           "zerolinewidth": 2
          },
          "yaxis": {
           "automargin": true,
           "gridcolor": "white",
           "linecolor": "white",
           "ticks": "",
           "title": {
            "standoff": 15
           },
           "zerolinecolor": "white",
           "zerolinewidth": 2
          }
         }
        },
        "title": {
         "font": {
          "color": "#2C3E50",
          "size": 24
         },
         "text": "<b>Panel de Control de Inventario</b>",
         "x": 0.5,
         "xanchor": "center",
         "y": 0.95,
         "yanchor": "top"
        }
       }
      }
     },
     "metadata": {},
     "output_type": "display_data"
    }
   ],
   "source": [
    "# [7] Visualización de KPIs con cards\n",
    "import plotly.graph_objects as go\n",
    "from plotly.subplots import make_subplots\n",
    "\n",
    "# Crear figura con subplots\n",
    "fig = make_subplots(\n",
    "    rows=1, cols=4,\n",
    "    subplot_titles=(\n",
    "        \"Total Productos\",\n",
    "        \"Stock Adecuado\",\n",
    "        \"Bajo Stock\",\n",
    "        \"Stock Total (kg)\"\n",
    "    ),\n",
    "    specs=[[{'type': 'domain'}, {'type': 'domain'}, {'type': 'domain'}, {'type': 'domain'}]]\n",
    ")\n",
    "\n",
    "# Definir colores\n",
    "colors = {\n",
    "    'title': '#2C3E50',  # Azul oscuro para títulos\n",
    "    'total': '#3498DB',  # Azul para total de productos\n",
    "    'good': '#2ECC71',   # Verde para stock adecuado\n",
    "    'bad': '#E74C3C',    # Rojo para bajo stock\n",
    "    'kg': '#F1C40F'      # Amarillo para total kg\n",
    "}\n",
    "\n",
    "# 1. Total de Productos\n",
    "fig.add_trace(go.Indicator(\n",
    "    mode=\"number\",\n",
    "    value=metricas['Total Productos'],\n",
    "    number={\n",
    "        \"font\": {\"size\": 50, \"color\": colors['total']},\n",
    "        \"valueformat\": \",\"\n",
    "    },\n",
    "    title={\n",
    "        \"text\": \"Total Productos<br><span style='font-size:0.8em;'>en inventario</span>\",\n",
    "        \"font\": {\"size\": 20, \"color\": colors['title']}\n",
    "    },\n",
    "    domain={'row': 0, 'column': 0}\n",
    "), row=1, col=1)\n",
    "\n",
    "# 2. Productos con Stock Adecuado\n",
    "fig.add_trace(go.Indicator(\n",
    "    mode=\"number\",\n",
    "    value=metricas['Stock Adecuado'],\n",
    "    number={\n",
    "        \"font\": {\"size\": 50, \"color\": colors['good']},\n",
    "        \"valueformat\": \",\"\n",
    "    },\n",
    "    title={\n",
    "        \"text\": \"Stock Adecuado<br><span style='font-size:0.8em;'>sobre el promedio</span>\",\n",
    "        \"font\": {\"size\": 20, \"color\": colors['title']}\n",
    "    },\n",
    "    domain={'row': 0, 'column': 1}\n",
    "), row=1, col=2)\n",
    "\n",
    "# 3. Productos Bajo Stock\n",
    "fig.add_trace(go.Indicator(\n",
    "    mode=\"number\",\n",
    "    value=metricas['Bajo Promedio'],\n",
    "    number={\n",
    "        \"font\": {\"size\": 50, \"color\": colors['bad']},\n",
    "        \"valueformat\": \",\"\n",
    "    },\n",
    "    title={\n",
    "        \"text\": \"Bajo Stock<br><span style='font-size:0.8em;'>bajo el promedio</span>\",\n",
    "        \"font\": {\"size\": 20, \"color\": colors['title']}\n",
    "    },\n",
    "    domain={'row': 0, 'column': 2}\n",
    "), row=1, col=3)\n",
    "\n",
    "# 4. Total Stock en KG\n",
    "fig.add_trace(go.Indicator(\n",
    "    mode=\"number\",\n",
    "    value=metricas['Total Stock (kg)'],\n",
    "    number={\n",
    "        \"font\": {\"size\": 50, \"color\": colors['kg']},\n",
    "        \"valueformat\": \",.1f\"\n",
    "    },\n",
    "    title={\n",
    "        \"text\": \"Stock Total<br><span style='font-size:0.8em;'>kilogramos</span>\",\n",
    "        \"font\": {\"size\": 20, \"color\": colors['title']}\n",
    "    },\n",
    "    domain={'row': 0, 'column': 3}\n",
    "), row=1, col=4)\n",
    "\n",
    "# Actualizar el layout\n",
    "fig.update_layout(\n",
    "    height=300,\n",
    "    showlegend=False,\n",
    "    margin=dict(t=120, b=20, l=20, r=20),\n",
    "    paper_bgcolor='white',\n",
    "    plot_bgcolor='white',\n",
    "    title=dict(\n",
    "        text=\"<b>Panel de Control de Inventario</b>\",\n",
    "        x=0.5,\n",
    "        y=0.95,\n",
    "        xanchor='center',\n",
    "        yanchor='top',\n",
    "        font=dict(size=24, color=colors['title'])\n",
    "    ),\n",
    "    grid=dict(rows=1, columns=4, pattern='independent'),\n",
    ")\n",
    "\n",
    "# Añadir sombras y bordes a las cards\n",
    "for annotation in fig.layout.annotations:\n",
    "    annotation.update(font=dict(size=16, color=colors['title']))\n",
    "\n",
    "fig.show()"
   ]
  },
  {
   "cell_type": "code",
   "execution_count": null,
   "id": "5202901a",
   "metadata": {},
   "outputs": [
    {
     "data": {
      "text/html": [
       "\n",
       "\n",
       "<style>\n",
       "    .alerta-critica {\n",
       "        background-color: #FFEBEE;\n",
       "        border: 2px solid #E57373;\n",
       "        border-radius: 8px;\n",
       "        padding: 20px;\n",
       "        margin: 20px 0;\n",
       "        box-shadow: 0 4px 6px rgba(0, 0, 0, 0.1);\n",
       "    }\n",
       "    .alerta-header {\n",
       "        display: flex;\n",
       "        align-items: center;\n",
       "        margin-bottom: 15px;\n",
       "        color: #D32F2F;\n",
       "    }\n",
       "    .alerta-icono {\n",
       "        font-size: 24px;\n",
       "        margin-right: 10px;\n",
       "    }\n",
       "    .alerta-titulo {\n",
       "        font-size: 20px;\n",
       "        font-weight: bold;\n",
       "        margin: 0;\n",
       "    }\n",
       "    .alerta-mensaje {\n",
       "        color: #555;\n",
       "        font-size: 16px;\n",
       "        margin: 0;\n",
       "    }\n",
       "    .productos-criticos {\n",
       "        margin-top: 15px;\n",
       "        padding-top: 15px;\n",
       "        border-top: 1px solid #FFCDD2;\n",
       "    }\n",
       "    .producto-item {\n",
       "        margin: 5px 0;\n",
       "        color: #555;\n",
       "    }\n",
       "</style>\n",
       "\n",
       "<div class=\"alerta-critica\">\n",
       "    <div class=\"alerta-header\">\n",
       "        <span class=\"alerta-icono\">⚠️</span>\n",
       "        <h2 class=\"alerta-titulo\">Alerta Crítica</h2>\n",
       "    </div>\n",
       "    <p class=\"alerta-mensaje\">\n",
       "        Hay <strong>30</strong> producto(s) con stock por debajo del promedio semanal de ventas.\n",
       "    </p>\n",
       "    <div class='productos-criticos'><strong>Productos más críticos:</strong><br><div class='producto-item'>• BONDIOLA: Stock 19.6 kg vs Promedio 547.2 kg (Déficit: 527.6 kg)</div><div class='producto-item'>• TOCINO PIANO SIN PIEL: Stock 10.8 kg vs Promedio 145.5 kg (Déficit: 134.7 kg)</div><div class='producto-item'>• BRAZO PULPO: Stock 51.7 kg vs Promedio 667.2 kg (Déficit: 615.5 kg)</div><div class='producto-item'>• CARNE MOLIDA: Stock 10.2 kg vs Promedio 120.2 kg (Déficit: 110.0 kg)</div><div class='producto-item'>• HUESO POROZO: Stock 54.8 kg vs Promedio 537.0 kg (Déficit: 482.2 kg)</div></div>\n",
       "</div>\n"
      ],
      "text/plain": [
       "<IPython.core.display.HTML object>"
      ]
     },
     "metadata": {},
     "output_type": "display_data"
    }
   ],
   "source": [
    "# [8] Alerta de Productos Críticos\n",
    "from IPython.display import display, HTML\n",
    "\n",
    "# Contar productos con bajo stock\n",
    "productos_bajos = len(analisis[analisis['Estado'] == 'Bajo Promedio'])\n",
    "\n",
    "# Crear HTML para la alerta\n",
    "alerta_style = \"\"\"\n",
    "<style>\n",
    "    .alerta-critica {\n",
    "        background-color: #FFEBEE;\n",
    "        border: 2px solid #E57373;\n",
    "        border-radius: 8px;\n",
    "        padding: 20px;\n",
    "        margin: 20px 0;\n",
    "        box-shadow: 0 4px 6px rgba(0, 0, 0, 0.1);\n",
    "    }\n",
    "    .alerta-header {\n",
    "        display: flex;\n",
    "        align-items: center;\n",
    "        margin-bottom: 15px;\n",
    "        color: #D32F2F;\n",
    "    }\n",
    "    .alerta-icono {\n",
    "        font-size: 24px;\n",
    "        margin-right: 10px;\n",
    "    }\n",
    "    .alerta-titulo {\n",
    "        font-size: 20px;\n",
    "        font-weight: bold;\n",
    "        margin: 0;\n",
    "    }\n",
    "    .alerta-mensaje {\n",
    "        color: #555;\n",
    "        font-size: 16px;\n",
    "        margin: 0;\n",
    "    }\n",
    "    .productos-criticos {\n",
    "        margin-top: 15px;\n",
    "        padding-top: 15px;\n",
    "        border-top: 1px solid #FFCDD2;\n",
    "    }\n",
    "    .producto-item {\n",
    "        margin: 5px 0;\n",
    "        color: #555;\n",
    "    }\n",
    "</style>\n",
    "\"\"\"\n",
    "\n",
    "# Calcular el ratio de cobertura (stock actual / promedio semanal)\n",
    "analisis_criticos = analisis[\n",
    "    (analisis['Promedio_Semanal'] > 0) & \n",
    "    (analisis['Stock_Actual'] < analisis['Promedio_Semanal'])\n",
    "].copy()\n",
    "analisis_criticos['Ratio_Cobertura'] = analisis_criticos['Stock_Actual'] / analisis_criticos['Promedio_Semanal']\n",
    "\n",
    "# Obtener los 5 productos más críticos (menor ratio de cobertura)\n",
    "productos_criticos = analisis_criticos.sort_values('Ratio_Cobertura').head(5)\n",
    "\n",
    "# Crear lista de productos críticos en HTML\n",
    "productos_html = \"\"\n",
    "if len(productos_criticos) > 0:\n",
    "    productos_html = \"<div class='productos-criticos'><strong>Productos más críticos:</strong><br>\"\n",
    "    for _, row in productos_criticos.iterrows():\n",
    "        deficit = row['Promedio_Semanal'] - row['Stock_Actual']\n",
    "        productos_html += f\"<div class='producto-item'>• {row['Producto']}: Stock {row['Stock_Actual']:.1f} kg vs Promedio {row['Promedio_Semanal']:.1f} kg (Déficit: {deficit:.1f} kg)</div>\"\n",
    "    productos_html += \"</div>\"\n",
    "\n",
    "alerta_html = f\"\"\"\n",
    "{alerta_style}\n",
    "<div class=\"alerta-critica\">\n",
    "    <div class=\"alerta-header\">\n",
    "        <span class=\"alerta-icono\">⚠️</span>\n",
    "        <h2 class=\"alerta-titulo\">Alerta Crítica</h2>\n",
    "    </div>\n",
    "    <p class=\"alerta-mensaje\">\n",
    "        Hay <strong>{productos_bajos}</strong> producto(s) con stock por debajo del promedio semanal de ventas.\n",
    "    </p>\n",
    "    {productos_html}\n",
    "</div>\n",
    "\"\"\"\n",
    "\n",
    "display(HTML(alerta_html))"
   ]
  },
  {
   "cell_type": "code",
   "execution_count": null,
   "id": "3cd1bf4b",
   "metadata": {},
   "outputs": [
    {
     "ename": "NameError",
     "evalue": "name 'productos_deficit' is not defined",
     "output_type": "error",
     "traceback": [
      "\u001b[1;31m---------------------------------------------------------------------------\u001b[0m",
      "\u001b[1;31mNameError\u001b[0m                                 Traceback (most recent call last)",
      "Cell \u001b[1;32mIn[29], line 5\u001b[0m\n\u001b[0;32m      2\u001b[0m \u001b[38;5;28;01mfrom\u001b[39;00m \u001b[38;5;21;01mplotly\u001b[39;00m\u001b[38;5;21;01m.\u001b[39;00m\u001b[38;5;21;01msubplots\u001b[39;00m \u001b[38;5;28;01mimport\u001b[39;00m make_subplots\n\u001b[0;32m      4\u001b[0m \u001b[38;5;66;03m# Calcular la diferencia entre stock actual y promedio\u001b[39;00m\n\u001b[1;32m----> 5\u001b[0m productos_deficit[\u001b[38;5;124m'\u001b[39m\u001b[38;5;124mDiferencia\u001b[39m\u001b[38;5;124m'\u001b[39m] \u001b[38;5;241m=\u001b[39m \u001b[43mproductos_deficit\u001b[49m[\u001b[38;5;124m'\u001b[39m\u001b[38;5;124mStock_Actual\u001b[39m\u001b[38;5;124m'\u001b[39m] \u001b[38;5;241m-\u001b[39m productos_deficit[\u001b[38;5;124m'\u001b[39m\u001b[38;5;124mPromedio_Semanal\u001b[39m\u001b[38;5;124m'\u001b[39m]\n\u001b[0;32m      7\u001b[0m \u001b[38;5;66;03m# Obtener los top 5 productos con mayor sobrestock y déficit\u001b[39;00m\n\u001b[0;32m      8\u001b[0m top_sobrestock \u001b[38;5;241m=\u001b[39m productos_deficit\u001b[38;5;241m.\u001b[39mnlargest(\u001b[38;5;241m5\u001b[39m, \u001b[38;5;124m'\u001b[39m\u001b[38;5;124mDiferencia\u001b[39m\u001b[38;5;124m'\u001b[39m)[[\u001b[38;5;124m'\u001b[39m\u001b[38;5;124mProducto\u001b[39m\u001b[38;5;124m'\u001b[39m, \u001b[38;5;124m'\u001b[39m\u001b[38;5;124mStock_Actual\u001b[39m\u001b[38;5;124m'\u001b[39m, \u001b[38;5;124m'\u001b[39m\u001b[38;5;124mPromedio_Semanal\u001b[39m\u001b[38;5;124m'\u001b[39m]]\n",
      "\u001b[1;31mNameError\u001b[0m: name 'productos_deficit' is not defined"
     ]
    }
   ],
   "source": [
    "import plotly.graph_objects as go\n",
    "from plotly.subplots import make_subplots\n",
    "\n",
    "# Calcular la diferencia entre stock actual y promedio\n",
    "productos_deficit['Diferencia'] = productos_deficit['Stock_Actual'] - productos_deficit['Promedio_Semanal']\n",
    "\n",
    "# Obtener los top 5 productos con mayor sobrestock y déficit\n",
    "top_sobrestock = productos_deficit.nlargest(5, 'Diferencia')[['Producto', 'Stock_Actual', 'Promedio_Semanal']]\n",
    "top_faltante = productos_deficit.nsmallest(5, 'Diferencia')[['Producto', 'Stock_Actual', 'Promedio_Semanal']]\n",
    "\n",
    "# Crear figura con dos subplots verticales\n",
    "fig = make_subplots(\n",
    "    rows=2, cols=1,\n",
    "    subplot_titles=(\n",
    "        \"Top 5 Productos con Mayor Sobrestock\",\n",
    "        \"Top 5 Productos con Mayor Faltante\"\n",
    "    ),\n",
    "    vertical_spacing=0.2\n",
    ")\n",
    "\n",
    "# Colores\n",
    "colors = {\n",
    "    'sobrestock': '#E74C3C',    # Rojo para sobrestock\n",
    "    'stock_normal': '#3498DB',   # Azul para stock normal/promedio\n",
    "    'deficit': '#E67E22',        # Naranja para déficit\n",
    "    'text': '#2C3E50'           # Azul oscuro para texto\n",
    "}\n",
    "\n",
    "# Función para agregar las trazas con transparencia\n",
    "def agregar_trazas(datos, row, showlegend=True):\n",
    "    # Primero agregamos el Stock Actual\n",
    "    for producto in datos['Producto']:\n",
    "        d = datos[datos['Producto'] == producto]\n",
    "        color = colors['sobrestock'] if d['Stock_Actual'].iloc[0] > d['Promedio_Semanal'].iloc[0] else colors['deficit']\n",
    "        fig.add_trace(\n",
    "            go.Bar(\n",
    "                name='Stock Actual',\n",
    "                x=[producto],\n",
    "                y=[d['Stock_Actual'].iloc[0]],\n",
    "                marker=dict(\n",
    "                    color=color,\n",
    "                    opacity=0.7  # Añadimos transparencia\n",
    "                ),\n",
    "                showlegend=(showlegend and producto == datos['Producto'].iloc[0])\n",
    "            ),\n",
    "            row=row, col=1\n",
    "        )\n",
    "    \n",
    "    # Luego agregamos el Promedio Semanal como línea con marcadores\n",
    "    fig.add_trace(\n",
    "        go.Scatter(\n",
    "            name='Promedio Semanal',\n",
    "            x=datos['Producto'],\n",
    "            y=datos['Promedio_Semanal'],\n",
    "            mode='lines+markers',\n",
    "            line=dict(\n",
    "                color=colors['stock_normal'],\n",
    "                width=3\n",
    "            ),\n",
    "            marker=dict(\n",
    "                size=10,\n",
    "                symbol='diamond'\n",
    "            ),\n",
    "            showlegend=showlegend\n",
    "        ),\n",
    "        row=row, col=1\n",
    "    )\n",
    "\n",
    "# Agregar las trazas para ambos subplots\n",
    "agregar_trazas(top_sobrestock, row=1, showlegend=True)\n",
    "agregar_trazas(top_faltante, row=2, showlegend=False)\n",
    "\n",
    "# Actualizar el diseño\n",
    "fig.update_layout(\n",
    "    height=800,\n",
    "    template='plotly_white',\n",
    "    barmode='overlay',\n",
    "    showlegend=True,\n",
    "    legend=dict(\n",
    "        orientation=\"h\",\n",
    "        yanchor=\"bottom\",\n",
    "        y=1.02,\n",
    "        xanchor=\"right\",\n",
    "        x=1\n",
    "    ),\n",
    "    font=dict(\n",
    "        family=\"Arial\",\n",
    "        size=12,\n",
    "        color=colors['text']\n",
    "    )\n",
    ")\n",
    "\n",
    "# Actualizar los ejes y agregar títulos\n",
    "for i in [1, 2]:\n",
    "    fig.update_xaxes(title_text=\"Producto\", row=i, col=1)\n",
    "    fig.update_yaxes(title_text=\"Cantidad\", row=i, col=1)\n",
    "\n",
    "fig.show()"
   ]
  },
  {
   "cell_type": "code",
   "execution_count": null,
   "id": "e28df04d",
   "metadata": {},
   "outputs": [
    {
     "data": {
      "application/vnd.plotly.v1+json": {
       "config": {
        "plotlyServerURL": "https://plot.ly"
       },
       "data": [
        {
         "marker": {
          "color": "#E74C3C"
         },
         "name": "Stock Actual",
         "opacity": 0.7,
         "showlegend": true,
         "type": "bar",
         "x": [
          "PUNTAS DE COSTILLA"
         ],
         "xaxis": "x",
         "y": [
          1180.65
         ],
         "yaxis": "y"
        },
        {
         "marker": {
          "color": "#3498DB",
          "line": {
           "color": "white",
           "width": 2
          },
          "size": 10,
          "symbol": "diamond"
         },
         "mode": "markers",
         "name": "Promedio Semanal",
         "showlegend": true,
         "type": "scatter",
         "x": [
          "PUNTAS DE COSTILLA"
         ],
         "xaxis": "x",
         "y": [
          475.75857954545455
         ],
         "yaxis": "y"
        },
        {
         "marker": {
          "color": "#E74C3C"
         },
         "name": "Stock Actual",
         "opacity": 0.7,
         "showlegend": false,
         "type": "bar",
         "x": [
          "CABEZA DE LOMO"
         ],
         "xaxis": "x",
         "y": [
          761.8
         ],
         "yaxis": "y"
        },
        {
         "marker": {
          "color": "#3498DB",
          "line": {
           "color": "white",
           "width": 2
          },
          "size": 10,
          "symbol": "diamond"
         },
         "mode": "markers",
         "name": "Promedio Semanal",
         "showlegend": false,
         "type": "scatter",
         "x": [
          "CABEZA DE LOMO"
         ],
         "xaxis": "x",
         "y": [
          214.10070075757574
         ],
         "yaxis": "y"
        },
        {
         "marker": {
          "color": "#E74C3C"
         },
         "name": "Stock Actual",
         "opacity": 0.7,
         "showlegend": false,
         "type": "bar",
         "x": [
          "PERNIL DESPOSTE "
         ],
         "xaxis": "x",
         "y": [
          507.25
         ],
         "yaxis": "y"
        },
        {
         "marker": {
          "color": "#3498DB",
          "line": {
           "color": "white",
           "width": 2
          },
          "size": 10,
          "symbol": "diamond"
         },
         "mode": "markers",
         "name": "Promedio Semanal",
         "showlegend": false,
         "type": "scatter",
         "x": [
          "PERNIL DESPOSTE "
         ],
         "xaxis": "x",
         "y": [
          0
         ],
         "yaxis": "y"
        },
        {
         "marker": {
          "color": "#E74C3C"
         },
         "name": "Stock Actual",
         "opacity": 0.7,
         "showlegend": false,
         "type": "bar",
         "x": [
          "CHULETA DE BRAZO"
         ],
         "xaxis": "x",
         "y": [
          560.7999999999998
         ],
         "yaxis": "y"
        },
        {
         "marker": {
          "color": "#3498DB",
          "line": {
           "color": "white",
           "width": 2
          },
          "size": 10,
          "symbol": "diamond"
         },
         "mode": "markers",
         "name": "Promedio Semanal",
         "showlegend": false,
         "type": "scatter",
         "x": [
          "CHULETA DE BRAZO"
         ],
         "xaxis": "x",
         "y": [
          191.54221969696968
         ],
         "yaxis": "y"
        },
        {
         "marker": {
          "color": "#E74C3C"
         },
         "name": "Stock Actual",
         "opacity": 0.7,
         "showlegend": false,
         "type": "bar",
         "x": [
          "Chorizo Ahumado x19 Unds"
         ],
         "xaxis": "x",
         "y": [
          471
         ],
         "yaxis": "y"
        },
        {
         "marker": {
          "color": "#3498DB",
          "line": {
           "color": "white",
           "width": 2
          },
          "size": 10,
          "symbol": "diamond"
         },
         "mode": "markers",
         "name": "Promedio Semanal",
         "showlegend": false,
         "type": "scatter",
         "x": [
          "Chorizo Ahumado x19 Unds"
         ],
         "xaxis": "x",
         "y": [
          103.9659090909091
         ],
         "yaxis": "y"
        },
        {
         "marker": {
          "color": "#E74C3C"
         },
         "name": "Stock Actual",
         "opacity": 0.7,
         "showlegend": false,
         "type": "bar",
         "x": [
          "BRAZO DESPOSTE "
         ],
         "xaxis": "x",
         "y": [
          210
         ],
         "yaxis": "y"
        },
        {
         "marker": {
          "color": "#3498DB",
          "line": {
           "color": "white",
           "width": 2
          },
          "size": 10,
          "symbol": "diamond"
         },
         "mode": "markers",
         "name": "Promedio Semanal",
         "showlegend": false,
         "type": "scatter",
         "x": [
          "BRAZO DESPOSTE "
         ],
         "xaxis": "x",
         "y": [
          0
         ],
         "yaxis": "y"
        },
        {
         "marker": {
          "color": "#E74C3C"
         },
         "name": "Stock Actual",
         "opacity": 0.7,
         "showlegend": false,
         "type": "bar",
         "x": [
          "COSTILLA BABY BACK"
         ],
         "xaxis": "x",
         "y": [
          436.54999999999995
         ],
         "yaxis": "y"
        },
        {
         "marker": {
          "color": "#3498DB",
          "line": {
           "color": "white",
           "width": 2
          },
          "size": 10,
          "symbol": "diamond"
         },
         "mode": "markers",
         "name": "Promedio Semanal",
         "showlegend": false,
         "type": "scatter",
         "x": [
          "COSTILLA BABY BACK"
         ],
         "xaxis": "x",
         "y": [
          238.45380681818182
         ],
         "yaxis": "y"
        },
        {
         "marker": {
          "color": "#E74C3C"
         },
         "name": "Stock Actual",
         "opacity": 0.7,
         "showlegend": false,
         "type": "bar",
         "x": [
          "GOULASH ESPECIAL"
         ],
         "xaxis": "x",
         "y": [
          267.25
         ],
         "yaxis": "y"
        },
        {
         "marker": {
          "color": "#3498DB",
          "line": {
           "color": "white",
           "width": 2
          },
          "size": 10,
          "symbol": "diamond"
         },
         "mode": "markers",
         "name": "Promedio Semanal",
         "showlegend": false,
         "type": "scatter",
         "x": [
          "GOULASH ESPECIAL"
         ],
         "xaxis": "x",
         "y": [
          83.89181818181818
         ],
         "yaxis": "y"
        },
        {
         "marker": {
          "color": "#E74C3C"
         },
         "name": "Stock Actual",
         "opacity": 0.7,
         "showlegend": false,
         "type": "bar",
         "x": [
          "COSTILLA INDUSTRIAL"
         ],
         "xaxis": "x",
         "y": [
          190.85
         ],
         "yaxis": "y"
        },
        {
         "marker": {
          "color": "#3498DB",
          "line": {
           "color": "white",
           "width": 2
          },
          "size": 10,
          "symbol": "diamond"
         },
         "mode": "markers",
         "name": "Promedio Semanal",
         "showlegend": false,
         "type": "scatter",
         "x": [
          "COSTILLA INDUSTRIAL"
         ],
         "xaxis": "x",
         "y": [
          11.496969696969698
         ],
         "yaxis": "y"
        },
        {
         "marker": {
          "color": "#E74C3C"
         },
         "name": "Stock Actual",
         "opacity": 0.7,
         "showlegend": false,
         "type": "bar",
         "x": [
          "ASERRIN"
         ],
         "xaxis": "x",
         "y": [
          156.6
         ],
         "yaxis": "y"
        },
        {
         "marker": {
          "color": "#3498DB",
          "line": {
           "color": "white",
           "width": 2
          },
          "size": 10,
          "symbol": "diamond"
         },
         "mode": "markers",
         "name": "Promedio Semanal",
         "showlegend": false,
         "type": "scatter",
         "x": [
          "ASERRIN"
         ],
         "xaxis": "x",
         "y": [
          35.1148106060606
         ],
         "yaxis": "y"
        },
        {
         "marker": {
          "color": "#E67E22"
         },
         "name": "Stock Actual",
         "opacity": 0.7,
         "showlegend": false,
         "type": "bar",
         "x": [
          "MILANESA DE PIERNA"
         ],
         "xaxis": "x2",
         "y": [
          689.65
         ],
         "yaxis": "y2"
        },
        {
         "marker": {
          "color": "#3498DB",
          "line": {
           "color": "white",
           "width": 2
          },
          "size": 10,
          "symbol": "diamond"
         },
         "mode": "markers",
         "name": "Promedio Semanal",
         "showlegend": false,
         "type": "scatter",
         "x": [
          "MILANESA DE PIERNA"
         ],
         "xaxis": "x2",
         "y": [
          3248.3494696969697
         ],
         "yaxis": "y2"
        },
        {
         "marker": {
          "color": "#E67E22"
         },
         "name": "Stock Actual",
         "opacity": 0.7,
         "showlegend": false,
         "type": "bar",
         "x": [
          "CABEZA"
         ],
         "xaxis": "x2",
         "y": [
          211.8
         ],
         "yaxis": "y2"
        },
        {
         "marker": {
          "color": "#3498DB",
          "line": {
           "color": "white",
           "width": 2
          },
          "size": 10,
          "symbol": "diamond"
         },
         "mode": "markers",
         "name": "Promedio Semanal",
         "showlegend": false,
         "type": "scatter",
         "x": [
          "CABEZA"
         ],
         "xaxis": "x2",
         "y": [
          837.0878409090908
         ],
         "yaxis": "y2"
        },
        {
         "marker": {
          "color": "#E67E22"
         },
         "name": "Stock Actual",
         "opacity": 0.7,
         "showlegend": false,
         "type": "bar",
         "x": [
          "BRAZO PULPO"
         ],
         "xaxis": "x2",
         "y": [
          51.68
         ],
         "yaxis": "y2"
        },
        {
         "marker": {
          "color": "#3498DB",
          "line": {
           "color": "white",
           "width": 2
          },
          "size": 10,
          "symbol": "diamond"
         },
         "mode": "markers",
         "name": "Promedio Semanal",
         "showlegend": false,
         "type": "scatter",
         "x": [
          "BRAZO PULPO"
         ],
         "xaxis": "x2",
         "y": [
          667.2000946969696
         ],
         "yaxis": "y2"
        },
        {
         "marker": {
          "color": "#E67E22"
         },
         "name": "Stock Actual",
         "opacity": 0.7,
         "showlegend": false,
         "type": "bar",
         "x": [
          "LOMO ALMENDRA"
         ],
         "xaxis": "x2",
         "y": [
          179.25000000000003
         ],
         "yaxis": "y2"
        },
        {
         "marker": {
          "color": "#3498DB",
          "line": {
           "color": "white",
           "width": 2
          },
          "size": 10,
          "symbol": "diamond"
         },
         "mode": "markers",
         "name": "Promedio Semanal",
         "showlegend": false,
         "type": "scatter",
         "x": [
          "LOMO ALMENDRA"
         ],
         "xaxis": "x2",
         "y": [
          778.7857954545455
         ],
         "yaxis": "y2"
        },
        {
         "marker": {
          "color": "#E67E22"
         },
         "name": "Stock Actual",
         "opacity": 0.7,
         "showlegend": false,
         "type": "bar",
         "x": [
          "TOCINO CORRIENTE"
         ],
         "xaxis": "x2",
         "y": [
          111.4
         ],
         "yaxis": "y2"
        },
        {
         "marker": {
          "color": "#3498DB",
          "line": {
           "color": "white",
           "width": 2
          },
          "size": 10,
          "symbol": "diamond"
         },
         "mode": "markers",
         "name": "Promedio Semanal",
         "showlegend": false,
         "type": "scatter",
         "x": [
          "TOCINO CORRIENTE"
         ],
         "xaxis": "x2",
         "y": [
          687.672840909091
         ],
         "yaxis": "y2"
        },
        {
         "marker": {
          "color": "#E67E22"
         },
         "name": "Stock Actual",
         "opacity": 0.7,
         "showlegend": false,
         "type": "bar",
         "x": [
          "BONDIOLA"
         ],
         "xaxis": "x2",
         "y": [
          19.6
         ],
         "yaxis": "y2"
        },
        {
         "marker": {
          "color": "#3498DB",
          "line": {
           "color": "white",
           "width": 2
          },
          "size": 10,
          "symbol": "diamond"
         },
         "mode": "markers",
         "name": "Promedio Semanal",
         "showlegend": false,
         "type": "scatter",
         "x": [
          "BONDIOLA"
         ],
         "xaxis": "x2",
         "y": [
          547.175946969697
         ],
         "yaxis": "y2"
        },
        {
         "marker": {
          "color": "#E67E22"
         },
         "name": "Stock Actual",
         "opacity": 0.7,
         "showlegend": false,
         "type": "bar",
         "x": [
          "COSTILLA SAN LUIS"
         ],
         "xaxis": "x2",
         "y": [
          180.45000000000002
         ],
         "yaxis": "y2"
        },
        {
         "marker": {
          "color": "#3498DB",
          "line": {
           "color": "white",
           "width": 2
          },
          "size": 10,
          "symbol": "diamond"
         },
         "mode": "markers",
         "name": "Promedio Semanal",
         "showlegend": false,
         "type": "scatter",
         "x": [
          "COSTILLA SAN LUIS"
         ],
         "xaxis": "x2",
         "y": [
          688.1233598484848
         ],
         "yaxis": "y2"
        },
        {
         "marker": {
          "color": "#E67E22"
         },
         "name": "Stock Actual",
         "opacity": 0.7,
         "showlegend": false,
         "type": "bar",
         "x": [
          "HUESO POROZO"
         ],
         "xaxis": "x2",
         "y": [
          54.8
         ],
         "yaxis": "y2"
        },
        {
         "marker": {
          "color": "#3498DB",
          "line": {
           "color": "white",
           "width": 2
          },
          "size": 10,
          "symbol": "diamond"
         },
         "mode": "markers",
         "name": "Promedio Semanal",
         "showlegend": false,
         "type": "scatter",
         "x": [
          "HUESO POROZO"
         ],
         "xaxis": "x2",
         "y": [
          537.013087121212
         ],
         "yaxis": "y2"
        },
        {
         "marker": {
          "color": "#E67E22"
         },
         "name": "Stock Actual",
         "opacity": 0.7,
         "showlegend": false,
         "type": "bar",
         "x": [
          "TOCINO DORSAL"
         ],
         "xaxis": "x2",
         "y": [
          68.25
         ],
         "yaxis": "y2"
        },
        {
         "marker": {
          "color": "#3498DB",
          "line": {
           "color": "white",
           "width": 2
          },
          "size": 10,
          "symbol": "diamond"
         },
         "mode": "markers",
         "name": "Promedio Semanal",
         "showlegend": false,
         "type": "scatter",
         "x": [
          "TOCINO DORSAL"
         ],
         "xaxis": "x2",
         "y": [
          438.98087121212114
         ],
         "yaxis": "y2"
        },
        {
         "marker": {
          "color": "#E67E22"
         },
         "name": "Stock Actual",
         "opacity": 0.7,
         "showlegend": false,
         "type": "bar",
         "x": [
          "PLANCHA"
         ],
         "xaxis": "x2",
         "y": [
          163.84999999999997
         ],
         "yaxis": "y2"
        },
        {
         "marker": {
          "color": "#3498DB",
          "line": {
           "color": "white",
           "width": 2
          },
          "size": 10,
          "symbol": "diamond"
         },
         "mode": "markers",
         "name": "Promedio Semanal",
         "showlegend": false,
         "type": "scatter",
         "x": [
          "PLANCHA"
         ],
         "xaxis": "x2",
         "y": [
          532.5131742424242
         ],
         "yaxis": "y2"
        },
        {
         "domain": {
          "x": [
           0,
           0.45
          ],
          "y": [
           0,
           0.42
          ]
         },
         "hole": 0.4,
         "labels": [
          "Bajo Promedio",
          "Stock Adecuado"
         ],
         "marker": {
          "colors": [
           "#E74C3C",
           "#3498DB"
          ]
         },
         "showlegend": false,
         "textinfo": "percent+label",
         "textposition": "outside",
         "type": "pie",
         "values": [
          30,
          25
         ]
        },
        {
         "marker": {
          "color": "#3498DB"
         },
         "name": "Número de Ventas",
         "showlegend": false,
         "type": "bar",
         "x": [
          "PLANCHA",
          "LOMO ALMENDRA",
          "CHULETA DE BRAZO",
          "PUNTAS DE COSTILLA",
          "BRAZO PULPO",
          "BONDIOLA",
          "MILANESA CERDO X KILO",
          "COSTILLA SAN LUIS",
          "COSTILLA BABY BACK",
          "CARNE MOLIDA"
         ],
         "xaxis": "x3",
         "y": [
          881,
          829,
          709,
          671,
          671,
          614,
          568,
          455,
          363,
          325
         ],
         "yaxis": "y3"
        }
       ],
       "layout": {
        "annotations": [
         {
          "font": {
           "size": 16
          },
          "showarrow": false,
          "text": "Top 10 Productos con Mayor Sobrestock",
          "x": 0.225,
          "xanchor": "center",
          "xref": "paper",
          "y": 1,
          "yanchor": "bottom",
          "yref": "paper"
         },
         {
          "font": {
           "size": 16
          },
          "showarrow": false,
          "text": "Top 10 Productos con Mayor Faltante",
          "x": 0.775,
          "xanchor": "center",
          "xref": "paper",
          "y": 1,
          "yanchor": "bottom",
          "yref": "paper"
         },
         {
          "font": {
           "size": 16
          },
          "showarrow": false,
          "text": "Distribución del Estado de Inventario",
          "x": 0.225,
          "xanchor": "center",
          "xref": "paper",
          "y": 0.42,
          "yanchor": "bottom",
          "yref": "paper"
         },
         {
          "font": {
           "size": 16
          },
          "showarrow": false,
          "text": "Productos con Mayor Rotación",
          "x": 0.775,
          "xanchor": "center",
          "xref": "paper",
          "y": 0.42,
          "yanchor": "bottom",
          "yref": "paper"
         }
        ],
        "font": {
         "color": "#2C3E50",
         "family": "Arial",
         "size": 12
        },
        "height": 1000,
        "legend": {
         "orientation": "h",
         "x": 1,
         "xanchor": "right",
         "y": 1.02,
         "yanchor": "bottom"
        },
        "margin": {
         "b": 20,
         "l": 20,
         "r": 20,
         "t": 120
        },
        "showlegend": true,
        "template": {
         "data": {
          "bar": [
           {
            "error_x": {
             "color": "#2a3f5f"
            },
            "error_y": {
             "color": "#2a3f5f"
            },
            "marker": {
             "line": {
              "color": "white",
              "width": 0.5
             },
             "pattern": {
              "fillmode": "overlay",
              "size": 10,
              "solidity": 0.2
             }
            },
            "type": "bar"
           }
          ],
          "barpolar": [
           {
            "marker": {
             "line": {
              "color": "white",
              "width": 0.5
             },
             "pattern": {
              "fillmode": "overlay",
              "size": 10,
              "solidity": 0.2
             }
            },
            "type": "barpolar"
           }
          ],
          "carpet": [
           {
            "aaxis": {
             "endlinecolor": "#2a3f5f",
             "gridcolor": "#C8D4E3",
             "linecolor": "#C8D4E3",
             "minorgridcolor": "#C8D4E3",
             "startlinecolor": "#2a3f5f"
            },
            "baxis": {
             "endlinecolor": "#2a3f5f",
             "gridcolor": "#C8D4E3",
             "linecolor": "#C8D4E3",
             "minorgridcolor": "#C8D4E3",
             "startlinecolor": "#2a3f5f"
            },
            "type": "carpet"
           }
          ],
          "choropleth": [
           {
            "colorbar": {
             "outlinewidth": 0,
             "ticks": ""
            },
            "type": "choropleth"
           }
          ],
          "contour": [
           {
            "colorbar": {
             "outlinewidth": 0,
             "ticks": ""
            },
            "colorscale": [
             [
              0,
              "#0d0887"
             ],
             [
              0.1111111111111111,
              "#46039f"
             ],
             [
              0.2222222222222222,
              "#7201a8"
             ],
             [
              0.3333333333333333,
              "#9c179e"
             ],
             [
              0.4444444444444444,
              "#bd3786"
             ],
             [
              0.5555555555555556,
              "#d8576b"
             ],
             [
              0.6666666666666666,
              "#ed7953"
             ],
             [
              0.7777777777777778,
              "#fb9f3a"
             ],
             [
              0.8888888888888888,
              "#fdca26"
             ],
             [
              1,
              "#f0f921"
             ]
            ],
            "type": "contour"
           }
          ],
          "contourcarpet": [
           {
            "colorbar": {
             "outlinewidth": 0,
             "ticks": ""
            },
            "type": "contourcarpet"
           }
          ],
          "heatmap": [
           {
            "colorbar": {
             "outlinewidth": 0,
             "ticks": ""
            },
            "colorscale": [
             [
              0,
              "#0d0887"
             ],
             [
              0.1111111111111111,
              "#46039f"
             ],
             [
              0.2222222222222222,
              "#7201a8"
             ],
             [
              0.3333333333333333,
              "#9c179e"
             ],
             [
              0.4444444444444444,
              "#bd3786"
             ],
             [
              0.5555555555555556,
              "#d8576b"
             ],
             [
              0.6666666666666666,
              "#ed7953"
             ],
             [
              0.7777777777777778,
              "#fb9f3a"
             ],
             [
              0.8888888888888888,
              "#fdca26"
             ],
             [
              1,
              "#f0f921"
             ]
            ],
            "type": "heatmap"
           }
          ],
          "heatmapgl": [
           {
            "colorbar": {
             "outlinewidth": 0,
             "ticks": ""
            },
            "colorscale": [
             [
              0,
              "#0d0887"
             ],
             [
              0.1111111111111111,
              "#46039f"
             ],
             [
              0.2222222222222222,
              "#7201a8"
             ],
             [
              0.3333333333333333,
              "#9c179e"
             ],
             [
              0.4444444444444444,
              "#bd3786"
             ],
             [
              0.5555555555555556,
              "#d8576b"
             ],
             [
              0.6666666666666666,
              "#ed7953"
             ],
             [
              0.7777777777777778,
              "#fb9f3a"
             ],
             [
              0.8888888888888888,
              "#fdca26"
             ],
             [
              1,
              "#f0f921"
             ]
            ],
            "type": "heatmapgl"
           }
          ],
          "histogram": [
           {
            "marker": {
             "pattern": {
              "fillmode": "overlay",
              "size": 10,
              "solidity": 0.2
             }
            },
            "type": "histogram"
           }
          ],
          "histogram2d": [
           {
            "colorbar": {
             "outlinewidth": 0,
             "ticks": ""
            },
            "colorscale": [
             [
              0,
              "#0d0887"
             ],
             [
              0.1111111111111111,
              "#46039f"
             ],
             [
              0.2222222222222222,
              "#7201a8"
             ],
             [
              0.3333333333333333,
              "#9c179e"
             ],
             [
              0.4444444444444444,
              "#bd3786"
             ],
             [
              0.5555555555555556,
              "#d8576b"
             ],
             [
              0.6666666666666666,
              "#ed7953"
             ],
             [
              0.7777777777777778,
              "#fb9f3a"
             ],
             [
              0.8888888888888888,
              "#fdca26"
             ],
             [
              1,
              "#f0f921"
             ]
            ],
            "type": "histogram2d"
           }
          ],
          "histogram2dcontour": [
           {
            "colorbar": {
             "outlinewidth": 0,
             "ticks": ""
            },
            "colorscale": [
             [
              0,
              "#0d0887"
             ],
             [
              0.1111111111111111,
              "#46039f"
             ],
             [
              0.2222222222222222,
              "#7201a8"
             ],
             [
              0.3333333333333333,
              "#9c179e"
             ],
             [
              0.4444444444444444,
              "#bd3786"
             ],
             [
              0.5555555555555556,
              "#d8576b"
             ],
             [
              0.6666666666666666,
              "#ed7953"
             ],
             [
              0.7777777777777778,
              "#fb9f3a"
             ],
             [
              0.8888888888888888,
              "#fdca26"
             ],
             [
              1,
              "#f0f921"
             ]
            ],
            "type": "histogram2dcontour"
           }
          ],
          "mesh3d": [
           {
            "colorbar": {
             "outlinewidth": 0,
             "ticks": ""
            },
            "type": "mesh3d"
           }
          ],
          "parcoords": [
           {
            "line": {
             "colorbar": {
              "outlinewidth": 0,
              "ticks": ""
             }
            },
            "type": "parcoords"
           }
          ],
          "pie": [
           {
            "automargin": true,
            "type": "pie"
           }
          ],
          "scatter": [
           {
            "fillpattern": {
             "fillmode": "overlay",
             "size": 10,
             "solidity": 0.2
            },
            "type": "scatter"
           }
          ],
          "scatter3d": [
           {
            "line": {
             "colorbar": {
              "outlinewidth": 0,
              "ticks": ""
             }
            },
            "marker": {
             "colorbar": {
              "outlinewidth": 0,
              "ticks": ""
             }
            },
            "type": "scatter3d"
           }
          ],
          "scattercarpet": [
           {
            "marker": {
             "colorbar": {
              "outlinewidth": 0,
              "ticks": ""
             }
            },
            "type": "scattercarpet"
           }
          ],
          "scattergeo": [
           {
            "marker": {
             "colorbar": {
              "outlinewidth": 0,
              "ticks": ""
             }
            },
            "type": "scattergeo"
           }
          ],
          "scattergl": [
           {
            "marker": {
             "colorbar": {
              "outlinewidth": 0,
              "ticks": ""
             }
            },
            "type": "scattergl"
           }
          ],
          "scattermapbox": [
           {
            "marker": {
             "colorbar": {
              "outlinewidth": 0,
              "ticks": ""
             }
            },
            "type": "scattermapbox"
           }
          ],
          "scatterpolar": [
           {
            "marker": {
             "colorbar": {
              "outlinewidth": 0,
              "ticks": ""
             }
            },
            "type": "scatterpolar"
           }
          ],
          "scatterpolargl": [
           {
            "marker": {
             "colorbar": {
              "outlinewidth": 0,
              "ticks": ""
             }
            },
            "type": "scatterpolargl"
           }
          ],
          "scatterternary": [
           {
            "marker": {
             "colorbar": {
              "outlinewidth": 0,
              "ticks": ""
             }
            },
            "type": "scatterternary"
           }
          ],
          "surface": [
           {
            "colorbar": {
             "outlinewidth": 0,
             "ticks": ""
            },
            "colorscale": [
             [
              0,
              "#0d0887"
             ],
             [
              0.1111111111111111,
              "#46039f"
             ],
             [
              0.2222222222222222,
              "#7201a8"
             ],
             [
              0.3333333333333333,
              "#9c179e"
             ],
             [
              0.4444444444444444,
              "#bd3786"
             ],
             [
              0.5555555555555556,
              "#d8576b"
             ],
             [
              0.6666666666666666,
              "#ed7953"
             ],
             [
              0.7777777777777778,
              "#fb9f3a"
             ],
             [
              0.8888888888888888,
              "#fdca26"
             ],
             [
              1,
              "#f0f921"
             ]
            ],
            "type": "surface"
           }
          ],
          "table": [
           {
            "cells": {
             "fill": {
              "color": "#EBF0F8"
             },
             "line": {
              "color": "white"
             }
            },
            "header": {
             "fill": {
              "color": "#C8D4E3"
             },
             "line": {
              "color": "white"
             }
            },
            "type": "table"
           }
          ]
         },
         "layout": {
          "annotationdefaults": {
           "arrowcolor": "#2a3f5f",
           "arrowhead": 0,
           "arrowwidth": 1
          },
          "autotypenumbers": "strict",
          "coloraxis": {
           "colorbar": {
            "outlinewidth": 0,
            "ticks": ""
           }
          },
          "colorscale": {
           "diverging": [
            [
             0,
             "#8e0152"
            ],
            [
             0.1,
             "#c51b7d"
            ],
            [
             0.2,
             "#de77ae"
            ],
            [
             0.3,
             "#f1b6da"
            ],
            [
             0.4,
             "#fde0ef"
            ],
            [
             0.5,
             "#f7f7f7"
            ],
            [
             0.6,
             "#e6f5d0"
            ],
            [
             0.7,
             "#b8e186"
            ],
            [
             0.8,
             "#7fbc41"
            ],
            [
             0.9,
             "#4d9221"
            ],
            [
             1,
             "#276419"
            ]
           ],
           "sequential": [
            [
             0,
             "#0d0887"
            ],
            [
             0.1111111111111111,
             "#46039f"
            ],
            [
             0.2222222222222222,
             "#7201a8"
            ],
            [
             0.3333333333333333,
             "#9c179e"
            ],
            [
             0.4444444444444444,
             "#bd3786"
            ],
            [
             0.5555555555555556,
             "#d8576b"
            ],
            [
             0.6666666666666666,
             "#ed7953"
            ],
            [
             0.7777777777777778,
             "#fb9f3a"
            ],
            [
             0.8888888888888888,
             "#fdca26"
            ],
            [
             1,
             "#f0f921"
            ]
           ],
           "sequentialminus": [
            [
             0,
             "#0d0887"
            ],
            [
             0.1111111111111111,
             "#46039f"
            ],
            [
             0.2222222222222222,
             "#7201a8"
            ],
            [
             0.3333333333333333,
             "#9c179e"
            ],
            [
             0.4444444444444444,
             "#bd3786"
            ],
            [
             0.5555555555555556,
             "#d8576b"
            ],
            [
             0.6666666666666666,
             "#ed7953"
            ],
            [
             0.7777777777777778,
             "#fb9f3a"
            ],
            [
             0.8888888888888888,
             "#fdca26"
            ],
            [
             1,
             "#f0f921"
            ]
           ]
          },
          "colorway": [
           "#636efa",
           "#EF553B",
           "#00cc96",
           "#ab63fa",
           "#FFA15A",
           "#19d3f3",
           "#FF6692",
           "#B6E880",
           "#FF97FF",
           "#FECB52"
          ],
          "font": {
           "color": "#2a3f5f"
          },
          "geo": {
           "bgcolor": "white",
           "lakecolor": "white",
           "landcolor": "white",
           "showlakes": true,
           "showland": true,
           "subunitcolor": "#C8D4E3"
          },
          "hoverlabel": {
           "align": "left"
          },
          "hovermode": "closest",
          "mapbox": {
           "style": "light"
          },
          "paper_bgcolor": "white",
          "plot_bgcolor": "white",
          "polar": {
           "angularaxis": {
            "gridcolor": "#EBF0F8",
            "linecolor": "#EBF0F8",
            "ticks": ""
           },
           "bgcolor": "white",
           "radialaxis": {
            "gridcolor": "#EBF0F8",
            "linecolor": "#EBF0F8",
            "ticks": ""
           }
          },
          "scene": {
           "xaxis": {
            "backgroundcolor": "white",
            "gridcolor": "#DFE8F3",
            "gridwidth": 2,
            "linecolor": "#EBF0F8",
            "showbackground": true,
            "ticks": "",
            "zerolinecolor": "#EBF0F8"
           },
           "yaxis": {
            "backgroundcolor": "white",
            "gridcolor": "#DFE8F3",
            "gridwidth": 2,
            "linecolor": "#EBF0F8",
            "showbackground": true,
            "ticks": "",
            "zerolinecolor": "#EBF0F8"
           },
           "zaxis": {
            "backgroundcolor": "white",
            "gridcolor": "#DFE8F3",
            "gridwidth": 2,
            "linecolor": "#EBF0F8",
            "showbackground": true,
            "ticks": "",
            "zerolinecolor": "#EBF0F8"
           }
          },
          "shapedefaults": {
           "line": {
            "color": "#2a3f5f"
           }
          },
          "ternary": {
           "aaxis": {
            "gridcolor": "#DFE8F3",
            "linecolor": "#A2B1C6",
            "ticks": ""
           },
           "baxis": {
            "gridcolor": "#DFE8F3",
            "linecolor": "#A2B1C6",
            "ticks": ""
           },
           "bgcolor": "white",
           "caxis": {
            "gridcolor": "#DFE8F3",
            "linecolor": "#A2B1C6",
            "ticks": ""
           }
          },
          "title": {
           "x": 0.05
          },
          "xaxis": {
           "automargin": true,
           "gridcolor": "#EBF0F8",
           "linecolor": "#EBF0F8",
           "ticks": "",
           "title": {
            "standoff": 15
           },
           "zerolinecolor": "#EBF0F8",
           "zerolinewidth": 2
          },
          "yaxis": {
           "automargin": true,
           "gridcolor": "#EBF0F8",
           "linecolor": "#EBF0F8",
           "ticks": "",
           "title": {
            "standoff": 15
           },
           "zerolinecolor": "#EBF0F8",
           "zerolinewidth": 2
          }
         }
        },
        "title": {
         "font": {
          "color": "#2C3E50",
          "size": 24
         },
         "text": "<b>Dashboard de Control de Inventario</b>",
         "x": 0.5,
         "xanchor": "center",
         "y": 0.98,
         "yanchor": "top"
        },
        "xaxis": {
         "anchor": "y",
         "domain": [
          0,
          0.45
         ],
         "tickangle": 45,
         "title": {
          "text": "Producto"
         }
        },
        "xaxis2": {
         "anchor": "y2",
         "domain": [
          0.55,
          1
         ],
         "tickangle": 45,
         "title": {
          "text": "Producto"
         }
        },
        "xaxis3": {
         "anchor": "y3",
         "domain": [
          0.55,
          1
         ],
         "tickangle": 45,
         "title": {
          "text": "Producto"
         }
        },
        "yaxis": {
         "anchor": "x",
         "domain": [
          0.58,
          1
         ],
         "title": {
          "text": "Cantidad (kg)"
         }
        },
        "yaxis2": {
         "anchor": "x2",
         "domain": [
          0.58,
          1
         ],
         "title": {
          "text": "Cantidad (kg)"
         }
        },
        "yaxis3": {
         "anchor": "x3",
         "domain": [
          0,
          0.42
         ],
         "title": {
          "text": "Número de Ventas"
         }
        }
       }
      }
     },
     "metadata": {},
     "output_type": "display_data"
    }
   ],
   "source": [
    "import plotly.graph_objects as go\n",
    "from plotly.subplots import make_subplots\n",
    "\n",
    "# 1. Distribución del Stock vs Promedio\n",
    "fig_distribucion = make_subplots(\n",
    "    rows=2, cols=2,\n",
    "    subplot_titles=(\n",
    "        \"Top 10 Productos con Mayor Sobrestock\",\n",
    "        \"Top 10 Productos con Mayor Faltante\",\n",
    "        \"Distribución del Estado de Inventario\",\n",
    "        \"Productos con Mayor Rotación\"\n",
    "    ),\n",
    "    vertical_spacing=0.16,\n",
    "    horizontal_spacing=0.1,\n",
    "    specs=[\n",
    "        [{\"type\": \"bar\"}, {\"type\": \"bar\"}],\n",
    "        [{\"type\": \"pie\"}, {\"type\": \"bar\"}]\n",
    "    ]\n",
    ")\n",
    "\n",
    "# Colores consistentes para todo el dashboard\n",
    "colors = {\n",
    "    'sobrestock': '#E74C3C',    # Rojo para sobrestock\n",
    "    'stock_normal': '#3498DB',   # Azul para stock normal\n",
    "    'deficit': '#E67E22',       # Naranja para déficit\n",
    "    'text': '#2C3E50',         # Azul oscuro para texto\n",
    "    'background': '#ECF0F1'    # Gris claro para fondo\n",
    "}\n",
    "\n",
    "# Preparar datos\n",
    "analisis['Diferencia'] = analisis['Stock_Actual'] - analisis['Promedio_Semanal']\n",
    "top_sobrestock = analisis.nlargest(10, 'Diferencia')\n",
    "top_deficit = analisis.nsmallest(10, 'Diferencia')\n",
    "\n",
    "# 1. Gráfico de Sobrestock (Top 10)\n",
    "for producto in top_sobrestock['Producto']:\n",
    "    datos = top_sobrestock[top_sobrestock['Producto'] == producto]\n",
    "    # Barra de Stock Actual\n",
    "    fig_distribucion.add_trace(\n",
    "        go.Bar(\n",
    "            name='Stock Actual',\n",
    "            x=[producto],\n",
    "            y=[datos['Stock_Actual'].iloc[0]],\n",
    "            marker_color=colors['sobrestock'],\n",
    "            opacity=0.7,\n",
    "            showlegend=(producto == top_sobrestock['Producto'].iloc[0])\n",
    "        ),\n",
    "        row=1, col=1\n",
    "    )\n",
    "    # Línea de Promedio\n",
    "    fig_distribucion.add_trace(\n",
    "        go.Scatter(\n",
    "            name='Promedio Semanal',\n",
    "            x=[producto],\n",
    "            y=[datos['Promedio_Semanal'].iloc[0]],\n",
    "            mode='markers',\n",
    "            marker=dict(\n",
    "                symbol='diamond',\n",
    "                size=10,\n",
    "                color=colors['stock_normal'],\n",
    "                line=dict(width=2, color='white')\n",
    "            ),\n",
    "            showlegend=(producto == top_sobrestock['Producto'].iloc[0])\n",
    "        ),\n",
    "        row=1, col=1\n",
    "    )\n",
    "\n",
    "# 2. Gráfico de Déficit (Top 10)\n",
    "for producto in top_deficit['Producto']:\n",
    "    datos = top_deficit[top_deficit['Producto'] == producto]\n",
    "    # Barra de Stock Actual\n",
    "    fig_distribucion.add_trace(\n",
    "        go.Bar(\n",
    "            name='Stock Actual',\n",
    "            x=[producto],\n",
    "            y=[datos['Stock_Actual'].iloc[0]],\n",
    "            marker_color=colors['deficit'],\n",
    "            opacity=0.7,\n",
    "            showlegend=False\n",
    "        ),\n",
    "        row=1, col=2\n",
    "    )\n",
    "    # Línea de Promedio\n",
    "    fig_distribucion.add_trace(\n",
    "        go.Scatter(\n",
    "            name='Promedio Semanal',\n",
    "            x=[producto],\n",
    "            y=[datos['Promedio_Semanal'].iloc[0]],\n",
    "            mode='markers',\n",
    "            marker=dict(\n",
    "                symbol='diamond',\n",
    "                size=10,\n",
    "                color=colors['stock_normal'],\n",
    "                line=dict(width=2, color='white')\n",
    "            ),\n",
    "            showlegend=False\n",
    "        ),\n",
    "        row=1, col=2\n",
    "    )\n",
    "\n",
    "# 3. Gráfico de Distribución (Pie)\n",
    "estados_conteo = analisis['Estado'].value_counts()\n",
    "fig_distribucion.add_trace(\n",
    "    go.Pie(\n",
    "        labels=estados_conteo.index,\n",
    "        values=estados_conteo.values,\n",
    "        hole=0.4,\n",
    "        marker_colors=[colors['sobrestock'], colors['stock_normal']],\n",
    "        textinfo='percent+label',\n",
    "        textposition='outside',\n",
    "        showlegend=False\n",
    "    ),\n",
    "    row=2, col=1\n",
    ")\n",
    "\n",
    "# 4. Top 10 Productos con Mayor Rotación\n",
    "top_rotacion = analisis.nlargest(10, 'Num_Ventas')\n",
    "fig_distribucion.add_trace(\n",
    "    go.Bar(\n",
    "        x=top_rotacion['Producto'],\n",
    "        y=top_rotacion['Num_Ventas'],\n",
    "        marker_color=colors['stock_normal'],\n",
    "        name='Número de Ventas',\n",
    "        showlegend=False\n",
    "    ),\n",
    "    row=2, col=2\n",
    ")\n",
    "\n",
    "# Actualizar layout y formato\n",
    "fig_distribucion.update_layout(\n",
    "    title=dict(\n",
    "        text='<b>Dashboard de Control de Inventario</b>',\n",
    "        x=0.5,\n",
    "        y=0.98,\n",
    "        xanchor='center',\n",
    "        yanchor='top',\n",
    "        font=dict(size=24, color=colors['text'])\n",
    "    ),\n",
    "    height=1000,\n",
    "    showlegend=True,\n",
    "    template='plotly_white',\n",
    "    legend=dict(\n",
    "        orientation=\"h\",\n",
    "        yanchor=\"bottom\",\n",
    "        y=1.02,\n",
    "        xanchor=\"right\",\n",
    "        x=1\n",
    "    ),\n",
    "    font=dict(family=\"Arial\", size=12, color=colors['text'])\n",
    ")\n",
    "\n",
    "# Actualizar ejes y formato para cada subplot\n",
    "fig_distribucion.update_xaxes(tickangle=45, row=1, col=1)\n",
    "fig_distribucion.update_xaxes(tickangle=45, row=1, col=2)\n",
    "fig_distribucion.update_xaxes(tickangle=45, row=2, col=2)\n",
    "\n",
    "# Agregar títulos a los ejes\n",
    "fig_distribucion.update_xaxes(title_text=\"Producto\", row=1, col=1)\n",
    "fig_distribucion.update_yaxes(title_text=\"Cantidad (kg)\", row=1, col=1)\n",
    "fig_distribucion.update_xaxes(title_text=\"Producto\", row=1, col=2)\n",
    "fig_distribucion.update_yaxes(title_text=\"Cantidad (kg)\", row=1, col=2)\n",
    "fig_distribucion.update_xaxes(title_text=\"Producto\", row=2, col=2)\n",
    "fig_distribucion.update_yaxes(title_text=\"Número de Ventas\", row=2, col=2)\n",
    "\n",
    "# Ajustar márgenes\n",
    "fig_distribucion.update_layout(margin=dict(t=120, b=20, l=20, r=20))\n",
    "\n",
    "fig_distribucion.show()"
   ]
  },
  {
   "cell_type": "code",
   "execution_count": null,
   "id": "71e81637",
   "metadata": {},
   "outputs": [
    {
     "data": {
      "text/html": [
       "\n",
       "\n",
       "<style>\n",
       "    .dashboard-container {\n",
       "        font-family: Arial, sans-serif;\n",
       "        max-width: 1200px;\n",
       "        margin: 20px auto;\n",
       "        padding: 20px;\n",
       "    }\n",
       "    .metric-grid {\n",
       "        display: grid;\n",
       "        grid-template-columns: repeat(3, 1fr);\n",
       "        gap: 20px;\n",
       "        margin-bottom: 30px;\n",
       "    }\n",
       "    .metric-card {\n",
       "        background: white;\n",
       "        border-radius: 10px;\n",
       "        padding: 20px;\n",
       "        box-shadow: 0 4px 6px rgba(0, 0, 0, 0.1);\n",
       "    }\n",
       "    .metric-title {\n",
       "        color: #2C3E50;\n",
       "        font-size: 16px;\n",
       "        margin-bottom: 10px;\n",
       "    }\n",
       "    .metric-value {\n",
       "        font-size: 24px;\n",
       "        font-weight: bold;\n",
       "        margin-bottom: 5px;\n",
       "    }\n",
       "    .metric-description {\n",
       "        font-size: 14px;\n",
       "        color: #666;\n",
       "    }\n",
       "    .recommendations {\n",
       "        background: #F8F9FA;\n",
       "        border-radius: 10px;\n",
       "        padding: 20px;\n",
       "        margin-top: 20px;\n",
       "    }\n",
       "    .status-good { color: #2ECC71; }\n",
       "    .status-warning { color: #F1C40F; }\n",
       "    .status-critical { color: #E74C3C; }\n",
       "</style>\n",
       "\n",
       "<div class=\"dashboard-container\">\n",
       "    <h2 style=\"color: #2C3E50; margin-bottom: 20px;\">Resumen Ejecutivo de Inventario</h2>\n",
       "    \n",
       "    <div class=\"metric-grid\">\n",
       "        <div class=\"metric-card\">\n",
       "            <div class=\"metric-title\">Productos Sin Movimiento</div>\n",
       "            <div class=\"metric-value status-warning\">5</div>\n",
       "            <div class=\"metric-description\">\n",
       "                9.1% del inventario no ha tenido ventas en el período analizado\n",
       "            </div>\n",
       "        </div>\n",
       "        \n",
       "        <div class=\"metric-card\">\n",
       "            <div class=\"metric-title\">Productos en Estado Crítico</div>\n",
       "            <div class=\"metric-value status-critical\">30</div>\n",
       "            <div class=\"metric-description\">\n",
       "                54.5% de los productos tienen stock por debajo del promedio de ventas\n",
       "            </div>\n",
       "        </div>\n",
       "        \n",
       "        <div class=\"metric-card\">\n",
       "            <div class=\"metric-title\">Stock Total</div>\n",
       "            <div class=\"metric-value status-good\">10,418 kg</div>\n",
       "            <div class=\"metric-description\">\n",
       "                Distribuido en 55 productos diferentes\n",
       "            </div>\n",
       "        </div>\n",
       "    </div>\n",
       "    \n",
       "    <div class=\"recommendations\">\n",
       "        <h3 style=\"color: #2C3E50; margin-bottom: 15px;\">Recomendaciones Principales</h3>\n",
       "        <ul style=\"color: #555;\">\n",
       "            <li><strong>Atención Inmediata:</strong> 10 productos requieren reposición urgente.</li>\n",
       "            <li><strong>Sobrestock:</strong> 10 productos tienen niveles de stock significativamente altos.</li>\n",
       "            <li><strong>Productos Sin Movimiento:</strong> Evaluar estrategias para 5 productos sin ventas recientes.</li>\n",
       "        </ul>\n",
       "    </div>\n",
       "</div>\n"
      ],
      "text/plain": [
       "<IPython.core.display.HTML object>"
      ]
     },
     "metadata": {},
     "output_type": "display_data"
    },
    {
     "name": "stdout",
     "output_type": "stream",
     "text": [
      "\n",
      "Productos que Requieren Atención Inmediata:\n",
      "\n",
      "Top 10 Productos Críticos:\n",
      "          Producto  Stock_Actual  Promedio_Semanal  Num_Ventas\n",
      "MILANESA DE PIERNA        689.65       3248.349470       268.0\n",
      "            CABEZA        211.80        837.087841       180.0\n",
      "       BRAZO PULPO         51.68        667.200095       671.0\n",
      "     LOMO ALMENDRA        179.25        778.785795       829.0\n",
      "  TOCINO CORRIENTE        111.40        687.672841       233.0\n",
      "          BONDIOLA         19.60        547.175947       614.0\n",
      " COSTILLA SAN LUIS        180.45        688.123360       455.0\n",
      "      HUESO POROZO         54.80        537.013087       156.0\n",
      "     TOCINO DORSAL         68.25        438.980871       104.0\n",
      "           PLANCHA        163.85        532.513174       881.0\n"
     ]
    }
   ],
   "source": [
    "# Crear un dashboard con métricas clave y recomendaciones\n",
    "from IPython.display import display, HTML\n",
    "\n",
    "# Calcular métricas adicionales\n",
    "total_productos = len(analisis)\n",
    "productos_sin_ventas = len(analisis[analisis['Num_Ventas'] == 0])\n",
    "productos_criticos = len(analisis[\n",
    "    (analisis['Stock_Actual'] < analisis['Promedio_Semanal']) & \n",
    "    (analisis['Promedio_Semanal'] > 0)\n",
    "])\n",
    "\n",
    "# Calcular porcentajes\n",
    "pct_sin_ventas = (productos_sin_ventas / total_productos) * 100\n",
    "pct_criticos = (productos_criticos / total_productos) * 100\n",
    "\n",
    "# Estilo CSS para el dashboard\n",
    "dashboard_style = \"\"\"\n",
    "<style>\n",
    "    .dashboard-container {\n",
    "        font-family: Arial, sans-serif;\n",
    "        max-width: 1200px;\n",
    "        margin: 20px auto;\n",
    "        padding: 20px;\n",
    "    }\n",
    "    .metric-grid {\n",
    "        display: grid;\n",
    "        grid-template-columns: repeat(3, 1fr);\n",
    "        gap: 20px;\n",
    "        margin-bottom: 30px;\n",
    "    }\n",
    "    .metric-card {\n",
    "        background: white;\n",
    "        border-radius: 10px;\n",
    "        padding: 20px;\n",
    "        box-shadow: 0 4px 6px rgba(0, 0, 0, 0.1);\n",
    "    }\n",
    "    .metric-title {\n",
    "        color: #2C3E50;\n",
    "        font-size: 16px;\n",
    "        margin-bottom: 10px;\n",
    "    }\n",
    "    .metric-value {\n",
    "        font-size: 24px;\n",
    "        font-weight: bold;\n",
    "        margin-bottom: 5px;\n",
    "    }\n",
    "    .metric-description {\n",
    "        font-size: 14px;\n",
    "        color: #666;\n",
    "    }\n",
    "    .recommendations {\n",
    "        background: #F8F9FA;\n",
    "        border-radius: 10px;\n",
    "        padding: 20px;\n",
    "        margin-top: 20px;\n",
    "    }\n",
    "    .status-good { color: #2ECC71; }\n",
    "    .status-warning { color: #F1C40F; }\n",
    "    .status-critical { color: #E74C3C; }\n",
    "</style>\n",
    "\"\"\"\n",
    "\n",
    "# Crear el contenido HTML\n",
    "dashboard_html = f\"\"\"\n",
    "{dashboard_style}\n",
    "<div class=\"dashboard-container\">\n",
    "    <h2 style=\"color: #2C3E50; margin-bottom: 20px;\">Resumen Ejecutivo de Inventario</h2>\n",
    "    \n",
    "    <div class=\"metric-grid\">\n",
    "        <div class=\"metric-card\">\n",
    "            <div class=\"metric-title\">Productos Sin Movimiento</div>\n",
    "            <div class=\"metric-value status-warning\">{productos_sin_ventas:,}</div>\n",
    "            <div class=\"metric-description\">\n",
    "                {pct_sin_ventas:.1f}% del inventario no ha tenido ventas en el período analizado\n",
    "            </div>\n",
    "        </div>\n",
    "        \n",
    "        <div class=\"metric-card\">\n",
    "            <div class=\"metric-title\">Productos en Estado Crítico</div>\n",
    "            <div class=\"metric-value status-critical\">{productos_criticos:,}</div>\n",
    "            <div class=\"metric-description\">\n",
    "                {pct_criticos:.1f}% de los productos tienen stock por debajo del promedio de ventas\n",
    "            </div>\n",
    "        </div>\n",
    "        \n",
    "        <div class=\"metric-card\">\n",
    "            <div class=\"metric-title\">Stock Total</div>\n",
    "            <div class=\"metric-value status-good\">{analisis['Stock_Actual'].sum():,.0f} kg</div>\n",
    "            <div class=\"metric-description\">\n",
    "                Distribuido en {total_productos:,} productos diferentes\n",
    "            </div>\n",
    "        </div>\n",
    "    </div>\n",
    "    \n",
    "    <div class=\"recommendations\">\n",
    "        <h3 style=\"color: #2C3E50; margin-bottom: 15px;\">Recomendaciones Principales</h3>\n",
    "        <ul style=\"color: #555;\">\n",
    "            <li><strong>Atención Inmediata:</strong> {len(top_deficit):,} productos requieren reposición urgente.</li>\n",
    "            <li><strong>Sobrestock:</strong> {len(top_sobrestock):,} productos tienen niveles de stock significativamente altos.</li>\n",
    "            <li><strong>Productos Sin Movimiento:</strong> Evaluar estrategias para {productos_sin_ventas:,} productos sin ventas recientes.</li>\n",
    "        </ul>\n",
    "    </div>\n",
    "</div>\n",
    "\"\"\"\n",
    "\n",
    "display(HTML(dashboard_html))\n",
    "\n",
    "# Mostrar tabla de productos críticos que requieren atención inmediata\n",
    "print(\"\\nProductos que Requieren Atención Inmediata:\")\n",
    "productos_criticos_df = analisis[\n",
    "    (analisis['Stock_Actual'] < analisis['Promedio_Semanal']) & \n",
    "    (analisis['Promedio_Semanal'] > 0)\n",
    "].sort_values('Diferencia')[['Producto', 'Stock_Actual', 'Promedio_Semanal', 'Num_Ventas']].head(10)\n",
    "\n",
    "print(\"\\nTop 10 Productos Críticos:\")\n",
    "print(productos_criticos_df.to_string(index=False))"
   ]
  },
  {
   "cell_type": "code",
   "execution_count": 11,
   "id": "1207b8bf",
   "metadata": {},
   "outputs": [
    {
     "data": {
      "application/vnd.plotly.v1+json": {
       "config": {
        "plotlyServerURL": "https://plot.ly"
       },
       "data": [
        {
         "marker": {
          "color": "#E74C3C"
         },
         "name": "Stock Actual",
         "opacity": 0.8,
         "showlegend": true,
         "text": [
          "+148%",
          "+256%",
          "+193%",
          "+353%",
          "+83%",
          "+219%",
          "+1560%",
          "+346%",
          "+1077%",
          "+477%"
         ],
         "textposition": "outside",
         "type": "bar",
         "x": [
          "PUNTAS DE COSTILLA",
          "CABEZA DE LOMO",
          "CHULETA DE BRAZO",
          "Chorizo Ahumado x19 Unds",
          "COSTILLA BABY BACK",
          "GOULASH ESPECIAL",
          "COSTILLA INDUSTRIAL",
          "ASERRIN",
          "CHULETA DE COGOTE",
          "CHULETA DE LOMO"
         ],
         "xaxis": "x",
         "y": {
          "bdata": "mpmZmZlykkBmZmZmZs6HQGVmZmZmhoFAAAAAAABwfUDMzMzMzEh7QAAAAAAAtHBAMzMzMzPbZ0AzMzMzM5NjQDMzMzMzY1xAMzMzMzMTVEA=",
          "dtype": "f8"
         },
         "yaxis": "y"
        },
        {
         "marker": {
          "color": "#2ECC71"
         },
         "name": "Promedio Semanal",
         "opacity": 0.6,
         "showlegend": true,
         "type": "bar",
         "x": [
          "PUNTAS DE COSTILLA",
          "CABEZA DE LOMO",
          "CHULETA DE BRAZO",
          "Chorizo Ahumado x19 Unds",
          "COSTILLA BABY BACK",
          "GOULASH ESPECIAL",
          "COSTILLA INDUSTRIAL",
          "ASERRIN",
          "CHULETA DE COGOTE",
          "CHULETA DE LOMO"
         ],
         "xaxis": "x",
         "y": {
          "bdata": "RTJOJCO8fUAMj8vwOMNqQGs3H91Z8WdARhdddNH9WUBeWeCVhc5tQMk4kYwT+VRA/yznz3L+JkDSISsdso5BQNpApw10SiNAJchTgjzVK0A=",
          "dtype": "f8"
         },
         "yaxis": "y"
        },
        {
         "marker": {
          "color": "#3498DB"
         },
         "name": "Stock Actual",
         "opacity": 0.8,
         "showlegend": false,
         "text": [
          "-79%",
          "-75%",
          "-92%",
          "-77%",
          "-84%",
          "-96%",
          "-74%",
          "-90%",
          "-84%",
          "-69%"
         ],
         "textposition": "outside",
         "type": "bar",
         "x": [
          "MILANESA DE PIERNA",
          "CABEZA",
          "BRAZO PULPO",
          "LOMO ALMENDRA",
          "TOCINO CORRIENTE",
          "BONDIOLA",
          "COSTILLA SAN LUIS",
          "HUESO POROZO",
          "TOCINO DORSAL",
          "PLANCHA"
         ],
         "xaxis": "x2",
         "y": {
          "bdata": "MzMzMzONhUCamZmZmXlqQNejcD0K10lAAQAAAABoZkCamZmZmdlbQJqZmZmZmTNAZ2ZmZmaOZkBmZmZmZmZLQAAAAAAAEFFAMjMzMzN7ZEA=",
          "dtype": "f8"
         },
         "yaxis": "y2"
        },
        {
         "marker": {
          "color": "#2ECC71"
         },
         "name": "Promedio Semanal",
         "opacity": 0.6,
         "showlegend": false,
         "type": "bar",
         "x": [
          "MILANESA DE PIERNA",
          "CABEZA",
          "BRAZO PULPO",
          "LOMO ALMENDRA",
          "TOCINO CORRIENTE",
          "BONDIOLA",
          "COSTILLA SAN LUIS",
          "HUESO POROZO",
          "TOCINO DORSAL",
          "PLANCHA"
         ],
         "xaxis": "x2",
         "y": {
          "bdata": "2y6x7bJgqUBePu/lsyiKQLOcP8uZ2YRA8pQgT0lWiECnH2r6YX2FQG6F4lZoGYFADpcWpPyAhUDWrGvNGsiAQF8aA6axb3tA5OIY+xqkgEA=",
          "dtype": "f8"
         },
         "yaxis": "y2"
        }
       ],
       "layout": {
        "annotations": [
         {
          "font": {
           "size": 16
          },
          "showarrow": false,
          "text": "Top 10 Macropiezas con Mayor Sobrestock",
          "x": 0.5,
          "xanchor": "center",
          "xref": "paper",
          "y": 1,
          "yanchor": "bottom",
          "yref": "paper"
         },
         {
          "font": {
           "size": 16
          },
          "showarrow": false,
          "text": "Top 10 Macropiezas con Mayor Faltante",
          "x": 0.5,
          "xanchor": "center",
          "xref": "paper",
          "y": 0.4,
          "yanchor": "bottom",
          "yref": "paper"
         }
        ],
        "barmode": "group",
        "height": 1000,
        "legend": {
         "orientation": "h",
         "x": 1,
         "xanchor": "right",
         "y": 1.02,
         "yanchor": "bottom"
        },
        "showlegend": true,
        "template": {
         "data": {
          "bar": [
           {
            "error_x": {
             "color": "#2a3f5f"
            },
            "error_y": {
             "color": "#2a3f5f"
            },
            "marker": {
             "line": {
              "color": "white",
              "width": 0.5
             },
             "pattern": {
              "fillmode": "overlay",
              "size": 10,
              "solidity": 0.2
             }
            },
            "type": "bar"
           }
          ],
          "barpolar": [
           {
            "marker": {
             "line": {
              "color": "white",
              "width": 0.5
             },
             "pattern": {
              "fillmode": "overlay",
              "size": 10,
              "solidity": 0.2
             }
            },
            "type": "barpolar"
           }
          ],
          "carpet": [
           {
            "aaxis": {
             "endlinecolor": "#2a3f5f",
             "gridcolor": "#C8D4E3",
             "linecolor": "#C8D4E3",
             "minorgridcolor": "#C8D4E3",
             "startlinecolor": "#2a3f5f"
            },
            "baxis": {
             "endlinecolor": "#2a3f5f",
             "gridcolor": "#C8D4E3",
             "linecolor": "#C8D4E3",
             "minorgridcolor": "#C8D4E3",
             "startlinecolor": "#2a3f5f"
            },
            "type": "carpet"
           }
          ],
          "choropleth": [
           {
            "colorbar": {
             "outlinewidth": 0,
             "ticks": ""
            },
            "type": "choropleth"
           }
          ],
          "contour": [
           {
            "colorbar": {
             "outlinewidth": 0,
             "ticks": ""
            },
            "colorscale": [
             [
              0,
              "#0d0887"
             ],
             [
              0.1111111111111111,
              "#46039f"
             ],
             [
              0.2222222222222222,
              "#7201a8"
             ],
             [
              0.3333333333333333,
              "#9c179e"
             ],
             [
              0.4444444444444444,
              "#bd3786"
             ],
             [
              0.5555555555555556,
              "#d8576b"
             ],
             [
              0.6666666666666666,
              "#ed7953"
             ],
             [
              0.7777777777777778,
              "#fb9f3a"
             ],
             [
              0.8888888888888888,
              "#fdca26"
             ],
             [
              1,
              "#f0f921"
             ]
            ],
            "type": "contour"
           }
          ],
          "contourcarpet": [
           {
            "colorbar": {
             "outlinewidth": 0,
             "ticks": ""
            },
            "type": "contourcarpet"
           }
          ],
          "heatmap": [
           {
            "colorbar": {
             "outlinewidth": 0,
             "ticks": ""
            },
            "colorscale": [
             [
              0,
              "#0d0887"
             ],
             [
              0.1111111111111111,
              "#46039f"
             ],
             [
              0.2222222222222222,
              "#7201a8"
             ],
             [
              0.3333333333333333,
              "#9c179e"
             ],
             [
              0.4444444444444444,
              "#bd3786"
             ],
             [
              0.5555555555555556,
              "#d8576b"
             ],
             [
              0.6666666666666666,
              "#ed7953"
             ],
             [
              0.7777777777777778,
              "#fb9f3a"
             ],
             [
              0.8888888888888888,
              "#fdca26"
             ],
             [
              1,
              "#f0f921"
             ]
            ],
            "type": "heatmap"
           }
          ],
          "histogram": [
           {
            "marker": {
             "pattern": {
              "fillmode": "overlay",
              "size": 10,
              "solidity": 0.2
             }
            },
            "type": "histogram"
           }
          ],
          "histogram2d": [
           {
            "colorbar": {
             "outlinewidth": 0,
             "ticks": ""
            },
            "colorscale": [
             [
              0,
              "#0d0887"
             ],
             [
              0.1111111111111111,
              "#46039f"
             ],
             [
              0.2222222222222222,
              "#7201a8"
             ],
             [
              0.3333333333333333,
              "#9c179e"
             ],
             [
              0.4444444444444444,
              "#bd3786"
             ],
             [
              0.5555555555555556,
              "#d8576b"
             ],
             [
              0.6666666666666666,
              "#ed7953"
             ],
             [
              0.7777777777777778,
              "#fb9f3a"
             ],
             [
              0.8888888888888888,
              "#fdca26"
             ],
             [
              1,
              "#f0f921"
             ]
            ],
            "type": "histogram2d"
           }
          ],
          "histogram2dcontour": [
           {
            "colorbar": {
             "outlinewidth": 0,
             "ticks": ""
            },
            "colorscale": [
             [
              0,
              "#0d0887"
             ],
             [
              0.1111111111111111,
              "#46039f"
             ],
             [
              0.2222222222222222,
              "#7201a8"
             ],
             [
              0.3333333333333333,
              "#9c179e"
             ],
             [
              0.4444444444444444,
              "#bd3786"
             ],
             [
              0.5555555555555556,
              "#d8576b"
             ],
             [
              0.6666666666666666,
              "#ed7953"
             ],
             [
              0.7777777777777778,
              "#fb9f3a"
             ],
             [
              0.8888888888888888,
              "#fdca26"
             ],
             [
              1,
              "#f0f921"
             ]
            ],
            "type": "histogram2dcontour"
           }
          ],
          "mesh3d": [
           {
            "colorbar": {
             "outlinewidth": 0,
             "ticks": ""
            },
            "type": "mesh3d"
           }
          ],
          "parcoords": [
           {
            "line": {
             "colorbar": {
              "outlinewidth": 0,
              "ticks": ""
             }
            },
            "type": "parcoords"
           }
          ],
          "pie": [
           {
            "automargin": true,
            "type": "pie"
           }
          ],
          "scatter": [
           {
            "fillpattern": {
             "fillmode": "overlay",
             "size": 10,
             "solidity": 0.2
            },
            "type": "scatter"
           }
          ],
          "scatter3d": [
           {
            "line": {
             "colorbar": {
              "outlinewidth": 0,
              "ticks": ""
             }
            },
            "marker": {
             "colorbar": {
              "outlinewidth": 0,
              "ticks": ""
             }
            },
            "type": "scatter3d"
           }
          ],
          "scattercarpet": [
           {
            "marker": {
             "colorbar": {
              "outlinewidth": 0,
              "ticks": ""
             }
            },
            "type": "scattercarpet"
           }
          ],
          "scattergeo": [
           {
            "marker": {
             "colorbar": {
              "outlinewidth": 0,
              "ticks": ""
             }
            },
            "type": "scattergeo"
           }
          ],
          "scattergl": [
           {
            "marker": {
             "colorbar": {
              "outlinewidth": 0,
              "ticks": ""
             }
            },
            "type": "scattergl"
           }
          ],
          "scattermap": [
           {
            "marker": {
             "colorbar": {
              "outlinewidth": 0,
              "ticks": ""
             }
            },
            "type": "scattermap"
           }
          ],
          "scattermapbox": [
           {
            "marker": {
             "colorbar": {
              "outlinewidth": 0,
              "ticks": ""
             }
            },
            "type": "scattermapbox"
           }
          ],
          "scatterpolar": [
           {
            "marker": {
             "colorbar": {
              "outlinewidth": 0,
              "ticks": ""
             }
            },
            "type": "scatterpolar"
           }
          ],
          "scatterpolargl": [
           {
            "marker": {
             "colorbar": {
              "outlinewidth": 0,
              "ticks": ""
             }
            },
            "type": "scatterpolargl"
           }
          ],
          "scatterternary": [
           {
            "marker": {
             "colorbar": {
              "outlinewidth": 0,
              "ticks": ""
             }
            },
            "type": "scatterternary"
           }
          ],
          "surface": [
           {
            "colorbar": {
             "outlinewidth": 0,
             "ticks": ""
            },
            "colorscale": [
             [
              0,
              "#0d0887"
             ],
             [
              0.1111111111111111,
              "#46039f"
             ],
             [
              0.2222222222222222,
              "#7201a8"
             ],
             [
              0.3333333333333333,
              "#9c179e"
             ],
             [
              0.4444444444444444,
              "#bd3786"
             ],
             [
              0.5555555555555556,
              "#d8576b"
             ],
             [
              0.6666666666666666,
              "#ed7953"
             ],
             [
              0.7777777777777778,
              "#fb9f3a"
             ],
             [
              0.8888888888888888,
              "#fdca26"
             ],
             [
              1,
              "#f0f921"
             ]
            ],
            "type": "surface"
           }
          ],
          "table": [
           {
            "cells": {
             "fill": {
              "color": "#EBF0F8"
             },
             "line": {
              "color": "white"
             }
            },
            "header": {
             "fill": {
              "color": "#C8D4E3"
             },
             "line": {
              "color": "white"
             }
            },
            "type": "table"
           }
          ]
         },
         "layout": {
          "annotationdefaults": {
           "arrowcolor": "#2a3f5f",
           "arrowhead": 0,
           "arrowwidth": 1
          },
          "autotypenumbers": "strict",
          "coloraxis": {
           "colorbar": {
            "outlinewidth": 0,
            "ticks": ""
           }
          },
          "colorscale": {
           "diverging": [
            [
             0,
             "#8e0152"
            ],
            [
             0.1,
             "#c51b7d"
            ],
            [
             0.2,
             "#de77ae"
            ],
            [
             0.3,
             "#f1b6da"
            ],
            [
             0.4,
             "#fde0ef"
            ],
            [
             0.5,
             "#f7f7f7"
            ],
            [
             0.6,
             "#e6f5d0"
            ],
            [
             0.7,
             "#b8e186"
            ],
            [
             0.8,
             "#7fbc41"
            ],
            [
             0.9,
             "#4d9221"
            ],
            [
             1,
             "#276419"
            ]
           ],
           "sequential": [
            [
             0,
             "#0d0887"
            ],
            [
             0.1111111111111111,
             "#46039f"
            ],
            [
             0.2222222222222222,
             "#7201a8"
            ],
            [
             0.3333333333333333,
             "#9c179e"
            ],
            [
             0.4444444444444444,
             "#bd3786"
            ],
            [
             0.5555555555555556,
             "#d8576b"
            ],
            [
             0.6666666666666666,
             "#ed7953"
            ],
            [
             0.7777777777777778,
             "#fb9f3a"
            ],
            [
             0.8888888888888888,
             "#fdca26"
            ],
            [
             1,
             "#f0f921"
            ]
           ],
           "sequentialminus": [
            [
             0,
             "#0d0887"
            ],
            [
             0.1111111111111111,
             "#46039f"
            ],
            [
             0.2222222222222222,
             "#7201a8"
            ],
            [
             0.3333333333333333,
             "#9c179e"
            ],
            [
             0.4444444444444444,
             "#bd3786"
            ],
            [
             0.5555555555555556,
             "#d8576b"
            ],
            [
             0.6666666666666666,
             "#ed7953"
            ],
            [
             0.7777777777777778,
             "#fb9f3a"
            ],
            [
             0.8888888888888888,
             "#fdca26"
            ],
            [
             1,
             "#f0f921"
            ]
           ]
          },
          "colorway": [
           "#636efa",
           "#EF553B",
           "#00cc96",
           "#ab63fa",
           "#FFA15A",
           "#19d3f3",
           "#FF6692",
           "#B6E880",
           "#FF97FF",
           "#FECB52"
          ],
          "font": {
           "color": "#2a3f5f"
          },
          "geo": {
           "bgcolor": "white",
           "lakecolor": "white",
           "landcolor": "white",
           "showlakes": true,
           "showland": true,
           "subunitcolor": "#C8D4E3"
          },
          "hoverlabel": {
           "align": "left"
          },
          "hovermode": "closest",
          "mapbox": {
           "style": "light"
          },
          "paper_bgcolor": "white",
          "plot_bgcolor": "white",
          "polar": {
           "angularaxis": {
            "gridcolor": "#EBF0F8",
            "linecolor": "#EBF0F8",
            "ticks": ""
           },
           "bgcolor": "white",
           "radialaxis": {
            "gridcolor": "#EBF0F8",
            "linecolor": "#EBF0F8",
            "ticks": ""
           }
          },
          "scene": {
           "xaxis": {
            "backgroundcolor": "white",
            "gridcolor": "#DFE8F3",
            "gridwidth": 2,
            "linecolor": "#EBF0F8",
            "showbackground": true,
            "ticks": "",
            "zerolinecolor": "#EBF0F8"
           },
           "yaxis": {
            "backgroundcolor": "white",
            "gridcolor": "#DFE8F3",
            "gridwidth": 2,
            "linecolor": "#EBF0F8",
            "showbackground": true,
            "ticks": "",
            "zerolinecolor": "#EBF0F8"
           },
           "zaxis": {
            "backgroundcolor": "white",
            "gridcolor": "#DFE8F3",
            "gridwidth": 2,
            "linecolor": "#EBF0F8",
            "showbackground": true,
            "ticks": "",
            "zerolinecolor": "#EBF0F8"
           }
          },
          "shapedefaults": {
           "line": {
            "color": "#2a3f5f"
           }
          },
          "ternary": {
           "aaxis": {
            "gridcolor": "#DFE8F3",
            "linecolor": "#A2B1C6",
            "ticks": ""
           },
           "baxis": {
            "gridcolor": "#DFE8F3",
            "linecolor": "#A2B1C6",
            "ticks": ""
           },
           "bgcolor": "white",
           "caxis": {
            "gridcolor": "#DFE8F3",
            "linecolor": "#A2B1C6",
            "ticks": ""
           }
          },
          "title": {
           "x": 0.05
          },
          "xaxis": {
           "automargin": true,
           "gridcolor": "#EBF0F8",
           "linecolor": "#EBF0F8",
           "ticks": "",
           "title": {
            "standoff": 15
           },
           "zerolinecolor": "#EBF0F8",
           "zerolinewidth": 2
          },
          "yaxis": {
           "automargin": true,
           "gridcolor": "#EBF0F8",
           "linecolor": "#EBF0F8",
           "ticks": "",
           "title": {
            "standoff": 15
           },
           "zerolinecolor": "#EBF0F8",
           "zerolinewidth": 2
          }
         }
        },
        "title": {
         "font": {
          "size": 24
         },
         "text": "Dashboard de Control de Inventario - Análisis por Macropiezas",
         "x": 0.5,
         "xanchor": "center",
         "y": 0.95,
         "yanchor": "top"
        },
        "xaxis": {
         "anchor": "y",
         "domain": [
          0,
          1
         ],
         "tickangle": 45,
         "title": {
          "text": "Macropieza"
         }
        },
        "xaxis2": {
         "anchor": "y2",
         "domain": [
          0,
          1
         ],
         "tickangle": 45,
         "title": {
          "text": "Macropieza"
         }
        },
        "yaxis": {
         "anchor": "x",
         "domain": [
          0.6000000000000001,
          1
         ],
         "title": {
          "text": "Cantidad (kg)"
         }
        },
        "yaxis2": {
         "anchor": "x2",
         "domain": [
          0,
          0.4
         ],
         "title": {
          "text": "Cantidad (kg)"
         }
        }
       }
      }
     },
     "metadata": {},
     "output_type": "display_data"
    },
    {
     "name": "stdout",
     "output_type": "stream",
     "text": [
      "\n",
      "Detalles de Macropiezas con Mayor Sobrestock:\n",
      "                Producto  Stock_Actual  Promedio_Semanal  Diferencia  Porcentaje_Exceso\n",
      "      PUNTAS DE COSTILLA        1180.7             475.8       704.9              148.2\n",
      "          CABEZA DE LOMO         761.8             214.1       547.7              255.8\n",
      "        CHULETA DE BRAZO         560.8             191.5       369.3              192.8\n",
      "Chorizo Ahumado x19 Unds         471.0             104.0       367.0              353.0\n",
      "      COSTILLA BABY BACK         436.5             238.5       198.1               83.1\n",
      "        GOULASH ESPECIAL         267.2              83.9       183.4              218.6\n",
      "     COSTILLA INDUSTRIAL         190.8              11.5       179.4             1560.0\n",
      "                 ASERRIN         156.6              35.1       121.5              346.0\n",
      "       CHULETA DE COGOTE         113.5               9.6       103.9             1077.2\n",
      "         CHULETA DE LOMO          80.3              13.9        66.4              477.0\n",
      "\n",
      "Detalles de Macropiezas con Mayor Faltante:\n",
      "          Producto  Stock_Actual  Promedio_Semanal  Diferencia  Porcentaje_Faltante\n",
      "MILANESA DE PIERNA         689.6            3248.3     -2558.7                -78.8\n",
      "            CABEZA         211.8             837.1      -625.3                -74.7\n",
      "       BRAZO PULPO          51.7             667.2      -615.5                -92.3\n",
      "     LOMO ALMENDRA         179.3             778.8      -599.5                -77.0\n",
      "  TOCINO CORRIENTE         111.4             687.7      -576.3                -83.8\n",
      "          BONDIOLA          19.6             547.2      -527.6                -96.4\n",
      " COSTILLA SAN LUIS         180.5             688.1      -507.7                -73.8\n",
      "      HUESO POROZO          54.8             537.0      -482.2                -89.8\n",
      "     TOCINO DORSAL          68.2             439.0      -370.7                -84.5\n",
      "           PLANCHA         163.8             532.5      -368.7                -69.2\n"
     ]
    }
   ],
   "source": [
    "import plotly.graph_objects as go\n",
    "from plotly.subplots import make_subplots\n",
    "\n",
    "# Calcular diferencias y ratios\n",
    "analisis['Diferencia'] = analisis['Stock_Actual'] - analisis['Promedio_Semanal']\n",
    "analisis['Ratio_Cobertura'] = analisis['Stock_Actual'] / analisis['Promedio_Semanal'].where(analisis['Promedio_Semanal'] > 0, 1)\n",
    "\n",
    "# Filtrar macropiezas que tienen promedio semanal > 0 para evitar divisiones por cero\n",
    "macropiezas_validas = analisis[analisis['Promedio_Semanal'] > 0].copy()\n",
    "\n",
    "# Identificar sobrestock y faltantes\n",
    "macropiezas_sobrestock = macropiezas_validas[macropiezas_validas['Diferencia'] > 0].sort_values('Diferencia', ascending=False)\n",
    "macropiezas_faltante = macropiezas_validas[macropiezas_validas['Diferencia'] < 0].sort_values('Diferencia')\n",
    "\n",
    "# Tomar top 10 o todas si hay menos\n",
    "top_sobrestock = macropiezas_sobrestock.head(10)\n",
    "top_faltante = macropiezas_faltante.head(10)\n",
    "\n",
    "# Crear figura\n",
    "fig = make_subplots(\n",
    "    rows=2, cols=1,\n",
    "    subplot_titles=(\n",
    "        f\"Top {len(top_sobrestock)} Macropiezas con Mayor Sobrestock\",\n",
    "        f\"Top {len(top_faltante)} Macropiezas con Mayor Faltante\"\n",
    "    ),\n",
    "    vertical_spacing=0.2\n",
    ")\n",
    "\n",
    "# Colores\n",
    "colors = {\n",
    "    'sobrestock': '#E74C3C',    # Rojo para sobrestock\n",
    "    'stock_normal': '#2ECC71',   # Verde para el promedio\n",
    "    'deficit': '#3498DB',       # Azul para déficit\n",
    "}\n",
    "\n",
    "# Función para agregar gráficas\n",
    "def agregar_graficas(datos, row, color_stock, mostrar_leyenda=True):\n",
    "    # Barra de Stock Actual\n",
    "    fig.add_trace(\n",
    "        go.Bar(\n",
    "            name='Stock Actual',\n",
    "            x=datos['Producto'],\n",
    "            y=datos['Stock_Actual'],\n",
    "            marker_color=color_stock,\n",
    "            opacity=0.8,\n",
    "            showlegend=mostrar_leyenda,\n",
    "            text=datos.apply(lambda x: f\"{((x['Stock_Actual']/x['Promedio_Semanal'])-1)*100:+.0f}%\", axis=1),\n",
    "            textposition='outside'\n",
    "        ),\n",
    "        row=row, col=1\n",
    "    )\n",
    "    \n",
    "    # Barra de Promedio Semanal\n",
    "    fig.add_trace(\n",
    "        go.Bar(\n",
    "            name='Promedio Semanal',\n",
    "            x=datos['Producto'],\n",
    "            y=datos['Promedio_Semanal'],\n",
    "            marker_color=colors['stock_normal'],\n",
    "            opacity=0.6,\n",
    "            showlegend=mostrar_leyenda\n",
    "        ),\n",
    "        row=row, col=1\n",
    "    )\n",
    "\n",
    "# Agregar gráficas para sobrestock y faltantes\n",
    "if not top_sobrestock.empty:\n",
    "    agregar_graficas(top_sobrestock, 1, colors['sobrestock'], True)\n",
    "if not top_faltante.empty:\n",
    "    agregar_graficas(top_faltante, 2, colors['deficit'], False)\n",
    "\n",
    "# Actualizar layout\n",
    "fig.update_layout(\n",
    "    height=1000,\n",
    "    title={\n",
    "        'text': \"Dashboard de Control de Inventario - Análisis por Macropiezas\",\n",
    "        'y':0.95,\n",
    "        'x':0.5,\n",
    "        'xanchor': 'center',\n",
    "        'yanchor': 'top',\n",
    "        'font': {'size': 24}\n",
    "    },\n",
    "    showlegend=True,\n",
    "    template='plotly_white',\n",
    "    barmode='group',\n",
    "    legend=dict(\n",
    "        orientation=\"h\",\n",
    "        yanchor=\"bottom\",\n",
    "        y=1.02,\n",
    "        xanchor=\"right\",\n",
    "        x=1\n",
    "    )\n",
    ")\n",
    "\n",
    "# Actualizar ejes\n",
    "for i in [1, 2]:\n",
    "    fig.update_xaxes(\n",
    "        title_text=\"Macropieza\",\n",
    "        tickangle=45,\n",
    "        row=i, col=1\n",
    "    )\n",
    "    fig.update_yaxes(\n",
    "        title_text=\"Cantidad (kg)\",\n",
    "        row=i, col=1\n",
    "    )\n",
    "\n",
    "fig.show()\n",
    "\n",
    "# Mostrar tablas con información detallada\n",
    "print(\"\\nDetalles de Macropiezas con Mayor Sobrestock:\")\n",
    "detalle_sobrestock = top_sobrestock[['Producto', 'Stock_Actual', 'Promedio_Semanal', 'Diferencia']].copy()\n",
    "detalle_sobrestock['Porcentaje_Exceso'] = ((detalle_sobrestock['Stock_Actual'] / detalle_sobrestock['Promedio_Semanal']) - 1) * 100\n",
    "print(detalle_sobrestock.to_string(index=False, float_format=lambda x: '{:.1f}'.format(x)))\n",
    "\n",
    "print(\"\\nDetalles de Macropiezas con Mayor Faltante:\")\n",
    "detalle_faltante = top_faltante[['Producto', 'Stock_Actual', 'Promedio_Semanal', 'Diferencia']].copy()\n",
    "detalle_faltante['Porcentaje_Faltante'] = ((detalle_faltante['Stock_Actual'] / detalle_faltante['Promedio_Semanal']) - 1) * 100\n",
    "print(detalle_faltante.to_string(index=False, float_format=lambda x: '{:.1f}'.format(x)))"
   ]
  },
  {
   "cell_type": "code",
   "execution_count": 12,
   "id": "2895fdb4",
   "metadata": {},
   "outputs": [
    {
     "data": {
      "application/vnd.plotly.v1+json": {
       "config": {
        "plotlyServerURL": "https://plot.ly"
       },
       "data": [
        {
         "marker": {
          "color": "#2ECC71"
         },
         "name": "Stock Normal",
         "showlegend": true,
         "text": [
          "3.6 sem"
         ],
         "textposition": "outside",
         "type": "bar",
         "x": [
          "CABEZA DE LOMO"
         ],
         "xaxis": "x",
         "y": {
          "bdata": "UVMUcxF3DEA=",
          "dtype": "f8"
         },
         "yaxis": "y"
        },
        {
         "marker": {
          "color": "#3498DB"
         },
         "name": "Stock Crítico",
         "showlegend": true,
         "text": [
          "1.2 sem"
         ],
         "textposition": "outside",
         "type": "bar",
         "x": [
          "EMPELLA"
         ],
         "xaxis": "x",
         "y": {
          "bdata": "SHo5Myx98z8=",
          "dtype": "f8"
         },
         "yaxis": "y"
        },
        {
         "marker": {
          "color": "#E74C3C"
         },
         "name": "Sobrestock",
         "showlegend": false,
         "text": [
          "16.6 sem",
          "11.8 sem",
          "5.8 sem",
          "4.5 sem",
          "4.5 sem",
          "4.0 sem",
          "3.2 sem",
          "2.9 sem",
          "2.8 sem",
          "2.6 sem",
          "2.6 sem",
          "2.5 sem",
          "2.1 sem",
          "1.8 sem",
          "1.4 sem",
          "1.1 sem",
          "1.1 sem",
          "0.9 sem",
          "0.9 sem",
          "0.8 sem",
          "0.7 sem",
          "0.7 sem",
          "0.7 sem",
          "0.6 sem",
          "0.6 sem",
          "0.6 sem",
          "0.5 sem",
          "0.5 sem",
          "0.5 sem"
         ],
         "textposition": "outside",
         "type": "bar",
         "x": [
          "COSTILLA INDUSTRIAL",
          "CHULETA DE COGOTE",
          "CHULETA DE LOMO",
          "Chorizo Ahumado x19 Unds",
          "ASERRIN",
          "FALDA",
          "GOULASH ESPECIAL",
          "CHULETA DE BRAZO",
          "OSOBUCOS",
          "DECOMISO",
          "CHORIZO SANTAROSANO X500",
          "PUNTAS DE COSTILLA",
          "COSTILLA MOSTRADOR",
          "COSTILLA BABY BACK",
          "SOLOMITO",
          "CHULETON",
          "MILANESA CERDO X KILO",
          "RECORTE ESPECIAL",
          "ESPINAZO ESPECIAL",
          "BERIJAS",
          "DESPALME",
          "RACK DE COSTILLA",
          "Recorte De Pierna",
          "CODOS CON PIEL",
          "COJINES",
          "CHICHARRON CARNUDO X KG",
          "CANASTO",
          "BONDIOLA TAJADA",
          "TOCINO BARRIGA"
         ],
         "xaxis": "x2",
         "y": {
          "bdata": "cszNU5uZMED+NeYLfIsnQIX5mymfFBdAc8dIIw8fEkC2czk+sNYRQM7IpFT/JBBArShBQDZ8CUCF7WXEKWwHQBtbiYePKwZAhluoLlYlBUDQqOJCT6YEQKUrMWBZ2gNAQDTWh8b6AEDB4GSPw0r9P8A+Z9eMNfY/z22+xFIM8j/5gc282urxPx1yJf43Je0/hxzy2qjX6z/oeomttQDrP4U0LsRvVuY/knTr0aHc5T+BAUmqkhHlPxEJWZNNuuM/q9K2Oi5O4j+mXS4rnNjhP0aNmUNDcuE/Hey/1CO64D87ZxooVT3dPw==",
          "dtype": "f8"
         },
         "yaxis": "y2"
        },
        {
         "marker": {
          "color": "#2ECC71"
         },
         "name": "Stock Normal",
         "showlegend": false,
         "text": [
          "0.4 sem",
          "0.3 sem",
          "0.3 sem",
          "0.3 sem",
          "0.3 sem",
          "0.3 sem",
          "0.2 sem",
          "0.2 sem",
          "0.2 sem"
         ],
         "textposition": "outside",
         "type": "bar",
         "x": [
          "SANGRADOS",
          "TOCINETA ANTIOQUEÑA",
          "PLANCHA",
          "TOCINO PIANO CON PIEL",
          "COSTILLA SAN LUIS",
          "CABEZA",
          "PAPADA CON PIEL",
          "LOMO ALMENDRA",
          "MILANESA DE PIERNA"
         ],
         "xaxis": "x2",
         "y": {
          "bdata": "7C1IMX0m2D/6waqUzwHWP5/jYHE5sdM/zQZbWujb0D/vT4shdcjQP9Cijfh6MdA/aPqhbowZzj8EVeY5FHbNP8cabBfnLMs/",
          "dtype": "f8"
         },
         "yaxis": "y2"
        },
        {
         "marker": {
          "color": "#3498DB"
         },
         "name": "Stock Crítico",
         "showlegend": false,
         "text": [
          "0.2 sem",
          "0.2 sem",
          "0.2 sem",
          "0.1 sem",
          "0.1 sem",
          "0.1 sem",
          "0.1 sem",
          "0.1 sem",
          "0.0 sem",
          "0.0 sem",
          "0.0 sem",
          "0.0 sem",
          "0.0 sem",
          "0.0 sem",
          "0.0 sem"
         ],
         "textposition": "outside",
         "type": "bar",
         "x": [
          "TOCINO CORRIENTE",
          "TOCINO DORSAL",
          "COLAS Y COGOTES",
          "PEZUÑA",
          "HUESO POROZO",
          "CARNE MOLIDA",
          "BRAZO PULPO",
          "TOCINO PIANO SIN PIEL",
          "BONDIOLA",
          "COSTIPIEL",
          "CARTILAGOS ",
          "LOMO DESPOSTE ",
          "RECORTE DE CHULETA",
          "BRAZO DESPOSTE ",
          "PERNIL DESPOSTE "
         ],
         "xaxis": "x2",
         "y": {
          "bdata": "86fI5UW8xD+4Ou5MkObDPxhDARB3rsM/Ox9sdnF7vz8OLNycrh+6P3kM3Y9nuLU/d4/K+UnUsz9UXeYNLxazPz/t32oJV6I/AAAAAAAAAAAAAAAAAAAAAAAAAAAAAAAAAAAAAAAAAAAAAAAAAAAAAAAAAAAAAAAA",
          "dtype": "f8"
         },
         "yaxis": "y2"
        }
       ],
       "layout": {
        "annotations": [
         {
          "font": {
           "size": 16
          },
          "showarrow": false,
          "text": "Productos en Cava 1 (Límite: 4 semanas)",
          "x": 0.5,
          "xanchor": "center",
          "xref": "paper",
          "y": 1,
          "yanchor": "bottom",
          "yref": "paper"
         },
         {
          "font": {
           "size": 16
          },
          "showarrow": false,
          "text": "Productos en Cava 2 (Límite: 0.4 semanas)",
          "x": 0.5,
          "xanchor": "center",
          "xref": "paper",
          "y": 0.4,
          "yanchor": "bottom",
          "yref": "paper"
         },
         {
          "showarrow": false,
          "text": "Límite: 4 semanas",
          "x": 1,
          "xanchor": "right",
          "xref": "x domain",
          "y": 4,
          "yanchor": "bottom",
          "yref": "y"
         },
         {
          "showarrow": false,
          "text": "Límite: 0.4 semanas",
          "x": 1,
          "xanchor": "right",
          "xref": "x2 domain",
          "y": 0.4,
          "yanchor": "bottom",
          "yref": "y2"
         }
        ],
        "height": 1000,
        "legend": {
         "orientation": "h",
         "x": 1,
         "xanchor": "right",
         "y": 1.02,
         "yanchor": "bottom"
        },
        "shapes": [
         {
          "line": {
           "color": "red",
           "dash": "dash"
          },
          "type": "line",
          "x0": 0,
          "x1": 1,
          "xref": "x domain",
          "y0": 4,
          "y1": 4,
          "yref": "y"
         },
         {
          "line": {
           "color": "red",
           "dash": "dash"
          },
          "type": "line",
          "x0": 0,
          "x1": 1,
          "xref": "x2 domain",
          "y0": 0.4,
          "y1": 0.4,
          "yref": "y2"
         }
        ],
        "showlegend": true,
        "template": {
         "data": {
          "bar": [
           {
            "error_x": {
             "color": "#2a3f5f"
            },
            "error_y": {
             "color": "#2a3f5f"
            },
            "marker": {
             "line": {
              "color": "white",
              "width": 0.5
             },
             "pattern": {
              "fillmode": "overlay",
              "size": 10,
              "solidity": 0.2
             }
            },
            "type": "bar"
           }
          ],
          "barpolar": [
           {
            "marker": {
             "line": {
              "color": "white",
              "width": 0.5
             },
             "pattern": {
              "fillmode": "overlay",
              "size": 10,
              "solidity": 0.2
             }
            },
            "type": "barpolar"
           }
          ],
          "carpet": [
           {
            "aaxis": {
             "endlinecolor": "#2a3f5f",
             "gridcolor": "#C8D4E3",
             "linecolor": "#C8D4E3",
             "minorgridcolor": "#C8D4E3",
             "startlinecolor": "#2a3f5f"
            },
            "baxis": {
             "endlinecolor": "#2a3f5f",
             "gridcolor": "#C8D4E3",
             "linecolor": "#C8D4E3",
             "minorgridcolor": "#C8D4E3",
             "startlinecolor": "#2a3f5f"
            },
            "type": "carpet"
           }
          ],
          "choropleth": [
           {
            "colorbar": {
             "outlinewidth": 0,
             "ticks": ""
            },
            "type": "choropleth"
           }
          ],
          "contour": [
           {
            "colorbar": {
             "outlinewidth": 0,
             "ticks": ""
            },
            "colorscale": [
             [
              0,
              "#0d0887"
             ],
             [
              0.1111111111111111,
              "#46039f"
             ],
             [
              0.2222222222222222,
              "#7201a8"
             ],
             [
              0.3333333333333333,
              "#9c179e"
             ],
             [
              0.4444444444444444,
              "#bd3786"
             ],
             [
              0.5555555555555556,
              "#d8576b"
             ],
             [
              0.6666666666666666,
              "#ed7953"
             ],
             [
              0.7777777777777778,
              "#fb9f3a"
             ],
             [
              0.8888888888888888,
              "#fdca26"
             ],
             [
              1,
              "#f0f921"
             ]
            ],
            "type": "contour"
           }
          ],
          "contourcarpet": [
           {
            "colorbar": {
             "outlinewidth": 0,
             "ticks": ""
            },
            "type": "contourcarpet"
           }
          ],
          "heatmap": [
           {
            "colorbar": {
             "outlinewidth": 0,
             "ticks": ""
            },
            "colorscale": [
             [
              0,
              "#0d0887"
             ],
             [
              0.1111111111111111,
              "#46039f"
             ],
             [
              0.2222222222222222,
              "#7201a8"
             ],
             [
              0.3333333333333333,
              "#9c179e"
             ],
             [
              0.4444444444444444,
              "#bd3786"
             ],
             [
              0.5555555555555556,
              "#d8576b"
             ],
             [
              0.6666666666666666,
              "#ed7953"
             ],
             [
              0.7777777777777778,
              "#fb9f3a"
             ],
             [
              0.8888888888888888,
              "#fdca26"
             ],
             [
              1,
              "#f0f921"
             ]
            ],
            "type": "heatmap"
           }
          ],
          "histogram": [
           {
            "marker": {
             "pattern": {
              "fillmode": "overlay",
              "size": 10,
              "solidity": 0.2
             }
            },
            "type": "histogram"
           }
          ],
          "histogram2d": [
           {
            "colorbar": {
             "outlinewidth": 0,
             "ticks": ""
            },
            "colorscale": [
             [
              0,
              "#0d0887"
             ],
             [
              0.1111111111111111,
              "#46039f"
             ],
             [
              0.2222222222222222,
              "#7201a8"
             ],
             [
              0.3333333333333333,
              "#9c179e"
             ],
             [
              0.4444444444444444,
              "#bd3786"
             ],
             [
              0.5555555555555556,
              "#d8576b"
             ],
             [
              0.6666666666666666,
              "#ed7953"
             ],
             [
              0.7777777777777778,
              "#fb9f3a"
             ],
             [
              0.8888888888888888,
              "#fdca26"
             ],
             [
              1,
              "#f0f921"
             ]
            ],
            "type": "histogram2d"
           }
          ],
          "histogram2dcontour": [
           {
            "colorbar": {
             "outlinewidth": 0,
             "ticks": ""
            },
            "colorscale": [
             [
              0,
              "#0d0887"
             ],
             [
              0.1111111111111111,
              "#46039f"
             ],
             [
              0.2222222222222222,
              "#7201a8"
             ],
             [
              0.3333333333333333,
              "#9c179e"
             ],
             [
              0.4444444444444444,
              "#bd3786"
             ],
             [
              0.5555555555555556,
              "#d8576b"
             ],
             [
              0.6666666666666666,
              "#ed7953"
             ],
             [
              0.7777777777777778,
              "#fb9f3a"
             ],
             [
              0.8888888888888888,
              "#fdca26"
             ],
             [
              1,
              "#f0f921"
             ]
            ],
            "type": "histogram2dcontour"
           }
          ],
          "mesh3d": [
           {
            "colorbar": {
             "outlinewidth": 0,
             "ticks": ""
            },
            "type": "mesh3d"
           }
          ],
          "parcoords": [
           {
            "line": {
             "colorbar": {
              "outlinewidth": 0,
              "ticks": ""
             }
            },
            "type": "parcoords"
           }
          ],
          "pie": [
           {
            "automargin": true,
            "type": "pie"
           }
          ],
          "scatter": [
           {
            "fillpattern": {
             "fillmode": "overlay",
             "size": 10,
             "solidity": 0.2
            },
            "type": "scatter"
           }
          ],
          "scatter3d": [
           {
            "line": {
             "colorbar": {
              "outlinewidth": 0,
              "ticks": ""
             }
            },
            "marker": {
             "colorbar": {
              "outlinewidth": 0,
              "ticks": ""
             }
            },
            "type": "scatter3d"
           }
          ],
          "scattercarpet": [
           {
            "marker": {
             "colorbar": {
              "outlinewidth": 0,
              "ticks": ""
             }
            },
            "type": "scattercarpet"
           }
          ],
          "scattergeo": [
           {
            "marker": {
             "colorbar": {
              "outlinewidth": 0,
              "ticks": ""
             }
            },
            "type": "scattergeo"
           }
          ],
          "scattergl": [
           {
            "marker": {
             "colorbar": {
              "outlinewidth": 0,
              "ticks": ""
             }
            },
            "type": "scattergl"
           }
          ],
          "scattermap": [
           {
            "marker": {
             "colorbar": {
              "outlinewidth": 0,
              "ticks": ""
             }
            },
            "type": "scattermap"
           }
          ],
          "scattermapbox": [
           {
            "marker": {
             "colorbar": {
              "outlinewidth": 0,
              "ticks": ""
             }
            },
            "type": "scattermapbox"
           }
          ],
          "scatterpolar": [
           {
            "marker": {
             "colorbar": {
              "outlinewidth": 0,
              "ticks": ""
             }
            },
            "type": "scatterpolar"
           }
          ],
          "scatterpolargl": [
           {
            "marker": {
             "colorbar": {
              "outlinewidth": 0,
              "ticks": ""
             }
            },
            "type": "scatterpolargl"
           }
          ],
          "scatterternary": [
           {
            "marker": {
             "colorbar": {
              "outlinewidth": 0,
              "ticks": ""
             }
            },
            "type": "scatterternary"
           }
          ],
          "surface": [
           {
            "colorbar": {
             "outlinewidth": 0,
             "ticks": ""
            },
            "colorscale": [
             [
              0,
              "#0d0887"
             ],
             [
              0.1111111111111111,
              "#46039f"
             ],
             [
              0.2222222222222222,
              "#7201a8"
             ],
             [
              0.3333333333333333,
              "#9c179e"
             ],
             [
              0.4444444444444444,
              "#bd3786"
             ],
             [
              0.5555555555555556,
              "#d8576b"
             ],
             [
              0.6666666666666666,
              "#ed7953"
             ],
             [
              0.7777777777777778,
              "#fb9f3a"
             ],
             [
              0.8888888888888888,
              "#fdca26"
             ],
             [
              1,
              "#f0f921"
             ]
            ],
            "type": "surface"
           }
          ],
          "table": [
           {
            "cells": {
             "fill": {
              "color": "#EBF0F8"
             },
             "line": {
              "color": "white"
             }
            },
            "header": {
             "fill": {
              "color": "#C8D4E3"
             },
             "line": {
              "color": "white"
             }
            },
            "type": "table"
           }
          ]
         },
         "layout": {
          "annotationdefaults": {
           "arrowcolor": "#2a3f5f",
           "arrowhead": 0,
           "arrowwidth": 1
          },
          "autotypenumbers": "strict",
          "coloraxis": {
           "colorbar": {
            "outlinewidth": 0,
            "ticks": ""
           }
          },
          "colorscale": {
           "diverging": [
            [
             0,
             "#8e0152"
            ],
            [
             0.1,
             "#c51b7d"
            ],
            [
             0.2,
             "#de77ae"
            ],
            [
             0.3,
             "#f1b6da"
            ],
            [
             0.4,
             "#fde0ef"
            ],
            [
             0.5,
             "#f7f7f7"
            ],
            [
             0.6,
             "#e6f5d0"
            ],
            [
             0.7,
             "#b8e186"
            ],
            [
             0.8,
             "#7fbc41"
            ],
            [
             0.9,
             "#4d9221"
            ],
            [
             1,
             "#276419"
            ]
           ],
           "sequential": [
            [
             0,
             "#0d0887"
            ],
            [
             0.1111111111111111,
             "#46039f"
            ],
            [
             0.2222222222222222,
             "#7201a8"
            ],
            [
             0.3333333333333333,
             "#9c179e"
            ],
            [
             0.4444444444444444,
             "#bd3786"
            ],
            [
             0.5555555555555556,
             "#d8576b"
            ],
            [
             0.6666666666666666,
             "#ed7953"
            ],
            [
             0.7777777777777778,
             "#fb9f3a"
            ],
            [
             0.8888888888888888,
             "#fdca26"
            ],
            [
             1,
             "#f0f921"
            ]
           ],
           "sequentialminus": [
            [
             0,
             "#0d0887"
            ],
            [
             0.1111111111111111,
             "#46039f"
            ],
            [
             0.2222222222222222,
             "#7201a8"
            ],
            [
             0.3333333333333333,
             "#9c179e"
            ],
            [
             0.4444444444444444,
             "#bd3786"
            ],
            [
             0.5555555555555556,
             "#d8576b"
            ],
            [
             0.6666666666666666,
             "#ed7953"
            ],
            [
             0.7777777777777778,
             "#fb9f3a"
            ],
            [
             0.8888888888888888,
             "#fdca26"
            ],
            [
             1,
             "#f0f921"
            ]
           ]
          },
          "colorway": [
           "#636efa",
           "#EF553B",
           "#00cc96",
           "#ab63fa",
           "#FFA15A",
           "#19d3f3",
           "#FF6692",
           "#B6E880",
           "#FF97FF",
           "#FECB52"
          ],
          "font": {
           "color": "#2a3f5f"
          },
          "geo": {
           "bgcolor": "white",
           "lakecolor": "white",
           "landcolor": "white",
           "showlakes": true,
           "showland": true,
           "subunitcolor": "#C8D4E3"
          },
          "hoverlabel": {
           "align": "left"
          },
          "hovermode": "closest",
          "mapbox": {
           "style": "light"
          },
          "paper_bgcolor": "white",
          "plot_bgcolor": "white",
          "polar": {
           "angularaxis": {
            "gridcolor": "#EBF0F8",
            "linecolor": "#EBF0F8",
            "ticks": ""
           },
           "bgcolor": "white",
           "radialaxis": {
            "gridcolor": "#EBF0F8",
            "linecolor": "#EBF0F8",
            "ticks": ""
           }
          },
          "scene": {
           "xaxis": {
            "backgroundcolor": "white",
            "gridcolor": "#DFE8F3",
            "gridwidth": 2,
            "linecolor": "#EBF0F8",
            "showbackground": true,
            "ticks": "",
            "zerolinecolor": "#EBF0F8"
           },
           "yaxis": {
            "backgroundcolor": "white",
            "gridcolor": "#DFE8F3",
            "gridwidth": 2,
            "linecolor": "#EBF0F8",
            "showbackground": true,
            "ticks": "",
            "zerolinecolor": "#EBF0F8"
           },
           "zaxis": {
            "backgroundcolor": "white",
            "gridcolor": "#DFE8F3",
            "gridwidth": 2,
            "linecolor": "#EBF0F8",
            "showbackground": true,
            "ticks": "",
            "zerolinecolor": "#EBF0F8"
           }
          },
          "shapedefaults": {
           "line": {
            "color": "#2a3f5f"
           }
          },
          "ternary": {
           "aaxis": {
            "gridcolor": "#DFE8F3",
            "linecolor": "#A2B1C6",
            "ticks": ""
           },
           "baxis": {
            "gridcolor": "#DFE8F3",
            "linecolor": "#A2B1C6",
            "ticks": ""
           },
           "bgcolor": "white",
           "caxis": {
            "gridcolor": "#DFE8F3",
            "linecolor": "#A2B1C6",
            "ticks": ""
           }
          },
          "title": {
           "x": 0.05
          },
          "xaxis": {
           "automargin": true,
           "gridcolor": "#EBF0F8",
           "linecolor": "#EBF0F8",
           "ticks": "",
           "title": {
            "standoff": 15
           },
           "zerolinecolor": "#EBF0F8",
           "zerolinewidth": 2
          },
          "yaxis": {
           "automargin": true,
           "gridcolor": "#EBF0F8",
           "linecolor": "#EBF0F8",
           "ticks": "",
           "title": {
            "standoff": 15
           },
           "zerolinecolor": "#EBF0F8",
           "zerolinewidth": 2
          }
         }
        },
        "title": {
         "font": {
          "size": 24
         },
         "text": "Análisis de Stock por Cavas",
         "x": 0.5,
         "xanchor": "center",
         "y": 0.95,
         "yanchor": "top"
        },
        "xaxis": {
         "anchor": "y",
         "domain": [
          0,
          1
         ],
         "tickangle": 45,
         "title": {
          "text": "Producto"
         }
        },
        "xaxis2": {
         "anchor": "y2",
         "domain": [
          0,
          1
         ],
         "tickangle": 45,
         "title": {
          "text": "Producto"
         }
        },
        "yaxis": {
         "anchor": "x",
         "domain": [
          0.6000000000000001,
          1
         ],
         "title": {
          "text": "Semanas de Cobertura"
         }
        },
        "yaxis2": {
         "anchor": "x2",
         "domain": [
          0,
          0.4
         ],
         "title": {
          "text": "Semanas de Cobertura"
         }
        }
       }
      }
     },
     "metadata": {},
     "output_type": "display_data"
    },
    {
     "name": "stdout",
     "output_type": "stream",
     "text": [
      "\n",
      "Resumen de Estado de Stock por Cava:\n",
      "\n",
      "Cantidad de productos por estado y cava:\n",
      "Estado  Sobrestock  Stock Crítico  Stock Normal\n",
      "Cava                                           \n",
      "Cava 1           0              1             1\n",
      "Cava 2          29             15             9\n",
      "\n",
      "Detalle de productos con sobrestock:\n",
      "  Cava                 Producto  Stock_Actual  Promedio_Semanal  Semanas_Cobertura\n",
      "Cava 2      COSTILLA INDUSTRIAL         190.8              11.5               16.6\n",
      "Cava 2        CHULETA DE COGOTE         113.5               9.6               11.8\n",
      "Cava 2          CHULETA DE LOMO          80.3              13.9                5.8\n",
      "Cava 2 Chorizo Ahumado x19 Unds         471.0             104.0                4.5\n",
      "Cava 2                  ASERRIN         156.6              35.1                4.5\n",
      "Cava 2                    FALDA          70.8              17.5                4.0\n",
      "Cava 2         GOULASH ESPECIAL         267.2              83.9                3.2\n",
      "Cava 2         CHULETA DE BRAZO         560.8             191.5                2.9\n",
      "Cava 2                 OSOBUCOS          35.5              12.8                2.8\n",
      "Cava 2                 DECOMISO          86.2              32.6                2.6\n",
      "Cava 2 CHORIZO SANTAROSANO X500           9.0               3.5                2.6\n",
      "Cava 2       PUNTAS DE COSTILLA        1180.7             475.8                2.5\n",
      "Cava 2       COSTILLA MOSTRADOR           9.1               4.3                2.1\n",
      "Cava 2       COSTILLA BABY BACK         436.5             238.5                1.8\n",
      "Cava 2                 SOLOMITO         181.4             130.7                1.4\n",
      "Cava 2                 CHULETON          15.7              13.9                1.1\n",
      "Cava 2    MILANESA CERDO X KILO         282.8             252.5                1.1\n",
      "Cava 2         RECORTE ESPECIAL         870.6             955.9                0.9\n",
      "Cava 2        ESPINAZO ESPECIAL          13.7              15.7                0.9\n",
      "Cava 2                  BERIJAS         148.2             175.6                0.8\n",
      "Cava 2                 DESPALME         264.9             379.5                0.7\n",
      "Cava 2         RACK DE COSTILLA          34.1              49.9                0.7\n",
      "Cava 2        Recorte De Pierna         462.4             702.2                0.7\n",
      "Cava 2           CODOS CON PIEL          60.3              97.8                0.6\n",
      "Cava 2                  COJINES          19.4              34.0                0.6\n",
      "Cava 2  CHICHARRON CARNUDO X KG         133.1             238.7                0.6\n",
      "Cava 2                  CANASTO          45.9              84.2                0.5\n",
      "Cava 2          BONDIOLA TAJADA         176.6             337.8                0.5\n",
      "Cava 2           TOCINO BARRIGA         245.6             537.6                0.5\n"
     ]
    }
   ],
   "source": [
    "import plotly.graph_objects as go\n",
    "from plotly.subplots import make_subplots\n",
    "\n",
    "# Calcular semanas de cobertura\n",
    "analisis['Semanas_Cobertura'] = analisis['Stock_Actual'] / analisis['Promedio_Semanal'].where(analisis['Promedio_Semanal'] > 0, float('inf'))\n",
    "\n",
    "# Definir las cavas y los límites de sobrestock\n",
    "CAVA1_LIMITE = 4  # 4 semanas para Cava 1\n",
    "CAVA2_LIMITE = 0.4  # 0.4 semanas para Cava 2\n",
    "\n",
    "# Lista de productos por cava (ajusta estos según tus datos reales)\n",
    "productos_cava1 = [\n",
    "    'PERNIL',\n",
    "    'TOCINO',\n",
    "    'COSTILLA',\n",
    "    'BRAZO',\n",
    "    'CHULETA',\n",
    "    'CABEZA DE LOMO',\n",
    "    'PAPADA',\n",
    "    'RECORTES INDUSTRIALES',\n",
    "    'EMPELLA'\n",
    "]\n",
    "\n",
    "# Identificar la cava y el estado de stock\n",
    "def determinar_estado(row):\n",
    "    if row['Producto'] in productos_cava1:\n",
    "        cava = 'Cava 1'\n",
    "        limite = CAVA1_LIMITE\n",
    "    else:\n",
    "        cava = 'Cava 2'\n",
    "        limite = CAVA2_LIMITE\n",
    "    \n",
    "    if pd.isna(row['Semanas_Cobertura']) or row['Semanas_Cobertura'] == float('inf'):\n",
    "        estado = 'Sin Ventas'\n",
    "    elif row['Semanas_Cobertura'] > limite:\n",
    "        estado = 'Sobrestock'\n",
    "    elif row['Semanas_Cobertura'] < limite/2:  # Mitad del límite como punto crítico\n",
    "        estado = 'Stock Crítico'\n",
    "    else:\n",
    "        estado = 'Stock Normal'\n",
    "    \n",
    "    return pd.Series({'Cava': cava, 'Estado': estado})\n",
    "\n",
    "# Aplicar la lógica de cavas y estados\n",
    "analisis[['Cava', 'Estado']] = analisis.apply(determinar_estado, axis=1)\n",
    "\n",
    "# Preparar datos para visualización\n",
    "analisis_cavas = analisis.copy()\n",
    "analisis_cavas['Semanas_Cobertura'] = analisis_cavas['Semanas_Cobertura'].replace([float('inf')], 999)  # Para mejor visualización\n",
    "\n",
    "# Crear figura\n",
    "fig = make_subplots(\n",
    "    rows=2, cols=1,\n",
    "    subplot_titles=(\n",
    "        \"Productos en Cava 1 (Límite: 4 semanas)\",\n",
    "        \"Productos en Cava 2 (Límite: 0.4 semanas)\"\n",
    "    ),\n",
    "    vertical_spacing=0.2\n",
    ")\n",
    "\n",
    "# Colores\n",
    "colors = {\n",
    "    'sobrestock': '#E74C3C',    # Rojo\n",
    "    'normal': '#2ECC71',        # Verde\n",
    "    'critico': '#3498DB',       # Azul\n",
    "    'sin_ventas': '#95A5A6'     # Gris\n",
    "}\n",
    "\n",
    "# Función para agregar gráficas por cava\n",
    "def agregar_graficas_cava(datos_cava, row, limite):\n",
    "    datos_ordenados = datos_cava.sort_values('Semanas_Cobertura', ascending=False)\n",
    "    \n",
    "    # Crear barras con colores según estado\n",
    "    for estado, color in [('Sobrestock', colors['sobrestock']), \n",
    "                         ('Stock Normal', colors['normal']),\n",
    "                         ('Stock Crítico', colors['critico']),\n",
    "                         ('Sin Ventas', colors['sin_ventas'])]:\n",
    "        mask = datos_ordenados['Estado'] == estado\n",
    "        if mask.any():\n",
    "            fig.add_trace(\n",
    "                go.Bar(\n",
    "                    name=estado,\n",
    "                    x=datos_ordenados[mask]['Producto'],\n",
    "                    y=datos_ordenados[mask]['Semanas_Cobertura'],\n",
    "                    marker_color=color,\n",
    "                    text=datos_ordenados[mask]['Semanas_Cobertura'].apply(lambda x: f\"{x:.1f} sem\"),\n",
    "                    textposition='outside',\n",
    "                    showlegend=(row==1)\n",
    "                ),\n",
    "                row=row, col=1\n",
    "            )\n",
    "    \n",
    "    # Agregar línea de límite\n",
    "    fig.add_hline(\n",
    "        y=limite,\n",
    "        line_dash=\"dash\",\n",
    "        line_color=\"red\",\n",
    "        annotation_text=f\"Límite: {limite} semanas\",\n",
    "        row=row, col=1\n",
    "    )\n",
    "\n",
    "# Agregar datos para cada cava\n",
    "agregar_graficas_cava(analisis_cavas[analisis_cavas['Cava'] == 'Cava 1'], 1, CAVA1_LIMITE)\n",
    "agregar_graficas_cava(analisis_cavas[analisis_cavas['Cava'] == 'Cava 2'], 2, CAVA2_LIMITE)\n",
    "\n",
    "# Actualizar layout\n",
    "fig.update_layout(\n",
    "    height=1000,\n",
    "    title={\n",
    "        'text': \"Análisis de Stock por Cavas\",\n",
    "        'y':0.95,\n",
    "        'x':0.5,\n",
    "        'xanchor': 'center',\n",
    "        'yanchor': 'top',\n",
    "        'font': {'size': 24}\n",
    "    },\n",
    "    showlegend=True,\n",
    "    template='plotly_white',\n",
    "    legend=dict(\n",
    "        orientation=\"h\",\n",
    "        yanchor=\"bottom\",\n",
    "        y=1.02,\n",
    "        xanchor=\"right\",\n",
    "        x=1\n",
    "    )\n",
    ")\n",
    "\n",
    "# Actualizar ejes\n",
    "for i in [1, 2]:\n",
    "    fig.update_xaxes(\n",
    "        title_text=\"Producto\",\n",
    "        tickangle=45,\n",
    "        row=i, col=1\n",
    "    )\n",
    "    fig.update_yaxes(\n",
    "        title_text=\"Semanas de Cobertura\",\n",
    "        row=i, col=1\n",
    "    )\n",
    "\n",
    "fig.show()\n",
    "\n",
    "# Mostrar resumen detallado\n",
    "print(\"\\nResumen de Estado de Stock por Cava:\")\n",
    "resumen = analisis.groupby(['Cava', 'Estado']).size().unstack(fill_value=0)\n",
    "print(\"\\nCantidad de productos por estado y cava:\")\n",
    "print(resumen)\n",
    "\n",
    "print(\"\\nDetalle de productos con sobrestock:\")\n",
    "sobrestock = analisis[analisis['Estado'] == 'Sobrestock'].sort_values(['Cava', 'Semanas_Cobertura'], ascending=[True, False])\n",
    "print(sobrestock[['Cava', 'Producto', 'Stock_Actual', 'Promedio_Semanal', 'Semanas_Cobertura']].to_string(\n",
    "    index=False,\n",
    "    float_format=lambda x: '{:.1f}'.format(x)\n",
    "))"
   ]
  },
  {
   "cell_type": "code",
   "execution_count": 14,
   "id": "f54388cc",
   "metadata": {},
   "outputs": [
    {
     "name": "stdout",
     "output_type": "stream",
     "text": [
      "Columnas disponibles en el DataFrame:\n",
      "['Codigo', 'Producto', 'Stock_Actual', 'Total_Vendido', 'Num_Ventas', 'Promedio_Semanal', 'Estado', 'Diferencia', 'Ratio_Cobertura', 'Semanas_Cobertura', 'Cava']\n"
     ]
    }
   ],
   "source": [
    "# Verificar las columnas disponibles\n",
    "print(\"Columnas disponibles en el DataFrame:\")\n",
    "print(analisis.columns.tolist())"
   ]
  },
  {
   "cell_type": "code",
   "execution_count": 23,
   "id": "16843dcd",
   "metadata": {},
   "outputs": [
    {
     "data": {
      "text/html": [
       "\n",
       "\n",
       "<style>\n",
       "    .stock-table {\n",
       "        width: 100%;\n",
       "        border-collapse: collapse;\n",
       "        margin: 25px 0;\n",
       "        font-size: 14px;\n",
       "        font-family: Arial, sans-serif;\n",
       "        box-shadow: 0 0 20px rgba(0, 0, 0, 0.15);\n",
       "        background-color: #1a1a2e;\n",
       "        color: white;\n",
       "    }\n",
       "    .stock-table thead tr {\n",
       "        background-color: #2d2d44;\n",
       "        color: white;\n",
       "        text-align: left;\n",
       "    }\n",
       "    .stock-table th,\n",
       "    .stock-table td {\n",
       "        padding: 12px 15px;\n",
       "        border-bottom: 1px solid #3f3f5f;\n",
       "    }\n",
       "    .stock-table tbody tr {\n",
       "        border-bottom: 1px solid #3f3f5f;\n",
       "    }\n",
       "    .sobre-stock {\n",
       "        background-color: #7c1d1d !important;\n",
       "    }\n",
       "    .stock-bajo {\n",
       "        background-color: #614a1f !important;\n",
       "    }\n",
       "    .stock-adecuado {\n",
       "        background-color: #1f4937 !important;\n",
       "    }\n",
       "    .sin-ventas {\n",
       "        background-color: #2d2d44 !important;\n",
       "    }\n",
       "    .stock-table th {\n",
       "        background-color: #2d2d44;\n",
       "        font-weight: bold;\n",
       "    }\n",
       "</style>\n",
       "\n",
       "<div style=\"margin: 20px 0;\">\n",
       "    <h2 style=\"color: white; margin-bottom: 20px;\">Análisis de Stock por Ubicación de Almacenamiento</h2>\n",
       "    <table class=\"stock-table\">\n",
       "        <thead>\n",
       "            <tr><th>Código</th>\n",
       "        </thead>\n",
       "        <tbody>\n",
       "            <th>Producto</th><th>Ubicación</th><th>Stock Actual (kg)</th><th>Prom. Ventas/Sem (kg)</th><th>Semanas de Stock</th><th>Estado</th></tr><tr class='sobre-stock'><td>71</td><td>PUNTAS DE COSTILLA</td><td>Congelado (nan)</td><td>1180.7</td><td>475.8</td><td>2.5</td><td>Sobre Stock</td></tr><tr class='sobre-stock'><td>256</td><td>RECORTE ESPECIAL</td><td>Congelado (nan)</td><td>870.6</td><td>955.9</td><td>0.9</td><td>Sobre Stock</td></tr><tr class='sobre-stock'><td>307</td><td>CABEZA DE LOMO</td><td>Congelado (nan)</td><td>761.8</td><td>214.1</td><td>3.6</td><td>Sobre Stock</td></tr><tr class='stock-adecuado'><td>316</td><td>MILANESA DE PIERNA</td><td>Congelado (nan)</td><td>689.6</td><td>3248.3</td><td>0.2</td><td>Stock Adecuado</td></tr><tr class='sobre-stock'><td>6</td><td>CHULETA DE BRAZO</td><td>Congelado (nan)</td><td>560.8</td><td>191.5</td><td>2.9</td><td>Sobre Stock</td></tr><tr class='sin-ventas'><td>328</td><td>PERNIL DESPOSTE </td><td>Congelado (nan)</td><td>507.2</td><td>0.0</td><td>Sin datos</td><td>Sin Ventas</td></tr><tr class='sobre-stock'><td>512</td><td>Chorizo Ahumado x19 Unds</td><td>Congelado (nan)</td><td>471.0</td><td>104.0</td><td>4.5</td><td>Sobre Stock</td></tr><tr class='sobre-stock'><td>280</td><td>Recorte De Pierna</td><td>Congelado (nan)</td><td>462.4</td><td>702.2</td><td>0.7</td><td>Sobre Stock</td></tr><tr class='sobre-stock'><td>52</td><td>COSTILLA BABY BACK</td><td>Congelado (nan)</td><td>436.5</td><td>238.5</td><td>1.8</td><td>Sobre Stock</td></tr><tr class='sobre-stock'><td>314</td><td>MILANESA CERDO X KILO</td><td>Congelado (nan)</td><td>282.8</td><td>252.5</td><td>1.1</td><td>Sobre Stock</td></tr><tr class='sobre-stock'><td>322</td><td>GOULASH ESPECIAL</td><td>Congelado (nan)</td><td>267.2</td><td>83.9</td><td>3.2</td><td>Sobre Stock</td></tr><tr class='sobre-stock'><td>253</td><td>DESPALME</td><td>Congelado (nan)</td><td>264.9</td><td>379.5</td><td>0.7</td><td>Sobre Stock</td></tr><tr class='sobre-stock'><td>355</td><td>TOCINO BARRIGA</td><td>Congelado (nan)</td><td>245.6</td><td>537.6</td><td>0.5</td><td>Sobre Stock</td></tr><tr class='stock-adecuado'><td>251</td><td>CABEZA</td><td>Congelado (nan)</td><td>211.8</td><td>837.1</td><td>0.3</td><td>Stock Adecuado</td></tr><tr class='sin-ventas'><td>333</td><td>BRAZO DESPOSTE </td><td>Congelado (nan)</td><td>210.0</td><td>0.0</td><td>Sin datos</td><td>Sin Ventas</td></tr><tr class='sobre-stock'><td>268</td><td>EMPELLA</td><td>Congelado (nan)</td><td>198.3</td><td>162.8</td><td>1.2</td><td>Sobre Stock</td></tr><tr class='sobre-stock'><td>325</td><td>COSTILLA INDUSTRIAL</td><td>Congelado (nan)</td><td>190.8</td><td>11.5</td><td>16.6</td><td>Sobre Stock</td></tr><tr class='sobre-stock'><td>313</td><td>SOLOMITO</td><td>Congelado (nan)</td><td>181.4</td><td>130.7</td><td>1.4</td><td>Sobre Stock</td></tr><tr class='stock-adecuado'><td>55</td><td>COSTILLA SAN LUIS</td><td>Congelado (nan)</td><td>180.5</td><td>688.1</td><td>0.3</td><td>Stock Adecuado</td></tr><tr class='stock-adecuado'><td>315</td><td>LOMO ALMENDRA</td><td>Congelado (nan)</td><td>179.3</td><td>778.8</td><td>0.2</td><td>Stock Adecuado</td></tr><tr class='sobre-stock'><td>362</td><td>BONDIOLA TAJADA</td><td>Congelado (nan)</td><td>176.6</td><td>337.8</td><td>0.5</td><td>Sobre Stock</td></tr><tr class='stock-adecuado'><td>358</td><td>PLANCHA</td><td>Congelado (nan)</td><td>163.8</td><td>532.5</td><td>0.3</td><td>Stock Adecuado</td></tr><tr class='sobre-stock'><td>365</td><td>ASERRIN</td><td>Congelado (nan)</td><td>156.6</td><td>35.1</td><td>4.5</td><td>Sobre Stock</td></tr><tr class='sobre-stock'><td>364</td><td>BERIJAS</td><td>Congelado (nan)</td><td>148.2</td><td>175.6</td><td>0.8</td><td>Sobre Stock</td></tr><tr class='sobre-stock'><td>367</td><td>CHICHARRON CARNUDO X KG</td><td>Congelado (nan)</td><td>133.1</td><td>238.7</td><td>0.6</td><td>Sobre Stock</td></tr><tr class='sobre-stock'><td>4</td><td>CHULETA DE COGOTE</td><td>Congelado (nan)</td><td>113.5</td><td>9.6</td><td>11.8</td><td>Sobre Stock</td></tr><tr class='stock-bajo'><td>356</td><td>TOCINO CORRIENTE</td><td>Congelado (nan)</td><td>111.4</td><td>687.7</td><td>0.2</td><td>Stock Bajo</td></tr><tr class='sobre-stock'><td>270</td><td>DECOMISO</td><td>Congelado (nan)</td><td>86.2</td><td>32.6</td><td>2.6</td><td>Sobre Stock</td></tr><tr class='sobre-stock'><td>9</td><td>CHULETA DE LOMO</td><td>Congelado (nan)</td><td>80.3</td><td>13.9</td><td>5.8</td><td>Sobre Stock</td></tr><tr class='sobre-stock'><td>58</td><td>COSTIPIEL</td><td>Congelado (nan)</td><td>75.7</td><td>-0.3</td><td>Sin datos</td><td>Sobre Stock</td></tr><tr class='stock-adecuado'><td>360</td><td>TOCINETA ANTIOQUEÑA</td><td>Congelado (nan)</td><td>75.5</td><td>219.7</td><td>0.3</td><td>Stock Adecuado</td></tr><tr class='sobre-stock'><td>311</td><td>FALDA</td><td>Congelado (nan)</td><td>70.8</td><td>17.5</td><td>4.0</td><td>Sobre Stock</td></tr><tr class='stock-bajo'><td>357</td><td>TOCINO DORSAL</td><td>Congelado (nan)</td><td>68.2</td><td>439.0</td><td>0.2</td><td>Stock Bajo</td></tr><tr class='stock-adecuado'><td>353</td><td>PAPADA CON PIEL</td><td>Congelado (nan)</td><td>64.7</td><td>275.1</td><td>0.2</td><td>Stock Adecuado</td></tr><tr class='sobre-stock'><td>202</td><td>CODOS CON PIEL</td><td>Congelado (nan)</td><td>60.3</td><td>97.8</td><td>0.6</td><td>Sobre Stock</td></tr><tr class='stock-bajo'><td>254</td><td>HUESO POROZO</td><td>Congelado (nan)</td><td>54.8</td><td>537.0</td><td>0.1</td><td>Stock Bajo</td></tr><tr class='stock-bajo'><td>304</td><td>BRAZO PULPO</td><td>Congelado (nan)</td><td>51.7</td><td>667.2</td><td>0.1</td><td>Stock Bajo</td></tr><tr class='sobre-stock'><td>51</td><td>CANASTO</td><td>Congelado (nan)</td><td>45.9</td><td>84.2</td><td>0.5</td><td>Sobre Stock</td></tr><tr class='stock-adecuado'><td>258</td><td>SANGRADOS</td><td>Congelado (nan)</td><td>41.1</td><td>109.1</td><td>0.4</td><td>Stock Adecuado</td></tr><tr class='sobre-stock'><td>204</td><td>OSOBUCOS</td><td>Congelado (nan)</td><td>35.5</td><td>12.8</td><td>2.8</td><td>Sobre Stock</td></tr><tr class='sobre-stock'><td>61</td><td>RACK DE COSTILLA</td><td>Congelado (nan)</td><td>34.1</td><td>49.9</td><td>0.7</td><td>Sobre Stock</td></tr><tr class='stock-bajo'><td>208</td><td>PEZUÑA</td><td>Congelado (nan)</td><td>32.4</td><td>263.5</td><td>0.1</td><td>Stock Bajo</td></tr><tr class='stock-bajo'><td>264</td><td>COLAS Y COGOTES</td><td>Congelado (nan)</td><td>24.8</td><td>161.3</td><td>0.2</td><td>Stock Bajo</td></tr><tr class='stock-adecuado'><td>352</td><td>TOCINO PIANO CON PIEL</td><td>Congelado (nan)</td><td>20.1</td><td>76.3</td><td>0.3</td><td>Stock Adecuado</td></tr><tr class='stock-bajo'><td>303</td><td>BONDIOLA</td><td>Congelado (nan)</td><td>19.6</td><td>547.2</td><td>0.0</td><td>Stock Bajo</td></tr><tr class='sobre-stock'><td>102</td><td>COJINES</td><td>Congelado (nan)</td><td>19.4</td><td>34.0</td><td>0.6</td><td>Sobre Stock</td></tr><tr class='sobre-stock'><td>72</td><td>CHULETON</td><td>Congelado (nan)</td><td>15.7</td><td>13.9</td><td>1.1</td><td>Sobre Stock</td></tr><tr class='sobre-stock'><td>153</td><td>ESPINAZO ESPECIAL</td><td>Congelado (nan)</td><td>13.7</td><td>15.7</td><td>0.9</td><td>Sobre Stock</td></tr><tr class='sin-ventas'><td>320</td><td>LOMO DESPOSTE </td><td>Congelado (nan)</td><td>13.6</td><td>0.0</td><td>Sin datos</td><td>Sin Ventas</td></tr><tr class='sin-ventas'><td>259</td><td>RECORTE DE CHULETA</td><td>Congelado (nan)</td><td>11.7</td><td>0.0</td><td>Sin datos</td><td>Sin Ventas</td></tr><tr class='stock-bajo'><td>359</td><td>TOCINO PIANO SIN PIEL</td><td>Congelado (nan)</td><td>10.8</td><td>145.5</td><td>0.1</td><td>Stock Bajo</td></tr><tr class='stock-bajo'><td>305</td><td>CARNE MOLIDA</td><td>Congelado (nan)</td><td>10.2</td><td>120.2</td><td>0.1</td><td>Stock Bajo</td></tr><tr class='sobre-stock'><td>64</td><td>COSTILLA MOSTRADOR</td><td>Congelado (nan)</td><td>9.1</td><td>4.3</td><td>2.1</td><td>Sobre Stock</td></tr><tr class='sobre-stock'><td>501</td><td>CHORIZO SANTAROSANO X500</td><td>Congelado (nan)</td><td>9.0</td><td>3.5</td><td>2.6</td><td>Sobre Stock</td></tr><tr class='sin-ventas'><td>68</td><td>CARTILAGOS </td><td>Congelado (nan)</td><td>6.5</td><td>0.0</td><td>Sin datos</td><td>Sin Ventas</td></tr>\n",
       "        </tbody>\n",
       "    </table>\n",
       "</div>\n"
      ],
      "text/plain": [
       "<IPython.core.display.HTML object>"
      ]
     },
     "metadata": {},
     "output_type": "display_data"
    }
   ],
   "source": [
    "from IPython.display import display, HTML\n",
    "\n",
    "# Definir límites por ubicación\n",
    "def calcular_estado(row):\n",
    "    if pd.isna(row['Promedio_Semanal']) or row['Promedio_Semanal'] == 0:\n",
    "        return 'Sin Ventas'\n",
    "    \n",
    "    semanas_stock = row['Stock_Actual'] / row['Promedio_Semanal'] if row['Promedio_Semanal'] > 0 else float('inf')\n",
    "    \n",
    "    if row['Cava'] == 'CAVA 1':\n",
    "        if semanas_stock > 4:\n",
    "            return 'Sobre Stock'\n",
    "        elif semanas_stock < 2:\n",
    "            return 'Stock Bajo'\n",
    "        else:\n",
    "            return 'Stock Adecuado'\n",
    "    else:  # CAVA 2\n",
    "        if semanas_stock > 0.4:\n",
    "            return 'Sobre Stock'\n",
    "        elif semanas_stock < 0.2:\n",
    "            return 'Stock Bajo'\n",
    "        else:\n",
    "            return 'Stock Adecuado'\n",
    "\n",
    "# Preparar datos para la tabla\n",
    "tabla_stock = analisis.copy()\n",
    "tabla_stock['Semanas_de_Stock'] = tabla_stock.apply(\n",
    "    lambda row: row['Stock_Actual'] / row['Promedio_Semanal'] if row['Promedio_Semanal'] > 0 else float('inf'),\n",
    "    axis=1\n",
    ")\n",
    "tabla_stock['Estado'] = tabla_stock.apply(calcular_estado, axis=1)\n",
    "\n",
    "# Ordenar la tabla por Stock Actual de mayor a menor\n",
    "tabla_stock = tabla_stock.sort_values('Stock_Actual', ascending=False)\n",
    "\n",
    "# Estilos CSS para la tabla\n",
    "tabla_style = \"\"\"\n",
    "<style>\n",
    "    .stock-table {\n",
    "        width: 100%;\n",
    "        border-collapse: collapse;\n",
    "        margin: 25px 0;\n",
    "        font-size: 14px;\n",
    "        font-family: Arial, sans-serif;\n",
    "        box-shadow: 0 0 20px rgba(0, 0, 0, 0.15);\n",
    "        background-color: #1a1a2e;\n",
    "        color: white;\n",
    "    }\n",
    "    .stock-table thead tr {\n",
    "        background-color: #2d2d44;\n",
    "        color: white;\n",
    "        text-align: left;\n",
    "    }\n",
    "    .stock-table th,\n",
    "    .stock-table td {\n",
    "        padding: 12px 15px;\n",
    "        border-bottom: 1px solid #3f3f5f;\n",
    "    }\n",
    "    .stock-table tbody tr {\n",
    "        border-bottom: 1px solid #3f3f5f;\n",
    "    }\n",
    "    .sobre-stock {\n",
    "        background-color: #7c1d1d !important;\n",
    "    }\n",
    "    .stock-bajo {\n",
    "        background-color: #614a1f !important;\n",
    "    }\n",
    "    .stock-adecuado {\n",
    "        background-color: #1f4937 !important;\n",
    "    }\n",
    "    .sin-ventas {\n",
    "        background-color: #2d2d44 !important;\n",
    "    }\n",
    "    .stock-table th {\n",
    "        background-color: #2d2d44;\n",
    "        font-weight: bold;\n",
    "    }\n",
    "</style>\n",
    "\"\"\"\n",
    "\n",
    "# Función para determinar la clase CSS según el estado\n",
    "def get_row_class(estado):\n",
    "    if estado == 'Sobre Stock':\n",
    "        return 'sobre-stock'\n",
    "    elif estado == 'Stock Bajo':\n",
    "        return 'stock-bajo'\n",
    "    elif estado == 'Stock Adecuado':\n",
    "        return 'stock-adecuado'\n",
    "    else:\n",
    "        return 'sin-ventas'\n",
    "\n",
    "# Crear el HTML de la tabla\n",
    "html_rows = []\n",
    "html_rows.append(\"<tr>\")\n",
    "columns = ['Codigo', 'Producto', 'Cava', 'Stock_Actual', 'Promedio_Semanal', 'Semanas_de_Stock', 'Estado']\n",
    "headers = ['Código', 'Producto', 'Ubicación', 'Stock Actual (kg)', 'Prom. Ventas/Sem (kg)', 'Semanas de Stock', 'Estado']\n",
    "\n",
    "# Agregar encabezados\n",
    "for header in headers:\n",
    "    html_rows.append(f\"<th>{header}</th>\")\n",
    "html_rows.append(\"</tr>\")\n",
    "\n",
    "# Agregar filas de datos\n",
    "for _, row in tabla_stock.iterrows():\n",
    "    row_class = get_row_class(row['Estado'])\n",
    "    html_rows.append(f\"<tr class='{row_class}'>\")\n",
    "    \n",
    "    # Formatear cada columna\n",
    "    for col in columns:\n",
    "        if col in ['Stock_Actual', 'Promedio_Semanal']:\n",
    "            value = f\"{row[col]:.1f}\"\n",
    "        elif col == 'Semanas_de_Stock':\n",
    "            value = f\"{row[col]:.1f}\" if row[col] != float('inf') else 'Sin datos'\n",
    "        elif col == 'Cava':\n",
    "            value = f\"Congelado ({row[col]})\"\n",
    "        else:\n",
    "            value = str(row[col])\n",
    "        html_rows.append(f\"<td>{value}</td>\")\n",
    "    \n",
    "    html_rows.append(\"</tr>\")\n",
    "\n",
    "# Construir la tabla completa\n",
    "html_table = f\"\"\"\n",
    "{tabla_style}\n",
    "<div style=\"margin: 20px 0;\">\n",
    "    <h2 style=\"color: white; margin-bottom: 20px;\">Análisis de Stock por Ubicación de Almacenamiento</h2>\n",
    "    <table class=\"stock-table\">\n",
    "        <thead>\n",
    "            {''.join(html_rows[:2])}\n",
    "        </thead>\n",
    "        <tbody>\n",
    "            {''.join(html_rows[2:])}\n",
    "        </tbody>\n",
    "    </table>\n",
    "</div>\n",
    "\"\"\"\n",
    "\n",
    "# Mostrar la tabla\n",
    "display(HTML(html_table))"
   ]
  },
  {
   "cell_type": "code",
   "execution_count": 24,
   "id": "dade3632",
   "metadata": {},
   "outputs": [
    {
     "name": "stdout",
     "output_type": "stream",
     "text": [
      "Columnas en el DataFrame analisis:\n",
      "['Codigo', 'Producto', 'Stock_Actual', 'Total_Vendido', 'Num_Ventas', 'Promedio_Semanal', 'Estado', 'Diferencia', 'Ratio_Cobertura', 'Semanas_Cobertura', 'Cava']\n",
      "\n",
      "Primeras filas del DataFrame analisis:\n",
      "  Codigo            Producto  Stock_Actual  Total_Vendido  Num_Ventas  \\\n",
      "0      4   CHULETA DE COGOTE        113.55        363.770        32.0   \n",
      "1      6    CHULETA DE BRAZO        560.80       7223.878       709.0   \n",
      "2      9     CHULETA DE LOMO         80.30        524.850        41.0   \n",
      "3     51             CANASTO         45.90       3175.150        58.0   \n",
      "4     52  COSTILLA BABY BACK        436.55       8993.115       363.0   \n",
      "\n",
      "   Promedio_Semanal      Estado  Diferencia  Ratio_Cobertura  \\\n",
      "0          9.645417  Sobrestock  103.904583        11.772431   \n",
      "1        191.542220  Sobrestock  369.257780         2.927814   \n",
      "2         13.916477  Sobrestock   66.383523         5.770138   \n",
      "3         84.189583  Sobrestock  -38.289583         0.545198   \n",
      "4        238.453807  Sobrestock  198.096193         1.830753   \n",
      "\n",
      "   Semanas_Cobertura Cava  \n",
      "0          11.772431  NaN  \n",
      "1           2.927814  NaN  \n",
      "2           5.770138  NaN  \n",
      "3           0.545198  NaN  \n",
      "4           1.830753  NaN  \n",
      "\n",
      "Distribución actual por cava:\n",
      "Series([], Name: count, dtype: int64)\n"
     ]
    }
   ],
   "source": [
    "# Verificar el contenido del DataFrame analisis\n",
    "print(\"Columnas en el DataFrame analisis:\")\n",
    "print(analisis.columns.tolist())\n",
    "print(\"\\nPrimeras filas del DataFrame analisis:\")\n",
    "print(analisis.head())\n",
    "print(\"\\nDistribución actual por cava:\")\n",
    "print(analisis['Cava'].value_counts())"
   ]
  },
  {
   "cell_type": "code",
   "execution_count": 25,
   "id": "c87af5e9",
   "metadata": {},
   "outputs": [
    {
     "name": "stdout",
     "output_type": "stream",
     "text": [
      "Nueva distribución de productos por cava:\n",
      "Cava\n",
      "CAVA 1    52\n",
      "CAVA 2     3\n",
      "Name: count, dtype: int64\n"
     ]
    },
    {
     "data": {
      "text/html": [
       "\n",
       "\n",
       "<style>\n",
       "    .stock-table {\n",
       "        width: 100%;\n",
       "        border-collapse: collapse;\n",
       "        margin: 25px 0;\n",
       "        font-size: 14px;\n",
       "        font-family: Arial, sans-serif;\n",
       "        box-shadow: 0 0 20px rgba(0, 0, 0, 0.15);\n",
       "        background-color: #1a1a2e;\n",
       "        color: white;\n",
       "    }\n",
       "    .stock-table thead tr {\n",
       "        background-color: #2d2d44;\n",
       "        color: white;\n",
       "        text-align: left;\n",
       "    }\n",
       "    .stock-table th,\n",
       "    .stock-table td {\n",
       "        padding: 12px 15px;\n",
       "        border-bottom: 1px solid #3f3f5f;\n",
       "    }\n",
       "    .stock-table tbody tr {\n",
       "        border-bottom: 1px solid #3f3f5f;\n",
       "    }\n",
       "    .sobre-stock {\n",
       "        background-color: #7c1d1d !important;\n",
       "    }\n",
       "    .stock-bajo {\n",
       "        background-color: #614a1f !important;\n",
       "    }\n",
       "    .stock-adecuado {\n",
       "        background-color: #1f4937 !important;\n",
       "    }\n",
       "    .sin-ventas {\n",
       "        background-color: #2d2d44 !important;\n",
       "    }\n",
       "    .stock-table th {\n",
       "        background-color: #2d2d44;\n",
       "        font-weight: bold;\n",
       "    }\n",
       "</style>\n",
       "\n",
       "<div style=\"margin: 20px 0;\">\n",
       "    <h2 style=\"color: white; margin-bottom: 20px;\">Análisis de Stock por Ubicación de Almacenamiento</h2>\n",
       "    <table class=\"stock-table\">\n",
       "        <thead>\n",
       "            <tr><th>Código</th>\n",
       "        </thead>\n",
       "        <tbody>\n",
       "            <th>Producto</th><th>Ubicación</th><th>Stock Actual (kg)</th><th>Prom. Ventas/Sem (kg)</th><th>Semanas de Stock</th><th>Estado</th></tr><tr class='stock-adecuado'><td>71</td><td>PUNTAS DE COSTILLA</td><td>Congelado (CAVA 1)</td><td>1180.7</td><td>475.8</td><td>2.5</td><td>Stock Adecuado</td></tr><tr class='stock-bajo'><td>256</td><td>RECORTE ESPECIAL</td><td>Congelado (CAVA 1)</td><td>870.6</td><td>955.9</td><td>0.9</td><td>Stock Bajo</td></tr><tr class='stock-adecuado'><td>307</td><td>CABEZA DE LOMO</td><td>Congelado (CAVA 1)</td><td>761.8</td><td>214.1</td><td>3.6</td><td>Stock Adecuado</td></tr><tr class='stock-bajo'><td>316</td><td>MILANESA DE PIERNA</td><td>Congelado (CAVA 1)</td><td>689.6</td><td>3248.3</td><td>0.2</td><td>Stock Bajo</td></tr><tr class='stock-adecuado'><td>6</td><td>CHULETA DE BRAZO</td><td>Congelado (CAVA 1)</td><td>560.8</td><td>191.5</td><td>2.9</td><td>Stock Adecuado</td></tr><tr class='sin-ventas'><td>328</td><td>PERNIL DESPOSTE </td><td>Congelado (CAVA 1)</td><td>507.2</td><td>0.0</td><td>Sin datos</td><td>Sin Ventas</td></tr><tr class='sobre-stock'><td>512</td><td>Chorizo Ahumado x19 Unds</td><td>Refrigeración (CAVA 2)</td><td>471.0</td><td>104.0</td><td>4.5</td><td>Sobre Stock</td></tr><tr class='stock-bajo'><td>280</td><td>Recorte De Pierna</td><td>Congelado (CAVA 1)</td><td>462.4</td><td>702.2</td><td>0.7</td><td>Stock Bajo</td></tr><tr class='stock-bajo'><td>52</td><td>COSTILLA BABY BACK</td><td>Congelado (CAVA 1)</td><td>436.5</td><td>238.5</td><td>1.8</td><td>Stock Bajo</td></tr><tr class='stock-bajo'><td>314</td><td>MILANESA CERDO X KILO</td><td>Congelado (CAVA 1)</td><td>282.8</td><td>252.5</td><td>1.1</td><td>Stock Bajo</td></tr><tr class='stock-adecuado'><td>322</td><td>GOULASH ESPECIAL</td><td>Congelado (CAVA 1)</td><td>267.2</td><td>83.9</td><td>3.2</td><td>Stock Adecuado</td></tr><tr class='stock-bajo'><td>253</td><td>DESPALME</td><td>Congelado (CAVA 1)</td><td>264.9</td><td>379.5</td><td>0.7</td><td>Stock Bajo</td></tr><tr class='stock-bajo'><td>355</td><td>TOCINO BARRIGA</td><td>Congelado (CAVA 1)</td><td>245.6</td><td>537.6</td><td>0.5</td><td>Stock Bajo</td></tr><tr class='stock-bajo'><td>251</td><td>CABEZA</td><td>Congelado (CAVA 1)</td><td>211.8</td><td>837.1</td><td>0.3</td><td>Stock Bajo</td></tr><tr class='sin-ventas'><td>333</td><td>BRAZO DESPOSTE </td><td>Congelado (CAVA 1)</td><td>210.0</td><td>0.0</td><td>Sin datos</td><td>Sin Ventas</td></tr><tr class='stock-bajo'><td>268</td><td>EMPELLA</td><td>Congelado (CAVA 1)</td><td>198.3</td><td>162.8</td><td>1.2</td><td>Stock Bajo</td></tr><tr class='sobre-stock'><td>325</td><td>COSTILLA INDUSTRIAL</td><td>Congelado (CAVA 1)</td><td>190.8</td><td>11.5</td><td>16.6</td><td>Sobre Stock</td></tr><tr class='stock-bajo'><td>313</td><td>SOLOMITO</td><td>Congelado (CAVA 1)</td><td>181.4</td><td>130.7</td><td>1.4</td><td>Stock Bajo</td></tr><tr class='stock-bajo'><td>55</td><td>COSTILLA SAN LUIS</td><td>Congelado (CAVA 1)</td><td>180.5</td><td>688.1</td><td>0.3</td><td>Stock Bajo</td></tr><tr class='stock-bajo'><td>315</td><td>LOMO ALMENDRA</td><td>Congelado (CAVA 1)</td><td>179.3</td><td>778.8</td><td>0.2</td><td>Stock Bajo</td></tr><tr class='stock-bajo'><td>362</td><td>BONDIOLA TAJADA</td><td>Congelado (CAVA 1)</td><td>176.6</td><td>337.8</td><td>0.5</td><td>Stock Bajo</td></tr><tr class='stock-bajo'><td>358</td><td>PLANCHA</td><td>Congelado (CAVA 1)</td><td>163.8</td><td>532.5</td><td>0.3</td><td>Stock Bajo</td></tr><tr class='sobre-stock'><td>365</td><td>ASERRIN</td><td>Congelado (CAVA 1)</td><td>156.6</td><td>35.1</td><td>4.5</td><td>Sobre Stock</td></tr><tr class='stock-bajo'><td>364</td><td>BERIJAS</td><td>Congelado (CAVA 1)</td><td>148.2</td><td>175.6</td><td>0.8</td><td>Stock Bajo</td></tr><tr class='stock-bajo'><td>367</td><td>CHICHARRON CARNUDO X KG</td><td>Congelado (CAVA 1)</td><td>133.1</td><td>238.7</td><td>0.6</td><td>Stock Bajo</td></tr><tr class='sobre-stock'><td>4</td><td>CHULETA DE COGOTE</td><td>Congelado (CAVA 1)</td><td>113.5</td><td>9.6</td><td>11.8</td><td>Sobre Stock</td></tr><tr class='stock-bajo'><td>356</td><td>TOCINO CORRIENTE</td><td>Congelado (CAVA 1)</td><td>111.4</td><td>687.7</td><td>0.2</td><td>Stock Bajo</td></tr><tr class='stock-adecuado'><td>270</td><td>DECOMISO</td><td>Congelado (CAVA 1)</td><td>86.2</td><td>32.6</td><td>2.6</td><td>Stock Adecuado</td></tr><tr class='sobre-stock'><td>9</td><td>CHULETA DE LOMO</td><td>Congelado (CAVA 1)</td><td>80.3</td><td>13.9</td><td>5.8</td><td>Sobre Stock</td></tr><tr class='sobre-stock'><td>58</td><td>COSTIPIEL</td><td>Congelado (CAVA 1)</td><td>75.7</td><td>-0.3</td><td>Sin datos</td><td>Sobre Stock</td></tr><tr class='stock-adecuado'><td>360</td><td>TOCINETA ANTIOQUEÑA</td><td>Refrigeración (CAVA 2)</td><td>75.5</td><td>219.7</td><td>0.3</td><td>Stock Adecuado</td></tr><tr class='sobre-stock'><td>311</td><td>FALDA</td><td>Congelado (CAVA 1)</td><td>70.8</td><td>17.5</td><td>4.0</td><td>Sobre Stock</td></tr><tr class='stock-bajo'><td>357</td><td>TOCINO DORSAL</td><td>Congelado (CAVA 1)</td><td>68.2</td><td>439.0</td><td>0.2</td><td>Stock Bajo</td></tr><tr class='stock-bajo'><td>353</td><td>PAPADA CON PIEL</td><td>Congelado (CAVA 1)</td><td>64.7</td><td>275.1</td><td>0.2</td><td>Stock Bajo</td></tr><tr class='stock-bajo'><td>202</td><td>CODOS CON PIEL</td><td>Congelado (CAVA 1)</td><td>60.3</td><td>97.8</td><td>0.6</td><td>Stock Bajo</td></tr><tr class='stock-bajo'><td>254</td><td>HUESO POROZO</td><td>Congelado (CAVA 1)</td><td>54.8</td><td>537.0</td><td>0.1</td><td>Stock Bajo</td></tr><tr class='stock-bajo'><td>304</td><td>BRAZO PULPO</td><td>Congelado (CAVA 1)</td><td>51.7</td><td>667.2</td><td>0.1</td><td>Stock Bajo</td></tr><tr class='stock-bajo'><td>51</td><td>CANASTO</td><td>Congelado (CAVA 1)</td><td>45.9</td><td>84.2</td><td>0.5</td><td>Stock Bajo</td></tr><tr class='stock-bajo'><td>258</td><td>SANGRADOS</td><td>Congelado (CAVA 1)</td><td>41.1</td><td>109.1</td><td>0.4</td><td>Stock Bajo</td></tr><tr class='stock-adecuado'><td>204</td><td>OSOBUCOS</td><td>Congelado (CAVA 1)</td><td>35.5</td><td>12.8</td><td>2.8</td><td>Stock Adecuado</td></tr><tr class='stock-bajo'><td>61</td><td>RACK DE COSTILLA</td><td>Congelado (CAVA 1)</td><td>34.1</td><td>49.9</td><td>0.7</td><td>Stock Bajo</td></tr><tr class='stock-bajo'><td>208</td><td>PEZUÑA</td><td>Congelado (CAVA 1)</td><td>32.4</td><td>263.5</td><td>0.1</td><td>Stock Bajo</td></tr><tr class='stock-bajo'><td>264</td><td>COLAS Y COGOTES</td><td>Congelado (CAVA 1)</td><td>24.8</td><td>161.3</td><td>0.2</td><td>Stock Bajo</td></tr><tr class='stock-bajo'><td>352</td><td>TOCINO PIANO CON PIEL</td><td>Congelado (CAVA 1)</td><td>20.1</td><td>76.3</td><td>0.3</td><td>Stock Bajo</td></tr><tr class='stock-bajo'><td>303</td><td>BONDIOLA</td><td>Congelado (CAVA 1)</td><td>19.6</td><td>547.2</td><td>0.0</td><td>Stock Bajo</td></tr><tr class='stock-bajo'><td>102</td><td>COJINES</td><td>Congelado (CAVA 1)</td><td>19.4</td><td>34.0</td><td>0.6</td><td>Stock Bajo</td></tr><tr class='stock-bajo'><td>72</td><td>CHULETON</td><td>Congelado (CAVA 1)</td><td>15.7</td><td>13.9</td><td>1.1</td><td>Stock Bajo</td></tr><tr class='stock-bajo'><td>153</td><td>ESPINAZO ESPECIAL</td><td>Congelado (CAVA 1)</td><td>13.7</td><td>15.7</td><td>0.9</td><td>Stock Bajo</td></tr><tr class='sin-ventas'><td>320</td><td>LOMO DESPOSTE </td><td>Congelado (CAVA 1)</td><td>13.6</td><td>0.0</td><td>Sin datos</td><td>Sin Ventas</td></tr><tr class='sin-ventas'><td>259</td><td>RECORTE DE CHULETA</td><td>Congelado (CAVA 1)</td><td>11.7</td><td>0.0</td><td>Sin datos</td><td>Sin Ventas</td></tr><tr class='stock-bajo'><td>359</td><td>TOCINO PIANO SIN PIEL</td><td>Congelado (CAVA 1)</td><td>10.8</td><td>145.5</td><td>0.1</td><td>Stock Bajo</td></tr><tr class='stock-bajo'><td>305</td><td>CARNE MOLIDA</td><td>Congelado (CAVA 1)</td><td>10.2</td><td>120.2</td><td>0.1</td><td>Stock Bajo</td></tr><tr class='stock-adecuado'><td>64</td><td>COSTILLA MOSTRADOR</td><td>Congelado (CAVA 1)</td><td>9.1</td><td>4.3</td><td>2.1</td><td>Stock Adecuado</td></tr><tr class='sobre-stock'><td>501</td><td>CHORIZO SANTAROSANO X500</td><td>Refrigeración (CAVA 2)</td><td>9.0</td><td>3.5</td><td>2.6</td><td>Sobre Stock</td></tr><tr class='sin-ventas'><td>68</td><td>CARTILAGOS </td><td>Congelado (CAVA 1)</td><td>6.5</td><td>0.0</td><td>Sin datos</td><td>Sin Ventas</td></tr>\n",
       "        </tbody>\n",
       "    </table>\n",
       "</div>\n"
      ],
      "text/plain": [
       "<IPython.core.display.HTML object>"
      ]
     },
     "metadata": {},
     "output_type": "display_data"
    }
   ],
   "source": [
    "# Asignar productos a Cava 1 (Congelado) por defecto\n",
    "analisis['Cava'] = 'CAVA 1'  # La mayoría son congelados\n",
    "\n",
    "# Lista de productos que van en Cava 2 (Refrigeración)\n",
    "productos_cava2 = [\n",
    "    'CHORIZO',\n",
    "    'SALCHICHA',\n",
    "    'JAMON',\n",
    "    'TOCINETA',\n",
    "    'MORTADELA'\n",
    "]\n",
    "\n",
    "# Asignar Cava 2 a los productos refrigerados\n",
    "for producto in productos_cava2:\n",
    "    analisis.loc[analisis['Producto'].str.contains(producto, case=False, na=False), 'Cava'] = 'CAVA 2'\n",
    "\n",
    "print(\"Nueva distribución de productos por cava:\")\n",
    "print(analisis['Cava'].value_counts())\n",
    "\n",
    "# Generar la tabla con las cavas correctas\n",
    "def calcular_estado(row):\n",
    "    if pd.isna(row['Promedio_Semanal']) or row['Promedio_Semanal'] == 0:\n",
    "        return 'Sin Ventas'\n",
    "    \n",
    "    semanas_stock = row['Stock_Actual'] / row['Promedio_Semanal'] if row['Promedio_Semanal'] > 0 else float('inf')\n",
    "    \n",
    "    if row['Cava'] == 'CAVA 1':  # Congelado\n",
    "        if semanas_stock > 4:\n",
    "            return 'Sobre Stock'\n",
    "        elif semanas_stock < 2:\n",
    "            return 'Stock Bajo'\n",
    "        else:\n",
    "            return 'Stock Adecuado'\n",
    "    else:  # CAVA 2 (Refrigeración)\n",
    "        if semanas_stock > 0.4:\n",
    "            return 'Sobre Stock'\n",
    "        elif semanas_stock < 0.2:\n",
    "            return 'Stock Bajo'\n",
    "        else:\n",
    "            return 'Stock Adecuado'\n",
    "\n",
    "# Preparar datos para la tabla\n",
    "tabla_stock = analisis.copy()\n",
    "tabla_stock['Semanas_de_Stock'] = tabla_stock.apply(\n",
    "    lambda row: row['Stock_Actual'] / row['Promedio_Semanal'] if row['Promedio_Semanal'] > 0 else float('inf'),\n",
    "    axis=1\n",
    ")\n",
    "tabla_stock['Estado'] = tabla_stock.apply(calcular_estado, axis=1)\n",
    "\n",
    "# Ordenar la tabla por Stock Actual de mayor a menor\n",
    "tabla_stock = tabla_stock.sort_values('Stock_Actual', ascending=False)\n",
    "\n",
    "# Estilos CSS para la tabla\n",
    "tabla_style = \"\"\"\n",
    "<style>\n",
    "    .stock-table {\n",
    "        width: 100%;\n",
    "        border-collapse: collapse;\n",
    "        margin: 25px 0;\n",
    "        font-size: 14px;\n",
    "        font-family: Arial, sans-serif;\n",
    "        box-shadow: 0 0 20px rgba(0, 0, 0, 0.15);\n",
    "        background-color: #1a1a2e;\n",
    "        color: white;\n",
    "    }\n",
    "    .stock-table thead tr {\n",
    "        background-color: #2d2d44;\n",
    "        color: white;\n",
    "        text-align: left;\n",
    "    }\n",
    "    .stock-table th,\n",
    "    .stock-table td {\n",
    "        padding: 12px 15px;\n",
    "        border-bottom: 1px solid #3f3f5f;\n",
    "    }\n",
    "    .stock-table tbody tr {\n",
    "        border-bottom: 1px solid #3f3f5f;\n",
    "    }\n",
    "    .sobre-stock {\n",
    "        background-color: #7c1d1d !important;\n",
    "    }\n",
    "    .stock-bajo {\n",
    "        background-color: #614a1f !important;\n",
    "    }\n",
    "    .stock-adecuado {\n",
    "        background-color: #1f4937 !important;\n",
    "    }\n",
    "    .sin-ventas {\n",
    "        background-color: #2d2d44 !important;\n",
    "    }\n",
    "    .stock-table th {\n",
    "        background-color: #2d2d44;\n",
    "        font-weight: bold;\n",
    "    }\n",
    "</style>\n",
    "\"\"\"\n",
    "\n",
    "def get_row_class(estado):\n",
    "    if estado == 'Sobre Stock':\n",
    "        return 'sobre-stock'\n",
    "    elif estado == 'Stock Bajo':\n",
    "        return 'stock-bajo'\n",
    "    elif estado == 'Stock Adecuado':\n",
    "        return 'stock-adecuado'\n",
    "    else:\n",
    "        return 'sin-ventas'\n",
    "\n",
    "# Crear el HTML de la tabla\n",
    "html_rows = []\n",
    "html_rows.append(\"<tr>\")\n",
    "columns = ['Codigo', 'Producto', 'Cava', 'Stock_Actual', 'Promedio_Semanal', 'Semanas_de_Stock', 'Estado']\n",
    "headers = ['Código', 'Producto', 'Ubicación', 'Stock Actual (kg)', 'Prom. Ventas/Sem (kg)', 'Semanas de Stock', 'Estado']\n",
    "\n",
    "# Agregar encabezados\n",
    "for header in headers:\n",
    "    html_rows.append(f\"<th>{header}</th>\")\n",
    "html_rows.append(\"</tr>\")\n",
    "\n",
    "# Agregar filas de datos\n",
    "for _, row in tabla_stock.iterrows():\n",
    "    row_class = get_row_class(row['Estado'])\n",
    "    html_rows.append(f\"<tr class='{row_class}'>\")\n",
    "    \n",
    "    # Formatear cada columna\n",
    "    for col in columns:\n",
    "        if col in ['Stock_Actual', 'Promedio_Semanal']:\n",
    "            value = f\"{row[col]:.1f}\"\n",
    "        elif col == 'Semanas_de_Stock':\n",
    "            value = f\"{row[col]:.1f}\" if row[col] != float('inf') else 'Sin datos'\n",
    "        elif col == 'Cava':\n",
    "            tipo_almacen = \"Congelado\" if row[col] == 'CAVA 1' else \"Refrigeración\"\n",
    "            value = f\"{tipo_almacen} ({row[col]})\"\n",
    "        else:\n",
    "            value = str(row[col])\n",
    "        html_rows.append(f\"<td>{value}</td>\")\n",
    "    \n",
    "    html_rows.append(\"</tr>\")\n",
    "\n",
    "# Construir la tabla completa\n",
    "html_table = f\"\"\"\n",
    "{tabla_style}\n",
    "<div style=\"margin: 20px 0;\">\n",
    "    <h2 style=\"color: white; margin-bottom: 20px;\">Análisis de Stock por Ubicación de Almacenamiento</h2>\n",
    "    <table class=\"stock-table\">\n",
    "        <thead>\n",
    "            {''.join(html_rows[:2])}\n",
    "        </thead>\n",
    "        <tbody>\n",
    "            {''.join(html_rows[2:])}\n",
    "        </tbody>\n",
    "    </table>\n",
    "</div>\n",
    "\"\"\"\n",
    "\n",
    "# Mostrar la tabla\n",
    "display(HTML(html_table))"
   ]
  },
  {
   "cell_type": "code",
   "execution_count": 27,
   "id": "508e0e90",
   "metadata": {},
   "outputs": [
    {
     "name": "stdout",
     "output_type": "stream",
     "text": [
      "Nueva distribución de productos por cava:\n",
      "Cava\n",
      "CAVA 1    55\n",
      "CAVA 2    55\n",
      "Name: count, dtype: int64\n"
     ]
    },
    {
     "data": {
      "text/html": [
       "\n",
       "\n",
       "<style>\n",
       "    .stock-table {\n",
       "        width: 100%;\n",
       "        border-collapse: collapse;\n",
       "        margin: 25px 0;\n",
       "        font-size: 14px;\n",
       "        font-family: Arial, sans-serif;\n",
       "        box-shadow: 0 0 20px rgba(0, 0, 0, 0.15);\n",
       "        background-color: #1a1a2e;\n",
       "        color: white;\n",
       "    }\n",
       "    .stock-table thead tr {\n",
       "        background-color: #2d2d44;\n",
       "        color: white;\n",
       "        text-align: left;\n",
       "    }\n",
       "    .stock-table th,\n",
       "    .stock-table td {\n",
       "        padding: 12px 15px;\n",
       "        border-bottom: 1px solid #3f3f5f;\n",
       "    }\n",
       "    .stock-table tbody tr {\n",
       "        border-bottom: 1px solid #3f3f5f;\n",
       "    }\n",
       "    .sobre-stock {\n",
       "        background-color: #7c1d1d !important;\n",
       "    }\n",
       "    .stock-bajo {\n",
       "        background-color: #614a1f !important;\n",
       "    }\n",
       "    .stock-adecuado {\n",
       "        background-color: #1f4937 !important;\n",
       "    }\n",
       "    .sin-ventas {\n",
       "        background-color: #2d2d44 !important;\n",
       "    }\n",
       "    .stock-table th {\n",
       "        background-color: #2d2d44;\n",
       "        font-weight: bold;\n",
       "    }\n",
       "    .cava-header {\n",
       "        background-color: #2d2d44;\n",
       "        color: white;\n",
       "        padding: 10px 15px;\n",
       "        font-weight: bold;\n",
       "        text-align: left;\n",
       "    }\n",
       "</style>\n",
       "\n",
       "<div style=\"margin: 20px 0;\">\n",
       "    <h2 style=\"color: white; margin-bottom: 20px;\">Análisis de Stock por Ubicación de Almacenamiento</h2>\n",
       "    <table class=\"stock-table\">\n",
       "        <thead>\n",
       "            <tr><th>Código</th>\n",
       "        </thead>\n",
       "        <tbody>\n",
       "            <th>Producto</th><th>Ubicación</th><th>Stock Actual (kg)</th><th>Prom. Ventas/Sem (kg)</th><th>Semanas de Stock</th><th>Estado</th></tr><tr><td colspan=\"7\" class=\"cava-header\">Congelado (CAVA 1)</td></tr><tr class='stock-adecuado'><td>71</td><td>PUNTAS DE COSTILLA</td><td>Congelado (CAVA 1)</td><td>1180.7</td><td>475.8</td><td>2.5</td><td>Stock Adecuado</td></tr><tr class='stock-adecuado'><td>256</td><td>RECORTE ESPECIAL</td><td>Congelado (CAVA 1)</td><td>870.6</td><td>955.9</td><td>0.9</td><td>Stock Adecuado</td></tr><tr class='stock-adecuado'><td>307</td><td>CABEZA DE LOMO</td><td>Congelado (CAVA 1)</td><td>761.8</td><td>214.1</td><td>3.6</td><td>Stock Adecuado</td></tr><tr class='stock-adecuado'><td>316</td><td>MILANESA DE PIERNA</td><td>Congelado (CAVA 1)</td><td>689.6</td><td>3248.3</td><td>0.2</td><td>Stock Adecuado</td></tr><tr class='stock-adecuado'><td>6</td><td>CHULETA DE BRAZO</td><td>Congelado (CAVA 1)</td><td>560.8</td><td>191.5</td><td>2.9</td><td>Stock Adecuado</td></tr><tr class='sin-ventas'><td>328</td><td>PERNIL DESPOSTE </td><td>Congelado (CAVA 1)</td><td>507.2</td><td>0.0</td><td>Sin datos</td><td>Sin Ventas</td></tr><tr class='sobre-stock'><td>512</td><td>Chorizo Ahumado x19 Unds</td><td>Congelado (CAVA 1)</td><td>471.0</td><td>104.0</td><td>4.5</td><td>Sobre Stock</td></tr><tr class='stock-adecuado'><td>280</td><td>Recorte De Pierna</td><td>Congelado (CAVA 1)</td><td>462.4</td><td>702.2</td><td>0.7</td><td>Stock Adecuado</td></tr><tr class='stock-adecuado'><td>52</td><td>COSTILLA BABY BACK</td><td>Congelado (CAVA 1)</td><td>436.5</td><td>238.5</td><td>1.8</td><td>Stock Adecuado</td></tr><tr class='stock-adecuado'><td>314</td><td>MILANESA CERDO X KILO</td><td>Congelado (CAVA 1)</td><td>282.8</td><td>252.5</td><td>1.1</td><td>Stock Adecuado</td></tr><tr class='stock-adecuado'><td>322</td><td>GOULASH ESPECIAL</td><td>Congelado (CAVA 1)</td><td>267.2</td><td>83.9</td><td>3.2</td><td>Stock Adecuado</td></tr><tr class='stock-adecuado'><td>253</td><td>DESPALME</td><td>Congelado (CAVA 1)</td><td>264.9</td><td>379.5</td><td>0.7</td><td>Stock Adecuado</td></tr><tr class='stock-adecuado'><td>355</td><td>TOCINO BARRIGA</td><td>Congelado (CAVA 1)</td><td>245.6</td><td>537.6</td><td>0.5</td><td>Stock Adecuado</td></tr><tr class='stock-adecuado'><td>251</td><td>CABEZA</td><td>Congelado (CAVA 1)</td><td>211.8</td><td>837.1</td><td>0.3</td><td>Stock Adecuado</td></tr><tr class='sin-ventas'><td>333</td><td>BRAZO DESPOSTE </td><td>Congelado (CAVA 1)</td><td>210.0</td><td>0.0</td><td>Sin datos</td><td>Sin Ventas</td></tr><tr class='stock-adecuado'><td>268</td><td>EMPELLA</td><td>Congelado (CAVA 1)</td><td>198.3</td><td>162.8</td><td>1.2</td><td>Stock Adecuado</td></tr><tr class='sobre-stock'><td>325</td><td>COSTILLA INDUSTRIAL</td><td>Congelado (CAVA 1)</td><td>190.8</td><td>11.5</td><td>16.6</td><td>Sobre Stock</td></tr><tr class='stock-adecuado'><td>313</td><td>SOLOMITO</td><td>Congelado (CAVA 1)</td><td>181.4</td><td>130.7</td><td>1.4</td><td>Stock Adecuado</td></tr><tr class='stock-adecuado'><td>55</td><td>COSTILLA SAN LUIS</td><td>Congelado (CAVA 1)</td><td>180.5</td><td>688.1</td><td>0.3</td><td>Stock Adecuado</td></tr><tr class='stock-adecuado'><td>315</td><td>LOMO ALMENDRA</td><td>Congelado (CAVA 1)</td><td>179.3</td><td>778.8</td><td>0.2</td><td>Stock Adecuado</td></tr><tr class='stock-adecuado'><td>362</td><td>BONDIOLA TAJADA</td><td>Congelado (CAVA 1)</td><td>176.6</td><td>337.8</td><td>0.5</td><td>Stock Adecuado</td></tr><tr class='stock-adecuado'><td>358</td><td>PLANCHA</td><td>Congelado (CAVA 1)</td><td>163.8</td><td>532.5</td><td>0.3</td><td>Stock Adecuado</td></tr><tr class='sobre-stock'><td>365</td><td>ASERRIN</td><td>Congelado (CAVA 1)</td><td>156.6</td><td>35.1</td><td>4.5</td><td>Sobre Stock</td></tr><tr class='stock-adecuado'><td>364</td><td>BERIJAS</td><td>Congelado (CAVA 1)</td><td>148.2</td><td>175.6</td><td>0.8</td><td>Stock Adecuado</td></tr><tr class='stock-adecuado'><td>367</td><td>CHICHARRON CARNUDO X KG</td><td>Congelado (CAVA 1)</td><td>133.1</td><td>238.7</td><td>0.6</td><td>Stock Adecuado</td></tr><tr class='sobre-stock'><td>4</td><td>CHULETA DE COGOTE</td><td>Congelado (CAVA 1)</td><td>113.5</td><td>9.6</td><td>11.8</td><td>Sobre Stock</td></tr><tr class='stock-adecuado'><td>356</td><td>TOCINO CORRIENTE</td><td>Congelado (CAVA 1)</td><td>111.4</td><td>687.7</td><td>0.2</td><td>Stock Adecuado</td></tr><tr class='stock-adecuado'><td>270</td><td>DECOMISO</td><td>Congelado (CAVA 1)</td><td>86.2</td><td>32.6</td><td>2.6</td><td>Stock Adecuado</td></tr><tr class='sobre-stock'><td>9</td><td>CHULETA DE LOMO</td><td>Congelado (CAVA 1)</td><td>80.3</td><td>13.9</td><td>5.8</td><td>Sobre Stock</td></tr><tr class='sobre-stock'><td>58</td><td>COSTIPIEL</td><td>Congelado (CAVA 1)</td><td>75.7</td><td>-0.3</td><td>Sin datos</td><td>Sobre Stock</td></tr><tr class='stock-adecuado'><td>360</td><td>TOCINETA ANTIOQUEÑA</td><td>Congelado (CAVA 1)</td><td>75.5</td><td>219.7</td><td>0.3</td><td>Stock Adecuado</td></tr><tr class='sobre-stock'><td>311</td><td>FALDA</td><td>Congelado (CAVA 1)</td><td>70.8</td><td>17.5</td><td>4.0</td><td>Sobre Stock</td></tr><tr class='stock-adecuado'><td>357</td><td>TOCINO DORSAL</td><td>Congelado (CAVA 1)</td><td>68.2</td><td>439.0</td><td>0.2</td><td>Stock Adecuado</td></tr><tr class='stock-adecuado'><td>353</td><td>PAPADA CON PIEL</td><td>Congelado (CAVA 1)</td><td>64.7</td><td>275.1</td><td>0.2</td><td>Stock Adecuado</td></tr><tr class='stock-adecuado'><td>202</td><td>CODOS CON PIEL</td><td>Congelado (CAVA 1)</td><td>60.3</td><td>97.8</td><td>0.6</td><td>Stock Adecuado</td></tr><tr class='stock-adecuado'><td>254</td><td>HUESO POROZO</td><td>Congelado (CAVA 1)</td><td>54.8</td><td>537.0</td><td>0.1</td><td>Stock Adecuado</td></tr><tr class='stock-adecuado'><td>304</td><td>BRAZO PULPO</td><td>Congelado (CAVA 1)</td><td>51.7</td><td>667.2</td><td>0.1</td><td>Stock Adecuado</td></tr><tr class='stock-adecuado'><td>51</td><td>CANASTO</td><td>Congelado (CAVA 1)</td><td>45.9</td><td>84.2</td><td>0.5</td><td>Stock Adecuado</td></tr><tr class='stock-adecuado'><td>258</td><td>SANGRADOS</td><td>Congelado (CAVA 1)</td><td>41.1</td><td>109.1</td><td>0.4</td><td>Stock Adecuado</td></tr><tr class='stock-adecuado'><td>204</td><td>OSOBUCOS</td><td>Congelado (CAVA 1)</td><td>35.5</td><td>12.8</td><td>2.8</td><td>Stock Adecuado</td></tr><tr class='stock-adecuado'><td>61</td><td>RACK DE COSTILLA</td><td>Congelado (CAVA 1)</td><td>34.1</td><td>49.9</td><td>0.7</td><td>Stock Adecuado</td></tr><tr class='stock-adecuado'><td>208</td><td>PEZUÑA</td><td>Congelado (CAVA 1)</td><td>32.4</td><td>263.5</td><td>0.1</td><td>Stock Adecuado</td></tr><tr class='stock-adecuado'><td>264</td><td>COLAS Y COGOTES</td><td>Congelado (CAVA 1)</td><td>24.8</td><td>161.3</td><td>0.2</td><td>Stock Adecuado</td></tr><tr class='stock-adecuado'><td>352</td><td>TOCINO PIANO CON PIEL</td><td>Congelado (CAVA 1)</td><td>20.1</td><td>76.3</td><td>0.3</td><td>Stock Adecuado</td></tr><tr class='stock-adecuado'><td>303</td><td>BONDIOLA</td><td>Congelado (CAVA 1)</td><td>19.6</td><td>547.2</td><td>0.0</td><td>Stock Adecuado</td></tr><tr class='stock-adecuado'><td>102</td><td>COJINES</td><td>Congelado (CAVA 1)</td><td>19.4</td><td>34.0</td><td>0.6</td><td>Stock Adecuado</td></tr><tr class='stock-adecuado'><td>72</td><td>CHULETON</td><td>Congelado (CAVA 1)</td><td>15.7</td><td>13.9</td><td>1.1</td><td>Stock Adecuado</td></tr><tr class='stock-adecuado'><td>153</td><td>ESPINAZO ESPECIAL</td><td>Congelado (CAVA 1)</td><td>13.7</td><td>15.7</td><td>0.9</td><td>Stock Adecuado</td></tr><tr class='sin-ventas'><td>320</td><td>LOMO DESPOSTE </td><td>Congelado (CAVA 1)</td><td>13.6</td><td>0.0</td><td>Sin datos</td><td>Sin Ventas</td></tr><tr class='sin-ventas'><td>259</td><td>RECORTE DE CHULETA</td><td>Congelado (CAVA 1)</td><td>11.7</td><td>0.0</td><td>Sin datos</td><td>Sin Ventas</td></tr><tr class='stock-adecuado'><td>359</td><td>TOCINO PIANO SIN PIEL</td><td>Congelado (CAVA 1)</td><td>10.8</td><td>145.5</td><td>0.1</td><td>Stock Adecuado</td></tr><tr class='stock-adecuado'><td>305</td><td>CARNE MOLIDA</td><td>Congelado (CAVA 1)</td><td>10.2</td><td>120.2</td><td>0.1</td><td>Stock Adecuado</td></tr><tr class='stock-adecuado'><td>64</td><td>COSTILLA MOSTRADOR</td><td>Congelado (CAVA 1)</td><td>9.1</td><td>4.3</td><td>2.1</td><td>Stock Adecuado</td></tr><tr class='stock-adecuado'><td>501</td><td>CHORIZO SANTAROSANO X500</td><td>Congelado (CAVA 1)</td><td>9.0</td><td>3.5</td><td>2.6</td><td>Stock Adecuado</td></tr><tr class='sin-ventas'><td>68</td><td>CARTILAGOS </td><td>Congelado (CAVA 1)</td><td>6.5</td><td>0.0</td><td>Sin datos</td><td>Sin Ventas</td></tr><tr><td colspan=\"7\" class=\"cava-header\">Refrigeración (CAVA 2)</td></tr><tr class='sobre-stock'><td>71</td><td>PUNTAS DE COSTILLA</td><td>Refrigeración (CAVA 2)</td><td>1180.7</td><td>475.8</td><td>2.5</td><td>Sobre Stock</td></tr><tr class='sobre-stock'><td>256</td><td>RECORTE ESPECIAL</td><td>Refrigeración (CAVA 2)</td><td>870.6</td><td>955.9</td><td>0.9</td><td>Sobre Stock</td></tr><tr class='sobre-stock'><td>307</td><td>CABEZA DE LOMO</td><td>Refrigeración (CAVA 2)</td><td>761.8</td><td>214.1</td><td>3.6</td><td>Sobre Stock</td></tr><tr class='stock-adecuado'><td>316</td><td>MILANESA DE PIERNA</td><td>Refrigeración (CAVA 2)</td><td>689.6</td><td>3248.3</td><td>0.2</td><td>Stock Adecuado</td></tr><tr class='sobre-stock'><td>6</td><td>CHULETA DE BRAZO</td><td>Refrigeración (CAVA 2)</td><td>560.8</td><td>191.5</td><td>2.9</td><td>Sobre Stock</td></tr><tr class='sin-ventas'><td>328</td><td>PERNIL DESPOSTE </td><td>Refrigeración (CAVA 2)</td><td>507.2</td><td>0.0</td><td>Sin datos</td><td>Sin Ventas</td></tr><tr class='sobre-stock'><td>512</td><td>Chorizo Ahumado x19 Unds</td><td>Refrigeración (CAVA 2)</td><td>471.0</td><td>104.0</td><td>4.5</td><td>Sobre Stock</td></tr><tr class='sobre-stock'><td>280</td><td>Recorte De Pierna</td><td>Refrigeración (CAVA 2)</td><td>462.4</td><td>702.2</td><td>0.7</td><td>Sobre Stock</td></tr><tr class='sobre-stock'><td>52</td><td>COSTILLA BABY BACK</td><td>Refrigeración (CAVA 2)</td><td>436.5</td><td>238.5</td><td>1.8</td><td>Sobre Stock</td></tr><tr class='sobre-stock'><td>314</td><td>MILANESA CERDO X KILO</td><td>Refrigeración (CAVA 2)</td><td>282.8</td><td>252.5</td><td>1.1</td><td>Sobre Stock</td></tr><tr class='sobre-stock'><td>322</td><td>GOULASH ESPECIAL</td><td>Refrigeración (CAVA 2)</td><td>267.2</td><td>83.9</td><td>3.2</td><td>Sobre Stock</td></tr><tr class='sobre-stock'><td>253</td><td>DESPALME</td><td>Refrigeración (CAVA 2)</td><td>264.9</td><td>379.5</td><td>0.7</td><td>Sobre Stock</td></tr><tr class='sobre-stock'><td>355</td><td>TOCINO BARRIGA</td><td>Refrigeración (CAVA 2)</td><td>245.6</td><td>537.6</td><td>0.5</td><td>Sobre Stock</td></tr><tr class='stock-adecuado'><td>251</td><td>CABEZA</td><td>Refrigeración (CAVA 2)</td><td>211.8</td><td>837.1</td><td>0.3</td><td>Stock Adecuado</td></tr><tr class='sin-ventas'><td>333</td><td>BRAZO DESPOSTE </td><td>Refrigeración (CAVA 2)</td><td>210.0</td><td>0.0</td><td>Sin datos</td><td>Sin Ventas</td></tr><tr class='sobre-stock'><td>268</td><td>EMPELLA</td><td>Refrigeración (CAVA 2)</td><td>198.3</td><td>162.8</td><td>1.2</td><td>Sobre Stock</td></tr><tr class='sobre-stock'><td>325</td><td>COSTILLA INDUSTRIAL</td><td>Refrigeración (CAVA 2)</td><td>190.8</td><td>11.5</td><td>16.6</td><td>Sobre Stock</td></tr><tr class='sobre-stock'><td>313</td><td>SOLOMITO</td><td>Refrigeración (CAVA 2)</td><td>181.4</td><td>130.7</td><td>1.4</td><td>Sobre Stock</td></tr><tr class='stock-adecuado'><td>55</td><td>COSTILLA SAN LUIS</td><td>Refrigeración (CAVA 2)</td><td>180.5</td><td>688.1</td><td>0.3</td><td>Stock Adecuado</td></tr><tr class='stock-adecuado'><td>315</td><td>LOMO ALMENDRA</td><td>Refrigeración (CAVA 2)</td><td>179.3</td><td>778.8</td><td>0.2</td><td>Stock Adecuado</td></tr><tr class='sobre-stock'><td>362</td><td>BONDIOLA TAJADA</td><td>Refrigeración (CAVA 2)</td><td>176.6</td><td>337.8</td><td>0.5</td><td>Sobre Stock</td></tr><tr class='stock-adecuado'><td>358</td><td>PLANCHA</td><td>Refrigeración (CAVA 2)</td><td>163.8</td><td>532.5</td><td>0.3</td><td>Stock Adecuado</td></tr><tr class='sobre-stock'><td>365</td><td>ASERRIN</td><td>Refrigeración (CAVA 2)</td><td>156.6</td><td>35.1</td><td>4.5</td><td>Sobre Stock</td></tr><tr class='sobre-stock'><td>364</td><td>BERIJAS</td><td>Refrigeración (CAVA 2)</td><td>148.2</td><td>175.6</td><td>0.8</td><td>Sobre Stock</td></tr><tr class='sobre-stock'><td>367</td><td>CHICHARRON CARNUDO X KG</td><td>Refrigeración (CAVA 2)</td><td>133.1</td><td>238.7</td><td>0.6</td><td>Sobre Stock</td></tr><tr class='sobre-stock'><td>4</td><td>CHULETA DE COGOTE</td><td>Refrigeración (CAVA 2)</td><td>113.5</td><td>9.6</td><td>11.8</td><td>Sobre Stock</td></tr><tr class='stock-adecuado'><td>356</td><td>TOCINO CORRIENTE</td><td>Refrigeración (CAVA 2)</td><td>111.4</td><td>687.7</td><td>0.2</td><td>Stock Adecuado</td></tr><tr class='sobre-stock'><td>270</td><td>DECOMISO</td><td>Refrigeración (CAVA 2)</td><td>86.2</td><td>32.6</td><td>2.6</td><td>Sobre Stock</td></tr><tr class='sobre-stock'><td>9</td><td>CHULETA DE LOMO</td><td>Refrigeración (CAVA 2)</td><td>80.3</td><td>13.9</td><td>5.8</td><td>Sobre Stock</td></tr><tr class='sobre-stock'><td>58</td><td>COSTIPIEL</td><td>Refrigeración (CAVA 2)</td><td>75.7</td><td>-0.3</td><td>Sin datos</td><td>Sobre Stock</td></tr><tr class='stock-adecuado'><td>360</td><td>TOCINETA ANTIOQUEÑA</td><td>Refrigeración (CAVA 2)</td><td>75.5</td><td>219.7</td><td>0.3</td><td>Stock Adecuado</td></tr><tr class='sobre-stock'><td>311</td><td>FALDA</td><td>Refrigeración (CAVA 2)</td><td>70.8</td><td>17.5</td><td>4.0</td><td>Sobre Stock</td></tr><tr class='stock-adecuado'><td>357</td><td>TOCINO DORSAL</td><td>Refrigeración (CAVA 2)</td><td>68.2</td><td>439.0</td><td>0.2</td><td>Stock Adecuado</td></tr><tr class='stock-adecuado'><td>353</td><td>PAPADA CON PIEL</td><td>Refrigeración (CAVA 2)</td><td>64.7</td><td>275.1</td><td>0.2</td><td>Stock Adecuado</td></tr><tr class='sobre-stock'><td>202</td><td>CODOS CON PIEL</td><td>Refrigeración (CAVA 2)</td><td>60.3</td><td>97.8</td><td>0.6</td><td>Sobre Stock</td></tr><tr class='stock-adecuado'><td>254</td><td>HUESO POROZO</td><td>Refrigeración (CAVA 2)</td><td>54.8</td><td>537.0</td><td>0.1</td><td>Stock Adecuado</td></tr><tr class='stock-adecuado'><td>304</td><td>BRAZO PULPO</td><td>Refrigeración (CAVA 2)</td><td>51.7</td><td>667.2</td><td>0.1</td><td>Stock Adecuado</td></tr><tr class='sobre-stock'><td>51</td><td>CANASTO</td><td>Refrigeración (CAVA 2)</td><td>45.9</td><td>84.2</td><td>0.5</td><td>Sobre Stock</td></tr><tr class='stock-adecuado'><td>258</td><td>SANGRADOS</td><td>Refrigeración (CAVA 2)</td><td>41.1</td><td>109.1</td><td>0.4</td><td>Stock Adecuado</td></tr><tr class='sobre-stock'><td>204</td><td>OSOBUCOS</td><td>Refrigeración (CAVA 2)</td><td>35.5</td><td>12.8</td><td>2.8</td><td>Sobre Stock</td></tr><tr class='sobre-stock'><td>61</td><td>RACK DE COSTILLA</td><td>Refrigeración (CAVA 2)</td><td>34.1</td><td>49.9</td><td>0.7</td><td>Sobre Stock</td></tr><tr class='stock-adecuado'><td>208</td><td>PEZUÑA</td><td>Refrigeración (CAVA 2)</td><td>32.4</td><td>263.5</td><td>0.1</td><td>Stock Adecuado</td></tr><tr class='stock-adecuado'><td>264</td><td>COLAS Y COGOTES</td><td>Refrigeración (CAVA 2)</td><td>24.8</td><td>161.3</td><td>0.2</td><td>Stock Adecuado</td></tr><tr class='stock-adecuado'><td>352</td><td>TOCINO PIANO CON PIEL</td><td>Refrigeración (CAVA 2)</td><td>20.1</td><td>76.3</td><td>0.3</td><td>Stock Adecuado</td></tr><tr class='stock-adecuado'><td>303</td><td>BONDIOLA</td><td>Refrigeración (CAVA 2)</td><td>19.6</td><td>547.2</td><td>0.0</td><td>Stock Adecuado</td></tr><tr class='sobre-stock'><td>102</td><td>COJINES</td><td>Refrigeración (CAVA 2)</td><td>19.4</td><td>34.0</td><td>0.6</td><td>Sobre Stock</td></tr><tr class='sobre-stock'><td>72</td><td>CHULETON</td><td>Refrigeración (CAVA 2)</td><td>15.7</td><td>13.9</td><td>1.1</td><td>Sobre Stock</td></tr><tr class='sobre-stock'><td>153</td><td>ESPINAZO ESPECIAL</td><td>Refrigeración (CAVA 2)</td><td>13.7</td><td>15.7</td><td>0.9</td><td>Sobre Stock</td></tr><tr class='sin-ventas'><td>320</td><td>LOMO DESPOSTE </td><td>Refrigeración (CAVA 2)</td><td>13.6</td><td>0.0</td><td>Sin datos</td><td>Sin Ventas</td></tr><tr class='sin-ventas'><td>259</td><td>RECORTE DE CHULETA</td><td>Refrigeración (CAVA 2)</td><td>11.7</td><td>0.0</td><td>Sin datos</td><td>Sin Ventas</td></tr><tr class='stock-adecuado'><td>359</td><td>TOCINO PIANO SIN PIEL</td><td>Refrigeración (CAVA 2)</td><td>10.8</td><td>145.5</td><td>0.1</td><td>Stock Adecuado</td></tr><tr class='stock-adecuado'><td>305</td><td>CARNE MOLIDA</td><td>Refrigeración (CAVA 2)</td><td>10.2</td><td>120.2</td><td>0.1</td><td>Stock Adecuado</td></tr><tr class='sobre-stock'><td>64</td><td>COSTILLA MOSTRADOR</td><td>Refrigeración (CAVA 2)</td><td>9.1</td><td>4.3</td><td>2.1</td><td>Sobre Stock</td></tr><tr class='sobre-stock'><td>501</td><td>CHORIZO SANTAROSANO X500</td><td>Refrigeración (CAVA 2)</td><td>9.0</td><td>3.5</td><td>2.6</td><td>Sobre Stock</td></tr><tr class='sin-ventas'><td>68</td><td>CARTILAGOS </td><td>Refrigeración (CAVA 2)</td><td>6.5</td><td>0.0</td><td>Sin datos</td><td>Sin Ventas</td></tr>\n",
       "        </tbody>\n",
       "    </table>\n",
       "</div>\n"
      ],
      "text/plain": [
       "<IPython.core.display.HTML object>"
      ]
     },
     "metadata": {},
     "output_type": "display_data"
    }
   ],
   "source": [
    "# Crear copias del DataFrame para cada cava\n",
    "analisis_cava1 = analisis.copy()\n",
    "analisis_cava2 = analisis.copy()\n",
    "\n",
    "# Asignar las cavas\n",
    "analisis_cava1['Cava'] = 'CAVA 1'  # Todos los productos pueden estar en congelado\n",
    "analisis_cava2['Cava'] = 'CAVA 2'  # Y también pueden estar en refrigeración\n",
    "\n",
    "# Combinar los DataFrames\n",
    "analisis_combinado = pd.concat([analisis_cava1, analisis_cava2])\n",
    "\n",
    "print(\"Nueva distribución de productos por cava:\")\n",
    "print(analisis_combinado['Cava'].value_counts())\n",
    "\n",
    "# Generar la tabla con las cavas combinadas\n",
    "def calcular_estado(row):\n",
    "    if pd.isna(row['Promedio_Semanal']) or row['Promedio_Semanal'] == 0:\n",
    "        return 'Sin Ventas'\n",
    "    \n",
    "    semanas_stock = row['Stock_Actual'] / row['Promedio_Semanal'] if row['Promedio_Semanal'] > 0 else float('inf')\n",
    "    \n",
    "    if row['Cava'] == 'CAVA 1':  # Congelado\n",
    "        if semanas_stock >= 4:\n",
    "            return 'Sobre Stock'\n",
    "        elif semanas_stock > 0:\n",
    "            return 'Stock Adecuado'\n",
    "        else:\n",
    "            return 'Stock Bajo'\n",
    "    else:  # CAVA 2 (Refrigeración)\n",
    "        if semanas_stock >= 0.4:\n",
    "            return 'Sobre Stock'\n",
    "        elif semanas_stock > 0:\n",
    "            return 'Stock Adecuado'\n",
    "        else:\n",
    "            return 'Stock Bajo'\n",
    "\n",
    "# Preparar datos para la tabla\n",
    "tabla_stock = analisis_combinado.copy()\n",
    "tabla_stock['Semanas_de_Stock'] = tabla_stock.apply(\n",
    "    lambda row: row['Stock_Actual'] / row['Promedio_Semanal'] if row['Promedio_Semanal'] > 0 else float('inf'),\n",
    "    axis=1\n",
    ")\n",
    "tabla_stock['Estado'] = tabla_stock.apply(calcular_estado, axis=1)\n",
    "\n",
    "# Ordenar la tabla por Stock Actual de mayor a menor y por Cava\n",
    "tabla_stock = tabla_stock.sort_values(['Cava', 'Stock_Actual'], ascending=[True, False])\n",
    "\n",
    "# Estilos CSS para la tabla\n",
    "tabla_style = \"\"\"\n",
    "<style>\n",
    "    .stock-table {\n",
    "        width: 100%;\n",
    "        border-collapse: collapse;\n",
    "        margin: 25px 0;\n",
    "        font-size: 14px;\n",
    "        font-family: Arial, sans-serif;\n",
    "        box-shadow: 0 0 20px rgba(0, 0, 0, 0.15);\n",
    "        background-color: #1a1a2e;\n",
    "        color: white;\n",
    "    }\n",
    "    .stock-table thead tr {\n",
    "        background-color: #2d2d44;\n",
    "        color: white;\n",
    "        text-align: left;\n",
    "    }\n",
    "    .stock-table th,\n",
    "    .stock-table td {\n",
    "        padding: 12px 15px;\n",
    "        border-bottom: 1px solid #3f3f5f;\n",
    "    }\n",
    "    .stock-table tbody tr {\n",
    "        border-bottom: 1px solid #3f3f5f;\n",
    "    }\n",
    "    .sobre-stock {\n",
    "        background-color: #7c1d1d !important;\n",
    "    }\n",
    "    .stock-bajo {\n",
    "        background-color: #614a1f !important;\n",
    "    }\n",
    "    .stock-adecuado {\n",
    "        background-color: #1f4937 !important;\n",
    "    }\n",
    "    .sin-ventas {\n",
    "        background-color: #2d2d44 !important;\n",
    "    }\n",
    "    .stock-table th {\n",
    "        background-color: #2d2d44;\n",
    "        font-weight: bold;\n",
    "    }\n",
    "    .cava-header {\n",
    "        background-color: #2d2d44;\n",
    "        color: white;\n",
    "        padding: 10px 15px;\n",
    "        font-weight: bold;\n",
    "        text-align: left;\n",
    "    }\n",
    "</style>\n",
    "\"\"\"\n",
    "\n",
    "def get_row_class(estado):\n",
    "    if estado == 'Sobre Stock':\n",
    "        return 'sobre-stock'\n",
    "    elif estado == 'Stock Bajo':\n",
    "        return 'stock-bajo'\n",
    "    elif estado == 'Stock Adecuado':\n",
    "        return 'stock-adecuado'\n",
    "    else:\n",
    "        return 'sin-ventas'\n",
    "\n",
    "# Crear el HTML de la tabla\n",
    "html_rows = []\n",
    "html_rows.append(\"<tr>\")\n",
    "columns = ['Codigo', 'Producto', 'Cava', 'Stock_Actual', 'Promedio_Semanal', 'Semanas_de_Stock', 'Estado']\n",
    "headers = ['Código', 'Producto', 'Ubicación', 'Stock Actual (kg)', 'Prom. Ventas/Sem (kg)', 'Semanas de Stock', 'Estado']\n",
    "\n",
    "# Agregar encabezados\n",
    "for header in headers:\n",
    "    html_rows.append(f\"<th>{header}</th>\")\n",
    "html_rows.append(\"</tr>\")\n",
    "\n",
    "# Variable para rastrear la cava actual\n",
    "cava_actual = None\n",
    "\n",
    "# Agregar filas de datos\n",
    "for _, row in tabla_stock.iterrows():\n",
    "    # Si cambia la cava, agregar un encabezado de sección\n",
    "    if cava_actual != row['Cava']:\n",
    "        cava_actual = row['Cava']\n",
    "        tipo_almacen = \"Congelado\" if cava_actual == 'CAVA 1' else \"Refrigeración\"\n",
    "        html_rows.append(f'<tr><td colspan=\"7\" class=\"cava-header\">{tipo_almacen} ({cava_actual})</td></tr>')\n",
    "    \n",
    "    row_class = get_row_class(row['Estado'])\n",
    "    html_rows.append(f\"<tr class='{row_class}'>\")\n",
    "    \n",
    "    # Formatear cada columna\n",
    "    for col in columns:\n",
    "        if col in ['Stock_Actual', 'Promedio_Semanal']:\n",
    "            value = f\"{row[col]:.1f}\"\n",
    "        elif col == 'Semanas_de_Stock':\n",
    "            value = f\"{row[col]:.1f}\" if row[col] != float('inf') else 'Sin datos'\n",
    "        elif col == 'Cava':\n",
    "            tipo_almacen = \"Congelado\" if row[col] == 'CAVA 1' else \"Refrigeración\"\n",
    "            value = f\"{tipo_almacen} ({row[col]})\"\n",
    "        else:\n",
    "            value = str(row[col])\n",
    "        html_rows.append(f\"<td>{value}</td>\")\n",
    "    \n",
    "    html_rows.append(\"</tr>\")\n",
    "\n",
    "# Construir la tabla completa\n",
    "html_table = f\"\"\"\n",
    "{tabla_style}\n",
    "<div style=\"margin: 20px 0;\">\n",
    "    <h2 style=\"color: white; margin-bottom: 20px;\">Análisis de Stock por Ubicación de Almacenamiento</h2>\n",
    "    <table class=\"stock-table\">\n",
    "        <thead>\n",
    "            {''.join(html_rows[:2])}\n",
    "        </thead>\n",
    "        <tbody>\n",
    "            {''.join(html_rows[2:])}\n",
    "        </tbody>\n",
    "    </table>\n",
    "</div>\n",
    "\"\"\"\n",
    "\n",
    "# Mostrar la tabla\n",
    "display(HTML(html_table))"
   ]
  },
  {
   "cell_type": "code",
   "execution_count": 16,
   "id": "8e4c7757",
   "metadata": {},
   "outputs": [
    {
     "name": "stdout",
     "output_type": "stream",
     "text": [
      "Distribución de productos por cava:\n",
      "Cava\n",
      "Cava 2    53\n",
      "Cava 1     2\n",
      "Name: count, dtype: int64\n",
      "\n",
      "Productos en CAVA 2 (Refrigeración):\n"
     ]
    },
    {
     "data": {
      "text/html": [
       "<div>\n",
       "<style scoped>\n",
       "    .dataframe tbody tr th:only-of-type {\n",
       "        vertical-align: middle;\n",
       "    }\n",
       "\n",
       "    .dataframe tbody tr th {\n",
       "        vertical-align: top;\n",
       "    }\n",
       "\n",
       "    .dataframe thead th {\n",
       "        text-align: right;\n",
       "    }\n",
       "</style>\n",
       "<table border=\"1\" class=\"dataframe\">\n",
       "  <thead>\n",
       "    <tr style=\"text-align: right;\">\n",
       "      <th></th>\n",
       "      <th>Codigo</th>\n",
       "      <th>Producto</th>\n",
       "      <th>Stock_Actual</th>\n",
       "      <th>Promedio_Semanal</th>\n",
       "    </tr>\n",
       "  </thead>\n",
       "  <tbody>\n",
       "  </tbody>\n",
       "</table>\n",
       "</div>"
      ],
      "text/plain": [
       "Empty DataFrame\n",
       "Columns: [Codigo, Producto, Stock_Actual, Promedio_Semanal]\n",
       "Index: []"
      ]
     },
     "metadata": {},
     "output_type": "display_data"
    }
   ],
   "source": [
    "# Analizar distribución de productos por cava\n",
    "print(\"Distribución de productos por cava:\")\n",
    "print(analisis['Cava'].value_counts())\n",
    "\n",
    "print(\"\\nProductos en CAVA 2 (Refrigeración):\")\n",
    "productos_cava2 = analisis[analisis['Cava'] == 'CAVA 2'][['Codigo', 'Producto', 'Stock_Actual', 'Promedio_Semanal']]\n",
    "display(productos_cava2)"
   ]
  },
  {
   "cell_type": "code",
   "execution_count": 17,
   "id": "169a116a",
   "metadata": {},
   "outputs": [
    {
     "ename": "FileNotFoundError",
     "evalue": "[Errno 2] No such file or directory: 'data/raw/INVENTARIO_LOMAROSA.xlsx'",
     "output_type": "error",
     "traceback": [
      "\u001b[31m---------------------------------------------------------------------------\u001b[39m",
      "\u001b[31mFileNotFoundError\u001b[39m                         Traceback (most recent call last)",
      "\u001b[36mCell\u001b[39m\u001b[36m \u001b[39m\u001b[32mIn[17]\u001b[39m\u001b[32m, line 5\u001b[39m\n\u001b[32m      2\u001b[39m \u001b[38;5;28;01mimport\u001b[39;00m\u001b[38;5;250m \u001b[39m\u001b[34;01mpandas\u001b[39;00m\u001b[38;5;250m \u001b[39m\u001b[38;5;28;01mas\u001b[39;00m\u001b[38;5;250m \u001b[39m\u001b[34;01mpd\u001b[39;00m\n\u001b[32m      4\u001b[39m \u001b[38;5;66;03m# Leer el archivo Excel\u001b[39;00m\n\u001b[32m----> \u001b[39m\u001b[32m5\u001b[39m inventario = \u001b[43mpd\u001b[49m\u001b[43m.\u001b[49m\u001b[43mread_excel\u001b[49m\u001b[43m(\u001b[49m\u001b[33;43m\"\u001b[39;49m\u001b[33;43mdata/raw/INVENTARIO_LOMAROSA.xlsx\u001b[39;49m\u001b[33;43m\"\u001b[39;49m\u001b[43m)\u001b[49m\n\u001b[32m      7\u001b[39m \u001b[38;5;66;03m# Mostrar las ubicaciones únicas\u001b[39;00m\n\u001b[32m      8\u001b[39m \u001b[38;5;28mprint\u001b[39m(\u001b[33m\"\u001b[39m\u001b[33mUbicaciones únicas en el archivo original:\u001b[39m\u001b[33m\"\u001b[39m)\n",
      "\u001b[36mFile \u001b[39m\u001b[32mc:\\Users\\Dagok\\OneDrive\\Documents\\GitHub\\lomarosa-data\\.venv\\Lib\\site-packages\\pandas\\io\\excel\\_base.py:495\u001b[39m, in \u001b[36mread_excel\u001b[39m\u001b[34m(io, sheet_name, header, names, index_col, usecols, dtype, engine, converters, true_values, false_values, skiprows, nrows, na_values, keep_default_na, na_filter, verbose, parse_dates, date_parser, date_format, thousands, decimal, comment, skipfooter, storage_options, dtype_backend, engine_kwargs)\u001b[39m\n\u001b[32m    493\u001b[39m \u001b[38;5;28;01mif\u001b[39;00m \u001b[38;5;129;01mnot\u001b[39;00m \u001b[38;5;28misinstance\u001b[39m(io, ExcelFile):\n\u001b[32m    494\u001b[39m     should_close = \u001b[38;5;28;01mTrue\u001b[39;00m\n\u001b[32m--> \u001b[39m\u001b[32m495\u001b[39m     io = \u001b[43mExcelFile\u001b[49m\u001b[43m(\u001b[49m\n\u001b[32m    496\u001b[39m \u001b[43m        \u001b[49m\u001b[43mio\u001b[49m\u001b[43m,\u001b[49m\n\u001b[32m    497\u001b[39m \u001b[43m        \u001b[49m\u001b[43mstorage_options\u001b[49m\u001b[43m=\u001b[49m\u001b[43mstorage_options\u001b[49m\u001b[43m,\u001b[49m\n\u001b[32m    498\u001b[39m \u001b[43m        \u001b[49m\u001b[43mengine\u001b[49m\u001b[43m=\u001b[49m\u001b[43mengine\u001b[49m\u001b[43m,\u001b[49m\n\u001b[32m    499\u001b[39m \u001b[43m        \u001b[49m\u001b[43mengine_kwargs\u001b[49m\u001b[43m=\u001b[49m\u001b[43mengine_kwargs\u001b[49m\u001b[43m,\u001b[49m\n\u001b[32m    500\u001b[39m \u001b[43m    \u001b[49m\u001b[43m)\u001b[49m\n\u001b[32m    501\u001b[39m \u001b[38;5;28;01melif\u001b[39;00m engine \u001b[38;5;129;01mand\u001b[39;00m engine != io.engine:\n\u001b[32m    502\u001b[39m     \u001b[38;5;28;01mraise\u001b[39;00m \u001b[38;5;167;01mValueError\u001b[39;00m(\n\u001b[32m    503\u001b[39m         \u001b[33m\"\u001b[39m\u001b[33mEngine should not be specified when passing \u001b[39m\u001b[33m\"\u001b[39m\n\u001b[32m    504\u001b[39m         \u001b[33m\"\u001b[39m\u001b[33man ExcelFile - ExcelFile already has the engine set\u001b[39m\u001b[33m\"\u001b[39m\n\u001b[32m    505\u001b[39m     )\n",
      "\u001b[36mFile \u001b[39m\u001b[32mc:\\Users\\Dagok\\OneDrive\\Documents\\GitHub\\lomarosa-data\\.venv\\Lib\\site-packages\\pandas\\io\\excel\\_base.py:1550\u001b[39m, in \u001b[36mExcelFile.__init__\u001b[39m\u001b[34m(self, path_or_buffer, engine, storage_options, engine_kwargs)\u001b[39m\n\u001b[32m   1548\u001b[39m     ext = \u001b[33m\"\u001b[39m\u001b[33mxls\u001b[39m\u001b[33m\"\u001b[39m\n\u001b[32m   1549\u001b[39m \u001b[38;5;28;01melse\u001b[39;00m:\n\u001b[32m-> \u001b[39m\u001b[32m1550\u001b[39m     ext = \u001b[43minspect_excel_format\u001b[49m\u001b[43m(\u001b[49m\n\u001b[32m   1551\u001b[39m \u001b[43m        \u001b[49m\u001b[43mcontent_or_path\u001b[49m\u001b[43m=\u001b[49m\u001b[43mpath_or_buffer\u001b[49m\u001b[43m,\u001b[49m\u001b[43m \u001b[49m\u001b[43mstorage_options\u001b[49m\u001b[43m=\u001b[49m\u001b[43mstorage_options\u001b[49m\n\u001b[32m   1552\u001b[39m \u001b[43m    \u001b[49m\u001b[43m)\u001b[49m\n\u001b[32m   1553\u001b[39m     \u001b[38;5;28;01mif\u001b[39;00m ext \u001b[38;5;129;01mis\u001b[39;00m \u001b[38;5;28;01mNone\u001b[39;00m:\n\u001b[32m   1554\u001b[39m         \u001b[38;5;28;01mraise\u001b[39;00m \u001b[38;5;167;01mValueError\u001b[39;00m(\n\u001b[32m   1555\u001b[39m             \u001b[33m\"\u001b[39m\u001b[33mExcel file format cannot be determined, you must specify \u001b[39m\u001b[33m\"\u001b[39m\n\u001b[32m   1556\u001b[39m             \u001b[33m\"\u001b[39m\u001b[33man engine manually.\u001b[39m\u001b[33m\"\u001b[39m\n\u001b[32m   1557\u001b[39m         )\n",
      "\u001b[36mFile \u001b[39m\u001b[32mc:\\Users\\Dagok\\OneDrive\\Documents\\GitHub\\lomarosa-data\\.venv\\Lib\\site-packages\\pandas\\io\\excel\\_base.py:1402\u001b[39m, in \u001b[36minspect_excel_format\u001b[39m\u001b[34m(content_or_path, storage_options)\u001b[39m\n\u001b[32m   1399\u001b[39m \u001b[38;5;28;01mif\u001b[39;00m \u001b[38;5;28misinstance\u001b[39m(content_or_path, \u001b[38;5;28mbytes\u001b[39m):\n\u001b[32m   1400\u001b[39m     content_or_path = BytesIO(content_or_path)\n\u001b[32m-> \u001b[39m\u001b[32m1402\u001b[39m \u001b[38;5;28;01mwith\u001b[39;00m \u001b[43mget_handle\u001b[49m\u001b[43m(\u001b[49m\n\u001b[32m   1403\u001b[39m \u001b[43m    \u001b[49m\u001b[43mcontent_or_path\u001b[49m\u001b[43m,\u001b[49m\u001b[43m \u001b[49m\u001b[33;43m\"\u001b[39;49m\u001b[33;43mrb\u001b[39;49m\u001b[33;43m\"\u001b[39;49m\u001b[43m,\u001b[49m\u001b[43m \u001b[49m\u001b[43mstorage_options\u001b[49m\u001b[43m=\u001b[49m\u001b[43mstorage_options\u001b[49m\u001b[43m,\u001b[49m\u001b[43m \u001b[49m\u001b[43mis_text\u001b[49m\u001b[43m=\u001b[49m\u001b[38;5;28;43;01mFalse\u001b[39;49;00m\n\u001b[32m   1404\u001b[39m \u001b[43m\u001b[49m\u001b[43m)\u001b[49m \u001b[38;5;28;01mas\u001b[39;00m handle:\n\u001b[32m   1405\u001b[39m     stream = handle.handle\n\u001b[32m   1406\u001b[39m     stream.seek(\u001b[32m0\u001b[39m)\n",
      "\u001b[36mFile \u001b[39m\u001b[32mc:\\Users\\Dagok\\OneDrive\\Documents\\GitHub\\lomarosa-data\\.venv\\Lib\\site-packages\\pandas\\io\\common.py:882\u001b[39m, in \u001b[36mget_handle\u001b[39m\u001b[34m(path_or_buf, mode, encoding, compression, memory_map, is_text, errors, storage_options)\u001b[39m\n\u001b[32m    873\u001b[39m         handle = \u001b[38;5;28mopen\u001b[39m(\n\u001b[32m    874\u001b[39m             handle,\n\u001b[32m    875\u001b[39m             ioargs.mode,\n\u001b[32m   (...)\u001b[39m\u001b[32m    878\u001b[39m             newline=\u001b[33m\"\u001b[39m\u001b[33m\"\u001b[39m,\n\u001b[32m    879\u001b[39m         )\n\u001b[32m    880\u001b[39m     \u001b[38;5;28;01melse\u001b[39;00m:\n\u001b[32m    881\u001b[39m         \u001b[38;5;66;03m# Binary mode\u001b[39;00m\n\u001b[32m--> \u001b[39m\u001b[32m882\u001b[39m         handle = \u001b[38;5;28;43mopen\u001b[39;49m\u001b[43m(\u001b[49m\u001b[43mhandle\u001b[49m\u001b[43m,\u001b[49m\u001b[43m \u001b[49m\u001b[43mioargs\u001b[49m\u001b[43m.\u001b[49m\u001b[43mmode\u001b[49m\u001b[43m)\u001b[49m\n\u001b[32m    883\u001b[39m     handles.append(handle)\n\u001b[32m    885\u001b[39m \u001b[38;5;66;03m# Convert BytesIO or file objects passed with an encoding\u001b[39;00m\n",
      "\u001b[31mFileNotFoundError\u001b[39m: [Errno 2] No such file or directory: 'data/raw/INVENTARIO_LOMAROSA.xlsx'"
     ]
    }
   ],
   "source": [
    "# Leer el archivo de inventario original\n",
    "import pandas as pd\n",
    "\n",
    "# Leer el archivo Excel\n",
    "inventario = pd.read_excel(\"data/raw/INVENTARIO_LOMAROSA.xlsx\")\n",
    "\n",
    "# Mostrar las ubicaciones únicas\n",
    "print(\"Ubicaciones únicas en el archivo original:\")\n",
    "print(inventario['UBICACION'].value_counts())"
   ]
  },
  {
   "cell_type": "code",
   "execution_count": 18,
   "id": "fd39f568",
   "metadata": {},
   "outputs": [
    {
     "name": "stdout",
     "output_type": "stream",
     "text": [
      "Ubicaciones únicas en el archivo original:\n",
      "No se encontró la columna UBICACION\n"
     ]
    }
   ],
   "source": [
    "# Leer el archivo de inventario original\n",
    "import pandas as pd\n",
    "import os\n",
    "\n",
    "# Construir la ruta absoluta\n",
    "ruta_base = \"c:/Users/Dagok/OneDrive/Documents/GitHub/lomarosa-data\"\n",
    "ruta_archivo = os.path.join(ruta_base, \"data/raw/INVENTARIO_LOMAROSA.xlsx\")\n",
    "\n",
    "# Leer el archivo Excel\n",
    "inventario = pd.read_excel(ruta_archivo)\n",
    "\n",
    "# Mostrar las ubicaciones únicas\n",
    "print(\"Ubicaciones únicas en el archivo original:\")\n",
    "print(inventario['UBICACION'].value_counts() if 'UBICACION' in inventario.columns else \"No se encontró la columna UBICACION\")"
   ]
  },
  {
   "cell_type": "code",
   "execution_count": 19,
   "id": "e6518a91",
   "metadata": {},
   "outputs": [
    {
     "name": "stdout",
     "output_type": "stream",
     "text": [
      "Columnas disponibles en el archivo original:\n",
      "['Unnamed: 0', 'Unnamed: 1', 'Unnamed: 2', 'Unnamed: 3', 'Unnamed: 4', 'Unnamed: 5', 'Unnamed: 6', 'Unnamed: 7', 'Unnamed: 8', 'Unnamed: 9', 'Unnamed: 10', 'Unnamed: 11']\n"
     ]
    }
   ],
   "source": [
    "# Ver las columnas disponibles en el archivo original\n",
    "print(\"Columnas disponibles en el archivo original:\")\n",
    "print(inventario.columns.tolist())"
   ]
  },
  {
   "cell_type": "code",
   "execution_count": 20,
   "id": "0f6a1114",
   "metadata": {},
   "outputs": [
    {
     "name": "stdout",
     "output_type": "stream",
     "text": [
      "Primeras filas del archivo original:\n",
      "   Unnamed: 0                         Unnamed: 1 Unnamed: 2 Unnamed: 3  \\\n",
      "0  INVENTARIO                                NaN        NaN        NaN   \n",
      "1         NaN  Inversiones Agropecuarias Lom SAS        NaN        NaN   \n",
      "2         NaN                                NaN        NaN        NaN   \n",
      "3         NaN                                NaN        NaN        NaN   \n",
      "4         NaN                                NaN        NaN        NaN   \n",
      "\n",
      "  Unnamed: 4 Unnamed: 5 Unnamed: 6 Unnamed: 7 Unnamed: 8 Unnamed: 9  \\\n",
      "0        NaN        NaN        NaN        NaN        NaN        NaN   \n",
      "1        NaN        NaN        NaN        NaN        NaN        NaN   \n",
      "2        NaN        NaN        NaN        NaN        NaN        NaN   \n",
      "3        NaN        NaN        NaN        NaN        NaN        NaN   \n",
      "4        NaN        NaN        NaN        NaN        NaN        NaN   \n",
      "\n",
      "  Unnamed: 10 Unnamed: 11  \n",
      "0         NaN         NaN  \n",
      "1         NaN         NaN  \n",
      "2         NaN         NaN  \n",
      "3         NaN         NaN  \n",
      "4         NaN         NaN  \n"
     ]
    }
   ],
   "source": [
    "# Ver las primeras filas del archivo\n",
    "print(\"Primeras filas del archivo original:\")\n",
    "print(inventario.head())"
   ]
  },
  {
   "cell_type": "code",
   "execution_count": 21,
   "id": "8ac04581",
   "metadata": {},
   "outputs": [
    {
     "name": "stdout",
     "output_type": "stream",
     "text": [
      "Columnas después de saltar filas:\n",
      "['Unnamed: 0', 'Unnamed: 1', 'Unnamed: 2', 'Unnamed: 3', 'Unnamed: 4', 'Unnamed: 5', 'Unnamed: 6', 'Unnamed: 7', 'Unnamed: 8', 'Unnamed: 9', 'Unnamed: 10', 'Unnamed: 11']\n",
      "\n",
      "Primeras filas de los datos:\n",
      "  Unnamed: 0 Unnamed: 1 Unnamed: 2 Unnamed: 3 Unnamed: 4 Unnamed: 5  \\\n",
      "0        NaN      FECHA        NaN        NaN        NaN        NaN   \n",
      "1        NaN        NaN        NaN        NaN        NaN        NaN   \n",
      "2        NaN     Bodega        NaN        NaN        NaN        NaN   \n",
      "3        NaN       Cava        NaN        NaN        NaN        NaN   \n",
      "4        NaN        NaN        NaN        NaN        NaN        NaN   \n",
      "\n",
      "  Unnamed: 6 Unnamed: 7 Unnamed: 8 Unnamed: 9 Unnamed: 10 Unnamed: 11  \n",
      "0        NaN        NaN        NaN        NaN         NaN         NaN  \n",
      "1        NaN        NaN        NaN        NaN         NaN         NaN  \n",
      "2        NaN        NaN        NaN        NaN         NaN         NaN  \n",
      "3        NaN        NaN        NaN        NaN         NaN         NaN  \n",
      "4        NaN       1.85        2.3        1.3         NaN         NaN  \n"
     ]
    }
   ],
   "source": [
    "# Leer el archivo Excel saltando las primeras filas\n",
    "inventario = pd.read_excel(ruta_archivo, skiprows=5)\n",
    "\n",
    "print(\"Columnas después de saltar filas:\")\n",
    "print(inventario.columns.tolist())\n",
    "\n",
    "print(\"\\nPrimeras filas de los datos:\")\n",
    "print(inventario.head())"
   ]
  },
  {
   "cell_type": "code",
   "execution_count": 22,
   "id": "20ce013e",
   "metadata": {},
   "outputs": [
    {
     "name": "stdout",
     "output_type": "stream",
     "text": [
      "Nueva distribución de productos por cava:\n",
      "Series([], Name: count, dtype: int64)\n"
     ]
    },
    {
     "data": {
      "text/html": [
       "\n",
       "\n",
       "<style>\n",
       "    .stock-table {\n",
       "        width: 100%;\n",
       "        border-collapse: collapse;\n",
       "        margin: 25px 0;\n",
       "        font-size: 14px;\n",
       "        font-family: Arial, sans-serif;\n",
       "        box-shadow: 0 0 20px rgba(0, 0, 0, 0.15);\n",
       "        background-color: #1a1a2e;\n",
       "        color: white;\n",
       "    }\n",
       "    .stock-table thead tr {\n",
       "        background-color: #2d2d44;\n",
       "        color: white;\n",
       "        text-align: left;\n",
       "    }\n",
       "    .stock-table th,\n",
       "    .stock-table td {\n",
       "        padding: 12px 15px;\n",
       "        border-bottom: 1px solid #3f3f5f;\n",
       "    }\n",
       "    .stock-table tbody tr {\n",
       "        border-bottom: 1px solid #3f3f5f;\n",
       "    }\n",
       "    .sobre-stock {\n",
       "        background-color: #7c1d1d !important;\n",
       "    }\n",
       "    .stock-bajo {\n",
       "        background-color: #614a1f !important;\n",
       "    }\n",
       "    .stock-adecuado {\n",
       "        background-color: #1f4937 !important;\n",
       "    }\n",
       "    .sin-ventas {\n",
       "        background-color: #2d2d44 !important;\n",
       "    }\n",
       "    .stock-table th {\n",
       "        background-color: #2d2d44;\n",
       "        font-weight: bold;\n",
       "    }\n",
       "</style>\n",
       "\n",
       "<div style=\"margin: 20px 0;\">\n",
       "    <h2 style=\"color: white; margin-bottom: 20px;\">Análisis de Stock por Ubicación de Almacenamiento</h2>\n",
       "    <table class=\"stock-table\">\n",
       "        <thead>\n",
       "            <tr><th>Código</th>\n",
       "        </thead>\n",
       "        <tbody>\n",
       "            <th>Producto</th><th>Ubicación</th><th>Stock Actual (kg)</th><th>Prom. Ventas/Sem (kg)</th><th>Semanas de Stock</th><th>Estado</th></tr><tr class='sobre-stock'><td>71</td><td>PUNTAS DE COSTILLA</td><td>Refrigeración (nan)</td><td>1180.7</td><td>475.8</td><td>2.5</td><td>Sobre Stock</td></tr><tr class='sobre-stock'><td>256</td><td>RECORTE ESPECIAL</td><td>Refrigeración (nan)</td><td>870.6</td><td>955.9</td><td>0.9</td><td>Sobre Stock</td></tr><tr class='sobre-stock'><td>307</td><td>CABEZA DE LOMO</td><td>Refrigeración (nan)</td><td>761.8</td><td>214.1</td><td>3.6</td><td>Sobre Stock</td></tr><tr class='stock-adecuado'><td>316</td><td>MILANESA DE PIERNA</td><td>Refrigeración (nan)</td><td>689.6</td><td>3248.3</td><td>0.2</td><td>Stock Adecuado</td></tr><tr class='sobre-stock'><td>6</td><td>CHULETA DE BRAZO</td><td>Refrigeración (nan)</td><td>560.8</td><td>191.5</td><td>2.9</td><td>Sobre Stock</td></tr><tr class='sin-ventas'><td>328</td><td>PERNIL DESPOSTE </td><td>Refrigeración (nan)</td><td>507.2</td><td>0.0</td><td>Sin datos</td><td>Sin Ventas</td></tr><tr class='sobre-stock'><td>512</td><td>Chorizo Ahumado x19 Unds</td><td>Refrigeración (nan)</td><td>471.0</td><td>104.0</td><td>4.5</td><td>Sobre Stock</td></tr><tr class='sobre-stock'><td>280</td><td>Recorte De Pierna</td><td>Refrigeración (nan)</td><td>462.4</td><td>702.2</td><td>0.7</td><td>Sobre Stock</td></tr><tr class='sobre-stock'><td>52</td><td>COSTILLA BABY BACK</td><td>Refrigeración (nan)</td><td>436.5</td><td>238.5</td><td>1.8</td><td>Sobre Stock</td></tr><tr class='sobre-stock'><td>314</td><td>MILANESA CERDO X KILO</td><td>Refrigeración (nan)</td><td>282.8</td><td>252.5</td><td>1.1</td><td>Sobre Stock</td></tr><tr class='sobre-stock'><td>322</td><td>GOULASH ESPECIAL</td><td>Refrigeración (nan)</td><td>267.2</td><td>83.9</td><td>3.2</td><td>Sobre Stock</td></tr><tr class='sobre-stock'><td>253</td><td>DESPALME</td><td>Refrigeración (nan)</td><td>264.9</td><td>379.5</td><td>0.7</td><td>Sobre Stock</td></tr><tr class='sobre-stock'><td>355</td><td>TOCINO BARRIGA</td><td>Refrigeración (nan)</td><td>245.6</td><td>537.6</td><td>0.5</td><td>Sobre Stock</td></tr><tr class='stock-adecuado'><td>251</td><td>CABEZA</td><td>Refrigeración (nan)</td><td>211.8</td><td>837.1</td><td>0.3</td><td>Stock Adecuado</td></tr><tr class='sin-ventas'><td>333</td><td>BRAZO DESPOSTE </td><td>Refrigeración (nan)</td><td>210.0</td><td>0.0</td><td>Sin datos</td><td>Sin Ventas</td></tr><tr class='sobre-stock'><td>268</td><td>EMPELLA</td><td>Refrigeración (nan)</td><td>198.3</td><td>162.8</td><td>1.2</td><td>Sobre Stock</td></tr><tr class='sobre-stock'><td>325</td><td>COSTILLA INDUSTRIAL</td><td>Refrigeración (nan)</td><td>190.8</td><td>11.5</td><td>16.6</td><td>Sobre Stock</td></tr><tr class='sobre-stock'><td>313</td><td>SOLOMITO</td><td>Refrigeración (nan)</td><td>181.4</td><td>130.7</td><td>1.4</td><td>Sobre Stock</td></tr><tr class='stock-adecuado'><td>55</td><td>COSTILLA SAN LUIS</td><td>Refrigeración (nan)</td><td>180.5</td><td>688.1</td><td>0.3</td><td>Stock Adecuado</td></tr><tr class='stock-adecuado'><td>315</td><td>LOMO ALMENDRA</td><td>Refrigeración (nan)</td><td>179.3</td><td>778.8</td><td>0.2</td><td>Stock Adecuado</td></tr><tr class='sobre-stock'><td>362</td><td>BONDIOLA TAJADA</td><td>Refrigeración (nan)</td><td>176.6</td><td>337.8</td><td>0.5</td><td>Sobre Stock</td></tr><tr class='stock-adecuado'><td>358</td><td>PLANCHA</td><td>Refrigeración (nan)</td><td>163.8</td><td>532.5</td><td>0.3</td><td>Stock Adecuado</td></tr><tr class='sobre-stock'><td>365</td><td>ASERRIN</td><td>Refrigeración (nan)</td><td>156.6</td><td>35.1</td><td>4.5</td><td>Sobre Stock</td></tr><tr class='sobre-stock'><td>364</td><td>BERIJAS</td><td>Refrigeración (nan)</td><td>148.2</td><td>175.6</td><td>0.8</td><td>Sobre Stock</td></tr><tr class='sobre-stock'><td>367</td><td>CHICHARRON CARNUDO X KG</td><td>Refrigeración (nan)</td><td>133.1</td><td>238.7</td><td>0.6</td><td>Sobre Stock</td></tr><tr class='sobre-stock'><td>4</td><td>CHULETA DE COGOTE</td><td>Refrigeración (nan)</td><td>113.5</td><td>9.6</td><td>11.8</td><td>Sobre Stock</td></tr><tr class='stock-bajo'><td>356</td><td>TOCINO CORRIENTE</td><td>Refrigeración (nan)</td><td>111.4</td><td>687.7</td><td>0.2</td><td>Stock Bajo</td></tr><tr class='sobre-stock'><td>270</td><td>DECOMISO</td><td>Refrigeración (nan)</td><td>86.2</td><td>32.6</td><td>2.6</td><td>Sobre Stock</td></tr><tr class='sobre-stock'><td>9</td><td>CHULETA DE LOMO</td><td>Refrigeración (nan)</td><td>80.3</td><td>13.9</td><td>5.8</td><td>Sobre Stock</td></tr><tr class='sobre-stock'><td>58</td><td>COSTIPIEL</td><td>Refrigeración (nan)</td><td>75.7</td><td>-0.3</td><td>Sin datos</td><td>Sobre Stock</td></tr><tr class='stock-adecuado'><td>360</td><td>TOCINETA ANTIOQUEÑA</td><td>Refrigeración (nan)</td><td>75.5</td><td>219.7</td><td>0.3</td><td>Stock Adecuado</td></tr><tr class='sobre-stock'><td>311</td><td>FALDA</td><td>Refrigeración (nan)</td><td>70.8</td><td>17.5</td><td>4.0</td><td>Sobre Stock</td></tr><tr class='stock-bajo'><td>357</td><td>TOCINO DORSAL</td><td>Refrigeración (nan)</td><td>68.2</td><td>439.0</td><td>0.2</td><td>Stock Bajo</td></tr><tr class='stock-adecuado'><td>353</td><td>PAPADA CON PIEL</td><td>Refrigeración (nan)</td><td>64.7</td><td>275.1</td><td>0.2</td><td>Stock Adecuado</td></tr><tr class='sobre-stock'><td>202</td><td>CODOS CON PIEL</td><td>Refrigeración (nan)</td><td>60.3</td><td>97.8</td><td>0.6</td><td>Sobre Stock</td></tr><tr class='stock-bajo'><td>254</td><td>HUESO POROZO</td><td>Refrigeración (nan)</td><td>54.8</td><td>537.0</td><td>0.1</td><td>Stock Bajo</td></tr><tr class='stock-bajo'><td>304</td><td>BRAZO PULPO</td><td>Refrigeración (nan)</td><td>51.7</td><td>667.2</td><td>0.1</td><td>Stock Bajo</td></tr><tr class='sobre-stock'><td>51</td><td>CANASTO</td><td>Refrigeración (nan)</td><td>45.9</td><td>84.2</td><td>0.5</td><td>Sobre Stock</td></tr><tr class='stock-adecuado'><td>258</td><td>SANGRADOS</td><td>Refrigeración (nan)</td><td>41.1</td><td>109.1</td><td>0.4</td><td>Stock Adecuado</td></tr><tr class='sobre-stock'><td>204</td><td>OSOBUCOS</td><td>Refrigeración (nan)</td><td>35.5</td><td>12.8</td><td>2.8</td><td>Sobre Stock</td></tr><tr class='sobre-stock'><td>61</td><td>RACK DE COSTILLA</td><td>Refrigeración (nan)</td><td>34.1</td><td>49.9</td><td>0.7</td><td>Sobre Stock</td></tr><tr class='stock-bajo'><td>208</td><td>PEZUÑA</td><td>Refrigeración (nan)</td><td>32.4</td><td>263.5</td><td>0.1</td><td>Stock Bajo</td></tr><tr class='stock-bajo'><td>264</td><td>COLAS Y COGOTES</td><td>Refrigeración (nan)</td><td>24.8</td><td>161.3</td><td>0.2</td><td>Stock Bajo</td></tr><tr class='stock-adecuado'><td>352</td><td>TOCINO PIANO CON PIEL</td><td>Refrigeración (nan)</td><td>20.1</td><td>76.3</td><td>0.3</td><td>Stock Adecuado</td></tr><tr class='stock-bajo'><td>303</td><td>BONDIOLA</td><td>Refrigeración (nan)</td><td>19.6</td><td>547.2</td><td>0.0</td><td>Stock Bajo</td></tr><tr class='sobre-stock'><td>102</td><td>COJINES</td><td>Refrigeración (nan)</td><td>19.4</td><td>34.0</td><td>0.6</td><td>Sobre Stock</td></tr><tr class='sobre-stock'><td>72</td><td>CHULETON</td><td>Refrigeración (nan)</td><td>15.7</td><td>13.9</td><td>1.1</td><td>Sobre Stock</td></tr><tr class='sobre-stock'><td>153</td><td>ESPINAZO ESPECIAL</td><td>Refrigeración (nan)</td><td>13.7</td><td>15.7</td><td>0.9</td><td>Sobre Stock</td></tr><tr class='sin-ventas'><td>320</td><td>LOMO DESPOSTE </td><td>Refrigeración (nan)</td><td>13.6</td><td>0.0</td><td>Sin datos</td><td>Sin Ventas</td></tr><tr class='sin-ventas'><td>259</td><td>RECORTE DE CHULETA</td><td>Refrigeración (nan)</td><td>11.7</td><td>0.0</td><td>Sin datos</td><td>Sin Ventas</td></tr><tr class='stock-bajo'><td>359</td><td>TOCINO PIANO SIN PIEL</td><td>Refrigeración (nan)</td><td>10.8</td><td>145.5</td><td>0.1</td><td>Stock Bajo</td></tr><tr class='stock-bajo'><td>305</td><td>CARNE MOLIDA</td><td>Refrigeración (nan)</td><td>10.2</td><td>120.2</td><td>0.1</td><td>Stock Bajo</td></tr><tr class='sobre-stock'><td>64</td><td>COSTILLA MOSTRADOR</td><td>Refrigeración (nan)</td><td>9.1</td><td>4.3</td><td>2.1</td><td>Sobre Stock</td></tr><tr class='sobre-stock'><td>501</td><td>CHORIZO SANTAROSANO X500</td><td>Refrigeración (nan)</td><td>9.0</td><td>3.5</td><td>2.6</td><td>Sobre Stock</td></tr><tr class='sin-ventas'><td>68</td><td>CARTILAGOS </td><td>Refrigeración (nan)</td><td>6.5</td><td>0.0</td><td>Sin datos</td><td>Sin Ventas</td></tr>\n",
       "        </tbody>\n",
       "    </table>\n",
       "</div>\n"
      ],
      "text/plain": [
       "<IPython.core.display.HTML object>"
      ]
     },
     "metadata": {},
     "output_type": "display_data"
    }
   ],
   "source": [
    "# Intercambiar las asignaciones de cava\n",
    "analisis['Cava'] = analisis['Cava'].map({\n",
    "    'CAVA 2': 'CAVA 1',  # Congelado\n",
    "    'CAVA 1': 'CAVA 2'   # Refrigeración\n",
    "})\n",
    "\n",
    "# Mostrar la nueva distribución\n",
    "print(\"Nueva distribución de productos por cava:\")\n",
    "print(analisis['Cava'].value_counts())\n",
    "\n",
    "# Crear la tabla actualizada con las cavas corregidas\n",
    "from IPython.display import display, HTML\n",
    "\n",
    "# Definir límites por ubicación\n",
    "def calcular_estado(row):\n",
    "    if pd.isna(row['Promedio_Semanal']) or row['Promedio_Semanal'] == 0:\n",
    "        return 'Sin Ventas'\n",
    "    \n",
    "    semanas_stock = row['Stock_Actual'] / row['Promedio_Semanal'] if row['Promedio_Semanal'] > 0 else float('inf')\n",
    "    \n",
    "    if row['Cava'] == 'CAVA 1':  # Congelado\n",
    "        if semanas_stock > 4:\n",
    "            return 'Sobre Stock'\n",
    "        elif semanas_stock < 2:\n",
    "            return 'Stock Bajo'\n",
    "        else:\n",
    "            return 'Stock Adecuado'\n",
    "    else:  # CAVA 2 (Refrigeración)\n",
    "        if semanas_stock > 0.4:\n",
    "            return 'Sobre Stock'\n",
    "        elif semanas_stock < 0.2:\n",
    "            return 'Stock Bajo'\n",
    "        else:\n",
    "            return 'Stock Adecuado'\n",
    "\n",
    "# Preparar datos para la tabla\n",
    "tabla_stock = analisis.copy()\n",
    "tabla_stock['Semanas_de_Stock'] = tabla_stock.apply(\n",
    "    lambda row: row['Stock_Actual'] / row['Promedio_Semanal'] if row['Promedio_Semanal'] > 0 else float('inf'),\n",
    "    axis=1\n",
    ")\n",
    "tabla_stock['Estado'] = tabla_stock.apply(calcular_estado, axis=1)\n",
    "\n",
    "# Ordenar la tabla por Stock Actual de mayor a menor\n",
    "tabla_stock = tabla_stock.sort_values('Stock_Actual', ascending=False)\n",
    "\n",
    "# Estilos CSS para la tabla (mismo estilo que antes)\n",
    "tabla_style = \"\"\"\n",
    "<style>\n",
    "    .stock-table {\n",
    "        width: 100%;\n",
    "        border-collapse: collapse;\n",
    "        margin: 25px 0;\n",
    "        font-size: 14px;\n",
    "        font-family: Arial, sans-serif;\n",
    "        box-shadow: 0 0 20px rgba(0, 0, 0, 0.15);\n",
    "        background-color: #1a1a2e;\n",
    "        color: white;\n",
    "    }\n",
    "    .stock-table thead tr {\n",
    "        background-color: #2d2d44;\n",
    "        color: white;\n",
    "        text-align: left;\n",
    "    }\n",
    "    .stock-table th,\n",
    "    .stock-table td {\n",
    "        padding: 12px 15px;\n",
    "        border-bottom: 1px solid #3f3f5f;\n",
    "    }\n",
    "    .stock-table tbody tr {\n",
    "        border-bottom: 1px solid #3f3f5f;\n",
    "    }\n",
    "    .sobre-stock {\n",
    "        background-color: #7c1d1d !important;\n",
    "    }\n",
    "    .stock-bajo {\n",
    "        background-color: #614a1f !important;\n",
    "    }\n",
    "    .stock-adecuado {\n",
    "        background-color: #1f4937 !important;\n",
    "    }\n",
    "    .sin-ventas {\n",
    "        background-color: #2d2d44 !important;\n",
    "    }\n",
    "    .stock-table th {\n",
    "        background-color: #2d2d44;\n",
    "        font-weight: bold;\n",
    "    }\n",
    "</style>\n",
    "\"\"\"\n",
    "\n",
    "# Crear el HTML de la tabla\n",
    "html_rows = []\n",
    "html_rows.append(\"<tr>\")\n",
    "columns = ['Codigo', 'Producto', 'Cava', 'Stock_Actual', 'Promedio_Semanal', 'Semanas_de_Stock', 'Estado']\n",
    "headers = ['Código', 'Producto', 'Ubicación', 'Stock Actual (kg)', 'Prom. Ventas/Sem (kg)', 'Semanas de Stock', 'Estado']\n",
    "\n",
    "# Agregar encabezados\n",
    "for header in headers:\n",
    "    html_rows.append(f\"<th>{header}</th>\")\n",
    "html_rows.append(\"</tr>\")\n",
    "\n",
    "# Agregar filas de datos\n",
    "for _, row in tabla_stock.iterrows():\n",
    "    row_class = get_row_class(row['Estado'])\n",
    "    html_rows.append(f\"<tr class='{row_class}'>\")\n",
    "    \n",
    "    # Formatear cada columna\n",
    "    for col in columns:\n",
    "        if col in ['Stock_Actual', 'Promedio_Semanal']:\n",
    "            value = f\"{row[col]:.1f}\"\n",
    "        elif col == 'Semanas_de_Stock':\n",
    "            value = f\"{row[col]:.1f}\" if row[col] != float('inf') else 'Sin datos'\n",
    "        elif col == 'Cava':\n",
    "            tipo_almacen = \"Congelado\" if row[col] == 'CAVA 1' else \"Refrigeración\"\n",
    "            value = f\"{tipo_almacen} ({row[col]})\"\n",
    "        else:\n",
    "            value = str(row[col])\n",
    "        html_rows.append(f\"<td>{value}</td>\")\n",
    "    \n",
    "    html_rows.append(\"</tr>\")\n",
    "\n",
    "# Construir la tabla completa\n",
    "html_table = f\"\"\"\n",
    "{tabla_style}\n",
    "<div style=\"margin: 20px 0;\">\n",
    "    <h2 style=\"color: white; margin-bottom: 20px;\">Análisis de Stock por Ubicación de Almacenamiento</h2>\n",
    "    <table class=\"stock-table\">\n",
    "        <thead>\n",
    "            {''.join(html_rows[:2])}\n",
    "        </thead>\n",
    "        <tbody>\n",
    "            {''.join(html_rows[2:])}\n",
    "        </tbody>\n",
    "    </table>\n",
    "</div>\n",
    "\"\"\"\n",
    "\n",
    "# Mostrar la tabla\n",
    "display(HTML(html_table))"
   ]
  },
  {
   "cell_type": "code",
   "execution_count": 13,
   "id": "1a40bb71",
   "metadata": {},
   "outputs": [
    {
     "ename": "KeyError",
     "evalue": "'Macropieza'",
     "output_type": "error",
     "traceback": [
      "\u001b[31m---------------------------------------------------------------------------\u001b[39m",
      "\u001b[31mKeyError\u001b[39m                                  Traceback (most recent call last)",
      "\u001b[36mFile \u001b[39m\u001b[32mc:\\Users\\Dagok\\OneDrive\\Documents\\GitHub\\lomarosa-data\\.venv\\Lib\\site-packages\\pandas\\core\\indexes\\base.py:3812\u001b[39m, in \u001b[36mIndex.get_loc\u001b[39m\u001b[34m(self, key)\u001b[39m\n\u001b[32m   3811\u001b[39m \u001b[38;5;28;01mtry\u001b[39;00m:\n\u001b[32m-> \u001b[39m\u001b[32m3812\u001b[39m     \u001b[38;5;28;01mreturn\u001b[39;00m \u001b[38;5;28;43mself\u001b[39;49m\u001b[43m.\u001b[49m\u001b[43m_engine\u001b[49m\u001b[43m.\u001b[49m\u001b[43mget_loc\u001b[49m\u001b[43m(\u001b[49m\u001b[43mcasted_key\u001b[49m\u001b[43m)\u001b[49m\n\u001b[32m   3813\u001b[39m \u001b[38;5;28;01mexcept\u001b[39;00m \u001b[38;5;167;01mKeyError\u001b[39;00m \u001b[38;5;28;01mas\u001b[39;00m err:\n",
      "\u001b[36mFile \u001b[39m\u001b[32mpandas/_libs/index.pyx:167\u001b[39m, in \u001b[36mpandas._libs.index.IndexEngine.get_loc\u001b[39m\u001b[34m()\u001b[39m\n",
      "\u001b[36mFile \u001b[39m\u001b[32mpandas/_libs/index.pyx:196\u001b[39m, in \u001b[36mpandas._libs.index.IndexEngine.get_loc\u001b[39m\u001b[34m()\u001b[39m\n",
      "\u001b[36mFile \u001b[39m\u001b[32mpandas/_libs/hashtable_class_helper.pxi:7088\u001b[39m, in \u001b[36mpandas._libs.hashtable.PyObjectHashTable.get_item\u001b[39m\u001b[34m()\u001b[39m\n",
      "\u001b[36mFile \u001b[39m\u001b[32mpandas/_libs/hashtable_class_helper.pxi:7096\u001b[39m, in \u001b[36mpandas._libs.hashtable.PyObjectHashTable.get_item\u001b[39m\u001b[34m()\u001b[39m\n",
      "\u001b[31mKeyError\u001b[39m: 'Macropieza'",
      "\nThe above exception was the direct cause of the following exception:\n",
      "\u001b[31mKeyError\u001b[39m                                  Traceback (most recent call last)",
      "\u001b[36mCell\u001b[39m\u001b[36m \u001b[39m\u001b[32mIn[13]\u001b[39m\u001b[32m, line 116\u001b[39m\n\u001b[32m    114\u001b[39m         value = \u001b[33mf\u001b[39m\u001b[33m\"\u001b[39m\u001b[38;5;132;01m{\u001b[39;00mrow[col]\u001b[38;5;132;01m:\u001b[39;00m\u001b[33m.1f\u001b[39m\u001b[38;5;132;01m}\u001b[39;00m\u001b[33m\"\u001b[39m \u001b[38;5;28;01mif\u001b[39;00m row[col] != \u001b[38;5;28mfloat\u001b[39m(\u001b[33m'\u001b[39m\u001b[33minf\u001b[39m\u001b[33m'\u001b[39m) \u001b[38;5;28;01melse\u001b[39;00m \u001b[33m'\u001b[39m\u001b[33mSin datos\u001b[39m\u001b[33m'\u001b[39m\n\u001b[32m    115\u001b[39m     \u001b[38;5;28;01melse\u001b[39;00m:\n\u001b[32m--> \u001b[39m\u001b[32m116\u001b[39m         value = \u001b[38;5;28mstr\u001b[39m(\u001b[43mrow\u001b[49m\u001b[43m[\u001b[49m\u001b[43mcol\u001b[49m\u001b[43m]\u001b[49m)\n\u001b[32m    117\u001b[39m     html_rows.append(\u001b[33mf\u001b[39m\u001b[33m\"\u001b[39m\u001b[33m<td>\u001b[39m\u001b[38;5;132;01m{\u001b[39;00mvalue\u001b[38;5;132;01m}\u001b[39;00m\u001b[33m</td>\u001b[39m\u001b[33m\"\u001b[39m)\n\u001b[32m    119\u001b[39m html_rows.append(\u001b[33m\"\u001b[39m\u001b[33m</tr>\u001b[39m\u001b[33m\"\u001b[39m)\n",
      "\u001b[36mFile \u001b[39m\u001b[32mc:\\Users\\Dagok\\OneDrive\\Documents\\GitHub\\lomarosa-data\\.venv\\Lib\\site-packages\\pandas\\core\\series.py:1133\u001b[39m, in \u001b[36mSeries.__getitem__\u001b[39m\u001b[34m(self, key)\u001b[39m\n\u001b[32m   1130\u001b[39m     \u001b[38;5;28;01mreturn\u001b[39;00m \u001b[38;5;28mself\u001b[39m._values[key]\n\u001b[32m   1132\u001b[39m \u001b[38;5;28;01melif\u001b[39;00m key_is_scalar:\n\u001b[32m-> \u001b[39m\u001b[32m1133\u001b[39m     \u001b[38;5;28;01mreturn\u001b[39;00m \u001b[38;5;28;43mself\u001b[39;49m\u001b[43m.\u001b[49m\u001b[43m_get_value\u001b[49m\u001b[43m(\u001b[49m\u001b[43mkey\u001b[49m\u001b[43m)\u001b[49m\n\u001b[32m   1135\u001b[39m \u001b[38;5;66;03m# Convert generator to list before going through hashable part\u001b[39;00m\n\u001b[32m   1136\u001b[39m \u001b[38;5;66;03m# (We will iterate through the generator there to check for slices)\u001b[39;00m\n\u001b[32m   1137\u001b[39m \u001b[38;5;28;01mif\u001b[39;00m is_iterator(key):\n",
      "\u001b[36mFile \u001b[39m\u001b[32mc:\\Users\\Dagok\\OneDrive\\Documents\\GitHub\\lomarosa-data\\.venv\\Lib\\site-packages\\pandas\\core\\series.py:1249\u001b[39m, in \u001b[36mSeries._get_value\u001b[39m\u001b[34m(self, label, takeable)\u001b[39m\n\u001b[32m   1246\u001b[39m     \u001b[38;5;28;01mreturn\u001b[39;00m \u001b[38;5;28mself\u001b[39m._values[label]\n\u001b[32m   1248\u001b[39m \u001b[38;5;66;03m# Similar to Index.get_value, but we do not fall back to positional\u001b[39;00m\n\u001b[32m-> \u001b[39m\u001b[32m1249\u001b[39m loc = \u001b[38;5;28;43mself\u001b[39;49m\u001b[43m.\u001b[49m\u001b[43mindex\u001b[49m\u001b[43m.\u001b[49m\u001b[43mget_loc\u001b[49m\u001b[43m(\u001b[49m\u001b[43mlabel\u001b[49m\u001b[43m)\u001b[49m\n\u001b[32m   1251\u001b[39m \u001b[38;5;28;01mif\u001b[39;00m is_integer(loc):\n\u001b[32m   1252\u001b[39m     \u001b[38;5;28;01mreturn\u001b[39;00m \u001b[38;5;28mself\u001b[39m._values[loc]\n",
      "\u001b[36mFile \u001b[39m\u001b[32mc:\\Users\\Dagok\\OneDrive\\Documents\\GitHub\\lomarosa-data\\.venv\\Lib\\site-packages\\pandas\\core\\indexes\\base.py:3819\u001b[39m, in \u001b[36mIndex.get_loc\u001b[39m\u001b[34m(self, key)\u001b[39m\n\u001b[32m   3814\u001b[39m     \u001b[38;5;28;01mif\u001b[39;00m \u001b[38;5;28misinstance\u001b[39m(casted_key, \u001b[38;5;28mslice\u001b[39m) \u001b[38;5;129;01mor\u001b[39;00m (\n\u001b[32m   3815\u001b[39m         \u001b[38;5;28misinstance\u001b[39m(casted_key, abc.Iterable)\n\u001b[32m   3816\u001b[39m         \u001b[38;5;129;01mand\u001b[39;00m \u001b[38;5;28many\u001b[39m(\u001b[38;5;28misinstance\u001b[39m(x, \u001b[38;5;28mslice\u001b[39m) \u001b[38;5;28;01mfor\u001b[39;00m x \u001b[38;5;129;01min\u001b[39;00m casted_key)\n\u001b[32m   3817\u001b[39m     ):\n\u001b[32m   3818\u001b[39m         \u001b[38;5;28;01mraise\u001b[39;00m InvalidIndexError(key)\n\u001b[32m-> \u001b[39m\u001b[32m3819\u001b[39m     \u001b[38;5;28;01mraise\u001b[39;00m \u001b[38;5;167;01mKeyError\u001b[39;00m(key) \u001b[38;5;28;01mfrom\u001b[39;00m\u001b[38;5;250m \u001b[39m\u001b[34;01merr\u001b[39;00m\n\u001b[32m   3820\u001b[39m \u001b[38;5;28;01mexcept\u001b[39;00m \u001b[38;5;167;01mTypeError\u001b[39;00m:\n\u001b[32m   3821\u001b[39m     \u001b[38;5;66;03m# If we have a listlike key, _check_indexing_error will raise\u001b[39;00m\n\u001b[32m   3822\u001b[39m     \u001b[38;5;66;03m#  InvalidIndexError. Otherwise we fall through and re-raise\u001b[39;00m\n\u001b[32m   3823\u001b[39m     \u001b[38;5;66;03m#  the TypeError.\u001b[39;00m\n\u001b[32m   3824\u001b[39m     \u001b[38;5;28mself\u001b[39m._check_indexing_error(key)\n",
      "\u001b[31mKeyError\u001b[39m: 'Macropieza'"
     ]
    }
   ],
   "source": [
    "from IPython.display import display, HTML\n",
    "\n",
    "# Definir límites por ubicación\n",
    "def calcular_estado(row):\n",
    "    if pd.isna(row['Promedio_Semanal']) or row['Promedio_Semanal'] == 0:\n",
    "        return 'Sin Ventas'\n",
    "    \n",
    "    semanas_stock = row['Stock_Actual'] / row['Promedio_Semanal'] if row['Promedio_Semanal'] > 0 else float('inf')\n",
    "    \n",
    "    if 'CAVA 1' in str(row['Ubicacion']).upper():\n",
    "        if semanas_stock > 4:\n",
    "            return 'Sobre Stock'\n",
    "        elif semanas_stock < 2:\n",
    "            return 'Stock Bajo'\n",
    "        else:\n",
    "            return 'Stock Adecuado'\n",
    "    else:  # CAVA 2 o cualquier otra ubicación\n",
    "        if semanas_stock > 0.4:\n",
    "            return 'Sobre Stock'\n",
    "        elif semanas_stock < 0.2:\n",
    "            return 'Stock Bajo'\n",
    "        else:\n",
    "            return 'Stock Adecuado'\n",
    "\n",
    "# Preparar datos para la tabla\n",
    "tabla_stock = analisis.copy()\n",
    "tabla_stock['Ubicacion'] = 'Congelado (CAVA 1)'  # Por defecto, asumimos CAVA 1\n",
    "tabla_stock['Semanas_de_Stock'] = tabla_stock.apply(\n",
    "    lambda row: row['Stock_Actual'] / row['Promedio_Semanal'] if row['Promedio_Semanal'] > 0 else float('inf'),\n",
    "    axis=1\n",
    ")\n",
    "tabla_stock['Estado'] = tabla_stock.apply(calcular_estado, axis=1)\n",
    "\n",
    "# Ordenar la tabla por Stock Actual de mayor a menor\n",
    "tabla_stock = tabla_stock.sort_values('Stock_Actual', ascending=False)\n",
    "\n",
    "# Estilos CSS para la tabla\n",
    "tabla_style = \"\"\"\n",
    "<style>\n",
    "    .stock-table {\n",
    "        width: 100%;\n",
    "        border-collapse: collapse;\n",
    "        margin: 25px 0;\n",
    "        font-size: 14px;\n",
    "        font-family: Arial, sans-serif;\n",
    "        box-shadow: 0 0 20px rgba(0, 0, 0, 0.15);\n",
    "        background-color: #1a1a2e;\n",
    "        color: white;\n",
    "    }\n",
    "    .stock-table thead tr {\n",
    "        background-color: #2d2d44;\n",
    "        color: white;\n",
    "        text-align: left;\n",
    "    }\n",
    "    .stock-table th,\n",
    "    .stock-table td {\n",
    "        padding: 12px 15px;\n",
    "        border-bottom: 1px solid #3f3f5f;\n",
    "    }\n",
    "    .stock-table tbody tr {\n",
    "        border-bottom: 1px solid #3f3f5f;\n",
    "    }\n",
    "    .sobre-stock {\n",
    "        background-color: #7c1d1d !important;\n",
    "    }\n",
    "    .stock-bajo {\n",
    "        background-color: #614a1f !important;\n",
    "    }\n",
    "    .stock-adecuado {\n",
    "        background-color: #1f4937 !important;\n",
    "    }\n",
    "    .sin-ventas {\n",
    "        background-color: #2d2d44 !important;\n",
    "    }\n",
    "    .stock-table th {\n",
    "        background-color: #2d2d44;\n",
    "        font-weight: bold;\n",
    "    }\n",
    "</style>\n",
    "\"\"\"\n",
    "\n",
    "# Función para determinar la clase CSS según el estado\n",
    "def get_row_class(estado):\n",
    "    if estado == 'Sobre Stock':\n",
    "        return 'sobre-stock'\n",
    "    elif estado == 'Stock Bajo':\n",
    "        return 'stock-bajo'\n",
    "    elif estado == 'Stock Adecuado':\n",
    "        return 'stock-adecuado'\n",
    "    else:\n",
    "        return 'sin-ventas'\n",
    "\n",
    "# Crear el HTML de la tabla\n",
    "html_rows = []\n",
    "html_rows.append(\"<tr>\")\n",
    "columns = ['Codigo', 'Producto', 'Macropieza', 'Ubicacion', 'Stock_Actual', 'Promedio_Semanal', 'Semanas_de_Stock', 'Estado']\n",
    "headers = ['Código', 'Producto', 'Macropieza', 'Ubicación', 'Stock Actual (kg)', 'Prom. Ventas/Sem (kg)', 'Semanas de Stock', 'Estado']\n",
    "\n",
    "# Agregar encabezados\n",
    "for header in headers:\n",
    "    html_rows.append(f\"<th>{header}</th>\")\n",
    "html_rows.append(\"</tr>\")\n",
    "\n",
    "# Agregar filas de datos\n",
    "for _, row in tabla_stock.iterrows():\n",
    "    row_class = get_row_class(row['Estado'])\n",
    "    html_rows.append(f\"<tr class='{row_class}'>\")\n",
    "    \n",
    "    # Formatear cada columna\n",
    "    for col in columns:\n",
    "        if col in ['Stock_Actual', 'Promedio_Semanal']:\n",
    "            value = f\"{row[col]:.1f}\"\n",
    "        elif col == 'Semanas_de_Stock':\n",
    "            value = f\"{row[col]:.1f}\" if row[col] != float('inf') else 'Sin datos'\n",
    "        else:\n",
    "            value = str(row[col])\n",
    "        html_rows.append(f\"<td>{value}</td>\")\n",
    "    \n",
    "    html_rows.append(\"</tr>\")\n",
    "\n",
    "# Construir la tabla completa\n",
    "html_table = f\"\"\"\n",
    "{tabla_style}\n",
    "<div style=\"margin: 20px 0;\">\n",
    "    <h2 style=\"color: white; margin-bottom: 20px;\">Análisis de Stock por Ubicación de Almacenamiento</h2>\n",
    "    <table class=\"stock-table\">\n",
    "        <thead>\n",
    "            {''.join(html_rows[:2])}\n",
    "        </thead>\n",
    "        <tbody>\n",
    "            {''.join(html_rows[2:])}\n",
    "        </tbody>\n",
    "    </table>\n",
    "</div>\n",
    "\"\"\"\n",
    "\n",
    "# Mostrar la tabla\n",
    "display(HTML(html_table))"
   ]
  }
 ],
 "metadata": {
  "kernelspec": {
   "display_name": "inversiones",
   "language": "python",
   "name": "python3"
  },
  "language_info": {
   "codemirror_mode": {
    "name": "ipython",
    "version": 3
   },
   "file_extension": ".py",
   "mimetype": "text/x-python",
   "name": "python",
   "nbconvert_exporter": "python",
   "pygments_lexer": "ipython3",
   "version": "3.11.8"
  }
 },
 "nbformat": 4,
 "nbformat_minor": 5
}
