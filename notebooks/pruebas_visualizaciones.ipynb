{
 "cells": [
  {
   "cell_type": "code",
   "execution_count": 17,
   "id": "ceab6c88",
   "metadata": {},
   "outputs": [
    {
     "name": "stdout",
     "output_type": "stream",
     "text": [
      "Working dir: C:\\Users\\Dagok\\OneDrive\\Documents\\GitHub\\lomarosa-data\\notebooks\n",
      "Looking for data in: C:\\Users\\Dagok\\OneDrive\\Documents\\GitHub\\lomarosa-data\\data\\raw\n",
      "Files in data/raw:\n",
      " - .gitkeep\n",
      " - INVENTARIO_LOMAROSA.xlsx\n",
      " - consolidado -1.xlsx\n"
     ]
    }
   ],
   "source": [
    "# [1] --- Diagnóstico y imports ---\n",
    "import os\n",
    "from pathlib import Path\n",
    "import pandas as pd\n",
    "import matplotlib.pyplot as plt\n",
    "\n",
    "# Mostrar directorio de trabajo y listar archivos en data/raw para diagnosticar rutas\n",
    "cwd = Path('.').resolve()\n",
    "print('Working dir:', cwd)\n",
    "raw_dir = cwd / '..' / 'data' / 'raw'\n",
    "raw_dir = raw_dir.resolve()\n",
    "print('Looking for data in:', raw_dir)\n",
    "if raw_dir.exists():\n",
    "    files = sorted([p.name for p in raw_dir.iterdir()])\n",
    "    print('Files in data/raw:')\n",
    "    for f in files:\n",
    "        print(' -', f)\n",
    "else:\n",
    "    print('Directory data/raw not found. Check your workspace layout.')\n"
   ]
  },
  {
   "cell_type": "code",
   "execution_count": 18,
   "id": "6e597e74",
   "metadata": {},
   "outputs": [
    {
     "name": "stdout",
     "output_type": "stream",
     "text": [
      "Using file: C:\\Users\\Dagok\\OneDrive\\Documents\\GitHub\\lomarosa-data\\data\\raw\\consolidado -1.xlsx\n",
      "Read dataframe with shape: (33, 5)\n",
      "Columns: ['Unnamed: 0', 'Unnamed: 1', 'Unnamed: 2', 'Unnamed: 3', 'Unnamed: 4']\n",
      "Read dataframe with shape: (33, 5)\n",
      "Columns: ['Unnamed: 0', 'Unnamed: 1', 'Unnamed: 2', 'Unnamed: 3', 'Unnamed: 4']\n"
     ]
    }
   ],
   "source": [
    "# [2] --- Lectura robusta del Excel ---\n",
    "from pathlib import Path\n",
    "raw_dir = Path('.') / '..' / 'data' / 'raw'\n",
    "raw_dir = raw_dir.resolve()\n",
    "# Intentar encontrar un archivo xlsx automáticamente (coincidencia por nombre) \n",
    "candidates = []\n",
    "if raw_dir.exists():\n",
    "    for p in raw_dir.iterdir():\n",
    "        if p.is_file() and p.suffix.lower() in ('.xlsx', '.xls'):\n",
    "            candidates.append(p)\n",
    "\n",
    "if not candidates:\n",
    "    raise FileNotFoundError(f'No se encontraron archivos Excel en {raw_dir}.')\n",
    "\n",
    "# Priorizar archivos que contienen 'consolid' o 'invent' en el nombre, si existen\n",
    "def score(p):\n",
    "    name = p.name.lower()\n",
    "    score = 0\n",
    "    if 'consolid' in name: score += 10\n",
    "    if 'invent' in name or 'inventario' in name: score += 8\n",
    "    if 'planta' in name: score += 5\n",
    "    return score\n",
    "\n",
    "candidates = sorted(candidates, key=lambda p: score(p), reverse=True)\n",
    "chosen = candidates[0]\n",
    "print('Using file:', chosen)\n",
    "# Leer hoja por defecto; si hay problemas con encabezados, se puede ajustar header=...\n",
    "df = pd.read_excel(chosen)\n",
    "print('Read dataframe with shape:', df.shape)\n",
    "print('Columns:', list(df.columns))\n"
   ]
  },
  {
   "cell_type": "code",
   "execution_count": 19,
   "id": "a93d74c6",
   "metadata": {},
   "outputs": [
    {
     "name": "stdout",
     "output_type": "stream",
     "text": [
      "=== Información inicial de datos históricos ===\n",
      "Total de registros: 200197\n",
      "\n",
      "Tipos de documentos:\n",
      "Doc\n",
      "Venta             124078\n",
      "TRANSFORMACION     46037\n",
      "SALIDA             12917\n",
      "DESPOSTE            6083\n",
      "TRASLADO            3575\n",
      "ENTRADA             3025\n",
      "Devolucion          1846\n",
      "INVENTARIO          1700\n",
      "MERMA                483\n",
      "Compras              314\n",
      "Nota Credito         127\n",
      "Nota                  12\n",
      "Name: count, dtype: int64\n",
      "\n",
      "Locales únicos:\n",
      "['PLANTA GALAN' 'LOM' nan 'M.GALAN' 'Otros/ oficina' 'Otros']\n",
      "\n",
      "=== Datos después del filtrado ===\n",
      "Registros de ventas en Planta Galán: 12067\n",
      "\n",
      "=== Estadísticas de ventas ===\n",
      "Productos únicos con ventas: 80\n",
      "\n",
      "Ejemplo de promedios (top 5 por volumen):\n",
      "    Cod    Total_Kg  Promedio_Semanal\n",
      "32  316  122509.180       1531.364750\n",
      "11  256   36052.025        450.650313\n",
      "8   251   31570.170        394.627125\n",
      "31  315   29371.350        367.141875\n",
      "33  317   28658.590        358.232375\n",
      "\n",
      "=== Estadísticas de ventas ===\n",
      "Productos únicos con ventas: 80\n",
      "\n",
      "Ejemplo de promedios (top 5 por volumen):\n",
      "    Cod    Total_Kg  Promedio_Semanal\n",
      "32  316  122509.180       1531.364750\n",
      "11  256   36052.025        450.650313\n",
      "8   251   31570.170        394.627125\n",
      "31  315   29371.350        367.141875\n",
      "33  317   28658.590        358.232375\n",
      "\n",
      "=== Columnas en el archivo de inventario ===\n",
      "['Codigo  ', 'Productos', 'Total', 'U/m', 'Comentarios']\n",
      "\n",
      "=== Primeras filas del inventario ===\n",
      "   Codigo            Productos   Total    U/m  Comentarios\n",
      "0       3.0              SILLA    0.00  Kilos          NaN\n",
      "1       4.0  CHULETA DE COGOTE  113.55  Kilos          NaN\n",
      "2       5.0   MERMA DE PROCESO    0.00  Kilos          NaN\n",
      "3       6.0   CHULETA DE BRAZO  560.80  Kilos          NaN\n",
      "4       9.0    CHULETA DE LOMO   80.30  Kilos          NaN\n",
      "\n",
      "=== Columnas que contienen 'cod' encontradas ===\n",
      "['Codigo  ']\n",
      "\n",
      "=== Datos antes del filtrado ===\n",
      "Número total de productos: 282\n",
      "Productos con Total = 0: 225\n",
      "Productos con Total < 0: 1\n",
      "\n",
      "=== Datos después del filtrado (solo Total > 0) ===\n",
      "Número de productos: 56\n",
      "\n",
      "Rango de valores en Total:\n",
      "Mínimo: 6.45\n",
      "Máximo: 10417.98\n",
      "\n",
      "=== Resultados de la comparación ===\n",
      "Productos con datos históricos y en inventario: 0\n",
      "Productos solo en inventario: 56\n",
      "\n",
      "=== Ejemplos de comparación ===\n",
      "Top 5 productos con mayor diferencia (positiva o negativa):\n",
      "Empty DataFrame\n",
      "Columns: [Producto, Stock_Actual, Promedio_Semanal, Diferencia, Estado]\n",
      "Index: []\n",
      "\n",
      "=== Columnas en el archivo de inventario ===\n",
      "['Codigo  ', 'Productos', 'Total', 'U/m', 'Comentarios']\n",
      "\n",
      "=== Primeras filas del inventario ===\n",
      "   Codigo            Productos   Total    U/m  Comentarios\n",
      "0       3.0              SILLA    0.00  Kilos          NaN\n",
      "1       4.0  CHULETA DE COGOTE  113.55  Kilos          NaN\n",
      "2       5.0   MERMA DE PROCESO    0.00  Kilos          NaN\n",
      "3       6.0   CHULETA DE BRAZO  560.80  Kilos          NaN\n",
      "4       9.0    CHULETA DE LOMO   80.30  Kilos          NaN\n",
      "\n",
      "=== Columnas que contienen 'cod' encontradas ===\n",
      "['Codigo  ']\n",
      "\n",
      "=== Datos antes del filtrado ===\n",
      "Número total de productos: 282\n",
      "Productos con Total = 0: 225\n",
      "Productos con Total < 0: 1\n",
      "\n",
      "=== Datos después del filtrado (solo Total > 0) ===\n",
      "Número de productos: 56\n",
      "\n",
      "Rango de valores en Total:\n",
      "Mínimo: 6.45\n",
      "Máximo: 10417.98\n",
      "\n",
      "=== Resultados de la comparación ===\n",
      "Productos con datos históricos y en inventario: 0\n",
      "Productos solo en inventario: 56\n",
      "\n",
      "=== Ejemplos de comparación ===\n",
      "Top 5 productos con mayor diferencia (positiva o negativa):\n",
      "Empty DataFrame\n",
      "Columns: [Producto, Stock_Actual, Promedio_Semanal, Diferencia, Estado]\n",
      "Index: []\n"
     ]
    }
   ],
   "source": [
    "# [7] --- Comparativo Inventario vs Promedio Simple ---\n",
    "import pandas as pd\n",
    "import matplotlib.pyplot as plt\n",
    "from pathlib import Path\n",
    "import numpy as np\n",
    "from datetime import datetime, timedelta\n",
    "\n",
    "# 1. Leer datos históricos (solo las columnas necesarias)\n",
    "consolidado_path = Path('.').resolve().parent / 'data' / 'raw' / 'consolidado -1.xlsx'\n",
    "df_hist = pd.read_excel(\n",
    "    consolidado_path, \n",
    "    sheet_name='Sheet1',\n",
    "    usecols=['Local', 'Doc', 'Kg totales2', 'Cod']\n",
    ")\n",
    "\n",
    "# Mostrar información inicial\n",
    "print(\"=== Información inicial de datos históricos ===\")\n",
    "print(f\"Total de registros: {len(df_hist)}\")\n",
    "print(\"\\nTipos de documentos:\")\n",
    "print(df_hist['Doc'].value_counts())\n",
    "print(\"\\nLocales únicos:\")\n",
    "print(df_hist['Local'].unique())\n",
    "\n",
    "# Filtrar solo ventas de PLANTA GALAN\n",
    "df_filtrado = df_hist[\n",
    "    (df_hist['Doc'].astype(str).str.strip().str.upper() == 'VENTA') &\n",
    "    (df_hist['Local'].str.contains('PLANTA GALAN', case=False, na=False))\n",
    "].copy()\n",
    "\n",
    "print(\"\\n=== Datos después del filtrado ===\")\n",
    "print(f\"Registros de ventas en Planta Galán: {len(df_filtrado)}\")\n",
    "\n",
    "# Normalizar códigos\n",
    "df_filtrado['Cod'] = df_filtrado['Cod'].astype(str).str.strip().str.upper()\n",
    "\n",
    "# Calcular promedios semanales por producto\n",
    "promedios = df_filtrado.groupby('Cod').agg(\n",
    "    Total_Kg=('Kg totales2', 'sum'),\n",
    "    Num_Ventas=('Kg totales2', 'count')\n",
    ").reset_index()\n",
    "\n",
    "# Calcular promedio semanal (asumiendo que los datos son de todo el período)\n",
    "num_semanas = len(df_filtrado['Cod'].unique())  # Usar como aproximación\n",
    "promedios['Promedio_Semanal'] = promedios['Total_Kg'] / num_semanas\n",
    "\n",
    "print(\"\\n=== Estadísticas de ventas ===\")\n",
    "print(f\"Productos únicos con ventas: {len(promedios)}\")\n",
    "print(\"\\nEjemplo de promedios (top 5 por volumen):\")\n",
    "print(promedios.nlargest(5, 'Total_Kg')[['Cod', 'Total_Kg', 'Promedio_Semanal']])\n",
    "\n",
    "# 2. Leer inventario actual\n",
    "inventario_path = Path('.').resolve().parent / 'data' / 'raw' / 'INVENTARIO_LOMAROSA.xlsx'\n",
    "df_inv = pd.read_excel(\n",
    "    inventario_path, \n",
    "    sheet_name='CONSOLIDADO',\n",
    "    skiprows=9\n",
    ")\n",
    "\n",
    "print(\"\\n=== Columnas en el archivo de inventario ===\")\n",
    "print(df_inv.columns.tolist())\n",
    "\n",
    "# Verificar las primeras filas del inventario\n",
    "print(\"\\n=== Primeras filas del inventario ===\")\n",
    "print(df_inv.head())\n",
    "\n",
    "# Procesamiento del inventario\n",
    "# 1. Convertir 'Total' a numérico y limpiar datos\n",
    "df_inv['Total'] = pd.to_numeric(df_inv['Total'], errors='coerce')\n",
    "df_inv = df_inv.dropna(subset=['Total'])  # Eliminar filas donde Total es NaN\n",
    "\n",
    "# Verificar si existe la columna correcta para el código\n",
    "codigo_columns = [col for col in df_inv.columns if 'cod' in col.lower()]\n",
    "if codigo_columns:\n",
    "    print(\"\\n=== Columnas que contienen 'cod' encontradas ===\")\n",
    "    print(codigo_columns)\n",
    "    codigo_col = codigo_columns[0]  # Usar la primera columna encontrada\n",
    "else:\n",
    "    raise KeyError(\"No se encontró ninguna columna que contenga 'cod' en el DataFrame de inventario\")\n",
    "\n",
    "# Normalizar códigos usando el nombre encontrado\n",
    "df_inv[codigo_col] = df_inv[codigo_col].astype(str).str.strip().str.upper()\n",
    "\n",
    "# 2. Filtrar por stock mayor a cero\n",
    "print(\"\\n=== Datos antes del filtrado ===\")\n",
    "print(f\"Número total de productos: {len(df_inv)}\")\n",
    "print(f\"Productos con Total = 0: {len(df_inv[df_inv['Total'] == 0])}\")\n",
    "print(f\"Productos con Total < 0: {len(df_inv[df_inv['Total'] < 0])}\")\n",
    "\n",
    "df_inv = df_inv[df_inv['Total'] > 0].copy()\n",
    "\n",
    "print(\"\\n=== Datos después del filtrado (solo Total > 0) ===\")\n",
    "print(f\"Número de productos: {len(df_inv)}\")\n",
    "print(\"\\nRango de valores en Total:\")\n",
    "print(f\"Mínimo: {df_inv['Total'].min():.2f}\")\n",
    "print(f\"Máximo: {df_inv['Total'].max():.2f}\")\n",
    "\n",
    "# 3. Hacer la comparación\n",
    "comparacion = pd.merge(\n",
    "    promedios[['Cod', 'Promedio_Semanal', 'Total_Kg', 'Num_Ventas']], \n",
    "    df_inv[[codigo_col, 'Productos', 'Total']],\n",
    "    left_on='Cod',\n",
    "    right_on=codigo_col,\n",
    "    how='inner'\n",
    ")\n",
    "\n",
    "# Limpiar y calcular diferencias\n",
    "comparacion = comparacion.rename(columns={\n",
    "    'Total': 'Stock_Actual',\n",
    "    'Productos': 'Producto'\n",
    "})\n",
    "comparacion = comparacion.drop(codigo_col, axis=1)\n",
    "comparacion['Diferencia'] = comparacion['Stock_Actual'] - comparacion['Promedio_Semanal']\n",
    "comparacion['Estado'] = comparacion['Diferencia'].apply(\n",
    "    lambda x: 'Exceso' if x > 0 else 'Faltante' if x < 0 else 'OK'\n",
    ")\n",
    "\n",
    "print(\"\\n=== Resultados de la comparación ===\")\n",
    "print(f\"Productos con datos históricos y en inventario: {len(comparacion)}\")\n",
    "print(f\"Productos solo en inventario: {len(df_inv) - len(comparacion)}\")\n",
    "\n",
    "# Mostrar ejemplos de la comparación\n",
    "print(\"\\n=== Ejemplos de comparación ===\")\n",
    "print(\"Top 5 productos con mayor diferencia (positiva o negativa):\")\n",
    "comparacion['Diferencia_Abs'] = comparacion['Diferencia'].abs()\n",
    "print(comparacion.nlargest(5, 'Diferencia_Abs')[\n",
    "    ['Producto', 'Stock_Actual', 'Promedio_Semanal', 'Diferencia', 'Estado']\n",
    "].to_string())\n",
    "\n",
    "# Guardar resultados para uso en otras celdas\n",
    "comparison = comparacion  # Para mantener compatibilidad con otras celdas\n",
    "df_inv_sin_total = df_inv[df_inv['Total'] > 0].copy()  # Para mantener compatibilidad con otras celdas"
   ]
  },
  {
   "cell_type": "code",
   "execution_count": 20,
   "id": "d369c1cd",
   "metadata": {},
   "outputs": [
    {
     "data": {
      "application/vnd.plotly.v1+json": {
       "config": {
        "plotlyServerURL": "https://plot.ly"
       },
       "data": [
        {
         "hole": 0.5,
         "labels": [
          "Stock Bajo Promedio",
          "Stock Adecuado"
         ],
         "marker": {
          "colors": [
           "#ff4444",
           "#4CAF50"
          ]
         },
         "showlegend": true,
         "textinfo": "value+percent",
         "textposition": "inside",
         "type": "pie",
         "values": [
          0,
          0
         ]
        }
       ],
       "layout": {
        "height": 500,
        "margin": {
         "b": 0,
         "l": 0,
         "r": 0,
         "t": 100
        },
        "showlegend": true,
        "template": {
         "data": {
          "bar": [
           {
            "error_x": {
             "color": "#2a3f5f"
            },
            "error_y": {
             "color": "#2a3f5f"
            },
            "marker": {
             "line": {
              "color": "#E5ECF6",
              "width": 0.5
             },
             "pattern": {
              "fillmode": "overlay",
              "size": 10,
              "solidity": 0.2
             }
            },
            "type": "bar"
           }
          ],
          "barpolar": [
           {
            "marker": {
             "line": {
              "color": "#E5ECF6",
              "width": 0.5
             },
             "pattern": {
              "fillmode": "overlay",
              "size": 10,
              "solidity": 0.2
             }
            },
            "type": "barpolar"
           }
          ],
          "carpet": [
           {
            "aaxis": {
             "endlinecolor": "#2a3f5f",
             "gridcolor": "white",
             "linecolor": "white",
             "minorgridcolor": "white",
             "startlinecolor": "#2a3f5f"
            },
            "baxis": {
             "endlinecolor": "#2a3f5f",
             "gridcolor": "white",
             "linecolor": "white",
             "minorgridcolor": "white",
             "startlinecolor": "#2a3f5f"
            },
            "type": "carpet"
           }
          ],
          "choropleth": [
           {
            "colorbar": {
             "outlinewidth": 0,
             "ticks": ""
            },
            "type": "choropleth"
           }
          ],
          "contour": [
           {
            "colorbar": {
             "outlinewidth": 0,
             "ticks": ""
            },
            "colorscale": [
             [
              0,
              "#0d0887"
             ],
             [
              0.1111111111111111,
              "#46039f"
             ],
             [
              0.2222222222222222,
              "#7201a8"
             ],
             [
              0.3333333333333333,
              "#9c179e"
             ],
             [
              0.4444444444444444,
              "#bd3786"
             ],
             [
              0.5555555555555556,
              "#d8576b"
             ],
             [
              0.6666666666666666,
              "#ed7953"
             ],
             [
              0.7777777777777778,
              "#fb9f3a"
             ],
             [
              0.8888888888888888,
              "#fdca26"
             ],
             [
              1,
              "#f0f921"
             ]
            ],
            "type": "contour"
           }
          ],
          "contourcarpet": [
           {
            "colorbar": {
             "outlinewidth": 0,
             "ticks": ""
            },
            "type": "contourcarpet"
           }
          ],
          "heatmap": [
           {
            "colorbar": {
             "outlinewidth": 0,
             "ticks": ""
            },
            "colorscale": [
             [
              0,
              "#0d0887"
             ],
             [
              0.1111111111111111,
              "#46039f"
             ],
             [
              0.2222222222222222,
              "#7201a8"
             ],
             [
              0.3333333333333333,
              "#9c179e"
             ],
             [
              0.4444444444444444,
              "#bd3786"
             ],
             [
              0.5555555555555556,
              "#d8576b"
             ],
             [
              0.6666666666666666,
              "#ed7953"
             ],
             [
              0.7777777777777778,
              "#fb9f3a"
             ],
             [
              0.8888888888888888,
              "#fdca26"
             ],
             [
              1,
              "#f0f921"
             ]
            ],
            "type": "heatmap"
           }
          ],
          "histogram": [
           {
            "marker": {
             "pattern": {
              "fillmode": "overlay",
              "size": 10,
              "solidity": 0.2
             }
            },
            "type": "histogram"
           }
          ],
          "histogram2d": [
           {
            "colorbar": {
             "outlinewidth": 0,
             "ticks": ""
            },
            "colorscale": [
             [
              0,
              "#0d0887"
             ],
             [
              0.1111111111111111,
              "#46039f"
             ],
             [
              0.2222222222222222,
              "#7201a8"
             ],
             [
              0.3333333333333333,
              "#9c179e"
             ],
             [
              0.4444444444444444,
              "#bd3786"
             ],
             [
              0.5555555555555556,
              "#d8576b"
             ],
             [
              0.6666666666666666,
              "#ed7953"
             ],
             [
              0.7777777777777778,
              "#fb9f3a"
             ],
             [
              0.8888888888888888,
              "#fdca26"
             ],
             [
              1,
              "#f0f921"
             ]
            ],
            "type": "histogram2d"
           }
          ],
          "histogram2dcontour": [
           {
            "colorbar": {
             "outlinewidth": 0,
             "ticks": ""
            },
            "colorscale": [
             [
              0,
              "#0d0887"
             ],
             [
              0.1111111111111111,
              "#46039f"
             ],
             [
              0.2222222222222222,
              "#7201a8"
             ],
             [
              0.3333333333333333,
              "#9c179e"
             ],
             [
              0.4444444444444444,
              "#bd3786"
             ],
             [
              0.5555555555555556,
              "#d8576b"
             ],
             [
              0.6666666666666666,
              "#ed7953"
             ],
             [
              0.7777777777777778,
              "#fb9f3a"
             ],
             [
              0.8888888888888888,
              "#fdca26"
             ],
             [
              1,
              "#f0f921"
             ]
            ],
            "type": "histogram2dcontour"
           }
          ],
          "mesh3d": [
           {
            "colorbar": {
             "outlinewidth": 0,
             "ticks": ""
            },
            "type": "mesh3d"
           }
          ],
          "parcoords": [
           {
            "line": {
             "colorbar": {
              "outlinewidth": 0,
              "ticks": ""
             }
            },
            "type": "parcoords"
           }
          ],
          "pie": [
           {
            "automargin": true,
            "type": "pie"
           }
          ],
          "scatter": [
           {
            "fillpattern": {
             "fillmode": "overlay",
             "size": 10,
             "solidity": 0.2
            },
            "type": "scatter"
           }
          ],
          "scatter3d": [
           {
            "line": {
             "colorbar": {
              "outlinewidth": 0,
              "ticks": ""
             }
            },
            "marker": {
             "colorbar": {
              "outlinewidth": 0,
              "ticks": ""
             }
            },
            "type": "scatter3d"
           }
          ],
          "scattercarpet": [
           {
            "marker": {
             "colorbar": {
              "outlinewidth": 0,
              "ticks": ""
             }
            },
            "type": "scattercarpet"
           }
          ],
          "scattergeo": [
           {
            "marker": {
             "colorbar": {
              "outlinewidth": 0,
              "ticks": ""
             }
            },
            "type": "scattergeo"
           }
          ],
          "scattergl": [
           {
            "marker": {
             "colorbar": {
              "outlinewidth": 0,
              "ticks": ""
             }
            },
            "type": "scattergl"
           }
          ],
          "scattermap": [
           {
            "marker": {
             "colorbar": {
              "outlinewidth": 0,
              "ticks": ""
             }
            },
            "type": "scattermap"
           }
          ],
          "scattermapbox": [
           {
            "marker": {
             "colorbar": {
              "outlinewidth": 0,
              "ticks": ""
             }
            },
            "type": "scattermapbox"
           }
          ],
          "scatterpolar": [
           {
            "marker": {
             "colorbar": {
              "outlinewidth": 0,
              "ticks": ""
             }
            },
            "type": "scatterpolar"
           }
          ],
          "scatterpolargl": [
           {
            "marker": {
             "colorbar": {
              "outlinewidth": 0,
              "ticks": ""
             }
            },
            "type": "scatterpolargl"
           }
          ],
          "scatterternary": [
           {
            "marker": {
             "colorbar": {
              "outlinewidth": 0,
              "ticks": ""
             }
            },
            "type": "scatterternary"
           }
          ],
          "surface": [
           {
            "colorbar": {
             "outlinewidth": 0,
             "ticks": ""
            },
            "colorscale": [
             [
              0,
              "#0d0887"
             ],
             [
              0.1111111111111111,
              "#46039f"
             ],
             [
              0.2222222222222222,
              "#7201a8"
             ],
             [
              0.3333333333333333,
              "#9c179e"
             ],
             [
              0.4444444444444444,
              "#bd3786"
             ],
             [
              0.5555555555555556,
              "#d8576b"
             ],
             [
              0.6666666666666666,
              "#ed7953"
             ],
             [
              0.7777777777777778,
              "#fb9f3a"
             ],
             [
              0.8888888888888888,
              "#fdca26"
             ],
             [
              1,
              "#f0f921"
             ]
            ],
            "type": "surface"
           }
          ],
          "table": [
           {
            "cells": {
             "fill": {
              "color": "#EBF0F8"
             },
             "line": {
              "color": "white"
             }
            },
            "header": {
             "fill": {
              "color": "#C8D4E3"
             },
             "line": {
              "color": "white"
             }
            },
            "type": "table"
           }
          ]
         },
         "layout": {
          "annotationdefaults": {
           "arrowcolor": "#2a3f5f",
           "arrowhead": 0,
           "arrowwidth": 1
          },
          "autotypenumbers": "strict",
          "coloraxis": {
           "colorbar": {
            "outlinewidth": 0,
            "ticks": ""
           }
          },
          "colorscale": {
           "diverging": [
            [
             0,
             "#8e0152"
            ],
            [
             0.1,
             "#c51b7d"
            ],
            [
             0.2,
             "#de77ae"
            ],
            [
             0.3,
             "#f1b6da"
            ],
            [
             0.4,
             "#fde0ef"
            ],
            [
             0.5,
             "#f7f7f7"
            ],
            [
             0.6,
             "#e6f5d0"
            ],
            [
             0.7,
             "#b8e186"
            ],
            [
             0.8,
             "#7fbc41"
            ],
            [
             0.9,
             "#4d9221"
            ],
            [
             1,
             "#276419"
            ]
           ],
           "sequential": [
            [
             0,
             "#0d0887"
            ],
            [
             0.1111111111111111,
             "#46039f"
            ],
            [
             0.2222222222222222,
             "#7201a8"
            ],
            [
             0.3333333333333333,
             "#9c179e"
            ],
            [
             0.4444444444444444,
             "#bd3786"
            ],
            [
             0.5555555555555556,
             "#d8576b"
            ],
            [
             0.6666666666666666,
             "#ed7953"
            ],
            [
             0.7777777777777778,
             "#fb9f3a"
            ],
            [
             0.8888888888888888,
             "#fdca26"
            ],
            [
             1,
             "#f0f921"
            ]
           ],
           "sequentialminus": [
            [
             0,
             "#0d0887"
            ],
            [
             0.1111111111111111,
             "#46039f"
            ],
            [
             0.2222222222222222,
             "#7201a8"
            ],
            [
             0.3333333333333333,
             "#9c179e"
            ],
            [
             0.4444444444444444,
             "#bd3786"
            ],
            [
             0.5555555555555556,
             "#d8576b"
            ],
            [
             0.6666666666666666,
             "#ed7953"
            ],
            [
             0.7777777777777778,
             "#fb9f3a"
            ],
            [
             0.8888888888888888,
             "#fdca26"
            ],
            [
             1,
             "#f0f921"
            ]
           ]
          },
          "colorway": [
           "#636efa",
           "#EF553B",
           "#00cc96",
           "#ab63fa",
           "#FFA15A",
           "#19d3f3",
           "#FF6692",
           "#B6E880",
           "#FF97FF",
           "#FECB52"
          ],
          "font": {
           "color": "#2a3f5f"
          },
          "geo": {
           "bgcolor": "white",
           "lakecolor": "white",
           "landcolor": "#E5ECF6",
           "showlakes": true,
           "showland": true,
           "subunitcolor": "white"
          },
          "hoverlabel": {
           "align": "left"
          },
          "hovermode": "closest",
          "mapbox": {
           "style": "light"
          },
          "paper_bgcolor": "white",
          "plot_bgcolor": "#E5ECF6",
          "polar": {
           "angularaxis": {
            "gridcolor": "white",
            "linecolor": "white",
            "ticks": ""
           },
           "bgcolor": "#E5ECF6",
           "radialaxis": {
            "gridcolor": "white",
            "linecolor": "white",
            "ticks": ""
           }
          },
          "scene": {
           "xaxis": {
            "backgroundcolor": "#E5ECF6",
            "gridcolor": "white",
            "gridwidth": 2,
            "linecolor": "white",
            "showbackground": true,
            "ticks": "",
            "zerolinecolor": "white"
           },
           "yaxis": {
            "backgroundcolor": "#E5ECF6",
            "gridcolor": "white",
            "gridwidth": 2,
            "linecolor": "white",
            "showbackground": true,
            "ticks": "",
            "zerolinecolor": "white"
           },
           "zaxis": {
            "backgroundcolor": "#E5ECF6",
            "gridcolor": "white",
            "gridwidth": 2,
            "linecolor": "white",
            "showbackground": true,
            "ticks": "",
            "zerolinecolor": "white"
           }
          },
          "shapedefaults": {
           "line": {
            "color": "#2a3f5f"
           }
          },
          "ternary": {
           "aaxis": {
            "gridcolor": "white",
            "linecolor": "white",
            "ticks": ""
           },
           "baxis": {
            "gridcolor": "white",
            "linecolor": "white",
            "ticks": ""
           },
           "bgcolor": "#E5ECF6",
           "caxis": {
            "gridcolor": "white",
            "linecolor": "white",
            "ticks": ""
           }
          },
          "title": {
           "x": 0.05
          },
          "xaxis": {
           "automargin": true,
           "gridcolor": "white",
           "linecolor": "white",
           "ticks": "",
           "title": {
            "standoff": 15
           },
           "zerolinecolor": "white",
           "zerolinewidth": 2
          },
          "yaxis": {
           "automargin": true,
           "gridcolor": "white",
           "linecolor": "white",
           "ticks": "",
           "title": {
            "standoff": 15
           },
           "zerolinecolor": "white",
           "zerolinewidth": 2
          }
         }
        },
        "title": {
         "font": {
          "color": "#4254b5",
          "size": 24
         },
         "text": "<b>Estado del Stock</b>",
         "x": 0
        },
        "width": 600
       }
      }
     },
     "metadata": {},
     "output_type": "display_data"
    },
    {
     "name": "stdout",
     "output_type": "stream",
     "text": [
      "\n",
      "=== Estadísticas de Stock ===\n",
      "Total productos comparados: 0\n",
      "Productos con stock bajo promedio: 0\n",
      "Productos con stock adecuado: 0\n"
     ]
    }
   ],
   "source": [
    "# [8] --- Visualización HTML: Pie Chart de Disponibilidad ---\n",
    "import plotly.graph_objects as go\n",
    "from plotly.subplots import make_subplots\n",
    "from IPython.display import display, HTML\n",
    "\n",
    "# Filtrar productos por debajo del promedio y calcular KPIs\n",
    "# Consideramos que un producto está bajo promedio si su stock actual es menor que su promedio semanal\n",
    "productos_faltantes = comparison[comparison['Stock_Actual'] < comparison['Promedio_Semanal']].copy()\n",
    "num_faltantes = len(productos_faltantes)\n",
    "\n",
    "# Preparar datos para el pie chart\n",
    "total_productos = len(comparison)  # Cambio: usar len(comparison) en lugar de len(df_inv_sin_total)\n",
    "disponibles = total_productos - num_faltantes\n",
    "\n",
    "# Crear figura para el pie chart\n",
    "fig_pie = go.Figure()\n",
    "\n",
    "# Pie chart\n",
    "fig_pie.add_trace(\n",
    "    go.Pie(\n",
    "        labels=[\"Stock Bajo Promedio\", \"Stock Adecuado\"],\n",
    "        values=[num_faltantes, disponibles],\n",
    "        hole=0.5,\n",
    "        marker_colors=['#ff4444', '#4CAF50'],\n",
    "        textinfo='value+percent',\n",
    "        textposition='inside',\n",
    "        showlegend=True\n",
    "    )\n",
    ")\n",
    "\n",
    "# Actualizar el layout\n",
    "fig_pie.update_layout(\n",
    "    title_text=\"<b>Estado del Stock</b>\",\n",
    "    title_x=0,\n",
    "    title_font_size=24,\n",
    "    title_font_color='#4254b5',\n",
    "    showlegend=True,\n",
    "    height=500,\n",
    "    width=600,\n",
    "    margin=dict(t=100, b=0, l=0, r=0)\n",
    ")\n",
    "\n",
    "fig_pie.show()\n",
    "\n",
    "# Mostrar estadísticas\n",
    "print(\"\\n=== Estadísticas de Stock ===\")\n",
    "print(f\"Total productos comparados: {total_productos}\")\n",
    "print(f\"Productos con stock bajo promedio: {num_faltantes}\")\n",
    "print(f\"Productos con stock adecuado: {disponibles}\")\n",
    "\n",
    "# Verificar si hay productos con stock cero\n",
    "stock_cero = comparison[comparison['Stock_Actual'] == 0]\n",
    "if len(stock_cero) > 0:\n",
    "    print(\"\\n=== ATENCIÓN: Productos con Stock Cero ===\")\n",
    "    print(stock_cero[['Producto', 'Stock_Actual', 'Promedio_Semanal']])"
   ]
  },
  {
   "cell_type": "code",
   "execution_count": 14,
   "id": "f7ee921d",
   "metadata": {},
   "outputs": [
    {
     "name": "stdout",
     "output_type": "stream",
     "text": [
      "=== Diagnóstico de datos ===\n",
      "Total de productos en comparison: 0\n",
      "\n",
      "Estadísticas de la diferencia:\n",
      "count    0.0\n",
      "mean     NaN\n",
      "std      NaN\n",
      "min      NaN\n",
      "25%      NaN\n",
      "50%      NaN\n",
      "75%      NaN\n",
      "max      NaN\n",
      "Name: Diferencia, dtype: float64\n"
     ]
    },
    {
     "data": {
      "application/vnd.plotly.v1+json": {
       "config": {
        "plotlyServerURL": "https://plot.ly"
       },
       "data": [
        {
         "marker": {
          "color": "#4CAF50"
         },
         "name": "Promedio Semanal",
         "orientation": "h",
         "type": "bar",
         "x": [],
         "y": []
        },
        {
         "marker": {
          "color": "#2196F3"
         },
         "name": "Stock Actual",
         "orientation": "h",
         "type": "bar",
         "x": [],
         "y": []
        }
       ],
       "layout": {
        "barmode": "group",
        "height": 600,
        "margin": {
         "l": 250
        },
        "showlegend": true,
        "template": {
         "data": {
          "bar": [
           {
            "error_x": {
             "color": "#2a3f5f"
            },
            "error_y": {
             "color": "#2a3f5f"
            },
            "marker": {
             "line": {
              "color": "#E5ECF6",
              "width": 0.5
             },
             "pattern": {
              "fillmode": "overlay",
              "size": 10,
              "solidity": 0.2
             }
            },
            "type": "bar"
           }
          ],
          "barpolar": [
           {
            "marker": {
             "line": {
              "color": "#E5ECF6",
              "width": 0.5
             },
             "pattern": {
              "fillmode": "overlay",
              "size": 10,
              "solidity": 0.2
             }
            },
            "type": "barpolar"
           }
          ],
          "carpet": [
           {
            "aaxis": {
             "endlinecolor": "#2a3f5f",
             "gridcolor": "white",
             "linecolor": "white",
             "minorgridcolor": "white",
             "startlinecolor": "#2a3f5f"
            },
            "baxis": {
             "endlinecolor": "#2a3f5f",
             "gridcolor": "white",
             "linecolor": "white",
             "minorgridcolor": "white",
             "startlinecolor": "#2a3f5f"
            },
            "type": "carpet"
           }
          ],
          "choropleth": [
           {
            "colorbar": {
             "outlinewidth": 0,
             "ticks": ""
            },
            "type": "choropleth"
           }
          ],
          "contour": [
           {
            "colorbar": {
             "outlinewidth": 0,
             "ticks": ""
            },
            "colorscale": [
             [
              0,
              "#0d0887"
             ],
             [
              0.1111111111111111,
              "#46039f"
             ],
             [
              0.2222222222222222,
              "#7201a8"
             ],
             [
              0.3333333333333333,
              "#9c179e"
             ],
             [
              0.4444444444444444,
              "#bd3786"
             ],
             [
              0.5555555555555556,
              "#d8576b"
             ],
             [
              0.6666666666666666,
              "#ed7953"
             ],
             [
              0.7777777777777778,
              "#fb9f3a"
             ],
             [
              0.8888888888888888,
              "#fdca26"
             ],
             [
              1,
              "#f0f921"
             ]
            ],
            "type": "contour"
           }
          ],
          "contourcarpet": [
           {
            "colorbar": {
             "outlinewidth": 0,
             "ticks": ""
            },
            "type": "contourcarpet"
           }
          ],
          "heatmap": [
           {
            "colorbar": {
             "outlinewidth": 0,
             "ticks": ""
            },
            "colorscale": [
             [
              0,
              "#0d0887"
             ],
             [
              0.1111111111111111,
              "#46039f"
             ],
             [
              0.2222222222222222,
              "#7201a8"
             ],
             [
              0.3333333333333333,
              "#9c179e"
             ],
             [
              0.4444444444444444,
              "#bd3786"
             ],
             [
              0.5555555555555556,
              "#d8576b"
             ],
             [
              0.6666666666666666,
              "#ed7953"
             ],
             [
              0.7777777777777778,
              "#fb9f3a"
             ],
             [
              0.8888888888888888,
              "#fdca26"
             ],
             [
              1,
              "#f0f921"
             ]
            ],
            "type": "heatmap"
           }
          ],
          "histogram": [
           {
            "marker": {
             "pattern": {
              "fillmode": "overlay",
              "size": 10,
              "solidity": 0.2
             }
            },
            "type": "histogram"
           }
          ],
          "histogram2d": [
           {
            "colorbar": {
             "outlinewidth": 0,
             "ticks": ""
            },
            "colorscale": [
             [
              0,
              "#0d0887"
             ],
             [
              0.1111111111111111,
              "#46039f"
             ],
             [
              0.2222222222222222,
              "#7201a8"
             ],
             [
              0.3333333333333333,
              "#9c179e"
             ],
             [
              0.4444444444444444,
              "#bd3786"
             ],
             [
              0.5555555555555556,
              "#d8576b"
             ],
             [
              0.6666666666666666,
              "#ed7953"
             ],
             [
              0.7777777777777778,
              "#fb9f3a"
             ],
             [
              0.8888888888888888,
              "#fdca26"
             ],
             [
              1,
              "#f0f921"
             ]
            ],
            "type": "histogram2d"
           }
          ],
          "histogram2dcontour": [
           {
            "colorbar": {
             "outlinewidth": 0,
             "ticks": ""
            },
            "colorscale": [
             [
              0,
              "#0d0887"
             ],
             [
              0.1111111111111111,
              "#46039f"
             ],
             [
              0.2222222222222222,
              "#7201a8"
             ],
             [
              0.3333333333333333,
              "#9c179e"
             ],
             [
              0.4444444444444444,
              "#bd3786"
             ],
             [
              0.5555555555555556,
              "#d8576b"
             ],
             [
              0.6666666666666666,
              "#ed7953"
             ],
             [
              0.7777777777777778,
              "#fb9f3a"
             ],
             [
              0.8888888888888888,
              "#fdca26"
             ],
             [
              1,
              "#f0f921"
             ]
            ],
            "type": "histogram2dcontour"
           }
          ],
          "mesh3d": [
           {
            "colorbar": {
             "outlinewidth": 0,
             "ticks": ""
            },
            "type": "mesh3d"
           }
          ],
          "parcoords": [
           {
            "line": {
             "colorbar": {
              "outlinewidth": 0,
              "ticks": ""
             }
            },
            "type": "parcoords"
           }
          ],
          "pie": [
           {
            "automargin": true,
            "type": "pie"
           }
          ],
          "scatter": [
           {
            "fillpattern": {
             "fillmode": "overlay",
             "size": 10,
             "solidity": 0.2
            },
            "type": "scatter"
           }
          ],
          "scatter3d": [
           {
            "line": {
             "colorbar": {
              "outlinewidth": 0,
              "ticks": ""
             }
            },
            "marker": {
             "colorbar": {
              "outlinewidth": 0,
              "ticks": ""
             }
            },
            "type": "scatter3d"
           }
          ],
          "scattercarpet": [
           {
            "marker": {
             "colorbar": {
              "outlinewidth": 0,
              "ticks": ""
             }
            },
            "type": "scattercarpet"
           }
          ],
          "scattergeo": [
           {
            "marker": {
             "colorbar": {
              "outlinewidth": 0,
              "ticks": ""
             }
            },
            "type": "scattergeo"
           }
          ],
          "scattergl": [
           {
            "marker": {
             "colorbar": {
              "outlinewidth": 0,
              "ticks": ""
             }
            },
            "type": "scattergl"
           }
          ],
          "scattermap": [
           {
            "marker": {
             "colorbar": {
              "outlinewidth": 0,
              "ticks": ""
             }
            },
            "type": "scattermap"
           }
          ],
          "scattermapbox": [
           {
            "marker": {
             "colorbar": {
              "outlinewidth": 0,
              "ticks": ""
             }
            },
            "type": "scattermapbox"
           }
          ],
          "scatterpolar": [
           {
            "marker": {
             "colorbar": {
              "outlinewidth": 0,
              "ticks": ""
             }
            },
            "type": "scatterpolar"
           }
          ],
          "scatterpolargl": [
           {
            "marker": {
             "colorbar": {
              "outlinewidth": 0,
              "ticks": ""
             }
            },
            "type": "scatterpolargl"
           }
          ],
          "scatterternary": [
           {
            "marker": {
             "colorbar": {
              "outlinewidth": 0,
              "ticks": ""
             }
            },
            "type": "scatterternary"
           }
          ],
          "surface": [
           {
            "colorbar": {
             "outlinewidth": 0,
             "ticks": ""
            },
            "colorscale": [
             [
              0,
              "#0d0887"
             ],
             [
              0.1111111111111111,
              "#46039f"
             ],
             [
              0.2222222222222222,
              "#7201a8"
             ],
             [
              0.3333333333333333,
              "#9c179e"
             ],
             [
              0.4444444444444444,
              "#bd3786"
             ],
             [
              0.5555555555555556,
              "#d8576b"
             ],
             [
              0.6666666666666666,
              "#ed7953"
             ],
             [
              0.7777777777777778,
              "#fb9f3a"
             ],
             [
              0.8888888888888888,
              "#fdca26"
             ],
             [
              1,
              "#f0f921"
             ]
            ],
            "type": "surface"
           }
          ],
          "table": [
           {
            "cells": {
             "fill": {
              "color": "#EBF0F8"
             },
             "line": {
              "color": "white"
             }
            },
            "header": {
             "fill": {
              "color": "#C8D4E3"
             },
             "line": {
              "color": "white"
             }
            },
            "type": "table"
           }
          ]
         },
         "layout": {
          "annotationdefaults": {
           "arrowcolor": "#2a3f5f",
           "arrowhead": 0,
           "arrowwidth": 1
          },
          "autotypenumbers": "strict",
          "coloraxis": {
           "colorbar": {
            "outlinewidth": 0,
            "ticks": ""
           }
          },
          "colorscale": {
           "diverging": [
            [
             0,
             "#8e0152"
            ],
            [
             0.1,
             "#c51b7d"
            ],
            [
             0.2,
             "#de77ae"
            ],
            [
             0.3,
             "#f1b6da"
            ],
            [
             0.4,
             "#fde0ef"
            ],
            [
             0.5,
             "#f7f7f7"
            ],
            [
             0.6,
             "#e6f5d0"
            ],
            [
             0.7,
             "#b8e186"
            ],
            [
             0.8,
             "#7fbc41"
            ],
            [
             0.9,
             "#4d9221"
            ],
            [
             1,
             "#276419"
            ]
           ],
           "sequential": [
            [
             0,
             "#0d0887"
            ],
            [
             0.1111111111111111,
             "#46039f"
            ],
            [
             0.2222222222222222,
             "#7201a8"
            ],
            [
             0.3333333333333333,
             "#9c179e"
            ],
            [
             0.4444444444444444,
             "#bd3786"
            ],
            [
             0.5555555555555556,
             "#d8576b"
            ],
            [
             0.6666666666666666,
             "#ed7953"
            ],
            [
             0.7777777777777778,
             "#fb9f3a"
            ],
            [
             0.8888888888888888,
             "#fdca26"
            ],
            [
             1,
             "#f0f921"
            ]
           ],
           "sequentialminus": [
            [
             0,
             "#0d0887"
            ],
            [
             0.1111111111111111,
             "#46039f"
            ],
            [
             0.2222222222222222,
             "#7201a8"
            ],
            [
             0.3333333333333333,
             "#9c179e"
            ],
            [
             0.4444444444444444,
             "#bd3786"
            ],
            [
             0.5555555555555556,
             "#d8576b"
            ],
            [
             0.6666666666666666,
             "#ed7953"
            ],
            [
             0.7777777777777778,
             "#fb9f3a"
            ],
            [
             0.8888888888888888,
             "#fdca26"
            ],
            [
             1,
             "#f0f921"
            ]
           ]
          },
          "colorway": [
           "#636efa",
           "#EF553B",
           "#00cc96",
           "#ab63fa",
           "#FFA15A",
           "#19d3f3",
           "#FF6692",
           "#B6E880",
           "#FF97FF",
           "#FECB52"
          ],
          "font": {
           "color": "#2a3f5f"
          },
          "geo": {
           "bgcolor": "white",
           "lakecolor": "white",
           "landcolor": "#E5ECF6",
           "showlakes": true,
           "showland": true,
           "subunitcolor": "white"
          },
          "hoverlabel": {
           "align": "left"
          },
          "hovermode": "closest",
          "mapbox": {
           "style": "light"
          },
          "paper_bgcolor": "white",
          "plot_bgcolor": "#E5ECF6",
          "polar": {
           "angularaxis": {
            "gridcolor": "white",
            "linecolor": "white",
            "ticks": ""
           },
           "bgcolor": "#E5ECF6",
           "radialaxis": {
            "gridcolor": "white",
            "linecolor": "white",
            "ticks": ""
           }
          },
          "scene": {
           "xaxis": {
            "backgroundcolor": "#E5ECF6",
            "gridcolor": "white",
            "gridwidth": 2,
            "linecolor": "white",
            "showbackground": true,
            "ticks": "",
            "zerolinecolor": "white"
           },
           "yaxis": {
            "backgroundcolor": "#E5ECF6",
            "gridcolor": "white",
            "gridwidth": 2,
            "linecolor": "white",
            "showbackground": true,
            "ticks": "",
            "zerolinecolor": "white"
           },
           "zaxis": {
            "backgroundcolor": "#E5ECF6",
            "gridcolor": "white",
            "gridwidth": 2,
            "linecolor": "white",
            "showbackground": true,
            "ticks": "",
            "zerolinecolor": "white"
           }
          },
          "shapedefaults": {
           "line": {
            "color": "#2a3f5f"
           }
          },
          "ternary": {
           "aaxis": {
            "gridcolor": "white",
            "linecolor": "white",
            "ticks": ""
           },
           "baxis": {
            "gridcolor": "white",
            "linecolor": "white",
            "ticks": ""
           },
           "bgcolor": "#E5ECF6",
           "caxis": {
            "gridcolor": "white",
            "linecolor": "white",
            "ticks": ""
           }
          },
          "title": {
           "x": 0.05
          },
          "xaxis": {
           "automargin": true,
           "gridcolor": "white",
           "linecolor": "white",
           "ticks": "",
           "title": {
            "standoff": 15
           },
           "zerolinecolor": "white",
           "zerolinewidth": 2
          },
          "yaxis": {
           "automargin": true,
           "gridcolor": "white",
           "linecolor": "white",
           "ticks": "",
           "title": {
            "standoff": 15
           },
           "zerolinecolor": "white",
           "zerolinewidth": 2
          }
         }
        },
        "title": {
         "text": "<b>Comparación de Stock Actual vs Promedio Semanal</b>"
        },
        "width": 1000,
        "xaxis": {
         "title": {
          "text": "Kilogramos"
         }
        },
        "yaxis": {
         "categoryorder": "total ascending"
        }
       }
      }
     },
     "metadata": {},
     "output_type": "display_data"
    },
    {
     "name": "stdout",
     "output_type": "stream",
     "text": [
      "\n",
      "=== Detalle de todos los productos ===\n",
      "Empty DataFrame\n",
      "Columns: [Producto, Stock_Actual, Promedio_Semanal, Diferencia, Estado]\n",
      "Index: []\n"
     ]
    }
   ],
   "source": [
    "# Diagnóstico de la comparación\n",
    "print(\"=== Diagnóstico de datos ===\")\n",
    "print(f\"Total de productos en comparison: {len(comparison)}\")\n",
    "print(\"\\nEstadísticas de la diferencia:\")\n",
    "print(comparison['Diferencia'].describe())\n",
    "\n",
    "# Crear gráfico de barras para todos los productos\n",
    "import plotly.graph_objects as go\n",
    "\n",
    "# Ordenar productos por la diferencia absoluta\n",
    "comparison['Diferencia_Abs'] = comparison['Diferencia'].abs()\n",
    "productos_ordenados = comparison.sort_values('Diferencia_Abs', ascending=True)\n",
    "\n",
    "# Crear figura\n",
    "fig = go.Figure()\n",
    "\n",
    "# Agregar barras para el promedio semanal\n",
    "fig.add_trace(\n",
    "    go.Bar(\n",
    "        y=productos_ordenados['Producto'],\n",
    "        x=productos_ordenados['Promedio_Semanal'],\n",
    "        name='Promedio Semanal',\n",
    "        orientation='h',\n",
    "        marker_color='#4CAF50'\n",
    "    )\n",
    ")\n",
    "\n",
    "# Agregar barras para el stock actual\n",
    "fig.add_trace(\n",
    "    go.Bar(\n",
    "        y=productos_ordenados['Producto'],\n",
    "        x=productos_ordenados['Stock_Actual'],\n",
    "        name='Stock Actual',\n",
    "        orientation='h',\n",
    "        marker_color='#2196F3'\n",
    "    )\n",
    ")\n",
    "\n",
    "# Actualizar el layout\n",
    "fig.update_layout(\n",
    "    title_text=\"<b>Comparación de Stock Actual vs Promedio Semanal</b>\",\n",
    "    barmode='group',\n",
    "    height=max(600, len(productos_ordenados) * 25),  # Altura dinámica según número de productos\n",
    "    width=1000,\n",
    "    yaxis={'categoryorder':'total ascending'},\n",
    "    xaxis_title=\"Kilogramos\",\n",
    "    showlegend=True,\n",
    "    margin=dict(l=250)  # Margen izquierdo para nombres de productos\n",
    ")\n",
    "\n",
    "fig.show()\n",
    "\n",
    "# Mostrar tabla con todos los productos y sus métricas\n",
    "print(\"\\n=== Detalle de todos los productos ===\")\n",
    "tabla_detalle = comparison[['Producto', 'Stock_Actual', 'Promedio_Semanal', 'Diferencia', 'Estado']].copy()\n",
    "tabla_detalle = tabla_detalle.sort_values('Diferencia')\n",
    "print(tabla_detalle.to_string())"
   ]
  },
  {
   "cell_type": "code",
   "execution_count": 6,
   "id": "6fc3ec2c",
   "metadata": {},
   "outputs": [
    {
     "data": {
      "application/vnd.plotly.v1+json": {
       "config": {
        "plotlyServerURL": "https://plot.ly"
       },
       "data": [
        {
         "domain": {
          "column": 0,
          "row": 0
         },
         "mode": "number",
         "number": {
          "font": {
           "size": 50
          }
         },
         "title": {
          "text": "Total Productos"
         },
         "type": "indicator",
         "value": 55
        },
        {
         "domain": {
          "column": 1,
          "row": 0
         },
         "mode": "number",
         "number": {
          "font": {
           "color": "green",
           "size": 50
          }
         },
         "title": {
          "text": "Stock Adecuado"
         },
         "type": "indicator",
         "value": 55
        },
        {
         "domain": {
          "column": 2,
          "row": 0
         },
         "mode": "number",
         "number": {
          "font": {
           "color": "darkblue",
           "size": 50
          },
          "valueformat": ",.1f"
         },
         "title": {
          "text": "Stock Total (Kg)"
         },
         "type": "indicator",
         "value": 10417.98
        },
        {
         "domain": {
          "column": 3,
          "row": 0
         },
         "mode": "number",
         "number": {
          "font": {
           "color": "red",
           "size": 50
          }
         },
         "title": {
          "text": "Bajo Promedio"
         },
         "type": "indicator",
         "value": 0
        }
       ],
       "layout": {
        "grid": {
         "columns": 4,
         "rows": 1
        },
        "height": 250,
        "margin": {
         "b": 20,
         "l": 20,
         "r": 20,
         "t": 80
        },
        "template": {
         "data": {
          "bar": [
           {
            "error_x": {
             "color": "#2a3f5f"
            },
            "error_y": {
             "color": "#2a3f5f"
            },
            "marker": {
             "line": {
              "color": "#E5ECF6",
              "width": 0.5
             },
             "pattern": {
              "fillmode": "overlay",
              "size": 10,
              "solidity": 0.2
             }
            },
            "type": "bar"
           }
          ],
          "barpolar": [
           {
            "marker": {
             "line": {
              "color": "#E5ECF6",
              "width": 0.5
             },
             "pattern": {
              "fillmode": "overlay",
              "size": 10,
              "solidity": 0.2
             }
            },
            "type": "barpolar"
           }
          ],
          "carpet": [
           {
            "aaxis": {
             "endlinecolor": "#2a3f5f",
             "gridcolor": "white",
             "linecolor": "white",
             "minorgridcolor": "white",
             "startlinecolor": "#2a3f5f"
            },
            "baxis": {
             "endlinecolor": "#2a3f5f",
             "gridcolor": "white",
             "linecolor": "white",
             "minorgridcolor": "white",
             "startlinecolor": "#2a3f5f"
            },
            "type": "carpet"
           }
          ],
          "choropleth": [
           {
            "colorbar": {
             "outlinewidth": 0,
             "ticks": ""
            },
            "type": "choropleth"
           }
          ],
          "contour": [
           {
            "colorbar": {
             "outlinewidth": 0,
             "ticks": ""
            },
            "colorscale": [
             [
              0,
              "#0d0887"
             ],
             [
              0.1111111111111111,
              "#46039f"
             ],
             [
              0.2222222222222222,
              "#7201a8"
             ],
             [
              0.3333333333333333,
              "#9c179e"
             ],
             [
              0.4444444444444444,
              "#bd3786"
             ],
             [
              0.5555555555555556,
              "#d8576b"
             ],
             [
              0.6666666666666666,
              "#ed7953"
             ],
             [
              0.7777777777777778,
              "#fb9f3a"
             ],
             [
              0.8888888888888888,
              "#fdca26"
             ],
             [
              1,
              "#f0f921"
             ]
            ],
            "type": "contour"
           }
          ],
          "contourcarpet": [
           {
            "colorbar": {
             "outlinewidth": 0,
             "ticks": ""
            },
            "type": "contourcarpet"
           }
          ],
          "heatmap": [
           {
            "colorbar": {
             "outlinewidth": 0,
             "ticks": ""
            },
            "colorscale": [
             [
              0,
              "#0d0887"
             ],
             [
              0.1111111111111111,
              "#46039f"
             ],
             [
              0.2222222222222222,
              "#7201a8"
             ],
             [
              0.3333333333333333,
              "#9c179e"
             ],
             [
              0.4444444444444444,
              "#bd3786"
             ],
             [
              0.5555555555555556,
              "#d8576b"
             ],
             [
              0.6666666666666666,
              "#ed7953"
             ],
             [
              0.7777777777777778,
              "#fb9f3a"
             ],
             [
              0.8888888888888888,
              "#fdca26"
             ],
             [
              1,
              "#f0f921"
             ]
            ],
            "type": "heatmap"
           }
          ],
          "histogram": [
           {
            "marker": {
             "pattern": {
              "fillmode": "overlay",
              "size": 10,
              "solidity": 0.2
             }
            },
            "type": "histogram"
           }
          ],
          "histogram2d": [
           {
            "colorbar": {
             "outlinewidth": 0,
             "ticks": ""
            },
            "colorscale": [
             [
              0,
              "#0d0887"
             ],
             [
              0.1111111111111111,
              "#46039f"
             ],
             [
              0.2222222222222222,
              "#7201a8"
             ],
             [
              0.3333333333333333,
              "#9c179e"
             ],
             [
              0.4444444444444444,
              "#bd3786"
             ],
             [
              0.5555555555555556,
              "#d8576b"
             ],
             [
              0.6666666666666666,
              "#ed7953"
             ],
             [
              0.7777777777777778,
              "#fb9f3a"
             ],
             [
              0.8888888888888888,
              "#fdca26"
             ],
             [
              1,
              "#f0f921"
             ]
            ],
            "type": "histogram2d"
           }
          ],
          "histogram2dcontour": [
           {
            "colorbar": {
             "outlinewidth": 0,
             "ticks": ""
            },
            "colorscale": [
             [
              0,
              "#0d0887"
             ],
             [
              0.1111111111111111,
              "#46039f"
             ],
             [
              0.2222222222222222,
              "#7201a8"
             ],
             [
              0.3333333333333333,
              "#9c179e"
             ],
             [
              0.4444444444444444,
              "#bd3786"
             ],
             [
              0.5555555555555556,
              "#d8576b"
             ],
             [
              0.6666666666666666,
              "#ed7953"
             ],
             [
              0.7777777777777778,
              "#fb9f3a"
             ],
             [
              0.8888888888888888,
              "#fdca26"
             ],
             [
              1,
              "#f0f921"
             ]
            ],
            "type": "histogram2dcontour"
           }
          ],
          "mesh3d": [
           {
            "colorbar": {
             "outlinewidth": 0,
             "ticks": ""
            },
            "type": "mesh3d"
           }
          ],
          "parcoords": [
           {
            "line": {
             "colorbar": {
              "outlinewidth": 0,
              "ticks": ""
             }
            },
            "type": "parcoords"
           }
          ],
          "pie": [
           {
            "automargin": true,
            "type": "pie"
           }
          ],
          "scatter": [
           {
            "fillpattern": {
             "fillmode": "overlay",
             "size": 10,
             "solidity": 0.2
            },
            "type": "scatter"
           }
          ],
          "scatter3d": [
           {
            "line": {
             "colorbar": {
              "outlinewidth": 0,
              "ticks": ""
             }
            },
            "marker": {
             "colorbar": {
              "outlinewidth": 0,
              "ticks": ""
             }
            },
            "type": "scatter3d"
           }
          ],
          "scattercarpet": [
           {
            "marker": {
             "colorbar": {
              "outlinewidth": 0,
              "ticks": ""
             }
            },
            "type": "scattercarpet"
           }
          ],
          "scattergeo": [
           {
            "marker": {
             "colorbar": {
              "outlinewidth": 0,
              "ticks": ""
             }
            },
            "type": "scattergeo"
           }
          ],
          "scattergl": [
           {
            "marker": {
             "colorbar": {
              "outlinewidth": 0,
              "ticks": ""
             }
            },
            "type": "scattergl"
           }
          ],
          "scattermap": [
           {
            "marker": {
             "colorbar": {
              "outlinewidth": 0,
              "ticks": ""
             }
            },
            "type": "scattermap"
           }
          ],
          "scattermapbox": [
           {
            "marker": {
             "colorbar": {
              "outlinewidth": 0,
              "ticks": ""
             }
            },
            "type": "scattermapbox"
           }
          ],
          "scatterpolar": [
           {
            "marker": {
             "colorbar": {
              "outlinewidth": 0,
              "ticks": ""
             }
            },
            "type": "scatterpolar"
           }
          ],
          "scatterpolargl": [
           {
            "marker": {
             "colorbar": {
              "outlinewidth": 0,
              "ticks": ""
             }
            },
            "type": "scatterpolargl"
           }
          ],
          "scatterternary": [
           {
            "marker": {
             "colorbar": {
              "outlinewidth": 0,
              "ticks": ""
             }
            },
            "type": "scatterternary"
           }
          ],
          "surface": [
           {
            "colorbar": {
             "outlinewidth": 0,
             "ticks": ""
            },
            "colorscale": [
             [
              0,
              "#0d0887"
             ],
             [
              0.1111111111111111,
              "#46039f"
             ],
             [
              0.2222222222222222,
              "#7201a8"
             ],
             [
              0.3333333333333333,
              "#9c179e"
             ],
             [
              0.4444444444444444,
              "#bd3786"
             ],
             [
              0.5555555555555556,
              "#d8576b"
             ],
             [
              0.6666666666666666,
              "#ed7953"
             ],
             [
              0.7777777777777778,
              "#fb9f3a"
             ],
             [
              0.8888888888888888,
              "#fdca26"
             ],
             [
              1,
              "#f0f921"
             ]
            ],
            "type": "surface"
           }
          ],
          "table": [
           {
            "cells": {
             "fill": {
              "color": "#EBF0F8"
             },
             "line": {
              "color": "white"
             }
            },
            "header": {
             "fill": {
              "color": "#C8D4E3"
             },
             "line": {
              "color": "white"
             }
            },
            "type": "table"
           }
          ]
         },
         "layout": {
          "annotationdefaults": {
           "arrowcolor": "#2a3f5f",
           "arrowhead": 0,
           "arrowwidth": 1
          },
          "autotypenumbers": "strict",
          "coloraxis": {
           "colorbar": {
            "outlinewidth": 0,
            "ticks": ""
           }
          },
          "colorscale": {
           "diverging": [
            [
             0,
             "#8e0152"
            ],
            [
             0.1,
             "#c51b7d"
            ],
            [
             0.2,
             "#de77ae"
            ],
            [
             0.3,
             "#f1b6da"
            ],
            [
             0.4,
             "#fde0ef"
            ],
            [
             0.5,
             "#f7f7f7"
            ],
            [
             0.6,
             "#e6f5d0"
            ],
            [
             0.7,
             "#b8e186"
            ],
            [
             0.8,
             "#7fbc41"
            ],
            [
             0.9,
             "#4d9221"
            ],
            [
             1,
             "#276419"
            ]
           ],
           "sequential": [
            [
             0,
             "#0d0887"
            ],
            [
             0.1111111111111111,
             "#46039f"
            ],
            [
             0.2222222222222222,
             "#7201a8"
            ],
            [
             0.3333333333333333,
             "#9c179e"
            ],
            [
             0.4444444444444444,
             "#bd3786"
            ],
            [
             0.5555555555555556,
             "#d8576b"
            ],
            [
             0.6666666666666666,
             "#ed7953"
            ],
            [
             0.7777777777777778,
             "#fb9f3a"
            ],
            [
             0.8888888888888888,
             "#fdca26"
            ],
            [
             1,
             "#f0f921"
            ]
           ],
           "sequentialminus": [
            [
             0,
             "#0d0887"
            ],
            [
             0.1111111111111111,
             "#46039f"
            ],
            [
             0.2222222222222222,
             "#7201a8"
            ],
            [
             0.3333333333333333,
             "#9c179e"
            ],
            [
             0.4444444444444444,
             "#bd3786"
            ],
            [
             0.5555555555555556,
             "#d8576b"
            ],
            [
             0.6666666666666666,
             "#ed7953"
            ],
            [
             0.7777777777777778,
             "#fb9f3a"
            ],
            [
             0.8888888888888888,
             "#fdca26"
            ],
            [
             1,
             "#f0f921"
            ]
           ]
          },
          "colorway": [
           "#636efa",
           "#EF553B",
           "#00cc96",
           "#ab63fa",
           "#FFA15A",
           "#19d3f3",
           "#FF6692",
           "#B6E880",
           "#FF97FF",
           "#FECB52"
          ],
          "font": {
           "color": "#2a3f5f"
          },
          "geo": {
           "bgcolor": "white",
           "lakecolor": "white",
           "landcolor": "#E5ECF6",
           "showlakes": true,
           "showland": true,
           "subunitcolor": "white"
          },
          "hoverlabel": {
           "align": "left"
          },
          "hovermode": "closest",
          "mapbox": {
           "style": "light"
          },
          "paper_bgcolor": "white",
          "plot_bgcolor": "#E5ECF6",
          "polar": {
           "angularaxis": {
            "gridcolor": "white",
            "linecolor": "white",
            "ticks": ""
           },
           "bgcolor": "#E5ECF6",
           "radialaxis": {
            "gridcolor": "white",
            "linecolor": "white",
            "ticks": ""
           }
          },
          "scene": {
           "xaxis": {
            "backgroundcolor": "#E5ECF6",
            "gridcolor": "white",
            "gridwidth": 2,
            "linecolor": "white",
            "showbackground": true,
            "ticks": "",
            "zerolinecolor": "white"
           },
           "yaxis": {
            "backgroundcolor": "#E5ECF6",
            "gridcolor": "white",
            "gridwidth": 2,
            "linecolor": "white",
            "showbackground": true,
            "ticks": "",
            "zerolinecolor": "white"
           },
           "zaxis": {
            "backgroundcolor": "#E5ECF6",
            "gridcolor": "white",
            "gridwidth": 2,
            "linecolor": "white",
            "showbackground": true,
            "ticks": "",
            "zerolinecolor": "white"
           }
          },
          "shapedefaults": {
           "line": {
            "color": "#2a3f5f"
           }
          },
          "ternary": {
           "aaxis": {
            "gridcolor": "white",
            "linecolor": "white",
            "ticks": ""
           },
           "baxis": {
            "gridcolor": "white",
            "linecolor": "white",
            "ticks": ""
           },
           "bgcolor": "#E5ECF6",
           "caxis": {
            "gridcolor": "white",
            "linecolor": "white",
            "ticks": ""
           }
          },
          "title": {
           "x": 0.05
          },
          "xaxis": {
           "automargin": true,
           "gridcolor": "white",
           "linecolor": "white",
           "ticks": "",
           "title": {
            "standoff": 15
           },
           "zerolinecolor": "white",
           "zerolinewidth": 2
          },
          "yaxis": {
           "automargin": true,
           "gridcolor": "white",
           "linecolor": "white",
           "ticks": "",
           "title": {
            "standoff": 15
           },
           "zerolinecolor": "white",
           "zerolinewidth": 2
          }
         }
        },
        "title": {
         "font": {
          "color": "#4254b5",
          "size": 24
         },
         "text": "<b>Indicadores de Inventario</b>",
         "x": 0,
         "xanchor": "left",
         "y": 0.95,
         "yanchor": "top"
        },
        "width": 1200
       }
      }
     },
     "metadata": {},
     "output_type": "display_data"
    }
   ],
   "source": [
    "# [9] --- Indicadores KPI ---\n",
    "import plotly.graph_objects as go\n",
    "\n",
    "# Filtrar el DataFrame para excluir la fila de total (última fila)\n",
    "df_inv_sin_total = df_inv.iloc[:-1].copy()\n",
    "\n",
    "# Calcular KPIs\n",
    "total_productos = len(df_inv_sin_total)\n",
    "productos_disponibles = total_productos - num_faltantes\n",
    "stock_total_kg = df_inv_sin_total['Total'].sum()\n",
    "\n",
    "# Crear figura para los indicadores\n",
    "fig_kpi = go.Figure()\n",
    "\n",
    "# 1. Total Productos\n",
    "fig_kpi.add_trace(go.Indicator(\n",
    "    mode=\"number\",\n",
    "    value=total_productos,\n",
    "    title={\"text\": \"Total Productos\"},\n",
    "    domain={'row': 0, 'column': 0},\n",
    "    number={\"font\": {\"size\": 50}}\n",
    "))\n",
    "\n",
    "# 2. Productos con Stock Adecuado\n",
    "fig_kpi.add_trace(go.Indicator(\n",
    "    mode=\"number\",\n",
    "    value=productos_disponibles,\n",
    "    title={\"text\": \"Stock Adecuado\"},\n",
    "    domain={'row': 0, 'column': 1},\n",
    "    number={\"font\": {\"size\": 50, \"color\": \"green\"}}\n",
    "))\n",
    "\n",
    "# 3. Stock Total\n",
    "fig_kpi.add_trace(go.Indicator(\n",
    "    mode=\"number\",\n",
    "    value=stock_total_kg,\n",
    "    title={\"text\": \"Stock Total (Kg)\"},\n",
    "    domain={'row': 0, 'column': 2},\n",
    "    number={\"font\": {\"size\": 50, \"color\": \"darkblue\"},\n",
    "            \"valueformat\": \",.1f\"}\n",
    "))\n",
    "\n",
    "# 4. Productos bajo promedio\n",
    "fig_kpi.add_trace(go.Indicator(\n",
    "    mode=\"number\",\n",
    "    value=num_faltantes,\n",
    "    title={\"text\": \"Bajo Promedio\"},\n",
    "    domain={'row': 0, 'column': 3},\n",
    "    number={\"font\": {\"size\": 50, \"color\": \"red\"}}\n",
    "))\n",
    "\n",
    "# Actualizar el layout para mostrar los indicadores en línea\n",
    "fig_kpi.update_layout(\n",
    "    grid={'rows': 1, 'columns': 4},\n",
    "    height=250,\n",
    "    width=1200,\n",
    "    title=dict(\n",
    "        text=\"<b>Indicadores de Inventario</b>\",\n",
    "        x=0,\n",
    "        y=0.95,\n",
    "        xanchor='left',\n",
    "        yanchor='top',\n",
    "        font=dict(\n",
    "            size=24,\n",
    "            color='#4254b5'\n",
    "        )\n",
    "    ),\n",
    "    margin=dict(t=80, b=20, l=20, r=20)\n",
    ")\n",
    "\n",
    "fig_kpi.show()"
   ]
  },
  {
   "cell_type": "code",
   "execution_count": 11,
   "id": "2dc0ff16",
   "metadata": {},
   "outputs": [
    {
     "name": "stdout",
     "output_type": "stream",
     "text": [
      "=== Verificación de datos ===\n",
      "\n",
      "Columnas en productos_faltantes:\n",
      "['Cod', 'Promedio_Semanal', 'Total_Kg', 'Num_Ventas', 'Producto', 'Stock_Actual', 'Diferencia', 'Estado', 'Diferencia_Abs']\n",
      "\n",
      "Número de productos faltantes: 0\n",
      "\n",
      "Top 5 productos con mayor diferencia:\n",
      "Empty DataFrame\n",
      "Columns: [Producto, Stock_Actual, Promedio_Semanal, Diferencia, Diferencia_Abs]\n",
      "Index: []\n"
     ]
    },
    {
     "data": {
      "application/vnd.plotly.v1+json": {
       "config": {
        "plotlyServerURL": "https://plot.ly"
       },
       "data": [
        {
         "marker": {
          "color": "#ff4444"
         },
         "name": "Promedio Semanal",
         "orientation": "h",
         "text": [],
         "textposition": "outside",
         "type": "bar",
         "x": [],
         "y": []
        },
        {
         "marker": {
          "color": "#FF9800"
         },
         "name": "Stock Actual",
         "orientation": "h",
         "text": [],
         "textposition": "outside",
         "type": "bar",
         "x": [],
         "y": []
        }
       ],
       "layout": {
        "barmode": "overlay",
        "height": 500,
        "margin": {
         "b": 0,
         "l": 0,
         "r": 0,
         "t": 100
        },
        "showlegend": true,
        "template": {
         "data": {
          "bar": [
           {
            "error_x": {
             "color": "#2a3f5f"
            },
            "error_y": {
             "color": "#2a3f5f"
            },
            "marker": {
             "line": {
              "color": "#E5ECF6",
              "width": 0.5
             },
             "pattern": {
              "fillmode": "overlay",
              "size": 10,
              "solidity": 0.2
             }
            },
            "type": "bar"
           }
          ],
          "barpolar": [
           {
            "marker": {
             "line": {
              "color": "#E5ECF6",
              "width": 0.5
             },
             "pattern": {
              "fillmode": "overlay",
              "size": 10,
              "solidity": 0.2
             }
            },
            "type": "barpolar"
           }
          ],
          "carpet": [
           {
            "aaxis": {
             "endlinecolor": "#2a3f5f",
             "gridcolor": "white",
             "linecolor": "white",
             "minorgridcolor": "white",
             "startlinecolor": "#2a3f5f"
            },
            "baxis": {
             "endlinecolor": "#2a3f5f",
             "gridcolor": "white",
             "linecolor": "white",
             "minorgridcolor": "white",
             "startlinecolor": "#2a3f5f"
            },
            "type": "carpet"
           }
          ],
          "choropleth": [
           {
            "colorbar": {
             "outlinewidth": 0,
             "ticks": ""
            },
            "type": "choropleth"
           }
          ],
          "contour": [
           {
            "colorbar": {
             "outlinewidth": 0,
             "ticks": ""
            },
            "colorscale": [
             [
              0,
              "#0d0887"
             ],
             [
              0.1111111111111111,
              "#46039f"
             ],
             [
              0.2222222222222222,
              "#7201a8"
             ],
             [
              0.3333333333333333,
              "#9c179e"
             ],
             [
              0.4444444444444444,
              "#bd3786"
             ],
             [
              0.5555555555555556,
              "#d8576b"
             ],
             [
              0.6666666666666666,
              "#ed7953"
             ],
             [
              0.7777777777777778,
              "#fb9f3a"
             ],
             [
              0.8888888888888888,
              "#fdca26"
             ],
             [
              1,
              "#f0f921"
             ]
            ],
            "type": "contour"
           }
          ],
          "contourcarpet": [
           {
            "colorbar": {
             "outlinewidth": 0,
             "ticks": ""
            },
            "type": "contourcarpet"
           }
          ],
          "heatmap": [
           {
            "colorbar": {
             "outlinewidth": 0,
             "ticks": ""
            },
            "colorscale": [
             [
              0,
              "#0d0887"
             ],
             [
              0.1111111111111111,
              "#46039f"
             ],
             [
              0.2222222222222222,
              "#7201a8"
             ],
             [
              0.3333333333333333,
              "#9c179e"
             ],
             [
              0.4444444444444444,
              "#bd3786"
             ],
             [
              0.5555555555555556,
              "#d8576b"
             ],
             [
              0.6666666666666666,
              "#ed7953"
             ],
             [
              0.7777777777777778,
              "#fb9f3a"
             ],
             [
              0.8888888888888888,
              "#fdca26"
             ],
             [
              1,
              "#f0f921"
             ]
            ],
            "type": "heatmap"
           }
          ],
          "histogram": [
           {
            "marker": {
             "pattern": {
              "fillmode": "overlay",
              "size": 10,
              "solidity": 0.2
             }
            },
            "type": "histogram"
           }
          ],
          "histogram2d": [
           {
            "colorbar": {
             "outlinewidth": 0,
             "ticks": ""
            },
            "colorscale": [
             [
              0,
              "#0d0887"
             ],
             [
              0.1111111111111111,
              "#46039f"
             ],
             [
              0.2222222222222222,
              "#7201a8"
             ],
             [
              0.3333333333333333,
              "#9c179e"
             ],
             [
              0.4444444444444444,
              "#bd3786"
             ],
             [
              0.5555555555555556,
              "#d8576b"
             ],
             [
              0.6666666666666666,
              "#ed7953"
             ],
             [
              0.7777777777777778,
              "#fb9f3a"
             ],
             [
              0.8888888888888888,
              "#fdca26"
             ],
             [
              1,
              "#f0f921"
             ]
            ],
            "type": "histogram2d"
           }
          ],
          "histogram2dcontour": [
           {
            "colorbar": {
             "outlinewidth": 0,
             "ticks": ""
            },
            "colorscale": [
             [
              0,
              "#0d0887"
             ],
             [
              0.1111111111111111,
              "#46039f"
             ],
             [
              0.2222222222222222,
              "#7201a8"
             ],
             [
              0.3333333333333333,
              "#9c179e"
             ],
             [
              0.4444444444444444,
              "#bd3786"
             ],
             [
              0.5555555555555556,
              "#d8576b"
             ],
             [
              0.6666666666666666,
              "#ed7953"
             ],
             [
              0.7777777777777778,
              "#fb9f3a"
             ],
             [
              0.8888888888888888,
              "#fdca26"
             ],
             [
              1,
              "#f0f921"
             ]
            ],
            "type": "histogram2dcontour"
           }
          ],
          "mesh3d": [
           {
            "colorbar": {
             "outlinewidth": 0,
             "ticks": ""
            },
            "type": "mesh3d"
           }
          ],
          "parcoords": [
           {
            "line": {
             "colorbar": {
              "outlinewidth": 0,
              "ticks": ""
             }
            },
            "type": "parcoords"
           }
          ],
          "pie": [
           {
            "automargin": true,
            "type": "pie"
           }
          ],
          "scatter": [
           {
            "fillpattern": {
             "fillmode": "overlay",
             "size": 10,
             "solidity": 0.2
            },
            "type": "scatter"
           }
          ],
          "scatter3d": [
           {
            "line": {
             "colorbar": {
              "outlinewidth": 0,
              "ticks": ""
             }
            },
            "marker": {
             "colorbar": {
              "outlinewidth": 0,
              "ticks": ""
             }
            },
            "type": "scatter3d"
           }
          ],
          "scattercarpet": [
           {
            "marker": {
             "colorbar": {
              "outlinewidth": 0,
              "ticks": ""
             }
            },
            "type": "scattercarpet"
           }
          ],
          "scattergeo": [
           {
            "marker": {
             "colorbar": {
              "outlinewidth": 0,
              "ticks": ""
             }
            },
            "type": "scattergeo"
           }
          ],
          "scattergl": [
           {
            "marker": {
             "colorbar": {
              "outlinewidth": 0,
              "ticks": ""
             }
            },
            "type": "scattergl"
           }
          ],
          "scattermap": [
           {
            "marker": {
             "colorbar": {
              "outlinewidth": 0,
              "ticks": ""
             }
            },
            "type": "scattermap"
           }
          ],
          "scattermapbox": [
           {
            "marker": {
             "colorbar": {
              "outlinewidth": 0,
              "ticks": ""
             }
            },
            "type": "scattermapbox"
           }
          ],
          "scatterpolar": [
           {
            "marker": {
             "colorbar": {
              "outlinewidth": 0,
              "ticks": ""
             }
            },
            "type": "scatterpolar"
           }
          ],
          "scatterpolargl": [
           {
            "marker": {
             "colorbar": {
              "outlinewidth": 0,
              "ticks": ""
             }
            },
            "type": "scatterpolargl"
           }
          ],
          "scatterternary": [
           {
            "marker": {
             "colorbar": {
              "outlinewidth": 0,
              "ticks": ""
             }
            },
            "type": "scatterternary"
           }
          ],
          "surface": [
           {
            "colorbar": {
             "outlinewidth": 0,
             "ticks": ""
            },
            "colorscale": [
             [
              0,
              "#0d0887"
             ],
             [
              0.1111111111111111,
              "#46039f"
             ],
             [
              0.2222222222222222,
              "#7201a8"
             ],
             [
              0.3333333333333333,
              "#9c179e"
             ],
             [
              0.4444444444444444,
              "#bd3786"
             ],
             [
              0.5555555555555556,
              "#d8576b"
             ],
             [
              0.6666666666666666,
              "#ed7953"
             ],
             [
              0.7777777777777778,
              "#fb9f3a"
             ],
             [
              0.8888888888888888,
              "#fdca26"
             ],
             [
              1,
              "#f0f921"
             ]
            ],
            "type": "surface"
           }
          ],
          "table": [
           {
            "cells": {
             "fill": {
              "color": "#EBF0F8"
             },
             "line": {
              "color": "white"
             }
            },
            "header": {
             "fill": {
              "color": "#C8D4E3"
             },
             "line": {
              "color": "white"
             }
            },
            "type": "table"
           }
          ]
         },
         "layout": {
          "annotationdefaults": {
           "arrowcolor": "#2a3f5f",
           "arrowhead": 0,
           "arrowwidth": 1
          },
          "autotypenumbers": "strict",
          "coloraxis": {
           "colorbar": {
            "outlinewidth": 0,
            "ticks": ""
           }
          },
          "colorscale": {
           "diverging": [
            [
             0,
             "#8e0152"
            ],
            [
             0.1,
             "#c51b7d"
            ],
            [
             0.2,
             "#de77ae"
            ],
            [
             0.3,
             "#f1b6da"
            ],
            [
             0.4,
             "#fde0ef"
            ],
            [
             0.5,
             "#f7f7f7"
            ],
            [
             0.6,
             "#e6f5d0"
            ],
            [
             0.7,
             "#b8e186"
            ],
            [
             0.8,
             "#7fbc41"
            ],
            [
             0.9,
             "#4d9221"
            ],
            [
             1,
             "#276419"
            ]
           ],
           "sequential": [
            [
             0,
             "#0d0887"
            ],
            [
             0.1111111111111111,
             "#46039f"
            ],
            [
             0.2222222222222222,
             "#7201a8"
            ],
            [
             0.3333333333333333,
             "#9c179e"
            ],
            [
             0.4444444444444444,
             "#bd3786"
            ],
            [
             0.5555555555555556,
             "#d8576b"
            ],
            [
             0.6666666666666666,
             "#ed7953"
            ],
            [
             0.7777777777777778,
             "#fb9f3a"
            ],
            [
             0.8888888888888888,
             "#fdca26"
            ],
            [
             1,
             "#f0f921"
            ]
           ],
           "sequentialminus": [
            [
             0,
             "#0d0887"
            ],
            [
             0.1111111111111111,
             "#46039f"
            ],
            [
             0.2222222222222222,
             "#7201a8"
            ],
            [
             0.3333333333333333,
             "#9c179e"
            ],
            [
             0.4444444444444444,
             "#bd3786"
            ],
            [
             0.5555555555555556,
             "#d8576b"
            ],
            [
             0.6666666666666666,
             "#ed7953"
            ],
            [
             0.7777777777777778,
             "#fb9f3a"
            ],
            [
             0.8888888888888888,
             "#fdca26"
            ],
            [
             1,
             "#f0f921"
            ]
           ]
          },
          "colorway": [
           "#636efa",
           "#EF553B",
           "#00cc96",
           "#ab63fa",
           "#FFA15A",
           "#19d3f3",
           "#FF6692",
           "#B6E880",
           "#FF97FF",
           "#FECB52"
          ],
          "font": {
           "color": "#2a3f5f"
          },
          "geo": {
           "bgcolor": "white",
           "lakecolor": "white",
           "landcolor": "#E5ECF6",
           "showlakes": true,
           "showland": true,
           "subunitcolor": "white"
          },
          "hoverlabel": {
           "align": "left"
          },
          "hovermode": "closest",
          "mapbox": {
           "style": "light"
          },
          "paper_bgcolor": "white",
          "plot_bgcolor": "#E5ECF6",
          "polar": {
           "angularaxis": {
            "gridcolor": "white",
            "linecolor": "white",
            "ticks": ""
           },
           "bgcolor": "#E5ECF6",
           "radialaxis": {
            "gridcolor": "white",
            "linecolor": "white",
            "ticks": ""
           }
          },
          "scene": {
           "xaxis": {
            "backgroundcolor": "#E5ECF6",
            "gridcolor": "white",
            "gridwidth": 2,
            "linecolor": "white",
            "showbackground": true,
            "ticks": "",
            "zerolinecolor": "white"
           },
           "yaxis": {
            "backgroundcolor": "#E5ECF6",
            "gridcolor": "white",
            "gridwidth": 2,
            "linecolor": "white",
            "showbackground": true,
            "ticks": "",
            "zerolinecolor": "white"
           },
           "zaxis": {
            "backgroundcolor": "#E5ECF6",
            "gridcolor": "white",
            "gridwidth": 2,
            "linecolor": "white",
            "showbackground": true,
            "ticks": "",
            "zerolinecolor": "white"
           }
          },
          "shapedefaults": {
           "line": {
            "color": "#2a3f5f"
           }
          },
          "ternary": {
           "aaxis": {
            "gridcolor": "white",
            "linecolor": "white",
            "ticks": ""
           },
           "baxis": {
            "gridcolor": "white",
            "linecolor": "white",
            "ticks": ""
           },
           "bgcolor": "#E5ECF6",
           "caxis": {
            "gridcolor": "white",
            "linecolor": "white",
            "ticks": ""
           }
          },
          "title": {
           "x": 0.05
          },
          "xaxis": {
           "automargin": true,
           "gridcolor": "white",
           "linecolor": "white",
           "ticks": "",
           "title": {
            "standoff": 15
           },
           "zerolinecolor": "white",
           "zerolinewidth": 2
          },
          "yaxis": {
           "automargin": true,
           "gridcolor": "white",
           "linecolor": "white",
           "ticks": "",
           "title": {
            "standoff": 15
           },
           "zerolinecolor": "white",
           "zerolinewidth": 2
          }
         }
        },
        "title": {
         "font": {
          "color": "#4254b5",
          "size": 24
         },
         "text": "<b>Top 5 Productos Bajo Promedio</b>",
         "x": 0
        },
        "width": 800,
        "xaxis": {
         "title": {
          "text": "Kilogramos"
         }
        },
        "yaxis": {
         "title": {
          "text": ""
         }
        }
       }
      }
     },
     "metadata": {},
     "output_type": "display_data"
    }
   ],
   "source": [
    "# [8.1] --- Visualización: Top 5 Productos Bajo Promedio ---\n",
    "import plotly.graph_objects as go\n",
    "\n",
    "# Verificar los datos antes de crear la visualización\n",
    "print(\"=== Verificación de datos ===\")\n",
    "print(\"\\nColumnas en productos_faltantes:\")\n",
    "print(productos_faltantes.columns.tolist())\n",
    "print(\"\\nNúmero de productos faltantes:\", len(productos_faltantes))\n",
    "if len(productos_faltantes) > 0:\n",
    "    print(\"\\nPrimeros registros de productos_faltantes:\")\n",
    "    print(productos_faltantes[['Producto', 'Stock_Actual', 'Promedio_Semanal', 'Diferencia']].head().to_string())\n",
    "\n",
    "# Ordenar por el valor absoluto de la diferencia y tomar los top 5\n",
    "top5_faltantes = productos_faltantes.copy()\n",
    "top5_faltantes['Diferencia_Abs'] = abs(top5_faltantes['Diferencia'])\n",
    "top5_faltantes = top5_faltantes.nlargest(5, 'Diferencia_Abs')\n",
    "\n",
    "print(\"\\nTop 5 productos con mayor diferencia:\")\n",
    "print(top5_faltantes[['Producto', 'Stock_Actual', 'Promedio_Semanal', 'Diferencia', 'Diferencia_Abs']].to_string())\n",
    "\n",
    "# Crear figura para el bar chart\n",
    "fig_bar_bajo = go.Figure()\n",
    "\n",
    "# Agregar barras para el promedio semanal (rojas)\n",
    "fig_bar_bajo.add_trace(\n",
    "    go.Bar(\n",
    "        y=top5_faltantes['Producto'],\n",
    "        x=top5_faltantes['Promedio_Semanal'],\n",
    "        orientation='h',\n",
    "        name='Promedio Semanal',\n",
    "        marker_color='#ff4444',\n",
    "        text=top5_faltantes['Promedio_Semanal'].round(1),\n",
    "        textposition='outside',\n",
    "    )\n",
    ")\n",
    "\n",
    "# Agregar barras para el stock actual (naranjas)\n",
    "fig_bar_bajo.add_trace(\n",
    "    go.Bar(\n",
    "        y=top5_faltantes['Producto'],\n",
    "        x=top5_faltantes['Stock_Actual'],\n",
    "        orientation='h',\n",
    "        name='Stock Actual',\n",
    "        marker_color='#FF9800',\n",
    "        text=top5_faltantes['Stock_Actual'].round(1),\n",
    "        textposition='outside',\n",
    "    )\n",
    ")\n",
    "\n",
    "# Agregar anotaciones para mostrar el gap\n",
    "for idx, row in enumerate(top5_faltantes.itertuples()):\n",
    "    gap = abs(row.Diferencia)\n",
    "    fig_bar_bajo.add_annotation(\n",
    "        x=(row.Stock_Actual + row.Promedio_Semanal)/2,\n",
    "        y=row.Producto,\n",
    "        text=f'Gap: {gap:.1f} kg',\n",
    "        showarrow=False,\n",
    "        font=dict(size=12, color='black'),\n",
    "        bgcolor='rgba(255, 255, 255, 0.8)'\n",
    "    )\n",
    "\n",
    "# Actualizar el layout\n",
    "fig_bar_bajo.update_layout(\n",
    "    title_text=\"<b>Top 5 Productos Bajo Promedio</b>\",\n",
    "    title_x=0,\n",
    "    title_font_size=24,\n",
    "    title_font_color='#4254b5',\n",
    "    showlegend=True,\n",
    "    height=500,\n",
    "    width=800,\n",
    "    margin=dict(t=100, b=0, l=0, r=0),\n",
    "    barmode='overlay',\n",
    "    xaxis_title=\"Kilogramos\",\n",
    "    yaxis_title=\"\"\n",
    ")\n",
    "\n",
    "fig_bar_bajo.show()"
   ]
  },
  {
   "cell_type": "code",
   "execution_count": null,
   "id": "be8b3060",
   "metadata": {},
   "outputs": [
    {
     "data": {
      "application/vnd.plotly.v1+json": {
       "config": {
        "plotlyServerURL": "https://plot.ly"
       },
       "data": [
        {
         "marker": {
          "color": "#4CAF50"
         },
         "name": "Promedio Semanal",
         "orientation": "h",
         "text": [],
         "textposition": "outside",
         "type": "bar",
         "x": [],
         "y": []
        },
        {
         "marker": {
          "color": "#2196F3"
         },
         "name": "Stock Actual",
         "orientation": "h",
         "text": [],
         "textposition": "outside",
         "type": "bar",
         "x": [],
         "y": []
        }
       ],
       "layout": {
        "barmode": "overlay",
        "height": 500,
        "margin": {
         "b": 0,
         "l": 0,
         "r": 0,
         "t": 100
        },
        "showlegend": true,
        "template": {
         "data": {
          "bar": [
           {
            "error_x": {
             "color": "#2a3f5f"
            },
            "error_y": {
             "color": "#2a3f5f"
            },
            "marker": {
             "line": {
              "color": "#E5ECF6",
              "width": 0.5
             },
             "pattern": {
              "fillmode": "overlay",
              "size": 10,
              "solidity": 0.2
             }
            },
            "type": "bar"
           }
          ],
          "barpolar": [
           {
            "marker": {
             "line": {
              "color": "#E5ECF6",
              "width": 0.5
             },
             "pattern": {
              "fillmode": "overlay",
              "size": 10,
              "solidity": 0.2
             }
            },
            "type": "barpolar"
           }
          ],
          "carpet": [
           {
            "aaxis": {
             "endlinecolor": "#2a3f5f",
             "gridcolor": "white",
             "linecolor": "white",
             "minorgridcolor": "white",
             "startlinecolor": "#2a3f5f"
            },
            "baxis": {
             "endlinecolor": "#2a3f5f",
             "gridcolor": "white",
             "linecolor": "white",
             "minorgridcolor": "white",
             "startlinecolor": "#2a3f5f"
            },
            "type": "carpet"
           }
          ],
          "choropleth": [
           {
            "colorbar": {
             "outlinewidth": 0,
             "ticks": ""
            },
            "type": "choropleth"
           }
          ],
          "contour": [
           {
            "colorbar": {
             "outlinewidth": 0,
             "ticks": ""
            },
            "colorscale": [
             [
              0,
              "#0d0887"
             ],
             [
              0.1111111111111111,
              "#46039f"
             ],
             [
              0.2222222222222222,
              "#7201a8"
             ],
             [
              0.3333333333333333,
              "#9c179e"
             ],
             [
              0.4444444444444444,
              "#bd3786"
             ],
             [
              0.5555555555555556,
              "#d8576b"
             ],
             [
              0.6666666666666666,
              "#ed7953"
             ],
             [
              0.7777777777777778,
              "#fb9f3a"
             ],
             [
              0.8888888888888888,
              "#fdca26"
             ],
             [
              1,
              "#f0f921"
             ]
            ],
            "type": "contour"
           }
          ],
          "contourcarpet": [
           {
            "colorbar": {
             "outlinewidth": 0,
             "ticks": ""
            },
            "type": "contourcarpet"
           }
          ],
          "heatmap": [
           {
            "colorbar": {
             "outlinewidth": 0,
             "ticks": ""
            },
            "colorscale": [
             [
              0,
              "#0d0887"
             ],
             [
              0.1111111111111111,
              "#46039f"
             ],
             [
              0.2222222222222222,
              "#7201a8"
             ],
             [
              0.3333333333333333,
              "#9c179e"
             ],
             [
              0.4444444444444444,
              "#bd3786"
             ],
             [
              0.5555555555555556,
              "#d8576b"
             ],
             [
              0.6666666666666666,
              "#ed7953"
             ],
             [
              0.7777777777777778,
              "#fb9f3a"
             ],
             [
              0.8888888888888888,
              "#fdca26"
             ],
             [
              1,
              "#f0f921"
             ]
            ],
            "type": "heatmap"
           }
          ],
          "histogram": [
           {
            "marker": {
             "pattern": {
              "fillmode": "overlay",
              "size": 10,
              "solidity": 0.2
             }
            },
            "type": "histogram"
           }
          ],
          "histogram2d": [
           {
            "colorbar": {
             "outlinewidth": 0,
             "ticks": ""
            },
            "colorscale": [
             [
              0,
              "#0d0887"
             ],
             [
              0.1111111111111111,
              "#46039f"
             ],
             [
              0.2222222222222222,
              "#7201a8"
             ],
             [
              0.3333333333333333,
              "#9c179e"
             ],
             [
              0.4444444444444444,
              "#bd3786"
             ],
             [
              0.5555555555555556,
              "#d8576b"
             ],
             [
              0.6666666666666666,
              "#ed7953"
             ],
             [
              0.7777777777777778,
              "#fb9f3a"
             ],
             [
              0.8888888888888888,
              "#fdca26"
             ],
             [
              1,
              "#f0f921"
             ]
            ],
            "type": "histogram2d"
           }
          ],
          "histogram2dcontour": [
           {
            "colorbar": {
             "outlinewidth": 0,
             "ticks": ""
            },
            "colorscale": [
             [
              0,
              "#0d0887"
             ],
             [
              0.1111111111111111,
              "#46039f"
             ],
             [
              0.2222222222222222,
              "#7201a8"
             ],
             [
              0.3333333333333333,
              "#9c179e"
             ],
             [
              0.4444444444444444,
              "#bd3786"
             ],
             [
              0.5555555555555556,
              "#d8576b"
             ],
             [
              0.6666666666666666,
              "#ed7953"
             ],
             [
              0.7777777777777778,
              "#fb9f3a"
             ],
             [
              0.8888888888888888,
              "#fdca26"
             ],
             [
              1,
              "#f0f921"
             ]
            ],
            "type": "histogram2dcontour"
           }
          ],
          "mesh3d": [
           {
            "colorbar": {
             "outlinewidth": 0,
             "ticks": ""
            },
            "type": "mesh3d"
           }
          ],
          "parcoords": [
           {
            "line": {
             "colorbar": {
              "outlinewidth": 0,
              "ticks": ""
             }
            },
            "type": "parcoords"
           }
          ],
          "pie": [
           {
            "automargin": true,
            "type": "pie"
           }
          ],
          "scatter": [
           {
            "fillpattern": {
             "fillmode": "overlay",
             "size": 10,
             "solidity": 0.2
            },
            "type": "scatter"
           }
          ],
          "scatter3d": [
           {
            "line": {
             "colorbar": {
              "outlinewidth": 0,
              "ticks": ""
             }
            },
            "marker": {
             "colorbar": {
              "outlinewidth": 0,
              "ticks": ""
             }
            },
            "type": "scatter3d"
           }
          ],
          "scattercarpet": [
           {
            "marker": {
             "colorbar": {
              "outlinewidth": 0,
              "ticks": ""
             }
            },
            "type": "scattercarpet"
           }
          ],
          "scattergeo": [
           {
            "marker": {
             "colorbar": {
              "outlinewidth": 0,
              "ticks": ""
             }
            },
            "type": "scattergeo"
           }
          ],
          "scattergl": [
           {
            "marker": {
             "colorbar": {
              "outlinewidth": 0,
              "ticks": ""
             }
            },
            "type": "scattergl"
           }
          ],
          "scattermap": [
           {
            "marker": {
             "colorbar": {
              "outlinewidth": 0,
              "ticks": ""
             }
            },
            "type": "scattermap"
           }
          ],
          "scattermapbox": [
           {
            "marker": {
             "colorbar": {
              "outlinewidth": 0,
              "ticks": ""
             }
            },
            "type": "scattermapbox"
           }
          ],
          "scatterpolar": [
           {
            "marker": {
             "colorbar": {
              "outlinewidth": 0,
              "ticks": ""
             }
            },
            "type": "scatterpolar"
           }
          ],
          "scatterpolargl": [
           {
            "marker": {
             "colorbar": {
              "outlinewidth": 0,
              "ticks": ""
             }
            },
            "type": "scatterpolargl"
           }
          ],
          "scatterternary": [
           {
            "marker": {
             "colorbar": {
              "outlinewidth": 0,
              "ticks": ""
             }
            },
            "type": "scatterternary"
           }
          ],
          "surface": [
           {
            "colorbar": {
             "outlinewidth": 0,
             "ticks": ""
            },
            "colorscale": [
             [
              0,
              "#0d0887"
             ],
             [
              0.1111111111111111,
              "#46039f"
             ],
             [
              0.2222222222222222,
              "#7201a8"
             ],
             [
              0.3333333333333333,
              "#9c179e"
             ],
             [
              0.4444444444444444,
              "#bd3786"
             ],
             [
              0.5555555555555556,
              "#d8576b"
             ],
             [
              0.6666666666666666,
              "#ed7953"
             ],
             [
              0.7777777777777778,
              "#fb9f3a"
             ],
             [
              0.8888888888888888,
              "#fdca26"
             ],
             [
              1,
              "#f0f921"
             ]
            ],
            "type": "surface"
           }
          ],
          "table": [
           {
            "cells": {
             "fill": {
              "color": "#EBF0F8"
             },
             "line": {
              "color": "white"
             }
            },
            "header": {
             "fill": {
              "color": "#C8D4E3"
             },
             "line": {
              "color": "white"
             }
            },
            "type": "table"
           }
          ]
         },
         "layout": {
          "annotationdefaults": {
           "arrowcolor": "#2a3f5f",
           "arrowhead": 0,
           "arrowwidth": 1
          },
          "autotypenumbers": "strict",
          "coloraxis": {
           "colorbar": {
            "outlinewidth": 0,
            "ticks": ""
           }
          },
          "colorscale": {
           "diverging": [
            [
             0,
             "#8e0152"
            ],
            [
             0.1,
             "#c51b7d"
            ],
            [
             0.2,
             "#de77ae"
            ],
            [
             0.3,
             "#f1b6da"
            ],
            [
             0.4,
             "#fde0ef"
            ],
            [
             0.5,
             "#f7f7f7"
            ],
            [
             0.6,
             "#e6f5d0"
            ],
            [
             0.7,
             "#b8e186"
            ],
            [
             0.8,
             "#7fbc41"
            ],
            [
             0.9,
             "#4d9221"
            ],
            [
             1,
             "#276419"
            ]
           ],
           "sequential": [
            [
             0,
             "#0d0887"
            ],
            [
             0.1111111111111111,
             "#46039f"
            ],
            [
             0.2222222222222222,
             "#7201a8"
            ],
            [
             0.3333333333333333,
             "#9c179e"
            ],
            [
             0.4444444444444444,
             "#bd3786"
            ],
            [
             0.5555555555555556,
             "#d8576b"
            ],
            [
             0.6666666666666666,
             "#ed7953"
            ],
            [
             0.7777777777777778,
             "#fb9f3a"
            ],
            [
             0.8888888888888888,
             "#fdca26"
            ],
            [
             1,
             "#f0f921"
            ]
           ],
           "sequentialminus": [
            [
             0,
             "#0d0887"
            ],
            [
             0.1111111111111111,
             "#46039f"
            ],
            [
             0.2222222222222222,
             "#7201a8"
            ],
            [
             0.3333333333333333,
             "#9c179e"
            ],
            [
             0.4444444444444444,
             "#bd3786"
            ],
            [
             0.5555555555555556,
             "#d8576b"
            ],
            [
             0.6666666666666666,
             "#ed7953"
            ],
            [
             0.7777777777777778,
             "#fb9f3a"
            ],
            [
             0.8888888888888888,
             "#fdca26"
            ],
            [
             1,
             "#f0f921"
            ]
           ]
          },
          "colorway": [
           "#636efa",
           "#EF553B",
           "#00cc96",
           "#ab63fa",
           "#FFA15A",
           "#19d3f3",
           "#FF6692",
           "#B6E880",
           "#FF97FF",
           "#FECB52"
          ],
          "font": {
           "color": "#2a3f5f"
          },
          "geo": {
           "bgcolor": "white",
           "lakecolor": "white",
           "landcolor": "#E5ECF6",
           "showlakes": true,
           "showland": true,
           "subunitcolor": "white"
          },
          "hoverlabel": {
           "align": "left"
          },
          "hovermode": "closest",
          "mapbox": {
           "style": "light"
          },
          "paper_bgcolor": "white",
          "plot_bgcolor": "#E5ECF6",
          "polar": {
           "angularaxis": {
            "gridcolor": "white",
            "linecolor": "white",
            "ticks": ""
           },
           "bgcolor": "#E5ECF6",
           "radialaxis": {
            "gridcolor": "white",
            "linecolor": "white",
            "ticks": ""
           }
          },
          "scene": {
           "xaxis": {
            "backgroundcolor": "#E5ECF6",
            "gridcolor": "white",
            "gridwidth": 2,
            "linecolor": "white",
            "showbackground": true,
            "ticks": "",
            "zerolinecolor": "white"
           },
           "yaxis": {
            "backgroundcolor": "#E5ECF6",
            "gridcolor": "white",
            "gridwidth": 2,
            "linecolor": "white",
            "showbackground": true,
            "ticks": "",
            "zerolinecolor": "white"
           },
           "zaxis": {
            "backgroundcolor": "#E5ECF6",
            "gridcolor": "white",
            "gridwidth": 2,
            "linecolor": "white",
            "showbackground": true,
            "ticks": "",
            "zerolinecolor": "white"
           }
          },
          "shapedefaults": {
           "line": {
            "color": "#2a3f5f"
           }
          },
          "ternary": {
           "aaxis": {
            "gridcolor": "white",
            "linecolor": "white",
            "ticks": ""
           },
           "baxis": {
            "gridcolor": "white",
            "linecolor": "white",
            "ticks": ""
           },
           "bgcolor": "#E5ECF6",
           "caxis": {
            "gridcolor": "white",
            "linecolor": "white",
            "ticks": ""
           }
          },
          "title": {
           "x": 0.05
          },
          "xaxis": {
           "automargin": true,
           "gridcolor": "white",
           "linecolor": "white",
           "ticks": "",
           "title": {
            "standoff": 15
           },
           "zerolinecolor": "white",
           "zerolinewidth": 2
          },
          "yaxis": {
           "automargin": true,
           "gridcolor": "white",
           "linecolor": "white",
           "ticks": "",
           "title": {
            "standoff": 15
           },
           "zerolinecolor": "white",
           "zerolinewidth": 2
          }
         }
        },
        "title": {
         "font": {
          "color": "#4254b5",
          "size": 24
         },
         "text": "<b>Top 5 Productos con Más Stock</b>",
         "x": 0
        },
        "width": 800,
        "xaxis": {
         "title": {
          "text": "Kilogramos"
         }
        },
        "yaxis": {
         "title": {
          "text": ""
         }
        }
       }
      }
     },
     "metadata": {},
     "output_type": "display_data"
    },
    {
     "data": {
      "text/html": [
       "\n",
       "<div style=\"background-color: #ffe6e6; padding: 20px; border-radius: 5px; margin: 20px 0;\">\n",
       "    <h2 style=\"color: #333; margin: 0;\">\n",
       "        <span style=\"color: #ff4444; margin-right: 10px;\">🔔</span>\n",
       "        Alerta Crítica\n",
       "    </h2>\n",
       "    <p style=\"font-size: 16px; margin: 10px 0 0 0;\">\n",
       "        Hay <strong>0 producto(s)</strong> sin stock que requieren atención inmediata.\n",
       "    </p>\n",
       "</div>\n"
      ],
      "text/plain": [
       "<IPython.core.display.HTML object>"
      ]
     },
     "metadata": {},
     "output_type": "display_data"
    },
    {
     "data": {
      "text/html": [
       "<h3>Productos por debajo del promedio semanal</h3><table border=\"1\" class=\"dataframe\">\n",
       "  <thead>\n",
       "    <tr style=\"text-align: right;\">\n",
       "      <th>Producto</th>\n",
       "      <th>Stock Actual</th>\n",
       "      <th>Promedio Semanal (Kg)</th>\n",
       "      <th>Faltante para Promedio (Kg)</th>\n",
       "    </tr>\n",
       "  </thead>\n",
       "  <tbody>\n",
       "  </tbody>\n",
       "</table>"
      ],
      "text/plain": [
       "<IPython.core.display.HTML object>"
      ]
     },
     "metadata": {},
     "output_type": "display_data"
    }
   ],
   "source": [
    "# [8.2] --- Visualización: Top 5 Productos con Más Stock ---\n",
    "import plotly.graph_objects as go\n",
    "\n",
    "# Verificar los datos del DataFrame comparison\n",
    "print(\"=== Verificación de datos ===\")\n",
    "print(\"\\nColumnas en comparison:\")\n",
    "print(comparison.columns.tolist())\n",
    "print(\"\\nNúmero total de productos:\", len(comparison))\n",
    "if len(comparison) > 0:\n",
    "    print(\"\\nPrimeros registros de comparison:\")\n",
    "    print(comparison[['Producto', 'Stock_Actual', 'Promedio_Semanal', 'Diferencia']].head().to_string())\n",
    "\n",
    "# Ordenar productos por stock actual y tomar los top 5\n",
    "top5_mas_stock = comparison.nlargest(5, 'Stock_Actual')\n",
    "\n",
    "print(\"\\nTop 5 productos con más stock:\")\n",
    "print(top5_mas_stock[['Producto', 'Stock_Actual', 'Promedio_Semanal', 'Diferencia']].to_string())\n",
    "\n",
    "# Crear figura para el bar chart\n",
    "fig_bar_alto = go.Figure()\n",
    "\n",
    "# Agregar barras para el promedio semanal (verde)\n",
    "fig_bar_alto.add_trace(\n",
    "    go.Bar(\n",
    "        y=top5_mas_stock['Producto'],\n",
    "        x=top5_mas_stock['Promedio_Semanal'],\n",
    "        orientation='h',\n",
    "        name='Promedio Semanal',\n",
    "        marker_color='#4CAF50',\n",
    "        text=top5_mas_stock['Promedio_Semanal'].round(1),\n",
    "        textposition='outside',\n",
    "    )\n",
    ")\n",
    "\n",
    "# Agregar barras para el stock actual (azul)\n",
    "fig_bar_alto.add_trace(\n",
    "    go.Bar(\n",
    "        y=top5_mas_stock['Producto'],\n",
    "        x=top5_mas_stock['Stock_Actual'],\n",
    "        orientation='h',\n",
    "        name='Stock Actual',\n",
    "        marker_color='#2196F3',\n",
    "        text=top5_mas_stock['Stock_Actual'].round(1),\n",
    "        textposition='outside',\n",
    "    )\n",
    ")\n",
    "\n",
    "# Agregar anotaciones para mostrar el gap\n",
    "for idx, row in enumerate(top5_mas_stock.itertuples()):\n",
    "    gap = abs(row.Diferencia)\n",
    "    fig_bar_alto.add_annotation(\n",
    "        x=(row.Stock_Actual + row.Promedio_Semanal)/2,\n",
    "        y=row.Producto,\n",
    "        text=f'Gap: {gap:.1f} kg',\n",
    "        showarrow=False,\n",
    "        font=dict(size=12, color='black'),\n",
    "        bgcolor='rgba(255, 255, 255, 0.8)'\n",
    "    )\n",
    "\n",
    "# Actualizar el layout\n",
    "fig_bar_alto.update_layout(\n",
    "    title_text=\"<b>Top 5 Productos con Más Stock</b>\",\n",
    "    title_x=0,\n",
    "    title_font_size=24,\n",
    "    title_font_color='#4254b5',\n",
    "    showlegend=True,\n",
    "    height=500,\n",
    "    width=800,\n",
    "    margin=dict(t=100, b=0, l=0, r=0),\n",
    "    barmode='overlay',\n",
    "    xaxis_title=\"Kilogramos\",\n",
    "    yaxis_title=\"\"\n",
    ")\n",
    "\n",
    "fig_bar_alto.show()\n",
    "\n",
    "# Verificar los datos para la alerta\n",
    "print(\"\\n=== Datos para la alerta ===\")\n",
    "print(f\"Número de productos faltantes: {num_faltantes}\")\n",
    "\n",
    "# Crear alerta visual estilo banner\n",
    "alerta_html = f\"\"\"\n",
    "<div style=\"background-color: #ffe6e6; padding: 20px; border-radius: 5px; margin: 20px 0;\">\n",
    "    <h2 style=\"color: #333; margin: 0;\">\n",
    "        <span style=\"color: #ff4444; margin-right: 10px;\">🔔</span>\n",
    "        Alerta Crítica\n",
    "    </h2>\n",
    "    <p style=\"font-size: 16px; margin: 10px 0 0 0;\">\n",
    "        Hay <strong>{num_faltantes} producto(s)</strong> sin stock que requieren atención inmediata.\n",
    "    </p>\n",
    "</div>\n",
    "\"\"\"\n",
    "display(HTML(alerta_html))\n",
    "\n",
    "# Verificar datos para la tabla\n",
    "print(\"\\n=== Datos para la tabla de faltantes ===\")\n",
    "print(\"Número de productos faltantes:\", len(productos_faltantes))\n",
    "\n",
    "# Tabla HTML de productos faltantes y cuánto falta para el promedio\n",
    "tabla_faltantes = productos_faltantes[['Producto', 'Stock_Actual', 'Promedio_Semanal', 'Diferencia']].copy()\n",
    "tabla_faltantes['Faltante_para_Promedio'] = tabla_faltantes['Diferencia'].abs().round(2)\n",
    "tabla_faltantes = tabla_faltantes.rename(columns={\n",
    "    'Producto': 'Producto',\n",
    "    'Stock_Actual': 'Stock Actual',\n",
    "    'Promedio_Semanal': 'Promedio Semanal (Kg)',\n",
    "    'Faltante_para_Promedio': 'Faltante para Promedio (Kg)'\n",
    "})\n",
    "\n",
    "if len(tabla_faltantes) > 0:\n",
    "    html_table = tabla_faltantes[['Producto', 'Stock Actual', 'Promedio Semanal (Kg)', 'Faltante para Promedio (Kg)']].to_html(index=False)\n",
    "    display(HTML(\"<h3>Productos por debajo del promedio semanal</h3>\" + html_table))\n",
    "else:\n",
    "    print(\"No hay productos por debajo del promedio semanal\")"
   ]
  },
  {
   "cell_type": "code",
   "execution_count": 10,
   "id": "05d8d568",
   "metadata": {},
   "outputs": [
    {
     "ename": "KeyError",
     "evalue": "\"['Promedio_Semanal_Kg'] not in index\"",
     "output_type": "error",
     "traceback": [
      "\u001b[31m---------------------------------------------------------------------------\u001b[39m",
      "\u001b[31mKeyError\u001b[39m                                  Traceback (most recent call last)",
      "\u001b[36mCell\u001b[39m\u001b[36m \u001b[39m\u001b[32mIn[10]\u001b[39m\u001b[32m, line 6\u001b[39m\n\u001b[32m      3\u001b[39m \u001b[38;5;28;01mimport\u001b[39;00m\u001b[38;5;250m \u001b[39m\u001b[34;01mpandas\u001b[39;00m\u001b[38;5;250m \u001b[39m\u001b[38;5;28;01mas\u001b[39;00m\u001b[38;5;250m \u001b[39m\u001b[34;01mpd\u001b[39;00m\n\u001b[32m      5\u001b[39m \u001b[38;5;66;03m# Ordenar productos por la cantidad faltante (de mayor a menor)\u001b[39;00m\n\u001b[32m----> \u001b[39m\u001b[32m6\u001b[39m tabla_completa = \u001b[43mproductos_faltantes\u001b[49m\u001b[43m[\u001b[49m\u001b[43m[\u001b[49m\u001b[33;43m'\u001b[39;49m\u001b[33;43mProducto\u001b[39;49m\u001b[33;43m'\u001b[39;49m\u001b[43m,\u001b[49m\u001b[43m \u001b[49m\u001b[33;43m'\u001b[39;49m\u001b[33;43mStock_Actual\u001b[39;49m\u001b[33;43m'\u001b[39;49m\u001b[43m,\u001b[49m\u001b[43m \u001b[49m\u001b[33;43m'\u001b[39;49m\u001b[33;43mPromedio_Semanal_Kg\u001b[39;49m\u001b[33;43m'\u001b[39;49m\u001b[43m,\u001b[49m\u001b[43m \u001b[49m\u001b[33;43m'\u001b[39;49m\u001b[33;43mDiferencia\u001b[39;49m\u001b[33;43m'\u001b[39;49m\u001b[43m]\u001b[49m\u001b[43m]\u001b[49m.copy()\n\u001b[32m      7\u001b[39m tabla_completa[\u001b[33m'\u001b[39m\u001b[33mFaltante_para_Promedio\u001b[39m\u001b[33m'\u001b[39m] = tabla_completa[\u001b[33m'\u001b[39m\u001b[33mDiferencia\u001b[39m\u001b[33m'\u001b[39m].abs().round(\u001b[32m2\u001b[39m)\n\u001b[32m      8\u001b[39m tabla_completa = tabla_completa.sort_values(\u001b[33m'\u001b[39m\u001b[33mFaltante_para_Promedio\u001b[39m\u001b[33m'\u001b[39m, ascending=\u001b[38;5;28;01mFalse\u001b[39;00m)\n",
      "\u001b[36mFile \u001b[39m\u001b[32mc:\\Users\\Dagok\\OneDrive\\Documents\\GitHub\\lomarosa-data\\.venv\\Lib\\site-packages\\pandas\\core\\frame.py:4119\u001b[39m, in \u001b[36mDataFrame.__getitem__\u001b[39m\u001b[34m(self, key)\u001b[39m\n\u001b[32m   4117\u001b[39m     \u001b[38;5;28;01mif\u001b[39;00m is_iterator(key):\n\u001b[32m   4118\u001b[39m         key = \u001b[38;5;28mlist\u001b[39m(key)\n\u001b[32m-> \u001b[39m\u001b[32m4119\u001b[39m     indexer = \u001b[38;5;28;43mself\u001b[39;49m\u001b[43m.\u001b[49m\u001b[43mcolumns\u001b[49m\u001b[43m.\u001b[49m\u001b[43m_get_indexer_strict\u001b[49m\u001b[43m(\u001b[49m\u001b[43mkey\u001b[49m\u001b[43m,\u001b[49m\u001b[43m \u001b[49m\u001b[33;43m\"\u001b[39;49m\u001b[33;43mcolumns\u001b[39;49m\u001b[33;43m\"\u001b[39;49m\u001b[43m)\u001b[49m[\u001b[32m1\u001b[39m]\n\u001b[32m   4121\u001b[39m \u001b[38;5;66;03m# take() does not accept boolean indexers\u001b[39;00m\n\u001b[32m   4122\u001b[39m \u001b[38;5;28;01mif\u001b[39;00m \u001b[38;5;28mgetattr\u001b[39m(indexer, \u001b[33m\"\u001b[39m\u001b[33mdtype\u001b[39m\u001b[33m\"\u001b[39m, \u001b[38;5;28;01mNone\u001b[39;00m) == \u001b[38;5;28mbool\u001b[39m:\n",
      "\u001b[36mFile \u001b[39m\u001b[32mc:\\Users\\Dagok\\OneDrive\\Documents\\GitHub\\lomarosa-data\\.venv\\Lib\\site-packages\\pandas\\core\\indexes\\base.py:6212\u001b[39m, in \u001b[36mIndex._get_indexer_strict\u001b[39m\u001b[34m(self, key, axis_name)\u001b[39m\n\u001b[32m   6209\u001b[39m \u001b[38;5;28;01melse\u001b[39;00m:\n\u001b[32m   6210\u001b[39m     keyarr, indexer, new_indexer = \u001b[38;5;28mself\u001b[39m._reindex_non_unique(keyarr)\n\u001b[32m-> \u001b[39m\u001b[32m6212\u001b[39m \u001b[38;5;28;43mself\u001b[39;49m\u001b[43m.\u001b[49m\u001b[43m_raise_if_missing\u001b[49m\u001b[43m(\u001b[49m\u001b[43mkeyarr\u001b[49m\u001b[43m,\u001b[49m\u001b[43m \u001b[49m\u001b[43mindexer\u001b[49m\u001b[43m,\u001b[49m\u001b[43m \u001b[49m\u001b[43maxis_name\u001b[49m\u001b[43m)\u001b[49m\n\u001b[32m   6214\u001b[39m keyarr = \u001b[38;5;28mself\u001b[39m.take(indexer)\n\u001b[32m   6215\u001b[39m \u001b[38;5;28;01mif\u001b[39;00m \u001b[38;5;28misinstance\u001b[39m(key, Index):\n\u001b[32m   6216\u001b[39m     \u001b[38;5;66;03m# GH 42790 - Preserve name from an Index\u001b[39;00m\n",
      "\u001b[36mFile \u001b[39m\u001b[32mc:\\Users\\Dagok\\OneDrive\\Documents\\GitHub\\lomarosa-data\\.venv\\Lib\\site-packages\\pandas\\core\\indexes\\base.py:6264\u001b[39m, in \u001b[36mIndex._raise_if_missing\u001b[39m\u001b[34m(self, key, indexer, axis_name)\u001b[39m\n\u001b[32m   6261\u001b[39m     \u001b[38;5;28;01mraise\u001b[39;00m \u001b[38;5;167;01mKeyError\u001b[39;00m(\u001b[33mf\u001b[39m\u001b[33m\"\u001b[39m\u001b[33mNone of [\u001b[39m\u001b[38;5;132;01m{\u001b[39;00mkey\u001b[38;5;132;01m}\u001b[39;00m\u001b[33m] are in the [\u001b[39m\u001b[38;5;132;01m{\u001b[39;00maxis_name\u001b[38;5;132;01m}\u001b[39;00m\u001b[33m]\u001b[39m\u001b[33m\"\u001b[39m)\n\u001b[32m   6263\u001b[39m not_found = \u001b[38;5;28mlist\u001b[39m(ensure_index(key)[missing_mask.nonzero()[\u001b[32m0\u001b[39m]].unique())\n\u001b[32m-> \u001b[39m\u001b[32m6264\u001b[39m \u001b[38;5;28;01mraise\u001b[39;00m \u001b[38;5;167;01mKeyError\u001b[39;00m(\u001b[33mf\u001b[39m\u001b[33m\"\u001b[39m\u001b[38;5;132;01m{\u001b[39;00mnot_found\u001b[38;5;132;01m}\u001b[39;00m\u001b[33m not in index\u001b[39m\u001b[33m\"\u001b[39m)\n",
      "\u001b[31mKeyError\u001b[39m: \"['Promedio_Semanal_Kg'] not in index\""
     ]
    }
   ],
   "source": [
    "# [8.3] --- Tabla Completa de Productos Bajo Promedio ---\n",
    "from IPython.display import display, HTML\n",
    "import pandas as pd\n",
    "\n",
    "# Ordenar productos por la cantidad faltante (de mayor a menor)\n",
    "tabla_completa = productos_faltantes[['Producto', 'Stock_Actual', 'Promedio_Semanal_Kg', 'Diferencia']].copy()\n",
    "tabla_completa['Faltante_para_Promedio'] = tabla_completa['Diferencia'].abs().round(2)\n",
    "tabla_completa = tabla_completa.sort_values('Faltante_para_Promedio', ascending=False)\n",
    "\n",
    "# Renombrar columnas y dar formato\n",
    "tabla_formateada = tabla_completa.rename(columns={\n",
    "    'Producto': 'Producto',\n",
    "    'Stock_Actual': 'Stock Actual (Kg)',\n",
    "    'Promedio_Semanal_Kg': 'Promedio Semanal (Kg)',\n",
    "    'Faltante_para_Promedio': 'Faltante para Promedio (Kg)'\n",
    "}).drop('Diferencia', axis=1)\n",
    "\n",
    "# Aplicar formato numérico a las columnas\n",
    "for col in ['Stock Actual (Kg)', 'Promedio Semanal (Kg)', 'Faltante para Promedio (Kg)']:\n",
    "    tabla_formateada[col] = tabla_formateada[col].round(2)\n",
    "\n",
    "# Crear estilo HTML para la tabla\n",
    "tabla_style = \"\"\"\n",
    "<style>\n",
    "    table {\n",
    "        border-collapse: collapse;\n",
    "        margin: 25px 0;\n",
    "        font-size: 14px;\n",
    "        font-family: sans-serif;\n",
    "        min-width: 400px;\n",
    "        box-shadow: 0 0 20px rgba(0, 0, 0, 0.15);\n",
    "    }\n",
    "    table thead tr {\n",
    "        background-color: #4254b5;\n",
    "        color: #ffffff;\n",
    "        text-align: left;\n",
    "    }\n",
    "    table th,\n",
    "    table td {\n",
    "        padding: 12px 15px;\n",
    "    }\n",
    "    table tbody tr {\n",
    "        border-bottom: 1px solid #dddddd;\n",
    "    }\n",
    "    table tbody tr:nth-of-type(even) {\n",
    "        background-color: #f3f3f3;\n",
    "    }\n",
    "    table tbody tr:last-of-type {\n",
    "        border-bottom: 2px solid #4254b5;\n",
    "    }\n",
    "</style>\n",
    "\"\"\"\n",
    "\n",
    "# Convertir DataFrame a HTML con estilos\n",
    "html_table = tabla_formateada.to_html(index=False, classes=['styled-table'])\n",
    "html_content = f\"\"\"\n",
    "{tabla_style}\n",
    "<div style=\"margin: 20px 0;\">\n",
    "    <h2 style=\"color: #4254b5; margin-bottom: 10px;\">Análisis Detallado de Productos Bajo Promedio</h2>\n",
    "    <p style=\"color: #666; margin-bottom: 20px;\">\n",
    "        Total de productos bajo promedio: <strong>{len(tabla_formateada)}</strong><br>\n",
    "        Ordenados por cantidad faltante (de mayor a menor necesidad)\n",
    "    </p>\n",
    "    {html_table}\n",
    "</div>\n",
    "\"\"\"\n",
    "\n",
    "display(HTML(html_content))"
   ]
  },
  {
   "cell_type": "code",
   "execution_count": null,
   "id": "43e7dd6b",
   "metadata": {},
   "outputs": [],
   "source": [
    "# [10] --- Lista de Productos y Códigos ---\n",
    "print(\"=== Lista de Productos y sus Códigos ===\")\n",
    "\n",
    "# Asumiendo que estamos usando el DataFrame comparison que tiene la información más completa\n",
    "productos_codigos = comparison[['Cod', 'Producto']].sort_values('Producto')\n",
    "\n",
    "# Crear una tabla formateada\n",
    "from IPython.display import display, HTML\n",
    "\n",
    "# Estilo para la tabla HTML\n",
    "tabla_style = \"\"\"\n",
    "<style>\n",
    "    .productos-table {\n",
    "        border-collapse: collapse;\n",
    "        margin: 25px 0;\n",
    "        font-size: 14px;\n",
    "        font-family: sans-serif;\n",
    "        min-width: 400px;\n",
    "        box-shadow: 0 0 20px rgba(0, 0, 0, 0.15);\n",
    "    }\n",
    "    .productos-table thead tr {\n",
    "        background-color: #4254b5;\n",
    "        color: #ffffff;\n",
    "        text-align: left;\n",
    "    }\n",
    "    .productos-table th,\n",
    "    .productos-table td {\n",
    "        padding: 12px 15px;\n",
    "    }\n",
    "    .productos-table tbody tr {\n",
    "        border-bottom: 1px solid #dddddd;\n",
    "    }\n",
    "    .productos-table tbody tr:nth-of-type(even) {\n",
    "        background-color: #f3f3f3;\n",
    "    }\n",
    "    .productos-table tbody tr:last-of-type {\n",
    "        border-bottom: 2px solid #4254b5;\n",
    "    }\n",
    "</style>\n",
    "\"\"\"\n",
    "\n",
    "# Convertir DataFrame a HTML con estilos\n",
    "html_table = productos_codigos.to_html(index=False, \n",
    "                                     classes=['productos-table'],\n",
    "                                     table_id='tabla-productos')\n",
    "\n",
    "html_content = f\"\"\"\n",
    "{tabla_style}\n",
    "<div style=\"margin: 20px 0;\">\n",
    "    <h2 style=\"color: #4254b5; margin-bottom: 10px;\">Catálogo de Productos</h2>\n",
    "    <p style=\"color: #666; margin-bottom: 20px;\">\n",
    "        Total de productos: <strong>{len(productos_codigos)}</strong>\n",
    "    </p>\n",
    "    {html_table}\n",
    "</div>\n",
    "\"\"\"\n",
    "\n",
    "display(HTML(html_content))\n",
    "\n",
    "# También mostrar en formato texto plano para facilitar la copia\n",
    "print(\"\\nListado en formato texto:\")\n",
    "print(productos_codigos.to_string(index=False))"
   ]
  }
 ],
 "metadata": {
  "kernelspec": {
   "display_name": ".venv",
   "language": "python",
   "name": "python3"
  },
  "language_info": {
   "codemirror_mode": {
    "name": "ipython",
    "version": 3
   },
   "file_extension": ".py",
   "mimetype": "text/x-python",
   "name": "python",
   "nbconvert_exporter": "python",
   "pygments_lexer": "ipython3",
   "version": "3.13.7"
  }
 },
 "nbformat": 4,
 "nbformat_minor": 5
}
